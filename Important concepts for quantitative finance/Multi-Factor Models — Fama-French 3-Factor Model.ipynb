{
 "cells": [
  {
   "cell_type": "markdown",
   "id": "1c5d5d87-166c-47c8-96e4-9c389742eab3",
   "metadata": {},
   "source": [
    "# 📊 Multi-Factor Models — Fama-French 3-Factor Model\n",
    "\n",
    "CAPM explains asset returns using just one factor (market). But empirical data shows other factors matter too. \n",
    "\n",
    "### Fama-French 3-Factor Model:\n",
    "\n",
    "\\[\n",
    "R_i - R_f = \\alpha + \\beta_1 (R_m - R_f) + \\beta_2 \\cdot SMB + \\beta_3 \\cdot HML + \\epsilon\n",
    "\\]\n",
    "\n",
    "Where:\n",
    "\n",
    "- \\( R_i \\): Asset return\n",
    "- \\( R_f \\): Risk-free rate\n",
    "- \\( R_m \\): Market return\n",
    "- \\( SMB \\) = Small Minus Big: excess return of small-cap over large-cap stocks\n",
    "- \\( HML \\) = High Minus Low: excess return of value (high book-to-market) over growth (low book-to-market) stocks\n",
    "- \\( \\beta_1, \\beta_2, \\beta_3 \\): Factor sensitivities\n",
    "\n",
    "---\n",
    "\n",
    "## 📐 Interpretation of Coefficients\n",
    "\n",
    "- \\( \\beta_1 \\): Market risk\n",
    "- \\( \\beta_2 \\): Size exposure (positive = small-cap tilt)\n",
    "- \\( \\beta_3 \\): Value exposure (positive = value-stock tilt)\n",
    "\n",
    "This model better explains **cross-sectional variations** in stock returns.\n"
   ]
  },
  {
   "cell_type": "code",
   "execution_count": 1,
   "id": "334a7e25-090a-4878-baab-4e9e121c217d",
   "metadata": {},
   "outputs": [
    {
     "name": "stdout",
     "output_type": "stream",
     "text": [
      "                            OLS Regression Results                            \n",
      "==============================================================================\n",
      "Dep. Variable:                  Ri-Rf   R-squared:                       0.659\n",
      "Model:                            OLS   Adj. R-squared:                  0.655\n",
      "Method:                 Least Squares   F-statistic:                     159.8\n",
      "Date:                Tue, 27 May 2025   Prob (F-statistic):           1.17e-57\n",
      "Time:                        22:42:59   Log-Likelihood:                 825.33\n",
      "No. Observations:                 252   AIC:                            -1643.\n",
      "Df Residuals:                     248   BIC:                            -1629.\n",
      "Df Model:                           3                                         \n",
      "Covariance Type:            nonrobust                                         \n",
      "==============================================================================\n",
      "                 coef    std err          t      P>|t|      [0.025      0.975]\n",
      "------------------------------------------------------------------------------\n",
      "const          0.0006      0.001      0.996      0.320      -0.001       0.002\n",
      "Rm-Rf          1.0937      0.062     17.700      0.000       0.972       1.215\n",
      "SMB            0.8304      0.071     11.633      0.000       0.690       0.971\n",
      "HML            0.3467      0.064      5.409      0.000       0.220       0.473\n",
      "==============================================================================\n",
      "Omnibus:                        2.191   Durbin-Watson:                   2.111\n",
      "Prob(Omnibus):                  0.334   Jarque-Bera (JB):                1.867\n",
      "Skew:                          -0.190   Prob(JB):                        0.393\n",
      "Kurtosis:                       3.184   Cond. No.                         127.\n",
      "==============================================================================\n",
      "\n",
      "Notes:\n",
      "[1] Standard Errors assume that the covariance matrix of the errors is correctly specified.\n"
     ]
    }
   ],
   "source": [
    "import numpy as np\n",
    "import pandas as pd\n",
    "import statsmodels.api as sm\n",
    "import matplotlib.pyplot as plt\n",
    "\n",
    "np.random.seed(1)\n",
    "n = 252  # 1 year of daily data\n",
    "\n",
    "# Simulate factors\n",
    "market_excess = np.random.normal(0.0004, 0.01, n)\n",
    "SMB = np.random.normal(0.0002, 0.008, n)\n",
    "HML = np.random.normal(0.0003, 0.009, n)\n",
    "\n",
    "# Simulate asset return\n",
    "epsilon = np.random.normal(0, 0.01, n)\n",
    "Ri_minus_Rf = 0.0005 + 1.1 * market_excess + 0.6 * SMB + 0.4 * HML + epsilon\n",
    "\n",
    "# Create DataFrame\n",
    "ff_data = pd.DataFrame({\n",
    "    'Ri-Rf': Ri_minus_Rf,\n",
    "    'Rm-Rf': market_excess,\n",
    "    'SMB': SMB,\n",
    "    'HML': HML\n",
    "})\n",
    "\n",
    "# Regression\n",
    "X = ff_data[['Rm-Rf', 'SMB', 'HML']]\n",
    "X = sm.add_constant(X)\n",
    "y = ff_data['Ri-Rf']\n",
    "model = sm.OLS(y, X).fit()\n",
    "\n",
    "print(model.summary())\n"
   ]
  },
  {
   "cell_type": "code",
   "execution_count": null,
   "id": "e31ec775-5482-4608-aeec-daf8196de560",
   "metadata": {},
   "outputs": [],
   "source": []
  }
 ],
 "metadata": {
  "kernelspec": {
   "display_name": "Python 3 (ipykernel)",
   "language": "python",
   "name": "python3"
  },
  "language_info": {
   "codemirror_mode": {
    "name": "ipython",
    "version": 3
   },
   "file_extension": ".py",
   "mimetype": "text/x-python",
   "name": "python",
   "nbconvert_exporter": "python",
   "pygments_lexer": "ipython3",
   "version": "3.12.7"
  }
 },
 "nbformat": 4,
 "nbformat_minor": 5
}
