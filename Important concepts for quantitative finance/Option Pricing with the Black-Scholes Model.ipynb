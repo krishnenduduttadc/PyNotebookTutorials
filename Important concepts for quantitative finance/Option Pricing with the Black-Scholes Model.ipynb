{
 "cells": [
  {
   "cell_type": "markdown",
   "id": "0dbc2e8f-74a0-4323-bc7b-63f999d3b86d",
   "metadata": {},
   "source": [
    "# 💵 Option Pricing with Black-Scholes Model\n",
    "\n",
    "Options are financial derivatives that give the holder the **right (but not the obligation)** to buy or sell an asset at a fixed price (strike) before or at a certain date.\n",
    "\n",
    "## 📘 Definitions\n",
    "\n",
    "- **Call Option**: Right to buy an asset at a fixed strike price.\n",
    "- **Put Option**: Right to sell an asset at a fixed strike price.\n",
    "\n",
    "## 📐 Black-Scholes Formula\n",
    "\n",
    "For a **European Call Option**, the price is:\n",
    "\n",
    "\\[\n",
    "C = S_0 \\cdot N(d_1) - K e^{-rT} \\cdot N(d_2)\n",
    "\\]\n",
    "\n",
    "For a **European Put Option**:\n",
    "\n",
    "\\[\n",
    "P = K e^{-rT} \\cdot N(-d_2) - S_0 \\cdot N(-d_1)\n",
    "\\]\n",
    "\n",
    "Where:\n",
    "\\[\n",
    "d_1 = \\frac{\\ln(S_0 / K) + (r + \\sigma^2 / 2)T}{\\sigma \\sqrt{T}}, \\quad\n",
    "d_2 = d_1 - \\sigma \\sqrt{T}\n",
    "\\]\n",
    "\n",
    "### ✅ Parameters:\n",
    "- \\( S_0 \\): Current stock price\n",
    "- \\( K \\): Strike price\n",
    "- \\( T \\): Time to maturity (in years)\n",
    "- \\( r \\): Risk-free interest rate\n",
    "- \\( \\sigma \\): Volatility of the stock\n",
    "- \\( N(\\cdot) \\): Cumulative distribution function (CDF) of standard normal\n",
    "\n",
    "Assumes:\n",
    "- No dividends\n",
    "- Constant volatility and interest rate\n",
    "- Efficient markets\n"
   ]
  },
  {
   "cell_type": "code",
   "execution_count": 1,
   "id": "add1a054-1511-46b7-bf10-0c95907c5815",
   "metadata": {},
   "outputs": [
    {
     "name": "stdout",
     "output_type": "stream",
     "text": [
      "Call Option Price: $10.45\n",
      "Put Option Price:  $5.57\n"
     ]
    }
   ],
   "source": [
    "import numpy as np\n",
    "import scipy.stats as si\n",
    "\n",
    "# Black-Scholes formula for European call and put\n",
    "def black_scholes(S, K, T, r, sigma, option='call'):\n",
    "    d1 = (np.log(S / K) + (r + 0.5 * sigma**2) * T) / (sigma * np.sqrt(T))\n",
    "    d2 = d1 - sigma * np.sqrt(T)\n",
    "    \n",
    "    if option == 'call':\n",
    "        price = S * si.norm.cdf(d1) - K * np.exp(-r * T) * si.norm.cdf(d2)\n",
    "    elif option == 'put':\n",
    "        price = K * np.exp(-r * T) * si.norm.cdf(-d2) - S * si.norm.cdf(-d1)\n",
    "    else:\n",
    "        raise ValueError(\"Option must be 'call' or 'put'\")\n",
    "    return price\n",
    "\n",
    "# Example parameters\n",
    "S = 100      # Current stock price\n",
    "K = 100      # Strike price\n",
    "T = 1        # Time to maturity (1 year)\n",
    "r = 0.05     # Risk-free interest rate (5%)\n",
    "sigma = 0.2  # Volatility (20%)\n",
    "\n",
    "call_price = black_scholes(S, K, T, r, sigma, option='call')\n",
    "put_price = black_scholes(S, K, T, r, sigma, option='put')\n",
    "\n",
    "print(f\"Call Option Price: ${call_price:.2f}\")\n",
    "print(f\"Put Option Price:  ${put_price:.2f}\")\n"
   ]
  },
  {
   "cell_type": "code",
   "execution_count": null,
   "id": "d5acdc98-877e-46aa-bfaa-3c535e4938b9",
   "metadata": {},
   "outputs": [],
   "source": []
  }
 ],
 "metadata": {
  "kernelspec": {
   "display_name": "Python 3 (ipykernel)",
   "language": "python",
   "name": "python3"
  },
  "language_info": {
   "codemirror_mode": {
    "name": "ipython",
    "version": 3
   },
   "file_extension": ".py",
   "mimetype": "text/x-python",
   "name": "python",
   "nbconvert_exporter": "python",
   "pygments_lexer": "ipython3",
   "version": "3.12.7"
  }
 },
 "nbformat": 4,
 "nbformat_minor": 5
}
