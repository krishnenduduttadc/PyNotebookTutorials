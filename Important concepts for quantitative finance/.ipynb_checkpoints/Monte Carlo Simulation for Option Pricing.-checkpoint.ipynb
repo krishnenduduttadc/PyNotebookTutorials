{
 "cells": [
  {
   "cell_type": "markdown",
   "id": "b2186db7-5f6b-4db6-b79e-ef7dd13ce03d",
   "metadata": {},
   "source": [
    "# 📉 Monte Carlo Simulation for Option Pricing\n",
    "\n",
    "---\n",
    "\n",
    "## Concept:\n",
    "\n",
    "- Simulate many paths for the underlying asset price using a stochastic process (e.g., Geometric Brownian Motion).\n",
    "- Compute the option payoff for each path at maturity.\n",
    "- Average the discounted payoffs to estimate the option price.\n",
    "\n",
    "---\n",
    "\n",
    "## Geometric Brownian Motion (GBM):\n",
    "\n",
    "\\[\n",
    "S_{t+\\Delta t} = S_t \\exp \\left( \\left( r - \\frac{\\sigma^2}{2} \\right) \\Delta t + \\sigma \\sqrt{\\Delta t} Z \\right)\n",
    "\\]\n",
    "\n",
    "Where:\n",
    "\n",
    "- \\( r \\): risk-free rate\n",
    "- \\( \\sigma \\): volatility\n",
    "- \\( Z \\): standard normal random variable\n",
    "\n",
    "---\n",
    "\n",
    "## Advantages:\n",
    "\n",
    "- Flexible for complex derivatives.\n",
    "- Handles path-dependent options.\n",
    "\n",
    "---\n",
    "\n",
    "## Limitations:\n",
    "\n",
    "- Computationally intensive.\n",
    "- Requires many simulations for accuracy.\n"
   ]
  },
  {
   "cell_type": "code",
   "execution_count": 1,
   "id": "0d5c6dfa-6b8e-4335-8e83-10987e03e4c0",
   "metadata": {},
   "outputs": [
    {
     "name": "stdout",
     "output_type": "stream",
     "text": [
      "Monte Carlo estimated European Call Option price: 10.3443\n"
     ]
    }
   ],
   "source": [
    "import numpy as np\n",
    "\n",
    "# Parameters\n",
    "S0 = 100       # Initial price\n",
    "K = 100        # Strike price\n",
    "T = 1.0        # Time to maturity (years)\n",
    "r = 0.05       # Risk-free rate\n",
    "sigma = 0.2    # Volatility\n",
    "M = 10000      # Number of simulations\n",
    "N = 252        # Number of time steps\n",
    "\n",
    "dt = T / N\n",
    "\n",
    "# Simulate paths\n",
    "np.random.seed(42)\n",
    "S = np.zeros((M, N+1))\n",
    "S[:, 0] = S0\n",
    "\n",
    "for t in range(1, N+1):\n",
    "    Z = np.random.normal(size=M)\n",
    "    S[:, t] = S[:, t-1] * np.exp((r - 0.5 * sigma**2) * dt + sigma * np.sqrt(dt) * Z)\n",
    "\n",
    "# Calculate payoff for European call option at maturity\n",
    "payoffs = np.maximum(S[:, -1] - K, 0)\n",
    "\n",
    "# Discounted option price\n",
    "option_price = np.exp(-r * T) * np.mean(payoffs)\n",
    "\n",
    "print(f\"Monte Carlo estimated European Call Option price: {option_price:.4f}\")\n"
   ]
  },
  {
   "cell_type": "code",
   "execution_count": null,
   "id": "4425c336-cc1a-414f-8733-56c55f40d77d",
   "metadata": {},
   "outputs": [],
   "source": []
  }
 ],
 "metadata": {
  "kernelspec": {
   "display_name": "Python 3 (ipykernel)",
   "language": "python",
   "name": "python3"
  },
  "language_info": {
   "codemirror_mode": {
    "name": "ipython",
    "version": 3
   },
   "file_extension": ".py",
   "mimetype": "text/x-python",
   "name": "python",
   "nbconvert_exporter": "python",
   "pygments_lexer": "ipython3",
   "version": "3.12.7"
  }
 },
 "nbformat": 4,
 "nbformat_minor": 5
}
