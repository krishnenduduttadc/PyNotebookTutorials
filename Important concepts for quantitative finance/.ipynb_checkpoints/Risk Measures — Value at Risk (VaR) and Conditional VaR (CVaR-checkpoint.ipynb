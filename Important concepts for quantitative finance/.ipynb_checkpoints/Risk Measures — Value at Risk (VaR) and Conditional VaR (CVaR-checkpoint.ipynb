{
 "cells": [
  {
   "cell_type": "markdown",
   "id": "0050fb2e-ed13-4eaa-9eec-f4364cd2cbcc",
   "metadata": {},
   "source": [
    "# 📊 Risk Measures — Value at Risk (VaR) and Conditional VaR (CVaR)\n",
    "\n",
    "---\n",
    "\n",
    "## Value at Risk (VaR):\n",
    "\n",
    "- VaR estimates the maximum potential loss over a given time period at a certain confidence level.\n",
    "- For example, a 1-day 95% VaR of $1 million means there's a 5% chance losses exceed $1 million in one day.\n",
    "\n",
    "---\n",
    "\n",
    "## Conditional VaR (CVaR) or Expected Shortfall:\n",
    "\n",
    "- CVaR is the expected loss given that the loss is beyond the VaR threshold.\n",
    "- It provides information about the tail risk beyond VaR.\n",
    "\n",
    "---\n",
    "\n",
    "## Methods to Calculate VaR:\n",
    "\n",
    "1. **Historical Simulation:** Using past return data.\n",
    "2. **Parametric VaR:** Assuming returns follow a normal distribution.\n",
    "3. **Monte Carlo Simulation:** Simulating many possible future outcomes.\n",
    "\n",
    "---\n",
    "\n",
    "## Formulas (Parametric VaR):\n",
    "\n",
    "\\[\n",
    "VaR_{\\alpha} = \\mu + \\sigma \\Phi^{-1}(\\alpha)\n",
    "\\]\n",
    "\n",
    "Where:\n",
    "\n",
    "- \\( \\mu \\): mean return\n",
    "- \\( \\sigma \\): standard deviation\n",
    "- \\( \\Phi^{-1}(\\alpha) \\): inverse cumulative normal distribution at confidence level \\( \\alpha \\)\n",
    "\n"
   ]
  },
  {
   "cell_type": "code",
   "execution_count": 1,
   "id": "94525eda-032f-4bb8-a20a-f4ca78d8d169",
   "metadata": {},
   "outputs": [
    {
     "name": "stdout",
     "output_type": "stream",
     "text": [
      "95% Parametric VaR: -0.0308\n",
      "95% Conditional VaR (CVaR): -0.0390\n",
      "95% Historical VaR: -0.0295\n"
     ]
    }
   ],
   "source": [
    "import numpy as np\n",
    "from scipy.stats import norm\n",
    "\n",
    "# Simulated portfolio returns (daily)\n",
    "np.random.seed(42)\n",
    "returns = np.random.normal(0.001, 0.02, 1000)  # mean 0.1%, std 2%\n",
    "\n",
    "confidence_level = 0.95\n",
    "\n",
    "mu = np.mean(returns)\n",
    "sigma = np.std(returns)\n",
    "\n",
    "# Parametric VaR (normal assumption)\n",
    "VaR_95 = mu + sigma * norm.ppf(1 - confidence_level)\n",
    "\n",
    "# Conditional VaR (CVaR)\n",
    "CVaR_95 = mu - sigma * norm.pdf(norm.ppf(1 - confidence_level)) / (1 - confidence_level)\n",
    "\n",
    "print(f\"95% Parametric VaR: {VaR_95:.4f}\")\n",
    "print(f\"95% Conditional VaR (CVaR): {CVaR_95:.4f}\")\n",
    "\n",
    "# Historical VaR\n",
    "hist_VaR_95 = np.percentile(returns, 100 * (1 - confidence_level))\n",
    "print(f\"95% Historical VaR: {hist_VaR_95:.4f}\")\n"
   ]
  },
  {
   "cell_type": "code",
   "execution_count": null,
   "id": "92cbf349-1672-4bbc-acc6-d38264d52743",
   "metadata": {},
   "outputs": [],
   "source": []
  }
 ],
 "metadata": {
  "kernelspec": {
   "display_name": "Python 3 (ipykernel)",
   "language": "python",
   "name": "python3"
  },
  "language_info": {
   "codemirror_mode": {
    "name": "ipython",
    "version": 3
   },
   "file_extension": ".py",
   "mimetype": "text/x-python",
   "name": "python",
   "nbconvert_exporter": "python",
   "pygments_lexer": "ipython3",
   "version": "3.12.7"
  }
 },
 "nbformat": 4,
 "nbformat_minor": 5
}
