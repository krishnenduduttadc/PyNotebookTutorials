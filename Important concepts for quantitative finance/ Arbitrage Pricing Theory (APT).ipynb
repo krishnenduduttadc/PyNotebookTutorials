{
 "cells": [
  {
   "cell_type": "markdown",
   "id": "04eaae47-6498-4db0-ac8f-cadec024216b",
   "metadata": {},
   "source": [
    "# 💸 Arbitrage Pricing Theory (APT)\n",
    "\n",
    "The Arbitrage Pricing Theory is a **multi-factor asset pricing model** based on the absence of arbitrage in efficient markets.\n",
    "\n",
    "---\n",
    "\n",
    "## 🧮 APT Equation:\n",
    "\n",
    "\\[\n",
    "E[R_i] = R_f + \\sum_{k=1}^n \\beta_{ik} \\cdot \\lambda_k\n",
    "\\]\n",
    "\n",
    "Where:\n",
    "- \\( E[R_i] \\): Expected return of asset \\( i \\)\n",
    "- \\( R_f \\): Risk-free rate\n",
    "- \\( \\beta_{ik} \\): Sensitivity of asset \\( i \\) to factor \\( k \\)\n",
    "- \\( \\lambda_k \\): Risk premium associated with factor \\( k \\)\n",
    "\n",
    "Unlike CAPM, APT does **not specify** the factors — they can be macroeconomic (inflation, interest rates, GDP, etc.) or statistical (principal components).\n",
    "\n",
    "---\n",
    "\n",
    "### ⚖️ Key Assumptions:\n",
    "- No arbitrage opportunities exist.\n",
    "- Asset returns are linearly related to several macroeconomic factors.\n",
    "- A large number of assets ensures diversification of idiosyncratic risk.\n",
    "\n",
    "APT is more flexible than CAPM but requires **empirical identification of relevant factors**.\n"
   ]
  },
  {
   "cell_type": "code",
   "execution_count": 1,
   "id": "743cf140-e24c-4b1c-a1d5-113c29663b2a",
   "metadata": {},
   "outputs": [
    {
     "name": "stdout",
     "output_type": "stream",
     "text": [
      "                            OLS Regression Results                            \n",
      "==============================================================================\n",
      "Dep. Variable:                      y   R-squared:                       0.109\n",
      "Model:                            OLS   Adj. R-squared:                  0.094\n",
      "Method:                 Least Squares   F-statistic:                     7.526\n",
      "Date:                Tue, 27 May 2025   Prob (F-statistic):           9.79e-06\n",
      "Time:                        22:43:52   Log-Likelihood:                 791.23\n",
      "No. Observations:                 252   AIC:                            -1572.\n",
      "Df Residuals:                     247   BIC:                            -1555.\n",
      "Df Model:                           4                                         \n",
      "Covariance Type:            nonrobust                                         \n",
      "=================================================================================\n",
      "                    coef    std err          t      P>|t|      [0.025      0.975]\n",
      "---------------------------------------------------------------------------------\n",
      "const             0.0011      0.001      1.647      0.101      -0.000       0.002\n",
      "Inflation         0.3563      0.137      2.597      0.010       0.086       0.627\n",
      "GDP_Growth        0.5934      0.145      4.094      0.000       0.308       0.879\n",
      "Interest_Rate     0.3188      0.141      2.267      0.024       0.042       0.596\n",
      "Oil_Price        -0.1681      0.149     -1.131      0.259      -0.461       0.125\n",
      "==============================================================================\n",
      "Omnibus:                        0.176   Durbin-Watson:                   2.091\n",
      "Prob(Omnibus):                  0.916   Jarque-Bera (JB):                0.235\n",
      "Skew:                          -0.062   Prob(JB):                        0.889\n",
      "Kurtosis:                       2.916   Cond. No.                         226.\n",
      "==============================================================================\n",
      "\n",
      "Notes:\n",
      "[1] Standard Errors assume that the covariance matrix of the errors is correctly specified.\n"
     ]
    }
   ],
   "source": [
    "import numpy as np\n",
    "import pandas as pd\n",
    "import statsmodels.api as sm\n",
    "\n",
    "np.random.seed(10)\n",
    "n = 252  # trading days\n",
    "\n",
    "# Simulate 4 macroeconomic factors (e.g., inflation, GDP growth, interest rate, oil prices)\n",
    "factor_names = ['Inflation', 'GDP_Growth', 'Interest_Rate', 'Oil_Price']\n",
    "factors = {name: np.random.normal(0.0002, 0.005, n) for name in factor_names}\n",
    "factors_df = pd.DataFrame(factors)\n",
    "\n",
    "# Asset return simulated using factor loadings\n",
    "true_betas = np.array([0.4, 0.6, 0.2, -0.3])\n",
    "noise = np.random.normal(0, 0.01, n)\n",
    "Ri = 0.0005 + factors_df @ true_betas + noise\n",
    "\n",
    "# Regression\n",
    "X = sm.add_constant(factors_df)\n",
    "model = sm.OLS(Ri, X).fit()\n",
    "\n",
    "print(model.summary())\n"
   ]
  },
  {
   "cell_type": "code",
   "execution_count": null,
   "id": "2988fa73-c886-4551-8f81-aa935acf8c80",
   "metadata": {},
   "outputs": [],
   "source": []
  }
 ],
 "metadata": {
  "kernelspec": {
   "display_name": "Python 3 (ipykernel)",
   "language": "python",
   "name": "python3"
  },
  "language_info": {
   "codemirror_mode": {
    "name": "ipython",
    "version": 3
   },
   "file_extension": ".py",
   "mimetype": "text/x-python",
   "name": "python",
   "nbconvert_exporter": "python",
   "pygments_lexer": "ipython3",
   "version": "3.12.3"
  }
 },
 "nbformat": 4,
 "nbformat_minor": 5
}
