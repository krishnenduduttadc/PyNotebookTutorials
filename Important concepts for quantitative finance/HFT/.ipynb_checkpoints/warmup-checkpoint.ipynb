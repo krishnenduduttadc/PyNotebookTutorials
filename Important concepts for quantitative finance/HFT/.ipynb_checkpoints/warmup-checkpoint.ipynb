{
 "cells": [
  {
   "cell_type": "code",
   "execution_count": 1,
   "id": "9ebf9699-d9b3-4763-8c78-233856914ff9",
   "metadata": {},
   "outputs": [],
   "source": [
    "# Run this cell to install uncommon packages\n",
    "!pip install plotly yfinance --quiet\n"
   ]
  },
  {
   "cell_type": "code",
   "execution_count": 2,
   "id": "99a8132c-2743-430c-ac48-686faf58bf02",
   "metadata": {},
   "outputs": [
    {
     "name": "stderr",
     "output_type": "stream",
     "text": [
      "C:\\Users\\KRISHNENDU\\AppData\\Local\\Temp\\ipykernel_15980\\140751340.py:6: FutureWarning: YF.download() has changed argument auto_adjust default to True\n",
      "  df = yf.download(\"AAPL\", interval=\"1m\", period=\"1d\")\n",
      "[*********************100%***********************]  1 of 1 completed\n"
     ]
    },
    {
     "data": {
      "application/vnd.plotly.v1+json": {
       "config": {
        "plotlyServerURL": "https://plot.ly"
       },
       "data": [
        {
         "line": {
          "color": "green"
         },
         "name": "Bid",
         "type": "scatter",
         "x": [
          "2025-07-10T13:30:00+00:00",
          "2025-07-10T13:31:00+00:00",
          "2025-07-10T13:32:00+00:00",
          "2025-07-10T13:33:00+00:00",
          "2025-07-10T13:34:00+00:00",
          "2025-07-10T13:35:00+00:00",
          "2025-07-10T13:36:00+00:00",
          "2025-07-10T13:37:00+00:00",
          "2025-07-10T13:38:00+00:00",
          "2025-07-10T13:39:00+00:00",
          "2025-07-10T13:40:00+00:00",
          "2025-07-10T13:41:00+00:00",
          "2025-07-10T13:42:00+00:00",
          "2025-07-10T13:43:00+00:00",
          "2025-07-10T13:44:00+00:00",
          "2025-07-10T13:45:00+00:00",
          "2025-07-10T13:46:00+00:00",
          "2025-07-10T13:52:00+00:00",
          "2025-07-10T13:53:00+00:00",
          "2025-07-10T13:54:00+00:00",
          "2025-07-10T13:55:00+00:00",
          "2025-07-10T13:56:00+00:00",
          "2025-07-10T13:57:00+00:00",
          "2025-07-10T13:58:00+00:00",
          "2025-07-10T13:59:00+00:00",
          "2025-07-10T14:00:00+00:00",
          "2025-07-10T14:01:00+00:00",
          "2025-07-10T14:02:00+00:00",
          "2025-07-10T14:03:00+00:00",
          "2025-07-10T14:04:00+00:00",
          "2025-07-10T14:05:00+00:00",
          "2025-07-10T14:06:00+00:00",
          "2025-07-10T14:07:00+00:00",
          "2025-07-10T14:08:00+00:00",
          "2025-07-10T14:09:00+00:00",
          "2025-07-10T14:10:00+00:00",
          "2025-07-10T14:11:00+00:00",
          "2025-07-10T14:12:00+00:00",
          "2025-07-10T14:13:00+00:00",
          "2025-07-10T14:14:00+00:00",
          "2025-07-10T14:15:00+00:00",
          "2025-07-10T14:16:00+00:00",
          "2025-07-10T14:17:00+00:00",
          "2025-07-10T14:18:00+00:00",
          "2025-07-10T14:19:00+00:00",
          "2025-07-10T14:20:00+00:00",
          "2025-07-10T14:21:00+00:00",
          "2025-07-10T14:22:00+00:00",
          "2025-07-10T14:23:00+00:00",
          "2025-07-10T14:24:00+00:00",
          "2025-07-10T14:25:00+00:00",
          "2025-07-10T14:26:00+00:00",
          "2025-07-10T14:27:00+00:00",
          "2025-07-10T14:28:00+00:00",
          "2025-07-10T14:29:00+00:00"
         ],
         "y": {
          "bdata": "AAAAwB5FakAAAACAFEZqQAAAAIBISWpAAAAAQDNLakAAAAAgXEdqQAAAAADXQ2pAAAAA4KNIakAAAADA9UhqQAAAAMAeTWpAAAAAIK5PakAAAACAwlVqQAAAAGCPUmpAAAAAQApXakAAAACgcF1qQAAAAOCjUGpAAAAA4FFQakAAAAAAKVBqQAAAAIDCVWpAAAAAwPVQakAAAADAzFRqQAAAAOCjWGpAAAAAwMxUakAAAADAzFRqQAAAAMAeVWpAAAAAANdXakAAAAAgXF9qQAAAACDiYmpAAAAAgOtpakAAAADgemxqQAAAAOCjcGpAAAAAwB5lakAAAABgj2pqQAAAAOB6ZGpAAAAAoJlZakAAAABACldqQAAAAMAeXWpAAAAAoEdpakAAAADAHm1qQAAAAMA7bmpAAAAAYI9qakAAAABgj2pqQAAAAEAKa2pAAAAAYGZuakAAAADgo3BqQAAAAGCPcmpAAAAAIFxvakAAAABgj2pqQAAAAEAza2pAAAAAIK5vakAAAABgZm5qQAAAAIDCbWpAAAAAoGBuakAAAABACndqQAAAAGCPgmpAAAAAoJmBakA=",
          "dtype": "f8"
         }
        },
        {
         "line": {
          "color": "red"
         },
         "name": "Ask",
         "type": "scatter",
         "x": [
          "2025-07-10T13:30:00+00:00",
          "2025-07-10T13:31:00+00:00",
          "2025-07-10T13:32:00+00:00",
          "2025-07-10T13:33:00+00:00",
          "2025-07-10T13:34:00+00:00",
          "2025-07-10T13:35:00+00:00",
          "2025-07-10T13:36:00+00:00",
          "2025-07-10T13:37:00+00:00",
          "2025-07-10T13:38:00+00:00",
          "2025-07-10T13:39:00+00:00",
          "2025-07-10T13:40:00+00:00",
          "2025-07-10T13:41:00+00:00",
          "2025-07-10T13:42:00+00:00",
          "2025-07-10T13:43:00+00:00",
          "2025-07-10T13:44:00+00:00",
          "2025-07-10T13:45:00+00:00",
          "2025-07-10T13:46:00+00:00",
          "2025-07-10T13:52:00+00:00",
          "2025-07-10T13:53:00+00:00",
          "2025-07-10T13:54:00+00:00",
          "2025-07-10T13:55:00+00:00",
          "2025-07-10T13:56:00+00:00",
          "2025-07-10T13:57:00+00:00",
          "2025-07-10T13:58:00+00:00",
          "2025-07-10T13:59:00+00:00",
          "2025-07-10T14:00:00+00:00",
          "2025-07-10T14:01:00+00:00",
          "2025-07-10T14:02:00+00:00",
          "2025-07-10T14:03:00+00:00",
          "2025-07-10T14:04:00+00:00",
          "2025-07-10T14:05:00+00:00",
          "2025-07-10T14:06:00+00:00",
          "2025-07-10T14:07:00+00:00",
          "2025-07-10T14:08:00+00:00",
          "2025-07-10T14:09:00+00:00",
          "2025-07-10T14:10:00+00:00",
          "2025-07-10T14:11:00+00:00",
          "2025-07-10T14:12:00+00:00",
          "2025-07-10T14:13:00+00:00",
          "2025-07-10T14:14:00+00:00",
          "2025-07-10T14:15:00+00:00",
          "2025-07-10T14:16:00+00:00",
          "2025-07-10T14:17:00+00:00",
          "2025-07-10T14:18:00+00:00",
          "2025-07-10T14:19:00+00:00",
          "2025-07-10T14:20:00+00:00",
          "2025-07-10T14:21:00+00:00",
          "2025-07-10T14:22:00+00:00",
          "2025-07-10T14:23:00+00:00",
          "2025-07-10T14:24:00+00:00",
          "2025-07-10T14:25:00+00:00",
          "2025-07-10T14:26:00+00:00",
          "2025-07-10T14:27:00+00:00",
          "2025-07-10T14:28:00+00:00",
          "2025-07-10T14:29:00+00:00"
         ],
         "y": {
          "bdata": "AAAA4HpkakAAAACgcF1qQAAAAMDMVGpAAAAAoJlZakAAAAAgrldqQAAAAIA9VGpAAAAAoEdRakAAAAAA11NqQAAAAKBwUWpAAAAAwPVYakAAAABA4WJqQAAAAIAUXmpAAAAAgJVhakAAAABAM2NqQAAAAAAAYGpAAAAAYGZWakAAAAAAAFRqQAAAAKCZWWpAAAAAwDtWakAAAABgj15qQAAAAKBwXWpAAAAAQDNbakAAAAAA11tqQAAAAGCPWmpAAAAA4EZpakAAAACgR2lqQAAAAMDMbGpAAAAAgOByakAAAABAM3tqQAAAAEDhempAAAAAgBRyakAAAADA9XBqQAAAACCub2pAAAAAIFhnakAAAACAPV5qQAAAAECEa2pAAAAAoHB1akAAAACAjnJqQAAAAMDMdGpAAAAAwB51akAAAADA9XBqQAAAAGC4cmpAAAAAgBR2akAAAAAghXdqQAAAAOB6fGpAAAAAAAB4akAAAADA9XBqQAAAAMDMdGpAAAAAIFx3akAAAACgcHVqQAAAAKBHcWpAAAAAoEd5akAAAADAzIRqQAAAAMCYiWpAAAAAoJmBakA=",
          "dtype": "f8"
         }
        },
        {
         "line": {
          "color": "blue",
          "dash": "dot"
         },
         "name": "Trade Price",
         "type": "scatter",
         "x": [
          "2025-07-10T13:30:00+00:00",
          "2025-07-10T13:31:00+00:00",
          "2025-07-10T13:32:00+00:00",
          "2025-07-10T13:33:00+00:00",
          "2025-07-10T13:34:00+00:00",
          "2025-07-10T13:35:00+00:00",
          "2025-07-10T13:36:00+00:00",
          "2025-07-10T13:37:00+00:00",
          "2025-07-10T13:38:00+00:00",
          "2025-07-10T13:39:00+00:00",
          "2025-07-10T13:40:00+00:00",
          "2025-07-10T13:41:00+00:00",
          "2025-07-10T13:42:00+00:00",
          "2025-07-10T13:43:00+00:00",
          "2025-07-10T13:44:00+00:00",
          "2025-07-10T13:45:00+00:00",
          "2025-07-10T13:46:00+00:00",
          "2025-07-10T13:52:00+00:00",
          "2025-07-10T13:53:00+00:00",
          "2025-07-10T13:54:00+00:00",
          "2025-07-10T13:55:00+00:00",
          "2025-07-10T13:56:00+00:00",
          "2025-07-10T13:57:00+00:00",
          "2025-07-10T13:58:00+00:00",
          "2025-07-10T13:59:00+00:00",
          "2025-07-10T14:00:00+00:00",
          "2025-07-10T14:01:00+00:00",
          "2025-07-10T14:02:00+00:00",
          "2025-07-10T14:03:00+00:00",
          "2025-07-10T14:04:00+00:00",
          "2025-07-10T14:05:00+00:00",
          "2025-07-10T14:06:00+00:00",
          "2025-07-10T14:07:00+00:00",
          "2025-07-10T14:08:00+00:00",
          "2025-07-10T14:09:00+00:00",
          "2025-07-10T14:10:00+00:00",
          "2025-07-10T14:11:00+00:00",
          "2025-07-10T14:12:00+00:00",
          "2025-07-10T14:13:00+00:00",
          "2025-07-10T14:14:00+00:00",
          "2025-07-10T14:15:00+00:00",
          "2025-07-10T14:16:00+00:00",
          "2025-07-10T14:17:00+00:00",
          "2025-07-10T14:18:00+00:00",
          "2025-07-10T14:19:00+00:00",
          "2025-07-10T14:20:00+00:00",
          "2025-07-10T14:21:00+00:00",
          "2025-07-10T14:22:00+00:00",
          "2025-07-10T14:23:00+00:00",
          "2025-07-10T14:24:00+00:00",
          "2025-07-10T14:25:00+00:00",
          "2025-07-10T14:26:00+00:00",
          "2025-07-10T14:27:00+00:00",
          "2025-07-10T14:28:00+00:00",
          "2025-07-10T14:29:00+00:00"
         ],
         "y": {
          "bdata": "AAAAINlcakAAAACgaUxqQAAAAOCjUGpAAAAAIK5XakAAAAAgXEtqQAAAACBcT2pAAAAAIIVLakAAAAAgXE9qQAAAAKBHUWpAAAAAYLxWakAAAACgcF1qQAAAAMD1WGpAAAAAYLheakAAAADg119qQAAAAEDhUmpAAAAAwPVQakAAAABgZlJqQAAAAGDnVWpAAAAAoHBVakAAAADAllpqQAAAAEDzWGpAAAAAYGZWakAAAADgo1hqQAAAAOBRWGpAAAAAwMxoakAAAACgcGVqQAAAAAApbGpAAAAAoHBtakAAAACgq3lqQAAAAMD1cGpAAAAAoJltakAAAABgj25qQAAAAGAJZ2pAAAAAAC1aakAAAACAPV5qQAAAAIA9ampAAAAAgI5yakAAAADgP25qQAAAAKCbdGpAAAAAwMxsakAAAADAHm1qQAAAAKBHcWpAAAAAQOFyakAAAAAAo3JqQAAAAEAKd2pAAAAA4KxwakAAAADgemxqQAAAAGCPcmpAAAAAoEVwakAAAAAAAHBqQAAAAGC4bmpAAAAAAJp4akAAAACgkoRqQAAAAEDhgmpAAAAAoJmBakA=",
          "dtype": "f8"
         }
        }
       ],
       "layout": {
        "template": {
         "data": {
          "bar": [
           {
            "error_x": {
             "color": "#2a3f5f"
            },
            "error_y": {
             "color": "#2a3f5f"
            },
            "marker": {
             "line": {
              "color": "#E5ECF6",
              "width": 0.5
             },
             "pattern": {
              "fillmode": "overlay",
              "size": 10,
              "solidity": 0.2
             }
            },
            "type": "bar"
           }
          ],
          "barpolar": [
           {
            "marker": {
             "line": {
              "color": "#E5ECF6",
              "width": 0.5
             },
             "pattern": {
              "fillmode": "overlay",
              "size": 10,
              "solidity": 0.2
             }
            },
            "type": "barpolar"
           }
          ],
          "carpet": [
           {
            "aaxis": {
             "endlinecolor": "#2a3f5f",
             "gridcolor": "white",
             "linecolor": "white",
             "minorgridcolor": "white",
             "startlinecolor": "#2a3f5f"
            },
            "baxis": {
             "endlinecolor": "#2a3f5f",
             "gridcolor": "white",
             "linecolor": "white",
             "minorgridcolor": "white",
             "startlinecolor": "#2a3f5f"
            },
            "type": "carpet"
           }
          ],
          "choropleth": [
           {
            "colorbar": {
             "outlinewidth": 0,
             "ticks": ""
            },
            "type": "choropleth"
           }
          ],
          "contour": [
           {
            "colorbar": {
             "outlinewidth": 0,
             "ticks": ""
            },
            "colorscale": [
             [
              0,
              "#0d0887"
             ],
             [
              0.1111111111111111,
              "#46039f"
             ],
             [
              0.2222222222222222,
              "#7201a8"
             ],
             [
              0.3333333333333333,
              "#9c179e"
             ],
             [
              0.4444444444444444,
              "#bd3786"
             ],
             [
              0.5555555555555556,
              "#d8576b"
             ],
             [
              0.6666666666666666,
              "#ed7953"
             ],
             [
              0.7777777777777778,
              "#fb9f3a"
             ],
             [
              0.8888888888888888,
              "#fdca26"
             ],
             [
              1,
              "#f0f921"
             ]
            ],
            "type": "contour"
           }
          ],
          "contourcarpet": [
           {
            "colorbar": {
             "outlinewidth": 0,
             "ticks": ""
            },
            "type": "contourcarpet"
           }
          ],
          "heatmap": [
           {
            "colorbar": {
             "outlinewidth": 0,
             "ticks": ""
            },
            "colorscale": [
             [
              0,
              "#0d0887"
             ],
             [
              0.1111111111111111,
              "#46039f"
             ],
             [
              0.2222222222222222,
              "#7201a8"
             ],
             [
              0.3333333333333333,
              "#9c179e"
             ],
             [
              0.4444444444444444,
              "#bd3786"
             ],
             [
              0.5555555555555556,
              "#d8576b"
             ],
             [
              0.6666666666666666,
              "#ed7953"
             ],
             [
              0.7777777777777778,
              "#fb9f3a"
             ],
             [
              0.8888888888888888,
              "#fdca26"
             ],
             [
              1,
              "#f0f921"
             ]
            ],
            "type": "heatmap"
           }
          ],
          "histogram": [
           {
            "marker": {
             "pattern": {
              "fillmode": "overlay",
              "size": 10,
              "solidity": 0.2
             }
            },
            "type": "histogram"
           }
          ],
          "histogram2d": [
           {
            "colorbar": {
             "outlinewidth": 0,
             "ticks": ""
            },
            "colorscale": [
             [
              0,
              "#0d0887"
             ],
             [
              0.1111111111111111,
              "#46039f"
             ],
             [
              0.2222222222222222,
              "#7201a8"
             ],
             [
              0.3333333333333333,
              "#9c179e"
             ],
             [
              0.4444444444444444,
              "#bd3786"
             ],
             [
              0.5555555555555556,
              "#d8576b"
             ],
             [
              0.6666666666666666,
              "#ed7953"
             ],
             [
              0.7777777777777778,
              "#fb9f3a"
             ],
             [
              0.8888888888888888,
              "#fdca26"
             ],
             [
              1,
              "#f0f921"
             ]
            ],
            "type": "histogram2d"
           }
          ],
          "histogram2dcontour": [
           {
            "colorbar": {
             "outlinewidth": 0,
             "ticks": ""
            },
            "colorscale": [
             [
              0,
              "#0d0887"
             ],
             [
              0.1111111111111111,
              "#46039f"
             ],
             [
              0.2222222222222222,
              "#7201a8"
             ],
             [
              0.3333333333333333,
              "#9c179e"
             ],
             [
              0.4444444444444444,
              "#bd3786"
             ],
             [
              0.5555555555555556,
              "#d8576b"
             ],
             [
              0.6666666666666666,
              "#ed7953"
             ],
             [
              0.7777777777777778,
              "#fb9f3a"
             ],
             [
              0.8888888888888888,
              "#fdca26"
             ],
             [
              1,
              "#f0f921"
             ]
            ],
            "type": "histogram2dcontour"
           }
          ],
          "mesh3d": [
           {
            "colorbar": {
             "outlinewidth": 0,
             "ticks": ""
            },
            "type": "mesh3d"
           }
          ],
          "parcoords": [
           {
            "line": {
             "colorbar": {
              "outlinewidth": 0,
              "ticks": ""
             }
            },
            "type": "parcoords"
           }
          ],
          "pie": [
           {
            "automargin": true,
            "type": "pie"
           }
          ],
          "scatter": [
           {
            "fillpattern": {
             "fillmode": "overlay",
             "size": 10,
             "solidity": 0.2
            },
            "type": "scatter"
           }
          ],
          "scatter3d": [
           {
            "line": {
             "colorbar": {
              "outlinewidth": 0,
              "ticks": ""
             }
            },
            "marker": {
             "colorbar": {
              "outlinewidth": 0,
              "ticks": ""
             }
            },
            "type": "scatter3d"
           }
          ],
          "scattercarpet": [
           {
            "marker": {
             "colorbar": {
              "outlinewidth": 0,
              "ticks": ""
             }
            },
            "type": "scattercarpet"
           }
          ],
          "scattergeo": [
           {
            "marker": {
             "colorbar": {
              "outlinewidth": 0,
              "ticks": ""
             }
            },
            "type": "scattergeo"
           }
          ],
          "scattergl": [
           {
            "marker": {
             "colorbar": {
              "outlinewidth": 0,
              "ticks": ""
             }
            },
            "type": "scattergl"
           }
          ],
          "scattermap": [
           {
            "marker": {
             "colorbar": {
              "outlinewidth": 0,
              "ticks": ""
             }
            },
            "type": "scattermap"
           }
          ],
          "scattermapbox": [
           {
            "marker": {
             "colorbar": {
              "outlinewidth": 0,
              "ticks": ""
             }
            },
            "type": "scattermapbox"
           }
          ],
          "scatterpolar": [
           {
            "marker": {
             "colorbar": {
              "outlinewidth": 0,
              "ticks": ""
             }
            },
            "type": "scatterpolar"
           }
          ],
          "scatterpolargl": [
           {
            "marker": {
             "colorbar": {
              "outlinewidth": 0,
              "ticks": ""
             }
            },
            "type": "scatterpolargl"
           }
          ],
          "scatterternary": [
           {
            "marker": {
             "colorbar": {
              "outlinewidth": 0,
              "ticks": ""
             }
            },
            "type": "scatterternary"
           }
          ],
          "surface": [
           {
            "colorbar": {
             "outlinewidth": 0,
             "ticks": ""
            },
            "colorscale": [
             [
              0,
              "#0d0887"
             ],
             [
              0.1111111111111111,
              "#46039f"
             ],
             [
              0.2222222222222222,
              "#7201a8"
             ],
             [
              0.3333333333333333,
              "#9c179e"
             ],
             [
              0.4444444444444444,
              "#bd3786"
             ],
             [
              0.5555555555555556,
              "#d8576b"
             ],
             [
              0.6666666666666666,
              "#ed7953"
             ],
             [
              0.7777777777777778,
              "#fb9f3a"
             ],
             [
              0.8888888888888888,
              "#fdca26"
             ],
             [
              1,
              "#f0f921"
             ]
            ],
            "type": "surface"
           }
          ],
          "table": [
           {
            "cells": {
             "fill": {
              "color": "#EBF0F8"
             },
             "line": {
              "color": "white"
             }
            },
            "header": {
             "fill": {
              "color": "#C8D4E3"
             },
             "line": {
              "color": "white"
             }
            },
            "type": "table"
           }
          ]
         },
         "layout": {
          "annotationdefaults": {
           "arrowcolor": "#2a3f5f",
           "arrowhead": 0,
           "arrowwidth": 1
          },
          "autotypenumbers": "strict",
          "coloraxis": {
           "colorbar": {
            "outlinewidth": 0,
            "ticks": ""
           }
          },
          "colorscale": {
           "diverging": [
            [
             0,
             "#8e0152"
            ],
            [
             0.1,
             "#c51b7d"
            ],
            [
             0.2,
             "#de77ae"
            ],
            [
             0.3,
             "#f1b6da"
            ],
            [
             0.4,
             "#fde0ef"
            ],
            [
             0.5,
             "#f7f7f7"
            ],
            [
             0.6,
             "#e6f5d0"
            ],
            [
             0.7,
             "#b8e186"
            ],
            [
             0.8,
             "#7fbc41"
            ],
            [
             0.9,
             "#4d9221"
            ],
            [
             1,
             "#276419"
            ]
           ],
           "sequential": [
            [
             0,
             "#0d0887"
            ],
            [
             0.1111111111111111,
             "#46039f"
            ],
            [
             0.2222222222222222,
             "#7201a8"
            ],
            [
             0.3333333333333333,
             "#9c179e"
            ],
            [
             0.4444444444444444,
             "#bd3786"
            ],
            [
             0.5555555555555556,
             "#d8576b"
            ],
            [
             0.6666666666666666,
             "#ed7953"
            ],
            [
             0.7777777777777778,
             "#fb9f3a"
            ],
            [
             0.8888888888888888,
             "#fdca26"
            ],
            [
             1,
             "#f0f921"
            ]
           ],
           "sequentialminus": [
            [
             0,
             "#0d0887"
            ],
            [
             0.1111111111111111,
             "#46039f"
            ],
            [
             0.2222222222222222,
             "#7201a8"
            ],
            [
             0.3333333333333333,
             "#9c179e"
            ],
            [
             0.4444444444444444,
             "#bd3786"
            ],
            [
             0.5555555555555556,
             "#d8576b"
            ],
            [
             0.6666666666666666,
             "#ed7953"
            ],
            [
             0.7777777777777778,
             "#fb9f3a"
            ],
            [
             0.8888888888888888,
             "#fdca26"
            ],
            [
             1,
             "#f0f921"
            ]
           ]
          },
          "colorway": [
           "#636efa",
           "#EF553B",
           "#00cc96",
           "#ab63fa",
           "#FFA15A",
           "#19d3f3",
           "#FF6692",
           "#B6E880",
           "#FF97FF",
           "#FECB52"
          ],
          "font": {
           "color": "#2a3f5f"
          },
          "geo": {
           "bgcolor": "white",
           "lakecolor": "white",
           "landcolor": "#E5ECF6",
           "showlakes": true,
           "showland": true,
           "subunitcolor": "white"
          },
          "hoverlabel": {
           "align": "left"
          },
          "hovermode": "closest",
          "mapbox": {
           "style": "light"
          },
          "paper_bgcolor": "white",
          "plot_bgcolor": "#E5ECF6",
          "polar": {
           "angularaxis": {
            "gridcolor": "white",
            "linecolor": "white",
            "ticks": ""
           },
           "bgcolor": "#E5ECF6",
           "radialaxis": {
            "gridcolor": "white",
            "linecolor": "white",
            "ticks": ""
           }
          },
          "scene": {
           "xaxis": {
            "backgroundcolor": "#E5ECF6",
            "gridcolor": "white",
            "gridwidth": 2,
            "linecolor": "white",
            "showbackground": true,
            "ticks": "",
            "zerolinecolor": "white"
           },
           "yaxis": {
            "backgroundcolor": "#E5ECF6",
            "gridcolor": "white",
            "gridwidth": 2,
            "linecolor": "white",
            "showbackground": true,
            "ticks": "",
            "zerolinecolor": "white"
           },
           "zaxis": {
            "backgroundcolor": "#E5ECF6",
            "gridcolor": "white",
            "gridwidth": 2,
            "linecolor": "white",
            "showbackground": true,
            "ticks": "",
            "zerolinecolor": "white"
           }
          },
          "shapedefaults": {
           "line": {
            "color": "#2a3f5f"
           }
          },
          "ternary": {
           "aaxis": {
            "gridcolor": "white",
            "linecolor": "white",
            "ticks": ""
           },
           "baxis": {
            "gridcolor": "white",
            "linecolor": "white",
            "ticks": ""
           },
           "bgcolor": "#E5ECF6",
           "caxis": {
            "gridcolor": "white",
            "linecolor": "white",
            "ticks": ""
           }
          },
          "title": {
           "x": 0.05
          },
          "xaxis": {
           "automargin": true,
           "gridcolor": "white",
           "linecolor": "white",
           "ticks": "",
           "title": {
            "standoff": 15
           },
           "zerolinecolor": "white",
           "zerolinewidth": 2
          },
          "yaxis": {
           "automargin": true,
           "gridcolor": "white",
           "linecolor": "white",
           "ticks": "",
           "title": {
            "standoff": 15
           },
           "zerolinecolor": "white",
           "zerolinewidth": 2
          }
         }
        },
        "title": {
         "text": "Simulated Quotes vs Trade Prices (AAPL - 1 min)"
        },
        "xaxis": {
         "title": {
          "text": "Time"
         }
        },
        "yaxis": {
         "title": {
          "text": "Price"
         }
        }
       }
      }
     },
     "metadata": {},
     "output_type": "display_data"
    }
   ],
   "source": [
    "import yfinance as yf\n",
    "import plotly.graph_objects as go\n",
    "import pandas as pd\n",
    "\n",
    "# Download 1-minute data for a liquid stock\n",
    "df = yf.download(\"AAPL\", interval=\"1m\", period=\"1d\")\n",
    "df.dropna(inplace=True)\n",
    "\n",
    "# Simulate quote and trade prices\n",
    "df['bid'] = df['Low']\n",
    "df['ask'] = df['High']\n",
    "df['mid'] = (df['bid'] + df['ask']) / 2\n",
    "df['trade'] = df['Close']\n",
    "\n",
    "fig = go.Figure()\n",
    "fig.add_trace(go.Scatter(x=df.index, y=df['bid'], name='Bid', line=dict(color='green')))\n",
    "fig.add_trace(go.Scatter(x=df.index, y=df['ask'], name='Ask', line=dict(color='red')))\n",
    "fig.add_trace(go.Scatter(x=df.index, y=df['trade'], name='Trade Price', line=dict(color='blue', dash='dot')))\n",
    "fig.update_layout(title='Simulated Quotes vs Trade Prices (AAPL - 1 min)', xaxis_title='Time', yaxis_title='Price')\n",
    "fig.show()\n"
   ]
  },
  {
   "cell_type": "code",
   "execution_count": null,
   "id": "c50f000f-0db3-4082-8be3-c0389062c4da",
   "metadata": {},
   "outputs": [],
   "source": []
  }
 ],
 "metadata": {
  "kernelspec": {
   "display_name": "Python 3 (ipykernel)",
   "language": "python",
   "name": "python3"
  },
  "language_info": {
   "codemirror_mode": {
    "name": "ipython",
    "version": 3
   },
   "file_extension": ".py",
   "mimetype": "text/x-python",
   "name": "python",
   "nbconvert_exporter": "python",
   "pygments_lexer": "ipython3",
   "version": "3.10.18"
  }
 },
 "nbformat": 4,
 "nbformat_minor": 5
}
