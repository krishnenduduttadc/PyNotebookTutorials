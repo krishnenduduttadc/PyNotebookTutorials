{
 "cells": [
  {
   "cell_type": "markdown",
   "id": "6b6985f5-e1f8-4b04-bac8-8a97a7370c56",
   "metadata": {},
   "source": [
    "# 💰 Black-Scholes Option Pricing Model\n",
    "\n",
    "---\n",
    "\n",
    "## Black-Scholes Formula for European Call Option:\n",
    "\n",
    "\\[\n",
    "C = S_0 N(d_1) - K e^{-rT} N(d_2)\n",
    "\\]\n",
    "\n",
    "Where:\n",
    "\n",
    "\\[\n",
    "d_1 = \\frac{\\ln \\frac{S_0}{K} + (r + \\frac{\\sigma^2}{2})T}{\\sigma \\sqrt{T}}, \\quad\n",
    "d_2 = d_1 - \\sigma \\sqrt{T}\n",
    "\\]\n",
    "\n",
    "- \\( C \\): Call option price\n",
    "- \\( S_0 \\): Current stock price\n",
    "- \\( K \\): Strike price\n",
    "- \\( T \\): Time to maturity\n",
    "- \\( r \\): Risk-free interest rate\n",
    "- \\( \\sigma \\): Volatility of the underlying asset\n",
    "- \\( N(\\cdot) \\): CDF of the standard normal distribution\n",
    "\n",
    "---\n",
    "\n",
    "## Assumptions:\n",
    "\n",
    "- No dividends\n",
    "- Constant volatility and interest rate\n",
    "- No arbitrage, frictionless markets\n",
    "\n",
    "---\n",
    "\n",
    "## Importance:\n",
    "\n",
    "- Foundation for modern option pricing.\n",
    "- Widely used in finance industry.\n"
   ]
  },
  {
   "cell_type": "code",
   "execution_count": 1,
   "id": "177c39ab-7e94-4b0e-83bc-b0e877edfec3",
   "metadata": {},
   "outputs": [
    {
     "name": "stdout",
     "output_type": "stream",
     "text": [
      "Black-Scholes Call Option Price: 10.4506\n"
     ]
    }
   ],
   "source": [
    "from scipy.stats import norm\n",
    "import numpy as np\n",
    "\n",
    "def black_scholes_call(S0, K, T, r, sigma):\n",
    "    d1 = (np.log(S0 / K) + (r + 0.5 * sigma ** 2) * T) / (sigma * np.sqrt(T))\n",
    "    d2 = d1 - sigma * np.sqrt(T)\n",
    "    call_price = S0 * norm.cdf(d1) - K * np.exp(-r * T) * norm.cdf(d2)\n",
    "    return call_price\n",
    "\n",
    "# Example parameters\n",
    "S0 = 100\n",
    "K = 100\n",
    "T = 1.0\n",
    "r = 0.05\n",
    "sigma = 0.2\n",
    "\n",
    "call_price = black_scholes_call(S0, K, T, r, sigma)\n",
    "print(f\"Black-Scholes Call Option Price: {call_price:.4f}\")\n"
   ]
  },
  {
   "cell_type": "code",
   "execution_count": null,
   "id": "24fa5e3b-7a18-4774-8177-8e0a914bd1f2",
   "metadata": {},
   "outputs": [],
   "source": []
  }
 ],
 "metadata": {
  "kernelspec": {
   "display_name": "Python 3 (ipykernel)",
   "language": "python",
   "name": "python3"
  },
  "language_info": {
   "codemirror_mode": {
    "name": "ipython",
    "version": 3
   },
   "file_extension": ".py",
   "mimetype": "text/x-python",
   "name": "python",
   "nbconvert_exporter": "python",
   "pygments_lexer": "ipython3",
   "version": "3.12.3"
  }
 },
 "nbformat": 4,
 "nbformat_minor": 5
}
