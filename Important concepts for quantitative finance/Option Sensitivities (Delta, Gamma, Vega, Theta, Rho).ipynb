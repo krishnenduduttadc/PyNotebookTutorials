{
 "cells": [
  {
   "cell_type": "markdown",
   "id": "280dbea3-c68d-4776-9f7a-4b74675bf829",
   "metadata": {},
   "source": [
    "# 🎯 Greeks — Option Sensitivities\n",
    "\n",
    "The Greeks quantify how option prices change when parameters vary.\n",
    "\n",
    "---\n",
    "\n",
    "## Main Greeks\n",
    "\n",
    "| Greek  | Meaning                               | Formula (Call Option)                     |\n",
    "|--------|-------------------------------------|------------------------------------------|\n",
    "| Delta  | Sensitivity to underlying price     | \\( \\Delta = N(d_1) \\)                    |\n",
    "| Gamma  | Rate of change of Delta              | \\( \\Gamma = \\frac{N'(d_1)}{S \\sigma \\sqrt{T}} \\) |\n",
    "| Vega   | Sensitivity to volatility            | \\( \\nu = S N'(d_1) \\sqrt{T} \\)           |\n",
    "| Theta  | Sensitivity to time decay            | Complex formula (time decay)              |\n",
    "| Rho    | Sensitivity to interest rate         | \\( \\rho = K T e^{-rT} N(d_2) \\) (call)   |\n",
    "\n",
    "Where:\n",
    "- \\( N(d) \\) is the cumulative normal distribution\n",
    "- \\( N'(d) \\) is the standard normal PDF\n",
    "- \\( d_1, d_2 \\) as defined in Black-Scholes\n",
    "\n",
    "---\n",
    "\n",
    "Understanding Greeks helps traders hedge risks effectively.\n"
   ]
  },
  {
   "cell_type": "code",
   "execution_count": 1,
   "id": "ca71ba0d-c7fe-46b7-bd22-a8237b9a91e1",
   "metadata": {},
   "outputs": [
    {
     "name": "stdout",
     "output_type": "stream",
     "text": [
      "Delta: 0.6368\n",
      "Gamma: 0.0188\n",
      "Vega: 37.5240\n",
      "Theta: -6.4140\n",
      "Rho: 53.2325\n"
     ]
    }
   ],
   "source": [
    "from scipy.stats import norm\n",
    "import numpy as np\n",
    "\n",
    "def black_scholes_greeks(S, K, T, r, sigma):\n",
    "    d1 = (np.log(S / K) + (r + 0.5 * sigma**2) * T) / (sigma * np.sqrt(T))\n",
    "    d2 = d1 - sigma * np.sqrt(T)\n",
    "    \n",
    "    delta = norm.cdf(d1)\n",
    "    gamma = norm.pdf(d1) / (S * sigma * np.sqrt(T))\n",
    "    vega = S * norm.pdf(d1) * np.sqrt(T)\n",
    "    theta = (-S * norm.pdf(d1) * sigma / (2 * np.sqrt(T))\n",
    "             - r * K * np.exp(-r * T) * norm.cdf(d2))\n",
    "    rho = K * T * np.exp(-r * T) * norm.cdf(d2)\n",
    "    \n",
    "    return delta, gamma, vega, theta, rho\n",
    "\n",
    "# Parameters\n",
    "S = 100\n",
    "K = 100\n",
    "T = 1\n",
    "r = 0.05\n",
    "sigma = 0.2\n",
    "\n",
    "delta, gamma, vega, theta, rho = black_scholes_greeks(S, K, T, r, sigma)\n",
    "\n",
    "print(f\"Delta: {delta:.4f}\")\n",
    "print(f\"Gamma: {gamma:.4f}\")\n",
    "print(f\"Vega: {vega:.4f}\")\n",
    "print(f\"Theta: {theta:.4f}\")\n",
    "print(f\"Rho: {rho:.4f}\")\n"
   ]
  },
  {
   "cell_type": "code",
   "execution_count": null,
   "id": "cd6d46c8-0b00-4599-9974-bc8638c883d8",
   "metadata": {},
   "outputs": [],
   "source": []
  }
 ],
 "metadata": {
  "kernelspec": {
   "display_name": "Python 3 (ipykernel)",
   "language": "python",
   "name": "python3"
  },
  "language_info": {
   "codemirror_mode": {
    "name": "ipython",
    "version": 3
   },
   "file_extension": ".py",
   "mimetype": "text/x-python",
   "name": "python",
   "nbconvert_exporter": "python",
   "pygments_lexer": "ipython3",
   "version": "3.12.7"
  }
 },
 "nbformat": 4,
 "nbformat_minor": 5
}
