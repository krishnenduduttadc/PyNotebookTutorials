{
 "cells": [
  {
   "cell_type": "markdown",
   "id": "e0d51799-dc0c-4611-9750-37a214627628",
   "metadata": {},
   "source": [
    "Journal\n",
    "Concept: Every financial transaction is recorded as a journal entry using the double-entry system (debit and credit must balance)."
   ]
  },
  {
   "cell_type": "code",
   "execution_count": 1,
   "id": "fac01253-dc58-49a2-a34a-d6bf94c30bc1",
   "metadata": {},
   "outputs": [
    {
     "data": {
      "text/html": [
       "<div>\n",
       "<style scoped>\n",
       "    .dataframe tbody tr th:only-of-type {\n",
       "        vertical-align: middle;\n",
       "    }\n",
       "\n",
       "    .dataframe tbody tr th {\n",
       "        vertical-align: top;\n",
       "    }\n",
       "\n",
       "    .dataframe thead th {\n",
       "        text-align: right;\n",
       "    }\n",
       "</style>\n",
       "<table border=\"1\" class=\"dataframe\">\n",
       "  <thead>\n",
       "    <tr style=\"text-align: right;\">\n",
       "      <th></th>\n",
       "      <th>Date</th>\n",
       "      <th>Account</th>\n",
       "      <th>Debit</th>\n",
       "      <th>Credit</th>\n",
       "      <th>Description</th>\n",
       "    </tr>\n",
       "  </thead>\n",
       "  <tbody>\n",
       "    <tr>\n",
       "      <th>0</th>\n",
       "      <td>2025-06-01</td>\n",
       "      <td>Cash</td>\n",
       "      <td>10000</td>\n",
       "      <td>0</td>\n",
       "      <td>Initial capital</td>\n",
       "    </tr>\n",
       "    <tr>\n",
       "      <th>1</th>\n",
       "      <td>2025-06-01</td>\n",
       "      <td>Owner's Equity</td>\n",
       "      <td>0</td>\n",
       "      <td>10000</td>\n",
       "      <td>Initial capital</td>\n",
       "    </tr>\n",
       "    <tr>\n",
       "      <th>2</th>\n",
       "      <td>2025-06-02</td>\n",
       "      <td>Inventory</td>\n",
       "      <td>3000</td>\n",
       "      <td>0</td>\n",
       "      <td>Purchase of inventory</td>\n",
       "    </tr>\n",
       "    <tr>\n",
       "      <th>3</th>\n",
       "      <td>2025-06-02</td>\n",
       "      <td>Cash</td>\n",
       "      <td>0</td>\n",
       "      <td>3000</td>\n",
       "      <td>Purchase of inventory</td>\n",
       "    </tr>\n",
       "    <tr>\n",
       "      <th>4</th>\n",
       "      <td>2025-06-03</td>\n",
       "      <td>Cash</td>\n",
       "      <td>5000</td>\n",
       "      <td>0</td>\n",
       "      <td>Sales made</td>\n",
       "    </tr>\n",
       "    <tr>\n",
       "      <th>5</th>\n",
       "      <td>2025-06-03</td>\n",
       "      <td>Sales Revenue</td>\n",
       "      <td>0</td>\n",
       "      <td>5000</td>\n",
       "      <td>Sales made</td>\n",
       "    </tr>\n",
       "  </tbody>\n",
       "</table>\n",
       "</div>"
      ],
      "text/plain": [
       "         Date         Account  Debit  Credit            Description\n",
       "0  2025-06-01            Cash  10000       0        Initial capital\n",
       "1  2025-06-01  Owner's Equity      0   10000        Initial capital\n",
       "2  2025-06-02       Inventory   3000       0  Purchase of inventory\n",
       "3  2025-06-02            Cash      0    3000  Purchase of inventory\n",
       "4  2025-06-03            Cash   5000       0             Sales made\n",
       "5  2025-06-03   Sales Revenue      0    5000             Sales made"
      ]
     },
     "execution_count": 1,
     "metadata": {},
     "output_type": "execute_result"
    }
   ],
   "source": [
    "import pandas as pd\n",
    "\n",
    "# Create synthetic journal entries\n",
    "journal = pd.DataFrame([\n",
    "    {\"Date\": \"2025-06-01\", \"Account\": \"Cash\", \"Debit\": 10000, \"Credit\": 0, \"Description\": \"Initial capital\"},\n",
    "    {\"Date\": \"2025-06-01\", \"Account\": \"Owner's Equity\", \"Debit\": 0, \"Credit\": 10000, \"Description\": \"Initial capital\"},\n",
    "    {\"Date\": \"2025-06-02\", \"Account\": \"Inventory\", \"Debit\": 3000, \"Credit\": 0, \"Description\": \"Purchase of inventory\"},\n",
    "    {\"Date\": \"2025-06-02\", \"Account\": \"Cash\", \"Debit\": 0, \"Credit\": 3000, \"Description\": \"Purchase of inventory\"},\n",
    "    {\"Date\": \"2025-06-03\", \"Account\": \"Cash\", \"Debit\": 5000, \"Credit\": 0, \"Description\": \"Sales made\"},\n",
    "    {\"Date\": \"2025-06-03\", \"Account\": \"Sales Revenue\", \"Debit\": 0, \"Credit\": 5000, \"Description\": \"Sales made\"},\n",
    "])\n",
    "\n",
    "journal\n"
   ]
  },
  {
   "cell_type": "markdown",
   "id": "f82732ca-ebd3-4253-bead-65ab7258a7eb",
   "metadata": {},
   "source": [
    "Ledger\n",
    "Concept: Ledger is the collection of all T-accounts showing transactions for each account."
   ]
  },
  {
   "cell_type": "code",
   "execution_count": 2,
   "id": "c5f5b507-5175-4e09-bb22-fba22594b93e",
   "metadata": {},
   "outputs": [
    {
     "data": {
      "text/html": [
       "<div>\n",
       "<style scoped>\n",
       "    .dataframe tbody tr th:only-of-type {\n",
       "        vertical-align: middle;\n",
       "    }\n",
       "\n",
       "    .dataframe tbody tr th {\n",
       "        vertical-align: top;\n",
       "    }\n",
       "\n",
       "    .dataframe thead th {\n",
       "        text-align: right;\n",
       "    }\n",
       "</style>\n",
       "<table border=\"1\" class=\"dataframe\">\n",
       "  <thead>\n",
       "    <tr style=\"text-align: right;\">\n",
       "      <th></th>\n",
       "      <th>Debit</th>\n",
       "      <th>Credit</th>\n",
       "      <th>Balance</th>\n",
       "    </tr>\n",
       "    <tr>\n",
       "      <th>Account</th>\n",
       "      <th></th>\n",
       "      <th></th>\n",
       "      <th></th>\n",
       "    </tr>\n",
       "  </thead>\n",
       "  <tbody>\n",
       "    <tr>\n",
       "      <th>Cash</th>\n",
       "      <td>15000</td>\n",
       "      <td>3000</td>\n",
       "      <td>12000</td>\n",
       "    </tr>\n",
       "    <tr>\n",
       "      <th>Inventory</th>\n",
       "      <td>3000</td>\n",
       "      <td>0</td>\n",
       "      <td>3000</td>\n",
       "    </tr>\n",
       "    <tr>\n",
       "      <th>Owner's Equity</th>\n",
       "      <td>0</td>\n",
       "      <td>10000</td>\n",
       "      <td>-10000</td>\n",
       "    </tr>\n",
       "    <tr>\n",
       "      <th>Sales Revenue</th>\n",
       "      <td>0</td>\n",
       "      <td>5000</td>\n",
       "      <td>-5000</td>\n",
       "    </tr>\n",
       "  </tbody>\n",
       "</table>\n",
       "</div>"
      ],
      "text/plain": [
       "                Debit  Credit  Balance\n",
       "Account                               \n",
       "Cash            15000    3000    12000\n",
       "Inventory        3000       0     3000\n",
       "Owner's Equity      0   10000   -10000\n",
       "Sales Revenue       0    5000    -5000"
      ]
     },
     "execution_count": 2,
     "metadata": {},
     "output_type": "execute_result"
    }
   ],
   "source": [
    "# Pivot the journal to form a ledger\n",
    "ledger = journal.groupby(\"Account\")[[\"Debit\", \"Credit\"]].sum()\n",
    "ledger[\"Balance\"] = ledger[\"Debit\"] - ledger[\"Credit\"]\n",
    "ledger\n"
   ]
  },
  {
   "cell_type": "code",
   "execution_count": 3,
   "id": "8f1c0f03-b6fe-409a-b0ec-c666e03567b9",
   "metadata": {},
   "outputs": [
    {
     "data": {
      "image/png": "[encoded data removed]",
      "text/plain": [
       "<Figure size 640x480 with 1 Axes>"
      ]
     },
     "metadata": {},
     "output_type": "display_data"
    }
   ],
   "source": [
    "import matplotlib.pyplot as plt\n",
    "\n",
    "ledger_sorted = ledger.sort_values(\"Balance\")\n",
    "ledger_sorted[\"Balance\"].plot(kind='barh', title=\"Account Balances\", colormap='viridis')\n",
    "plt.xlabel(\"Balance\")\n",
    "plt.tight_layout()\n",
    "plt.show()\n"
   ]
  },
  {
   "cell_type": "markdown",
   "id": "7f4168e5-b64f-42f3-969c-1042af5ed642",
   "metadata": {},
   "source": [
    "Trial balance\n",
    "Concept: A list of all ledger accounts with debit or credit balances used to ensure debits = credits."
   ]
  },
  {
   "cell_type": "code",
   "execution_count": 4,
   "id": "a6d3cb98-90c7-4e41-b438-f12154f24444",
   "metadata": {},
   "outputs": [
    {
     "data": {
      "text/html": [
       "<div>\n",
       "<style scoped>\n",
       "    .dataframe tbody tr th:only-of-type {\n",
       "        vertical-align: middle;\n",
       "    }\n",
       "\n",
       "    .dataframe tbody tr th {\n",
       "        vertical-align: top;\n",
       "    }\n",
       "\n",
       "    .dataframe thead th {\n",
       "        text-align: right;\n",
       "    }\n",
       "</style>\n",
       "<table border=\"1\" class=\"dataframe\">\n",
       "  <thead>\n",
       "    <tr style=\"text-align: right;\">\n",
       "      <th></th>\n",
       "      <th>Account</th>\n",
       "      <th>Debit</th>\n",
       "      <th>Credit</th>\n",
       "      <th>Difference</th>\n",
       "    </tr>\n",
       "  </thead>\n",
       "  <tbody>\n",
       "    <tr>\n",
       "      <th>0</th>\n",
       "      <td>Cash</td>\n",
       "      <td>15000</td>\n",
       "      <td>3000</td>\n",
       "      <td>12000</td>\n",
       "    </tr>\n",
       "    <tr>\n",
       "      <th>1</th>\n",
       "      <td>Inventory</td>\n",
       "      <td>3000</td>\n",
       "      <td>0</td>\n",
       "      <td>3000</td>\n",
       "    </tr>\n",
       "    <tr>\n",
       "      <th>2</th>\n",
       "      <td>Owner's Equity</td>\n",
       "      <td>0</td>\n",
       "      <td>10000</td>\n",
       "      <td>-10000</td>\n",
       "    </tr>\n",
       "    <tr>\n",
       "      <th>3</th>\n",
       "      <td>Sales Revenue</td>\n",
       "      <td>0</td>\n",
       "      <td>5000</td>\n",
       "      <td>-5000</td>\n",
       "    </tr>\n",
       "  </tbody>\n",
       "</table>\n",
       "</div>"
      ],
      "text/plain": [
       "          Account  Debit  Credit  Difference\n",
       "0            Cash  15000    3000       12000\n",
       "1       Inventory   3000       0        3000\n",
       "2  Owner's Equity      0   10000      -10000\n",
       "3   Sales Revenue      0    5000       -5000"
      ]
     },
     "execution_count": 4,
     "metadata": {},
     "output_type": "execute_result"
    }
   ],
   "source": [
    "# Trial Balance is just the Debit and Credit totals per account\n",
    "trial_balance = journal.groupby(\"Account\")[[\"Debit\", \"Credit\"]].sum().reset_index()\n",
    "trial_balance[\"Difference\"] = trial_balance[\"Debit\"] - trial_balance[\"Credit\"]\n",
    "trial_balance\n"
   ]
  },
  {
   "cell_type": "markdown",
   "id": "abf909b9-d794-40ce-af56-2fed849dbd6e",
   "metadata": {},
   "source": [
    "Income statement\n",
    "Concept: Shows business performance: Revenues - Expenses = Net Income."
   ]
  },
  {
   "cell_type": "code",
   "execution_count": 5,
   "id": "2d849ac2-af98-4158-af62-c7c6055a9801",
   "metadata": {},
   "outputs": [
    {
     "data": {
      "text/html": [
       "<div>\n",
       "<style scoped>\n",
       "    .dataframe tbody tr th:only-of-type {\n",
       "        vertical-align: middle;\n",
       "    }\n",
       "\n",
       "    .dataframe tbody tr th {\n",
       "        vertical-align: top;\n",
       "    }\n",
       "\n",
       "    .dataframe thead th {\n",
       "        text-align: right;\n",
       "    }\n",
       "</style>\n",
       "<table border=\"1\" class=\"dataframe\">\n",
       "  <thead>\n",
       "    <tr style=\"text-align: right;\">\n",
       "      <th></th>\n",
       "      <th>Category</th>\n",
       "      <th>Amount</th>\n",
       "    </tr>\n",
       "  </thead>\n",
       "  <tbody>\n",
       "    <tr>\n",
       "      <th>0</th>\n",
       "      <td>Revenue</td>\n",
       "      <td>5000</td>\n",
       "    </tr>\n",
       "    <tr>\n",
       "      <th>1</th>\n",
       "      <td>Expenses</td>\n",
       "      <td>3000</td>\n",
       "    </tr>\n",
       "    <tr>\n",
       "      <th>2</th>\n",
       "      <td>Net Income</td>\n",
       "      <td>2000</td>\n",
       "    </tr>\n",
       "  </tbody>\n",
       "</table>\n",
       "</div>"
      ],
      "text/plain": [
       "     Category  Amount\n",
       "0     Revenue    5000\n",
       "1    Expenses    3000\n",
       "2  Net Income    2000"
      ]
     },
     "execution_count": 5,
     "metadata": {},
     "output_type": "execute_result"
    }
   ],
   "source": [
    "# Assume account classifications\n",
    "revenues = journal[journal[\"Account\"].str.contains(\"Revenue\")]\n",
    "expenses = journal[journal[\"Account\"].isin([\"Inventory\"])]\n",
    "\n",
    "total_revenue = revenues[\"Credit\"].sum()\n",
    "total_expense = expenses[\"Debit\"].sum()\n",
    "net_income = total_revenue - total_expense\n",
    "\n",
    "income_statement = pd.DataFrame({\n",
    "    \"Category\": [\"Revenue\", \"Expenses\", \"Net Income\"],\n",
    "    \"Amount\": [total_revenue, total_expense, net_income]\n",
    "})\n",
    "income_statement\n"
   ]
  },
  {
   "cell_type": "markdown",
   "id": "0a3e0c29-9543-4bfa-b343-4ba4949ce6b2",
   "metadata": {},
   "source": [
    "Balance Sheet\n",
    "Concept: Shows financial position: Assets = Liabilities + Equity"
   ]
  },
  {
   "cell_type": "code",
   "execution_count": 6,
   "id": "dba40134-8519-46ba-913e-b9f295755f11",
   "metadata": {},
   "outputs": [
    {
     "data": {
      "text/html": [
       "<div>\n",
       "<style scoped>\n",
       "    .dataframe tbody tr th:only-of-type {\n",
       "        vertical-align: middle;\n",
       "    }\n",
       "\n",
       "    .dataframe tbody tr th {\n",
       "        vertical-align: top;\n",
       "    }\n",
       "\n",
       "    .dataframe thead th {\n",
       "        text-align: right;\n",
       "    }\n",
       "</style>\n",
       "<table border=\"1\" class=\"dataframe\">\n",
       "  <thead>\n",
       "    <tr style=\"text-align: right;\">\n",
       "      <th></th>\n",
       "      <th>Type</th>\n",
       "      <th>Amount</th>\n",
       "    </tr>\n",
       "  </thead>\n",
       "  <tbody>\n",
       "    <tr>\n",
       "      <th>0</th>\n",
       "      <td>Assets</td>\n",
       "      <td>15000</td>\n",
       "    </tr>\n",
       "    <tr>\n",
       "      <th>1</th>\n",
       "      <td>Liabilities</td>\n",
       "      <td>0</td>\n",
       "    </tr>\n",
       "    <tr>\n",
       "      <th>2</th>\n",
       "      <td>Equity</td>\n",
       "      <td>10000</td>\n",
       "    </tr>\n",
       "  </tbody>\n",
       "</table>\n",
       "</div>"
      ],
      "text/plain": [
       "          Type  Amount\n",
       "0       Assets   15000\n",
       "1  Liabilities       0\n",
       "2       Equity   10000"
      ]
     },
     "execution_count": 6,
     "metadata": {},
     "output_type": "execute_result"
    }
   ],
   "source": [
    "assets = [\"Cash\", \"Inventory\"]\n",
    "liabilities = []\n",
    "equity = [\"Owner's Equity\"]\n",
    "\n",
    "bs_data = {\"Assets\": 0, \"Liabilities\": 0, \"Equity\": 0}\n",
    "\n",
    "for _, row in ledger.iterrows():\n",
    "    account = row.name\n",
    "    balance = row[\"Balance\"]\n",
    "    if account in assets:\n",
    "        bs_data[\"Assets\"] += balance\n",
    "    elif account in liabilities:\n",
    "        bs_data[\"Liabilities\"] += balance\n",
    "    elif account in equity:\n",
    "        bs_data[\"Equity\"] += -balance  # equity is usually a credit balance\n",
    "\n",
    "balance_sheet = pd.DataFrame(list(bs_data.items()), columns=[\"Type\", \"Amount\"])\n",
    "balance_sheet\n"
   ]
  },
  {
   "cell_type": "code",
   "execution_count": null,
   "id": "68de2b6a-5f4a-4866-85fe-853421b63617",
   "metadata": {},
   "outputs": [],
   "source": []
  }
 ],
 "metadata": {
  "kernelspec": {
   "display_name": "Python 3 (ipykernel)",
   "language": "python",
   "name": "python3"
  },
  "language_info": {
   "codemirror_mode": {
    "name": "ipython",
    "version": 3
   },
   "file_extension": ".py",
   "mimetype": "text/x-python",
   "name": "python",
   "nbconvert_exporter": "python",
   "pygments_lexer": "ipython3",
   "version": "3.12.3"
  }
 },
 "nbformat": 4,
 "nbformat_minor": 5
}
