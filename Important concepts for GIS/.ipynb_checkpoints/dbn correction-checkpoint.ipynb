{
 "cells": [
  {
   "cell_type": "code",
   "execution_count": 4,
   "id": "b6d7c279-587b-488e-bdde-5acdc6847ac1",
   "metadata": {},
   "outputs": [
    {
     "name": "stdout",
     "output_type": "stream",
     "text": [
      "Collecting sqlcipher3-wheels\n",
      "  Downloading sqlcipher3_wheels-0.5.5-cp310-cp310-win_amd64.whl.metadata (4.3 kB)\n",
      "Downloading sqlcipher3_wheels-0.5.5-cp310-cp310-win_amd64.whl (1.8 MB)\n",
      "   ---------------------------------------- 0.0/1.8 MB ? eta -:--:--\n",
      "   ---------------------------------------- 1.8/1.8 MB 16.6 MB/s eta 0:00:00\n",
      "Installing collected packages: sqlcipher3-wheels\n",
      "Successfully installed sqlcipher3-wheels-0.5.5\n"
     ]
    }
   ],
   "source": [
    "!pip install sqlcipher3-wheels\n",
    "\n"
   ]
  },
  {
   "cell_type": "code",
   "execution_count": 12,
   "id": "ed29c21e-626d-4ee1-94bb-2c3c9c22a8ac",
   "metadata": {},
   "outputs": [
    {
     "name": "stdout",
     "output_type": "stream",
     "text": [
      "Downloaded: C:\\Users\\KRISHNENDU\\Downloads\\map-320.dbn\n",
      "Executed: DELETE FROM txn_feature_point WHERE ly_key='p0';\n",
      "Executed: DELETE FROM txn_feature_line WHERE ln_id IN (SELECT ln_id FROM txn_line2fdr WHERE typ=5);\n",
      "Executed: DELETE FROM txn_lines WHERE ln_id IN (SELECT ln_id FROM txn_line2fdr WHERE typ=5);\n",
      "Executed: DELETE FROM txn_line2fdr WHERE typ=5;\n",
      "Deletions committed in C:\\Users\\KRISHNENDU\\Downloads\\map-320.dbn\n",
      "Downloaded: C:\\Users\\KRISHNENDU\\Downloads\\map-104.dbn\n",
      "Executed: DELETE FROM txn_feature_point WHERE ly_key='p0';\n",
      "Executed: DELETE FROM txn_feature_line WHERE ln_id IN (SELECT ln_id FROM txn_line2fdr WHERE typ=5);\n",
      "Executed: DELETE FROM txn_lines WHERE ln_id IN (SELECT ln_id FROM txn_line2fdr WHERE typ=5);\n",
      "Executed: DELETE FROM txn_line2fdr WHERE typ=5;\n",
      "Deletions committed in C:\\Users\\KRISHNENDU\\Downloads\\map-104.dbn\n"
     ]
    }
   ],
   "source": [
    "import os\n",
    "import requests\n",
    "from sqlcipher3 import dbapi2 as sqlite\n",
    "\n",
    "# Input parameters\n",
    "file_ids = [320,104]\n",
    "base_url = \"https://nsurvey.wbsedcl.in/tuntuni/dwnlds/nsurvey/\"\n",
    "password = \"gavdwe erew rew24@#% 353%#$5 64&!2\"\n",
    "\n",
    "# Use Downloads folder\n",
    "downloads_dir = os.path.join(os.path.expanduser(\"~\"), \"Downloads\")\n",
    "os.makedirs(downloads_dir, exist_ok=True)\n",
    "\n",
    "# Delete SQLs\n",
    "delete_queries = [\n",
    "    \"DELETE FROM txn_feature_point WHERE ly_key='p0';\",\n",
    "    \"DELETE FROM txn_feature_line WHERE ln_id IN (SELECT ln_id FROM txn_line2fdr WHERE typ=5);\",\n",
    "    \"DELETE FROM txn_lines WHERE ln_id IN (SELECT ln_id FROM txn_line2fdr WHERE typ=5);\",\n",
    "    \"DELETE FROM txn_line2fdr WHERE typ=5;\"\n",
    "]\n",
    "\n",
    "for fid in file_ids:\n",
    "    fname = f\"map-{fid}.dbn\"\n",
    "    url = base_url + fname\n",
    "    file_path = os.path.join(downloads_dir, fname)\n",
    "\n",
    "    resp = requests.get(url)\n",
    "    if resp.status_code == 200:\n",
    "        with open(file_path, \"wb\") as f:\n",
    "            f.write(resp.content)\n",
    "        print(\"Downloaded:\", file_path)\n",
    "\n",
    "        # Open encrypted DB and run deletes\n",
    "        conn = sqlite.connect(file_path)\n",
    "        cur = conn.cursor()\n",
    "        cur.execute(f\"PRAGMA key = '{password}';\")\n",
    "        cur.execute(\"PRAGMA cipher_compatibility = 3;\")\n",
    "\n",
    "        try:\n",
    "            for query in delete_queries:\n",
    "                cur.execute(query)\n",
    "                print(\"Executed:\", query.strip())\n",
    "            conn.commit()\n",
    "            print(f\"Deletions committed in {file_path}\")\n",
    "        except Exception as e:\n",
    "            print(f\"Error during deletion in {file_path}:\", e)\n",
    "        finally:\n",
    "            conn.close()\n",
    "    else:\n",
    "        print(\"Failed to download:\", fname, \"Status code:\", resp.status_code)\n"
   ]
  },
  {
   "cell_type": "code",
   "execution_count": null,
   "id": "3508c8ba-373d-4996-a023-c1cb4b5a626b",
   "metadata": {},
   "outputs": [],
   "source": []
  }
 ],
 "metadata": {
  "kernelspec": {
   "display_name": "Python 3 (ipykernel)",
   "language": "python",
   "name": "python3"
  },
  "language_info": {
   "codemirror_mode": {
    "name": "ipython",
    "version": 3
   },
   "file_extension": ".py",
   "mimetype": "text/x-python",
   "name": "python",
   "nbconvert_exporter": "python",
   "pygments_lexer": "ipython3",
   "version": "3.10.18"
  }
 },
 "nbformat": 4,
 "nbformat_minor": 5
}
