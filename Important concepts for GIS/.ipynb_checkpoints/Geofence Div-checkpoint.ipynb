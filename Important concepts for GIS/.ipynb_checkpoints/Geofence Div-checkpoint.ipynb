{
 "cells": [
  {
   "cell_type": "code",
   "execution_count": 1,
   "id": "ba8f8f86-40fb-4f11-a067-bab6c217e576",
   "metadata": {},
   "outputs": [
    {
     "name": "stdout",
     "output_type": "stream",
     "text": [
      "✅ GeoJSON created with 643 features.\n"
     ]
    }
   ],
   "source": [
    "import pandas as pd\n",
    "import geopandas as gpd\n",
    "from shapely.geometry import Polygon\n",
    "\n",
    "# --- STEP 1: Robust LATLON Parser ---\n",
    "def parse_latlon(latlon_str):\n",
    "    try:\n",
    "        coords = []\n",
    "        points = latlon_str.strip().split(\":\")\n",
    "        for pt in points:\n",
    "            if pt.strip() == \"\":\n",
    "                continue\n",
    "            latlon = pt.strip().split(\",\")\n",
    "            if len(latlon) != 2:\n",
    "                continue\n",
    "            lat, lon = float(latlon[0]), float(latlon[1])\n",
    "            coords.append((lon, lat))  # GeoJSON expects (lon, lat)\n",
    "        if len(coords) >= 3:\n",
    "            return Polygon(coords)\n",
    "        else:\n",
    "            return None  # Not enough points for polygon\n",
    "    except Exception as e:\n",
    "        print(\"Error parsing:\", latlon_str)\n",
    "        print(\"Exception:\", e)\n",
    "        return None\n",
    "\n",
    "# --- STEP 2: Load Excel File ---\n",
    "file_path = r'C:\\Users\\KRISHNENDU\\Downloads\\New folder\\GEOFENCE-Div.xlsx'\n",
    "df = pd.read_excel(file_path)\n",
    "\n",
    "# --- STEP 3: Remove duplicates ---\n",
    "df = df.drop_duplicates(subset=[\"DIVISION_NAME\", \"GEOFENCE_NAME\"], keep='last')\n",
    "\n",
    "# --- STEP 4: Convert LATLON to Geometry ---\n",
    "df['geometry'] = df['LATLON'].apply(parse_latlon)\n",
    "\n",
    "# --- STEP 5: Drop rows without valid polygons ---\n",
    "df = df[df['geometry'].notnull()]\n",
    "\n",
    "# --- STEP 6: Convert to GeoDataFrame ---\n",
    "gdf = gpd.GeoDataFrame(df, geometry='geometry')\n",
    "gdf.set_crs(epsg=4326, inplace=True)\n",
    "\n",
    "# --- STEP 7: Export to GeoJSON ---\n",
    "gdf.to_file(\"geofence_output.geojson\", driver=\"GeoJSON\")\n",
    "\n",
    "print(\"✅ GeoJSON created with\", len(gdf), \"features.\")\n"
   ]
  },
  {
   "cell_type": "code",
   "execution_count": null,
   "id": "a4274e41-7b8a-4989-b2fa-7284d10a02a1",
   "metadata": {},
   "outputs": [],
   "source": []
  }
 ],
 "metadata": {
  "kernelspec": {
   "display_name": "Python 3 (ipykernel)",
   "language": "python",
   "name": "python3"
  },
  "language_info": {
   "codemirror_mode": {
    "name": "ipython",
    "version": 3
   },
   "file_extension": ".py",
   "mimetype": "text/x-python",
   "name": "python",
   "nbconvert_exporter": "python",
   "pygments_lexer": "ipython3",
   "version": "3.12.3"
  }
 },
 "nbformat": 4,
 "nbformat_minor": 5
}
