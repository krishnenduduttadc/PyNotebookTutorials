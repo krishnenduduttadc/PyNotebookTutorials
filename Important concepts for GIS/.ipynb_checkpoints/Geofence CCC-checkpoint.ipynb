{
 "cells": [
  {
   "cell_type": "code",
   "execution_count": 14,
   "id": "e178db9f-3f9b-4cf5-8511-ff83c03c6b8c",
   "metadata": {},
   "outputs": [],
   "source": [
    "import pandas as pd\n",
    "import geopandas as gpd\n",
    "from shapely.geometry import Polygon\n",
    "import warnings\n",
    "warnings.filterwarnings('ignore')\n",
    "\n",
    "\n"
   ]
  },
  {
   "cell_type": "code",
   "execution_count": 15,
   "id": "c65d4718-eb4d-4406-87a1-088a74903568",
   "metadata": {},
   "outputs": [],
   "source": [
    "def parse_latlon(latlon_str):\n",
    "    try:\n",
    "        coords = []\n",
    "        points = latlon_str.strip().split(\":\")\n",
    "        for pt in points:\n",
    "            if pt.strip() == \"\":\n",
    "                continue  # Skip empty\n",
    "            latlon = pt.strip().split(\",\")\n",
    "            if len(latlon) != 2:\n",
    "                continue  # Skip invalid pairs\n",
    "            lat, lon = float(latlon[0]), float(latlon[1])\n",
    "            coords.append((lon, lat))  # GeoJSON = (lon, lat)\n",
    "        if len(coords) >= 3:\n",
    "            return Polygon(coords)\n",
    "        else:\n",
    "            return None  # Invalid polygon\n",
    "    except Exception as e:\n",
    "        print(\"Error parsing:\", latlon_str)\n",
    "        print(\"Exception:\", e)\n",
    "        return None\n"
   ]
  },
  {
   "cell_type": "code",
   "execution_count": 16,
   "id": "96ff546c-364b-421d-af20-be4952663b88",
   "metadata": {},
   "outputs": [],
   "source": [
    "\n",
    "\n",
    "# Load Excel and drop duplicate CCC+GEOFENCE rows\n",
    "path = r'C:\\Users\\KRISHNENDU\\Downloads\\New folder\\GEOFENCE.xlsx'\n",
    "df = pd.read_excel(path)\n",
    "df = df.drop_duplicates(subset=[\"CCC_NAME\", \"GEOFENCE_NAME\"], keep=\"last\")\n",
    "\n",
    "# Apply the safe parser\n",
    "df['geometry'] = df['LATLON'].apply(parse_latlon)\n",
    "\n",
    "# Drop rows with invalid geometry\n",
    "df = df[df['geometry'].notnull()]\n",
    "\n",
    "\n"
   ]
  },
  {
   "cell_type": "code",
   "execution_count": 17,
   "id": "513320cb-d1e5-4209-a64b-b844b514dc34",
   "metadata": {},
   "outputs": [],
   "source": [
    "gdf = gpd.GeoDataFrame(df, geometry='geometry')\n",
    "gdf.set_crs(epsg=4326, inplace=True)\n",
    "gdf.to_file(\"geofence_output.geojson\", driver=\"GeoJSON\")\n",
    "\n"
   ]
  },
  {
   "cell_type": "code",
   "execution_count": null,
   "id": "4fbe34ff-d5f6-4113-80e0-0868a615b682",
   "metadata": {},
   "outputs": [],
   "source": []
  }
 ],
 "metadata": {
  "kernelspec": {
   "display_name": "Python 3 (ipykernel)",
   "language": "python",
   "name": "python3"
  },
  "language_info": {
   "codemirror_mode": {
    "name": "ipython",
    "version": 3
   },
   "file_extension": ".py",
   "mimetype": "text/x-python",
   "name": "python",
   "nbconvert_exporter": "python",
   "pygments_lexer": "ipython3",
   "version": "3.12.3"
  }
 },
 "nbformat": 4,
 "nbformat_minor": 5
}
