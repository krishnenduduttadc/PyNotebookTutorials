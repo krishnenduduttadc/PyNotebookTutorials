{
 "cells": [
  {
   "cell_type": "code",
   "execution_count": 11,
   "id": "cecd4f24-d3e4-4391-ae01-ee9a4b427ff5",
   "metadata": {},
   "outputs": [
    {
     "name": "stdout",
     "output_type": "stream",
     "text": [
      "Requirement already satisfied: docker in c:\\users\\krishnendu\\anaconda3\\envs\\etl-pipeline\\lib\\site-packages (7.1.0)\n",
      "Requirement already satisfied: pywin32>=304 in c:\\users\\krishnendu\\anaconda3\\envs\\etl-pipeline\\lib\\site-packages (from docker) (308)\n",
      "Requirement already satisfied: requests>=2.26.0 in c:\\users\\krishnendu\\anaconda3\\envs\\etl-pipeline\\lib\\site-packages (from docker) (2.32.4)\n",
      "Requirement already satisfied: urllib3>=1.26.0 in c:\\users\\krishnendu\\anaconda3\\envs\\etl-pipeline\\lib\\site-packages (from docker) (2.5.0)\n",
      "Requirement already satisfied: charset_normalizer<4,>=2 in c:\\users\\krishnendu\\anaconda3\\envs\\etl-pipeline\\lib\\site-packages (from requests>=2.26.0->docker) (3.3.2)\n",
      "Requirement already satisfied: idna<4,>=2.5 in c:\\users\\krishnendu\\anaconda3\\envs\\etl-pipeline\\lib\\site-packages (from requests>=2.26.0->docker) (3.10)\n",
      "Requirement already satisfied: certifi>=2017.4.17 in c:\\users\\krishnendu\\anaconda3\\envs\\etl-pipeline\\lib\\site-packages (from requests>=2.26.0->docker) (2025.6.15)\n"
     ]
    }
   ],
   "source": [
    "!pip install docker\n"
   ]
  },
  {
   "cell_type": "code",
   "execution_count": 21,
   "id": "78a6be6e-51f3-4f5d-88d2-9def8c940ac0",
   "metadata": {},
   "outputs": [
    {
     "name": "stdout",
     "output_type": "stream",
     "text": [
      "{'Platform': {'Name': 'Docker Desktop 4.43.2 (199162)'}, 'Components': [{'Name': 'Engine', 'Version': '28.3.2', 'Details': {'ApiVersion': '1.51', 'Arch': 'amd64', 'BuildTime': '2025-07-09T16:13:55.000000000+00:00', 'Experimental': 'false', 'GitCommit': 'e77ff99', 'GoVersion': 'go1.24.5', 'KernelVersion': '5.15.167.4-microsoft-standard-WSL2', 'MinAPIVersion': '1.24', 'Os': 'linux'}}, {'Name': 'containerd', 'Version': '1.7.27', 'Details': {'GitCommit': '05044ec0a9a75232cad458027ca83437aae3f4da'}}, {'Name': 'runc', 'Version': '1.2.5', 'Details': {'GitCommit': 'v1.2.5-0-g59923ef'}}, {'Name': 'docker-init', 'Version': '0.19.0', 'Details': {'GitCommit': 'de40ad0'}}], 'Version': '28.3.2', 'ApiVersion': '1.51', 'MinAPIVersion': '1.24', 'GitCommit': 'e77ff99', 'GoVersion': 'go1.24.5', 'Os': 'linux', 'Arch': 'amd64', 'KernelVersion': '5.15.167.4-microsoft-standard-WSL2', 'BuildTime': '2025-07-09T16:13:55.000000000+00:00'}\n",
      "{'ID': 'a2602b5e-5c84-44fa-96e6-b5d96667b7d2', 'Containers': 35, 'ContainersRunning': 34, 'ContainersPaused': 0, 'ContainersStopped': 1, 'Images': 21, 'Driver': 'overlayfs', 'DriverStatus': [['driver-type', 'io.containerd.snapshotter.v1']], 'Plugins': {'Volume': ['local'], 'Network': ['bridge', 'host', 'ipvlan', 'macvlan', 'null', 'overlay'], 'Authorization': None, 'Log': ['awslogs', 'fluentd', 'gcplogs', 'gelf', 'journald', 'json-file', 'local', 'splunk', 'syslog']}, 'MemoryLimit': True, 'SwapLimit': True, 'KernelMemoryTCP': True, 'CpuCfsPeriod': True, 'CpuCfsQuota': True, 'CPUShares': True, 'CPUSet': True, 'PidsLimit': True, 'IPv4Forwarding': True, 'Debug': False, 'NFd': 178, 'OomKillDisable': True, 'NGoroutines': 209, 'SystemTime': '2025-07-24T18:01:46.338009312Z', 'LoggingDriver': 'json-file', 'CgroupDriver': 'cgroupfs', 'CgroupVersion': '1', 'NEventsListener': 15, 'KernelVersion': '5.15.167.4-microsoft-standard-WSL2', 'OperatingSystem': 'Docker Desktop', 'OSVersion': '', 'OSType': 'linux', 'Architecture': 'x86_64', 'IndexServerAddress': 'https://index.docker.io/v1/', 'RegistryConfig': {'IndexConfigs': {'docker.io': {'Mirrors': [], 'Name': 'docker.io', 'Official': True, 'Secure': True}, 'hubproxy.docker.internal:5555': {'Mirrors': [], 'Name': 'hubproxy.docker.internal:5555', 'Official': False, 'Secure': False}}, 'InsecureRegistryCIDRs': ['::1/128', '127.0.0.0/8'], 'Mirrors': None}, 'NCPU': 8, 'MemTotal': 8269090816, 'GenericResources': None, 'DockerRootDir': '/var/lib/docker', 'HttpProxy': 'http.docker.internal:3128', 'HttpsProxy': 'http.docker.internal:3128', 'NoProxy': 'hubproxy.docker.internal', 'Name': 'docker-desktop', 'Labels': ['com.docker.desktop.address=npipe://\\\\\\\\.\\\\pipe\\\\docker_cli'], 'ExperimentalBuild': False, 'ServerVersion': '28.3.2', 'Runtimes': {'io.containerd.runc.v2': {'path': 'runc', 'status': {'org.opencontainers.runtime-spec.features': '{\"ociVersionMin\":\"1.0.0\",\"ociVersionMax\":\"1.2.0\",\"hooks\":[\"prestart\",\"createRuntime\",\"createContainer\",\"startContainer\",\"poststart\",\"poststop\"],\"mountOptions\":[\"async\",\"atime\",\"bind\",\"defaults\",\"dev\",\"diratime\",\"dirsync\",\"exec\",\"iversion\",\"lazytime\",\"loud\",\"mand\",\"noatime\",\"nodev\",\"nodiratime\",\"noexec\",\"noiversion\",\"nolazytime\",\"nomand\",\"norelatime\",\"nostrictatime\",\"nosuid\",\"nosymfollow\",\"private\",\"ratime\",\"rbind\",\"rdev\",\"rdiratime\",\"relatime\",\"remount\",\"rexec\",\"rnoatime\",\"rnodev\",\"rnodiratime\",\"rnoexec\",\"rnorelatime\",\"rnostrictatime\",\"rnosuid\",\"rnosymfollow\",\"ro\",\"rprivate\",\"rrelatime\",\"rro\",\"rrw\",\"rshared\",\"rslave\",\"rstrictatime\",\"rsuid\",\"rsymfollow\",\"runbindable\",\"rw\",\"shared\",\"silent\",\"slave\",\"strictatime\",\"suid\",\"symfollow\",\"sync\",\"tmpcopyup\",\"unbindable\"],\"linux\":{\"namespaces\":[\"cgroup\",\"ipc\",\"mount\",\"network\",\"pid\",\"time\",\"user\",\"uts\"],\"capabilities\":[\"CAP_CHOWN\",\"CAP_DAC_OVERRIDE\",\"CAP_DAC_READ_SEARCH\",\"CAP_FOWNER\",\"CAP_FSETID\",\"CAP_KILL\",\"CAP_SETGID\",\"CAP_SETUID\",\"CAP_SETPCAP\",\"CAP_LINUX_IMMUTABLE\",\"CAP_NET_BIND_SERVICE\",\"CAP_NET_BROADCAST\",\"CAP_NET_ADMIN\",\"CAP_NET_RAW\",\"CAP_IPC_LOCK\",\"CAP_IPC_OWNER\",\"CAP_SYS_MODULE\",\"CAP_SYS_RAWIO\",\"CAP_SYS_CHROOT\",\"CAP_SYS_PTRACE\",\"CAP_SYS_PACCT\",\"CAP_SYS_ADMIN\",\"CAP_SYS_BOOT\",\"CAP_SYS_NICE\",\"CAP_SYS_RESOURCE\",\"CAP_SYS_TIME\",\"CAP_SYS_TTY_CONFIG\",\"CAP_MKNOD\",\"CAP_LEASE\",\"CAP_AUDIT_WRITE\",\"CAP_AUDIT_CONTROL\",\"CAP_SETFCAP\",\"CAP_MAC_OVERRIDE\",\"CAP_MAC_ADMIN\",\"CAP_SYSLOG\",\"CAP_WAKE_ALARM\",\"CAP_BLOCK_SUSPEND\",\"CAP_AUDIT_READ\",\"CAP_PERFMON\",\"CAP_BPF\",\"CAP_CHECKPOINT_RESTORE\"],\"cgroup\":{\"v1\":true,\"v2\":true,\"systemd\":true,\"systemdUser\":true,\"rdma\":true},\"seccomp\":{\"enabled\":true,\"actions\":[\"SCMP_ACT_ALLOW\",\"SCMP_ACT_ERRNO\",\"SCMP_ACT_KILL\",\"SCMP_ACT_KILL_PROCESS\",\"SCMP_ACT_KILL_THREAD\",\"SCMP_ACT_LOG\",\"SCMP_ACT_NOTIFY\",\"SCMP_ACT_TRACE\",\"SCMP_ACT_TRAP\"],\"operators\":[\"SCMP_CMP_EQ\",\"SCMP_CMP_GE\",\"SCMP_CMP_GT\",\"SCMP_CMP_LE\",\"SCMP_CMP_LT\",\"SCMP_CMP_MASKED_EQ\",\"SCMP_CMP_NE\"],\"archs\":[\"SCMP_ARCH_AARCH64\",\"SCMP_ARCH_ARM\",\"SCMP_ARCH_MIPS\",\"SCMP_ARCH_MIPS64\",\"SCMP_ARCH_MIPS64N32\",\"SCMP_ARCH_MIPSEL\",\"SCMP_ARCH_MIPSEL64\",\"SCMP_ARCH_MIPSEL64N32\",\"SCMP_ARCH_PPC\",\"SCMP_ARCH_PPC64\",\"SCMP_ARCH_PPC64LE\",\"SCMP_ARCH_RISCV64\",\"SCMP_ARCH_S390\",\"SCMP_ARCH_S390X\",\"SCMP_ARCH_X32\",\"SCMP_ARCH_X86\",\"SCMP_ARCH_X86_64\"],\"knownFlags\":[\"SECCOMP_FILTER_FLAG_TSYNC\",\"SECCOMP_FILTER_FLAG_SPEC_ALLOW\",\"SECCOMP_FILTER_FLAG_LOG\"],\"supportedFlags\":[\"SECCOMP_FILTER_FLAG_TSYNC\",\"SECCOMP_FILTER_FLAG_SPEC_ALLOW\",\"SECCOMP_FILTER_FLAG_LOG\"]},\"apparmor\":{\"enabled\":true},\"selinux\":{\"enabled\":true},\"intelRdt\":{\"enabled\":true},\"mountExtensions\":{\"idmap\":{\"enabled\":true}}},\"annotations\":{\"io.github.seccomp.libseccomp.version\":\"2.5.4\",\"org.opencontainers.runc.checkpoint.enabled\":\"true\",\"org.opencontainers.runc.commit\":\"v1.2.5-0-g59923ef\",\"org.opencontainers.runc.version\":\"1.2.5\"},\"potentiallyUnsafeConfigAnnotations\":[\"bundle\",\"org.systemd.property.\",\"org.criu.config\"]}'}}, 'nvidia': {'path': 'nvidia-container-runtime', 'status': {'org.opencontainers.runtime-spec.features': '{\"ociVersionMin\":\"1.0.0\",\"ociVersionMax\":\"1.2.0\",\"hooks\":[\"prestart\",\"createRuntime\",\"createContainer\",\"startContainer\",\"poststart\",\"poststop\"],\"mountOptions\":[\"async\",\"atime\",\"bind\",\"defaults\",\"dev\",\"diratime\",\"dirsync\",\"exec\",\"iversion\",\"lazytime\",\"loud\",\"mand\",\"noatime\",\"nodev\",\"nodiratime\",\"noexec\",\"noiversion\",\"nolazytime\",\"nomand\",\"norelatime\",\"nostrictatime\",\"nosuid\",\"nosymfollow\",\"private\",\"ratime\",\"rbind\",\"rdev\",\"rdiratime\",\"relatime\",\"remount\",\"rexec\",\"rnoatime\",\"rnodev\",\"rnodiratime\",\"rnoexec\",\"rnorelatime\",\"rnostrictatime\",\"rnosuid\",\"rnosymfollow\",\"ro\",\"rprivate\",\"rrelatime\",\"rro\",\"rrw\",\"rshared\",\"rslave\",\"rstrictatime\",\"rsuid\",\"rsymfollow\",\"runbindable\",\"rw\",\"shared\",\"silent\",\"slave\",\"strictatime\",\"suid\",\"symfollow\",\"sync\",\"tmpcopyup\",\"unbindable\"],\"linux\":{\"namespaces\":[\"cgroup\",\"ipc\",\"mount\",\"network\",\"pid\",\"time\",\"user\",\"uts\"],\"capabilities\":[\"CAP_CHOWN\",\"CAP_DAC_OVERRIDE\",\"CAP_DAC_READ_SEARCH\",\"CAP_FOWNER\",\"CAP_FSETID\",\"CAP_KILL\",\"CAP_SETGID\",\"CAP_SETUID\",\"CAP_SETPCAP\",\"CAP_LINUX_IMMUTABLE\",\"CAP_NET_BIND_SERVICE\",\"CAP_NET_BROADCAST\",\"CAP_NET_ADMIN\",\"CAP_NET_RAW\",\"CAP_IPC_LOCK\",\"CAP_IPC_OWNER\",\"CAP_SYS_MODULE\",\"CAP_SYS_RAWIO\",\"CAP_SYS_CHROOT\",\"CAP_SYS_PTRACE\",\"CAP_SYS_PACCT\",\"CAP_SYS_ADMIN\",\"CAP_SYS_BOOT\",\"CAP_SYS_NICE\",\"CAP_SYS_RESOURCE\",\"CAP_SYS_TIME\",\"CAP_SYS_TTY_CONFIG\",\"CAP_MKNOD\",\"CAP_LEASE\",\"CAP_AUDIT_WRITE\",\"CAP_AUDIT_CONTROL\",\"CAP_SETFCAP\",\"CAP_MAC_OVERRIDE\",\"CAP_MAC_ADMIN\",\"CAP_SYSLOG\",\"CAP_WAKE_ALARM\",\"CAP_BLOCK_SUSPEND\",\"CAP_AUDIT_READ\",\"CAP_PERFMON\",\"CAP_BPF\",\"CAP_CHECKPOINT_RESTORE\"],\"cgroup\":{\"v1\":true,\"v2\":true,\"systemd\":true,\"systemdUser\":true,\"rdma\":true},\"seccomp\":{\"enabled\":true,\"actions\":[\"SCMP_ACT_ALLOW\",\"SCMP_ACT_ERRNO\",\"SCMP_ACT_KILL\",\"SCMP_ACT_KILL_PROCESS\",\"SCMP_ACT_KILL_THREAD\",\"SCMP_ACT_LOG\",\"SCMP_ACT_NOTIFY\",\"SCMP_ACT_TRACE\",\"SCMP_ACT_TRAP\"],\"operators\":[\"SCMP_CMP_EQ\",\"SCMP_CMP_GE\",\"SCMP_CMP_GT\",\"SCMP_CMP_LE\",\"SCMP_CMP_LT\",\"SCMP_CMP_MASKED_EQ\",\"SCMP_CMP_NE\"],\"archs\":[\"SCMP_ARCH_AARCH64\",\"SCMP_ARCH_ARM\",\"SCMP_ARCH_MIPS\",\"SCMP_ARCH_MIPS64\",\"SCMP_ARCH_MIPS64N32\",\"SCMP_ARCH_MIPSEL\",\"SCMP_ARCH_MIPSEL64\",\"SCMP_ARCH_MIPSEL64N32\",\"SCMP_ARCH_PPC\",\"SCMP_ARCH_PPC64\",\"SCMP_ARCH_PPC64LE\",\"SCMP_ARCH_RISCV64\",\"SCMP_ARCH_S390\",\"SCMP_ARCH_S390X\",\"SCMP_ARCH_X32\",\"SCMP_ARCH_X86\",\"SCMP_ARCH_X86_64\"],\"knownFlags\":[\"SECCOMP_FILTER_FLAG_TSYNC\",\"SECCOMP_FILTER_FLAG_SPEC_ALLOW\",\"SECCOMP_FILTER_FLAG_LOG\"],\"supportedFlags\":[\"SECCOMP_FILTER_FLAG_TSYNC\",\"SECCOMP_FILTER_FLAG_SPEC_ALLOW\",\"SECCOMP_FILTER_FLAG_LOG\"]},\"apparmor\":{\"enabled\":true},\"selinux\":{\"enabled\":true},\"intelRdt\":{\"enabled\":true},\"mountExtensions\":{\"idmap\":{\"enabled\":true}}},\"annotations\":{\"io.github.seccomp.libseccomp.version\":\"2.5.4\",\"org.opencontainers.runc.checkpoint.enabled\":\"true\",\"org.opencontainers.runc.commit\":\"v1.2.5-0-g59923ef\",\"org.opencontainers.runc.version\":\"1.2.5\"},\"potentiallyUnsafeConfigAnnotations\":[\"bundle\",\"org.systemd.property.\",\"org.criu.config\"]}'}}, 'runc': {'path': 'runc', 'status': {'org.opencontainers.runtime-spec.features': '{\"ociVersionMin\":\"1.0.0\",\"ociVersionMax\":\"1.2.0\",\"hooks\":[\"prestart\",\"createRuntime\",\"createContainer\",\"startContainer\",\"poststart\",\"poststop\"],\"mountOptions\":[\"async\",\"atime\",\"bind\",\"defaults\",\"dev\",\"diratime\",\"dirsync\",\"exec\",\"iversion\",\"lazytime\",\"loud\",\"mand\",\"noatime\",\"nodev\",\"nodiratime\",\"noexec\",\"noiversion\",\"nolazytime\",\"nomand\",\"norelatime\",\"nostrictatime\",\"nosuid\",\"nosymfollow\",\"private\",\"ratime\",\"rbind\",\"rdev\",\"rdiratime\",\"relatime\",\"remount\",\"rexec\",\"rnoatime\",\"rnodev\",\"rnodiratime\",\"rnoexec\",\"rnorelatime\",\"rnostrictatime\",\"rnosuid\",\"rnosymfollow\",\"ro\",\"rprivate\",\"rrelatime\",\"rro\",\"rrw\",\"rshared\",\"rslave\",\"rstrictatime\",\"rsuid\",\"rsymfollow\",\"runbindable\",\"rw\",\"shared\",\"silent\",\"slave\",\"strictatime\",\"suid\",\"symfollow\",\"sync\",\"tmpcopyup\",\"unbindable\"],\"linux\":{\"namespaces\":[\"cgroup\",\"ipc\",\"mount\",\"network\",\"pid\",\"time\",\"user\",\"uts\"],\"capabilities\":[\"CAP_CHOWN\",\"CAP_DAC_OVERRIDE\",\"CAP_DAC_READ_SEARCH\",\"CAP_FOWNER\",\"CAP_FSETID\",\"CAP_KILL\",\"CAP_SETGID\",\"CAP_SETUID\",\"CAP_SETPCAP\",\"CAP_LINUX_IMMUTABLE\",\"CAP_NET_BIND_SERVICE\",\"CAP_NET_BROADCAST\",\"CAP_NET_ADMIN\",\"CAP_NET_RAW\",\"CAP_IPC_LOCK\",\"CAP_IPC_OWNER\",\"CAP_SYS_MODULE\",\"CAP_SYS_RAWIO\",\"CAP_SYS_CHROOT\",\"CAP_SYS_PTRACE\",\"CAP_SYS_PACCT\",\"CAP_SYS_ADMIN\",\"CAP_SYS_BOOT\",\"CAP_SYS_NICE\",\"CAP_SYS_RESOURCE\",\"CAP_SYS_TIME\",\"CAP_SYS_TTY_CONFIG\",\"CAP_MKNOD\",\"CAP_LEASE\",\"CAP_AUDIT_WRITE\",\"CAP_AUDIT_CONTROL\",\"CAP_SETFCAP\",\"CAP_MAC_OVERRIDE\",\"CAP_MAC_ADMIN\",\"CAP_SYSLOG\",\"CAP_WAKE_ALARM\",\"CAP_BLOCK_SUSPEND\",\"CAP_AUDIT_READ\",\"CAP_PERFMON\",\"CAP_BPF\",\"CAP_CHECKPOINT_RESTORE\"],\"cgroup\":{\"v1\":true,\"v2\":true,\"systemd\":true,\"systemdUser\":true,\"rdma\":true},\"seccomp\":{\"enabled\":true,\"actions\":[\"SCMP_ACT_ALLOW\",\"SCMP_ACT_ERRNO\",\"SCMP_ACT_KILL\",\"SCMP_ACT_KILL_PROCESS\",\"SCMP_ACT_KILL_THREAD\",\"SCMP_ACT_LOG\",\"SCMP_ACT_NOTIFY\",\"SCMP_ACT_TRACE\",\"SCMP_ACT_TRAP\"],\"operators\":[\"SCMP_CMP_EQ\",\"SCMP_CMP_GE\",\"SCMP_CMP_GT\",\"SCMP_CMP_LE\",\"SCMP_CMP_LT\",\"SCMP_CMP_MASKED_EQ\",\"SCMP_CMP_NE\"],\"archs\":[\"SCMP_ARCH_AARCH64\",\"SCMP_ARCH_ARM\",\"SCMP_ARCH_MIPS\",\"SCMP_ARCH_MIPS64\",\"SCMP_ARCH_MIPS64N32\",\"SCMP_ARCH_MIPSEL\",\"SCMP_ARCH_MIPSEL64\",\"SCMP_ARCH_MIPSEL64N32\",\"SCMP_ARCH_PPC\",\"SCMP_ARCH_PPC64\",\"SCMP_ARCH_PPC64LE\",\"SCMP_ARCH_RISCV64\",\"SCMP_ARCH_S390\",\"SCMP_ARCH_S390X\",\"SCMP_ARCH_X32\",\"SCMP_ARCH_X86\",\"SCMP_ARCH_X86_64\"],\"knownFlags\":[\"SECCOMP_FILTER_FLAG_TSYNC\",\"SECCOMP_FILTER_FLAG_SPEC_ALLOW\",\"SECCOMP_FILTER_FLAG_LOG\"],\"supportedFlags\":[\"SECCOMP_FILTER_FLAG_TSYNC\",\"SECCOMP_FILTER_FLAG_SPEC_ALLOW\",\"SECCOMP_FILTER_FLAG_LOG\"]},\"apparmor\":{\"enabled\":true},\"selinux\":{\"enabled\":true},\"intelRdt\":{\"enabled\":true},\"mountExtensions\":{\"idmap\":{\"enabled\":true}}},\"annotations\":{\"io.github.seccomp.libseccomp.version\":\"2.5.4\",\"org.opencontainers.runc.checkpoint.enabled\":\"true\",\"org.opencontainers.runc.commit\":\"v1.2.5-0-g59923ef\",\"org.opencontainers.runc.version\":\"1.2.5\"},\"potentiallyUnsafeConfigAnnotations\":[\"bundle\",\"org.systemd.property.\",\"org.criu.config\"]}'}}}, 'DefaultRuntime': 'runc', 'Swarm': {'NodeID': '', 'NodeAddr': '', 'LocalNodeState': 'inactive', 'ControlAvailable': False, 'Error': '', 'RemoteManagers': None}, 'LiveRestoreEnabled': False, 'Isolation': '', 'InitBinary': 'docker-init', 'ContainerdCommit': {'ID': '05044ec0a9a75232cad458027ca83437aae3f4da'}, 'RuncCommit': {'ID': 'v1.2.5-0-g59923ef'}, 'InitCommit': {'ID': 'de40ad0'}, 'SecurityOptions': ['name=seccomp,profile=builtin'], 'FirewallBackend': {'Driver': 'iptables'}, 'CDISpecDirs': ['/etc/cdi', '/var/run/cdi'], 'DiscoveredDevices': [{'Source': 'cdi', 'ID': 'docker.com/gpu=webgpu'}], 'Containerd': {'Address': '/run/containerd/containerd.sock', 'Namespaces': {'Containers': 'moby', 'Plugins': 'plugins.moby'}}, 'Warnings': ['WARNING: No blkio throttle.read_bps_device support', 'WARNING: No blkio throttle.write_bps_device support', 'WARNING: No blkio throttle.read_iops_device support', 'WARNING: No blkio throttle.write_iops_device support', 'WARNING: DOCKER_INSECURE_NO_IPTABLES_RAW is set']}\n"
     ]
    }
   ],
   "source": [
    "import docker\n",
    "\n",
    "# Connect to Docker daemon\n",
    "client = docker.from_env()\n",
    "\n",
    "# Test connection by listing Docker version\n",
    "print(client.version())\n",
    "#print(client.info())     # System info\n",
    "\n"
   ]
  },
  {
   "cell_type": "code",
   "execution_count": 13,
   "id": "5c47d145-14a5-44d0-98f5-5eca1cf179d5",
   "metadata": {},
   "outputs": [],
   "source": [
    "#List containers and images"
   ]
  },
  {
   "cell_type": "code",
   "execution_count": 14,
   "id": "f2a3e2e6-655f-4245-8a8a-f4fe2c0562ac",
   "metadata": {},
   "outputs": [
    {
     "name": "stdout",
     "output_type": "stream",
     "text": [
      "k8s_storage-provisioner_storage-provisioner_kube-system_b222d752-6042-43f0-9ac9-236f1a6f4ac0_10 - running\n",
      "k8s_coredns_coredns-668d6bf9bc-kqg24_kube-system_9658d5cc-ba30-48fe-bef0-8d596bc8b320_5 - running\n",
      "k8s_coredns_coredns-668d6bf9bc-p86x6_kube-system_08660888-5d97-4c04-af92-8da8fa525044_5 - running\n",
      "k8s_vpnkit-controller_vpnkit-controller_kube-system_90c8c917-1c7e-4248-8558-c0f3f04c3b80_5 - running\n",
      "k8s_kube-proxy_kube-proxy-hpjjv_kube-system_1ddf7e78-5599-4754-828c-9b87c0993cef_5 - running\n",
      "k8s_POD_vpnkit-controller_kube-system_90c8c917-1c7e-4248-8558-c0f3f04c3b80_5 - running\n",
      "k8s_POD_storage-provisioner_kube-system_b222d752-6042-43f0-9ac9-236f1a6f4ac0_5 - running\n",
      "k8s_POD_coredns-668d6bf9bc-kqg24_kube-system_9658d5cc-ba30-48fe-bef0-8d596bc8b320_5 - running\n",
      "k8s_POD_coredns-668d6bf9bc-p86x6_kube-system_08660888-5d97-4c04-af92-8da8fa525044_5 - running\n",
      "k8s_POD_kube-proxy-hpjjv_kube-system_1ddf7e78-5599-4754-828c-9b87c0993cef_5 - running\n",
      "k8s_kube-controller-manager_kube-controller-manager-docker-desktop_kube-system_91de249f0655ce84612a10ea4918cbe4_1733 - running\n",
      "k8s_POD_kube-controller-manager-docker-desktop_kube-system_91de249f0655ce84612a10ea4918cbe4_5 - running\n",
      "k8s_kube-scheduler_kube-scheduler-docker-desktop_kube-system_bfe797ff5a3ebaafbe14820f2b118e22_54 - running\n",
      "k8s_etcd_etcd-docker-desktop_kube-system_7779af46bf0a91fe6ec7c175258b1edd_1843 - running\n",
      "k8s_kube-apiserver_kube-apiserver-docker-desktop_kube-system_38e3e129a91e81f2dc5057507c3ced19_1793 - running\n",
      "k8s_POD_kube-scheduler-docker-desktop_kube-system_bfe797ff5a3ebaafbe14820f2b118e22_5 - running\n",
      "k8s_POD_etcd-docker-desktop_kube-system_7779af46bf0a91fe6ec7c175258b1edd_5 - running\n",
      "k8s_POD_kube-apiserver-docker-desktop_kube-system_38e3e129a91e81f2dc5057507c3ced19_5 - running\n",
      "['my-python-image:latest']\n",
      "['express-redis-app:latest']\n",
      "['my-express-app:latest']\n",
      "['5467842/express-redis-app:latest']\n",
      "['postgres:13']\n",
      "['python:3.10-slim']\n",
      "['redis:latest']\n",
      "['redis:7.2-bookworm']\n",
      "['docker/jcat@sha256:76719466e8b99a65dd1d37d9ab94108851f009f0f687dce7ff8a6fc90575c4d4']\n",
      "['docker/desktop-kubernetes:kubernetes-v1.32.2-cni-v1.6.0-critools-v1.31.1-cri-dockerd-v0.3.16-1-debian']\n",
      "['registry.k8s.io/kube-apiserver:v1.32.2']\n",
      "['registry.k8s.io/kube-proxy:v1.32.2']\n",
      "['registry.k8s.io/kube-controller-manager:v1.32.2']\n",
      "['registry.k8s.io/kube-scheduler:v1.32.2']\n",
      "['hello-world:latest']\n",
      "['registry.k8s.io/etcd:3.5.16-0']\n",
      "['registry.k8s.io/coredns/coredns:v1.11.3']\n",
      "['apache/airflow:2.9.2']\n",
      "['registry.k8s.io/pause:3.10']\n",
      "['docker/desktop-vpnkit-controller:dc331cb22850be0cdd97c84a9cfecaf44a1afb6e']\n",
      "['docker/desktop-storage-provisioner:v2.0']\n"
     ]
    }
   ],
   "source": [
    "# List running containers\n",
    "for container in client.containers.list():\n",
    "    print(f\"{container.name} - {container.status}\")\n",
    "\n",
    "# List all images\n",
    "for image in client.images.list():\n",
    "    print(image.tags)\n"
   ]
  },
  {
   "cell_type": "code",
   "execution_count": 22,
   "id": "4bd60496-553f-42ad-b0fa-243530d133fe",
   "metadata": {},
   "outputs": [],
   "source": [
    "#Pull an Image and Run a Container"
   ]
  },
  {
   "cell_type": "code",
   "execution_count": 16,
   "id": "b5dc430a-6207-4c17-b8fd-ad19fac6be1e",
   "metadata": {},
   "outputs": [
    {
     "name": "stdout",
     "output_type": "stream",
     "text": [
      "\n",
      "Hello from Docker!\n",
      "This message shows that your installation appears to be working correctly.\n",
      "\n",
      "To generate this message, Docker took the following steps:\n",
      " 1. The Docker client contacted the Docker daemon.\n",
      " 2. The Docker daemon pulled the \"hello-world\" image from the Docker Hub.\n",
      "    (amd64)\n",
      " 3. The Docker daemon created a new container from that image which runs the\n",
      "    executable that produces the output you are currently reading.\n",
      " 4. The Docker daemon streamed that output to the Docker client, which sent it\n",
      "    to your terminal.\n",
      "\n",
      "To try something more ambitious, you can run an Ubuntu container with:\n",
      " $ docker run -it ubuntu bash\n",
      "\n",
      "Share images, automate workflows, and more with a free Docker ID:\n",
      " https://hub.docker.com/\n",
      "\n",
      "For more examples and ideas, visit:\n",
      " https://docs.docker.com/get-started/\n",
      "\n",
      "\n"
     ]
    }
   ],
   "source": [
    "# Pull 'hello-world' image\n",
    "client.images.pull(\"hello-world\")\n",
    "\n",
    "# Run container from image\n",
    "container = client.containers.run(\"hello-world\", detach=True)\n",
    "print(container.logs().decode())\n"
   ]
  },
  {
   "cell_type": "code",
   "execution_count": 17,
   "id": "0952153b-a3bf-4159-93dd-fc423bae5e88",
   "metadata": {},
   "outputs": [],
   "source": [
    "# Build a Custom Image (from a Dockerfile)"
   ]
  },
  {
   "cell_type": "code",
   "execution_count": 18,
   "id": "3074add2-65b3-4440-b35e-31d5f38901a8",
   "metadata": {},
   "outputs": [
    {
     "name": "stdout",
     "output_type": "stream",
     "text": [
      "Step 1/2 : FROM python:3.10-slim\n",
      " ---> 81f1cdb3770d\n",
      "Step 2/2 : CMD [\"python3\", \"-c\", \"print('Hello from Docker Python!')\"]\n",
      " ---> Using cache\n",
      " ---> e4fb026fb715\n",
      "Successfully built e4fb026fb715\n",
      "Successfully tagged my-python-image:latest\n",
      "\n"
     ]
    }
   ],
   "source": [
    "image, logs = client.images.build(path=\".\", tag=\"my-python-image\")\n",
    "for line in logs:\n",
    "    print(line.get('stream', ''), end='')\n",
    "\n",
    "container = client.containers.run(\"my-python-image\", detach=True)\n",
    "print(container.logs().decode())\n"
   ]
  },
  {
   "cell_type": "code",
   "execution_count": 19,
   "id": "b29fe869-1aad-428e-9252-aeeecb59718e",
   "metadata": {},
   "outputs": [],
   "source": [
    "# Clean Up Containers and Images"
   ]
  },
  {
   "cell_type": "code",
   "execution_count": 20,
   "id": "89b6ca49-d832-4b30-8b42-22767eab6d8d",
   "metadata": {},
   "outputs": [
    {
     "name": "stdout",
     "output_type": "stream",
     "text": [
      "Removed sad_nightingale\n",
      "Removed naughty_williams\n"
     ]
    }
   ],
   "source": [
    "# Remove all stopped containers\n",
    "for container in client.containers.list(all=True):\n",
    "    if container.status != 'running':\n",
    "        container.remove()\n",
    "        print(f\"Removed {container.name}\")\n",
    "\n",
    "# Remove unused images\n",
    "for image in client.images.list():\n",
    "    if '<none>:<none>' in image.tags or not image.tags:\n",
    "        client.images.remove(image.id, force=True)\n",
    "        print(f\"Removed image {image.id}\")\n"
   ]
  },
  {
   "cell_type": "code",
   "execution_count": 23,
   "id": "b7f3b791-2b21-4023-87c8-0a25629f761e",
   "metadata": {},
   "outputs": [],
   "source": [
    "#Shell commands"
   ]
  },
  {
   "cell_type": "code",
   "execution_count": 24,
   "id": "eac3c579-4f3c-4f57-8b6a-793d1433db94",
   "metadata": {},
   "outputs": [
    {
     "name": "stdout",
     "output_type": "stream",
     "text": [
      "CONTAINER ID   IMAGE                        COMMAND                  CREATED          STATUS          PORTS     NAMES\n",
      "451e627aad54   115d77efe6e2                 \"/storage-provisioneâ€¦\"   40 minutes ago   Up 40 minutes             k8s_storage-provisioner_storage-provisioner_kube-system_b222d752-6042-43f0-9ac9-236f1a6f4ac0_10\n",
      "486a88d0ea7e   9caabbf6238b                 \"/coredns -conf /etcâ€¦\"   40 minutes ago   Up 40 minutes             k8s_coredns_coredns-668d6bf9bc-kqg24_kube-system_9658d5cc-ba30-48fe-bef0-8d596bc8b320_5\n",
      "ffbfb8867a69   9caabbf6238b                 \"/coredns -conf /etcâ€¦\"   40 minutes ago   Up 40 minutes             k8s_coredns_coredns-668d6bf9bc-p86x6_kube-system_08660888-5d97-4c04-af92-8da8fa525044_5\n",
      "6bc8385878eb   7ecf567ea070                 \"/kube-vpnkit-forwarâ€¦\"   40 minutes ago   Up 40 minutes             k8s_vpnkit-controller_vpnkit-controller_kube-system_90c8c917-1c7e-4248-8558-c0f3f04c3b80_5\n",
      "6ad6fa73f1ed   83c025f0faa6                 \"/usr/local/bin/kubeâ€¦\"   40 minutes ago   Up 40 minutes             k8s_kube-proxy_kube-proxy-hpjjv_kube-system_1ddf7e78-5599-4754-828c-9b87c0993cef_5\n",
      "e7bee8970ccb   registry.k8s.io/pause:3.10   \"/pause\"                 40 minutes ago   Up 40 minutes             k8s_POD_vpnkit-controller_kube-system_90c8c917-1c7e-4248-8558-c0f3f04c3b80_5\n",
      "60f4738e65c5   registry.k8s.io/pause:3.10   \"/pause\"                 40 minutes ago   Up 40 minutes             k8s_POD_storage-provisioner_kube-system_b222d752-6042-43f0-9ac9-236f1a6f4ac0_5\n",
      "3b20270eb341   registry.k8s.io/pause:3.10   \"/pause\"                 40 minutes ago   Up 40 minutes             k8s_POD_coredns-668d6bf9bc-kqg24_kube-system_9658d5cc-ba30-48fe-bef0-8d596bc8b320_5\n",
      "3e5376906ed9   registry.k8s.io/pause:3.10   \"/pause\"                 40 minutes ago   Up 40 minutes             k8s_POD_coredns-668d6bf9bc-p86x6_kube-system_08660888-5d97-4c04-af92-8da8fa525044_5\n",
      "8547b9fd83b5   registry.k8s.io/pause:3.10   \"/pause\"                 40 minutes ago   Up 40 minutes             k8s_POD_kube-proxy-hpjjv_kube-system_1ddf7e78-5599-4754-828c-9b87c0993cef_5\n",
      "b5cf4e229298   399aa50f4d13                 \"kube-controller-manâ€¦\"   41 minutes ago   Up 41 minutes             k8s_kube-controller-manager_kube-controller-manager-docker-desktop_kube-system_91de249f0655ce84612a10ea4918cbe4_1733\n",
      "8b2e4c820e25   registry.k8s.io/pause:3.10   \"/pause\"                 41 minutes ago   Up 41 minutes             k8s_POD_kube-controller-manager-docker-desktop_kube-system_91de249f0655ce84612a10ea4918cbe4_5\n",
      "4313b50e3d39   45710d74cfd5                 \"kube-scheduler --auâ€¦\"   41 minutes ago   Up 41 minutes             k8s_kube-scheduler_kube-scheduler-docker-desktop_kube-system_bfe797ff5a3ebaafbe14820f2b118e22_54\n",
      "0403ef929afd   c6a9d11cc5c0                 \"etcd --advertise-clâ€¦\"   41 minutes ago   Up 41 minutes             k8s_etcd_etcd-docker-desktop_kube-system_7779af46bf0a91fe6ec7c175258b1edd_1843\n",
      "191c1d297f44   c47449f3e751                 \"kube-apiserver --adâ€¦\"   41 minutes ago   Up 41 minutes             k8s_kube-apiserver_kube-apiserver-docker-desktop_kube-system_38e3e129a91e81f2dc5057507c3ced19_1793\n",
      "49ca5ed6d22d   registry.k8s.io/pause:3.10   \"/pause\"                 41 minutes ago   Up 41 minutes             k8s_POD_kube-scheduler-docker-desktop_kube-system_bfe797ff5a3ebaafbe14820f2b118e22_5\n",
      "b7aa1b932faf   registry.k8s.io/pause:3.10   \"/pause\"                 41 minutes ago   Up 41 minutes             k8s_POD_etcd-docker-desktop_kube-system_7779af46bf0a91fe6ec7c175258b1edd_5\n",
      "b4ce159b605e   registry.k8s.io/pause:3.10   \"/pause\"                 41 minutes ago   Up 41 minutes             k8s_POD_kube-apiserver-docker-desktop_kube-system_38e3e129a91e81f2dc5057507c3ced19_5\n",
      "REPOSITORY                                TAG                                                                           IMAGE ID       CREATED          SIZE\n",
      "my-python-image                           latest                                                                        e4fb026fb715   13 minutes ago   192MB\n",
      "express-redis-app                         latest                                                                        7b33daba637c   3 weeks ago      1.64GB\n",
      "my-express-app                            latest                                                                        230863a11a1d   3 weeks ago      1.58GB\n",
      "5467842/express-redis-app                 latest                                                                        47c4148b5549   6 weeks ago      1.61GB\n",
      "postgres                                  13                                                                            e1195666dc3e   6 weeks ago      600MB\n",
      "python                                    3.10-slim                                                                     81f1cdb3770d   7 weeks ago      192MB\n",
      "redis                                     latest                                                                        1b835e5a8d5d   8 weeks ago      188MB\n",
      "redis                                     7.2-bookworm                                                                  fc406aff11b0   8 weeks ago      172MB\n",
      "docker/jcat                               <none>                                                                        76719466e8b9   2 months ago     469kB\n",
      "docker/desktop-kubernetes                 kubernetes-v1.32.2-cni-v1.6.0-critools-v1.31.1-cri-dockerd-v0.3.16-1-debian   fdd1722efdcc   5 months ago     596MB\n",
      "registry.k8s.io/kube-apiserver            v1.32.2                                                                       c47449f3e751   5 months ago     129MB\n",
      "registry.k8s.io/kube-proxy                v1.32.2                                                                       83c025f0faa6   5 months ago     129MB\n",
      "registry.k8s.io/kube-scheduler            v1.32.2                                                                       45710d74cfd5   5 months ago     93.5MB\n",
      "registry.k8s.io/kube-controller-manager   v1.32.2                                                                       399aa50f4d13   5 months ago     119MB\n",
      "hello-world                               latest                                                                        ec153840d1e6   6 months ago     20.4kB\n",
      "registry.k8s.io/etcd                      3.5.16-0                                                                      c6a9d11cc5c0   10 months ago    211MB\n",
      "registry.k8s.io/coredns/coredns           v1.11.3                                                                       9caabbf6238b   12 months ago    85.1MB\n",
      "apache/airflow                            2.9.2                                                                         7f9ac2c33cb0   13 months ago    1.98GB\n",
      "registry.k8s.io/pause                     3.10                                                                          ee6521f290b2   14 months ago    1.06MB\n",
      "docker/desktop-vpnkit-controller          dc331cb22850be0cdd97c84a9cfecaf44a1afb6e                                      7ecf567ea070   2 years ago      47MB\n",
      "docker/desktop-storage-provisioner        v2.0                                                                          115d77efe6e2   4 years ago      59.2MB\n",
      "DRIVER    VOLUME NAME\n",
      "local     820e3109c5e017802f77b5e2725df17579ca95b3a083ee6dd0c1ad247a85f1f5\n",
      "local     airflow-docker_postgres-db-volume\n",
      "local     ff1ed8859af875d4eeb82e37df385adecb9cf41139187249829a9d6376c4a4d5\n",
      "local     minikube\n",
      "NETWORK ID     NAME      DRIVER    SCOPE\n",
      "969b64edcd9b   bridge    bridge    local\n",
      "eeb220570cf3   host      host      local\n",
      "826bbd04498b   mynet     bridge    local\n",
      "e33e8f7ebd53   none      null      local\n"
     ]
    }
   ],
   "source": [
    "!docker ps -a\n",
    "!docker images\n",
    "!docker volume ls\n",
    "!docker network ls\n"
   ]
  },
  {
   "cell_type": "code",
   "execution_count": null,
   "id": "41722008-2867-4b55-8383-d8f9fbd8c095",
   "metadata": {},
   "outputs": [],
   "source": []
  }
 ],
 "metadata": {
  "kernelspec": {
   "display_name": "Python 3 (ipykernel)",
   "language": "python",
   "name": "python3"
  },
  "language_info": {
   "codemirror_mode": {
    "name": "ipython",
    "version": 3
   },
   "file_extension": ".py",
   "mimetype": "text/x-python",
   "name": "python",
   "nbconvert_exporter": "python",
   "pygments_lexer": "ipython3",
   "version": "3.10.18"
  }
 },
 "nbformat": 4,
 "nbformat_minor": 5
}
