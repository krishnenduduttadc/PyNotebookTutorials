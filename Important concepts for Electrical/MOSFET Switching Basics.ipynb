{
 "cells": [
  {
   "cell_type": "markdown",
   "id": "9002933c-9af9-4a52-8b70-105b3e49a866",
   "metadata": {},
   "source": [
    "# Lesson 20: MOSFET Switching Basics\n",
    "\n",
    "## What is a MOSFET?\n",
    "\n",
    "- **Metal-Oxide-Semiconductor Field-Effect Transistor**\n",
    "- Voltage-controlled device used for switching and amplification.\n",
    "- Popular in high-efficiency power electronics.\n",
    "\n",
    "## MOSFET Terminals:\n",
    "\n",
    "- **Gate (G)**: Controls ON/OFF state\n",
    "- **Drain (D)**: Load current flows into\n",
    "- **Source (S)**: Current exits\n",
    "\n",
    "---\n",
    "\n",
    "## N-Channel MOSFET Behavior\n",
    "\n",
    "| Gate-Source Voltage (V_GS) | State       |\n",
    "|----------------------------|-------------|\n",
    "| V_GS < Threshold (e.g. 2V) | OFF (High R)|\n",
    "| V_GS ≥ Threshold           | ON (Low R)  |\n",
    "\n",
    "- When ON, drain current flows easily.\n",
    "- Acts like a low-resistance switch.\n",
    "- Faster switching than BJTs.\n",
    "\n",
    "---\n",
    "\n",
    "### Applications:\n",
    "\n",
    "- Motor controllers\n",
    "- Power supplies\n",
    "- DC-DC converters\n",
    "- High-frequency switching circuits\n"
   ]
  },
  {
   "cell_type": "code",
   "execution_count": 1,
   "id": "798e068b-a3fb-48a7-bf57-f994499e504b",
   "metadata": {},
   "outputs": [
    {
     "data": {
      "text/html": [
       "<iframe\n",
       "    scrolling=\"no\"\n",
       "    width=\"720px\"\n",
       "    height=\"520\"\n",
       "    src=\"iframe_figures/figure_2.html\"\n",
       "    frameborder=\"0\"\n",
       "    allowfullscreen\n",
       "></iframe>\n"
      ]
     },
     "metadata": {},
     "output_type": "display_data"
    }
   ],
   "source": [
    "import numpy as np\n",
    "import plotly.graph_objects as go\n",
    "import plotly.io as pio\n",
    "\n",
    "pio.renderers.default = 'iframe'\n",
    "\n",
    "# Simulated gate input (digital pulse)\n",
    "t = np.linspace(0, 10, 1000)\n",
    "gate_voltage = 5 * (np.sin(2 * np.pi * 0.5 * t) > 0).astype(float)\n",
    "\n",
    "# Simulated drain voltage: MOSFET ON when V_GS >= threshold (2V)\n",
    "threshold_voltage = 2.0\n",
    "drain_voltage = np.where(gate_voltage >= threshold_voltage, 0.2, 5.0)\n",
    "\n",
    "fig = go.Figure()\n",
    "fig.add_trace(go.Scatter(x=t, y=gate_voltage, name='Gate Voltage (V)', line=dict(color='green')))\n",
    "fig.add_trace(go.Scatter(x=t, y=drain_voltage, name='Drain Voltage (V)', line=dict(color='orange')))\n",
    "\n",
    "fig.update_layout(\n",
    "    title='MOSFET Switching Behavior (N-Channel)',\n",
    "    xaxis_title='Time (s)',\n",
    "    yaxis_title='Voltage (V)',\n",
    "    template='plotly_white',\n",
    "    height=500,\n",
    "    width=700\n",
    ")\n",
    "\n",
    "fig.show()\n"
   ]
  },
  {
   "cell_type": "code",
   "execution_count": null,
   "id": "a39d5ea3-5dda-4031-b4d6-36a75e26c227",
   "metadata": {},
   "outputs": [],
   "source": []
  }
 ],
 "metadata": {
  "kernelspec": {
   "display_name": "Python 3 (ipykernel)",
   "language": "python",
   "name": "python3"
  },
  "language_info": {
   "codemirror_mode": {
    "name": "ipython",
    "version": 3
   },
   "file_extension": ".py",
   "mimetype": "text/x-python",
   "name": "python",
   "nbconvert_exporter": "python",
   "pygments_lexer": "ipython3",
   "version": "3.12.7"
  }
 },
 "nbformat": 4,
 "nbformat_minor": 5
}
