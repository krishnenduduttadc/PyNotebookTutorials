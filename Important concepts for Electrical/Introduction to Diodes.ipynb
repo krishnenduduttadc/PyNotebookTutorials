{
 "cells": [
  {
   "cell_type": "markdown",
   "id": "878b47cc-68b8-45d6-a493-c7a007b92845",
   "metadata": {},
   "source": [
    "# Lesson 16: Basic Power Electronics - Diodes\n",
    "\n",
    "## What is a Diode?\n",
    "\n",
    "- A semiconductor device allowing current flow in one direction only.\n",
    "- Key component in converting AC to DC (rectification).\n",
    "\n",
    "## Types of Diodes:\n",
    "\n",
    "- **PN Junction Diode:** Basic diode used for rectification.\n",
    "- **Zener Diode:** Allows current in reverse direction at a specified voltage (voltage regulation).\n",
    "- **Schottky Diode:** Low forward voltage drop, fast switching.\n",
    "\n",
    "## Diode Characteristics:\n",
    "\n",
    "- Forward biased: Low resistance, current flows.\n",
    "- Reverse biased: High resistance, blocks current.\n",
    "\n",
    "---\n",
    "\n",
    "### Applications:\n",
    "\n",
    "- Rectifiers in power supplies.\n",
    "- Voltage regulation.\n",
    "- Signal demodulation.\n"
   ]
  },
  {
   "cell_type": "code",
   "execution_count": 1,
   "id": "37844882-221d-46b4-9db6-5cc236c1997a",
   "metadata": {},
   "outputs": [
    {
     "data": {
      "text/html": [
       "<iframe\n",
       "    scrolling=\"no\"\n",
       "    width=\"720px\"\n",
       "    height=\"520\"\n",
       "    src=\"iframe_figures/figure_2.html\"\n",
       "    frameborder=\"0\"\n",
       "    allowfullscreen\n",
       "></iframe>\n"
      ]
     },
     "metadata": {},
     "output_type": "display_data"
    }
   ],
   "source": [
    "import numpy as np\n",
    "import plotly.graph_objects as go\n",
    "import plotly.io as pio\n",
    "\n",
    "pio.renderers.default = 'iframe'\n",
    "\n",
    "# Diode parameters\n",
    "Is = 1e-12   # Saturation current (A)\n",
    "n = 1.0      # Ideality factor\n",
    "Vt = 0.02585 # Thermal voltage at room temp (Volts)\n",
    "\n",
    "# Voltage range\n",
    "V = np.linspace(-0.7, 0.7, 500)\n",
    "\n",
    "# Diode current using Shockley diode equation\n",
    "I = Is * (np.exp(V / (n * Vt)) - 1)\n",
    "\n",
    "fig = go.Figure()\n",
    "\n",
    "fig.add_trace(go.Scatter(x=V, y=I, mode='lines', name='Diode I-V Characteristic'))\n",
    "\n",
    "fig.update_layout(\n",
    "    title='PN Junction Diode I-V Characteristic',\n",
    "    xaxis_title='Voltage (V)',\n",
    "    yaxis_title='Current (A)',\n",
    "    template='plotly_white',\n",
    "    height=500,\n",
    "    width=700,\n",
    "    yaxis=dict(type='linear', range=[-1e-9, 1e-3])\n",
    ")\n",
    "\n",
    "fig.show()\n"
   ]
  },
  {
   "cell_type": "code",
   "execution_count": null,
   "id": "7a3f0304-4e18-47d3-89f5-cce16ef8fd24",
   "metadata": {},
   "outputs": [],
   "source": []
  }
 ],
 "metadata": {
  "kernelspec": {
   "display_name": "Python 3 (ipykernel)",
   "language": "python",
   "name": "python3"
  },
  "language_info": {
   "codemirror_mode": {
    "name": "ipython",
    "version": 3
   },
   "file_extension": ".py",
   "mimetype": "text/x-python",
   "name": "python",
   "nbconvert_exporter": "python",
   "pygments_lexer": "ipython3",
   "version": "3.12.7"
  }
 },
 "nbformat": 4,
 "nbformat_minor": 5
}
