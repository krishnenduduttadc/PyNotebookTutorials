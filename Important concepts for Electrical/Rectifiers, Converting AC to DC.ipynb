{
 "cells": [
  {
   "cell_type": "markdown",
   "id": "ac320148-9cd1-4dcc-b010-4b9b2619aba4",
   "metadata": {},
   "source": [
    "# Lesson 17: Rectifiers - AC to DC Conversion\n",
    "\n",
    "## What is a Rectifier?\n",
    "\n",
    "- A circuit that converts alternating current (AC) to direct current (DC).\n",
    "- Used in power supplies to provide DC voltage from AC mains.\n",
    "\n",
    "## Types of Rectifiers:\n",
    "\n",
    "1. **Half-Wave Rectifier:** Uses a single diode. Only positive (or negative) half cycles pass.\n",
    "2. **Full-Wave Rectifier:** Uses multiple diodes to use both halves of AC cycle.\n",
    "3. **Bridge Rectifier:** A common full-wave rectifier using 4 diodes in a bridge configuration.\n",
    "\n",
    "## Key Parameters:\n",
    "\n",
    "- **Ripple:** Residual AC component in output DC.\n",
    "- **Filter Circuits:** Used to smooth the output.\n",
    "\n",
    "---\n",
    "\n",
    "### Applications:\n",
    "\n",
    "- Power supplies for electronics.\n",
    "- Battery charging circuits.\n"
   ]
  },
  {
   "cell_type": "code",
   "execution_count": 1,
   "id": "58be8ae3-3ec3-458e-9ba0-1f4564a54d8c",
   "metadata": {},
   "outputs": [
    {
     "data": {
      "text/html": [
       "<iframe\n",
       "    scrolling=\"no\"\n",
       "    width=\"720px\"\n",
       "    height=\"520\"\n",
       "    src=\"iframe_figures/figure_2.html\"\n",
       "    frameborder=\"0\"\n",
       "    allowfullscreen\n",
       "></iframe>\n"
      ]
     },
     "metadata": {},
     "output_type": "display_data"
    }
   ],
   "source": [
    "import numpy as np\n",
    "import plotly.graph_objects as go\n",
    "import plotly.io as pio\n",
    "\n",
    "pio.renderers.default = 'iframe'\n",
    "\n",
    "t = np.linspace(0, 2*np.pi, 1000)\n",
    "ac_signal = np.sin(t)\n",
    "\n",
    "# Half-wave rectification\n",
    "half_wave = np.maximum(ac_signal, 0)\n",
    "\n",
    "# Full-wave rectification (absolute value)\n",
    "full_wave = np.abs(ac_signal)\n",
    "\n",
    "fig = go.Figure()\n",
    "\n",
    "fig.add_trace(go.Scatter(x=t, y=ac_signal, mode='lines', name='AC Signal'))\n",
    "fig.add_trace(go.Scatter(x=t, y=half_wave, mode='lines', name='Half-Wave Rectified'))\n",
    "fig.add_trace(go.Scatter(x=t, y=full_wave, mode='lines', name='Full-Wave Rectified'))\n",
    "\n",
    "fig.update_layout(\n",
    "    title='Rectification of AC Signal',\n",
    "    xaxis_title='Time (radians)',\n",
    "    yaxis_title='Voltage (pu)',\n",
    "    template='plotly_white',\n",
    "    height=500,\n",
    "    width=700\n",
    ")\n",
    "\n",
    "fig.show()\n"
   ]
  },
  {
   "cell_type": "code",
   "execution_count": null,
   "id": "1b881d39-7801-4240-8036-9de6b483a551",
   "metadata": {},
   "outputs": [],
   "source": []
  }
 ],
 "metadata": {
  "kernelspec": {
   "display_name": "Python 3 (ipykernel)",
   "language": "python",
   "name": "python3"
  },
  "language_info": {
   "codemirror_mode": {
    "name": "ipython",
    "version": 3
   },
   "file_extension": ".py",
   "mimetype": "text/x-python",
   "name": "python",
   "nbconvert_exporter": "python",
   "pygments_lexer": "ipython3",
   "version": "3.12.7"
  }
 },
 "nbformat": 4,
 "nbformat_minor": 5
}
