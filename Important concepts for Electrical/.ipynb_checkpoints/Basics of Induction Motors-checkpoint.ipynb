{
 "cells": [
  {
   "cell_type": "markdown",
   "id": "f71e5cfd-14e3-40f0-a8a3-0a204169ef08",
   "metadata": {},
   "source": [
    "# Lesson 12: Basics of Induction Motors\n",
    "\n",
    "## What is an Induction Motor?\n",
    "\n",
    "- An AC motor where the rotor current is induced by electromagnetic induction from the stator.\n",
    "- Most widely used motor type in industry.\n",
    "\n",
    "## Key Concepts:\n",
    "\n",
    "- **Slip (s):**\n",
    "\n",
    "\\[\n",
    "s = \\frac{N_s - N_r}{N_s}\n",
    "\\]\n",
    "\n",
    "where:  \n",
    "- \\( N_s \\) = synchronous speed (RPM)  \n",
    "- \\( N_r \\) = rotor speed (RPM)\n",
    "\n",
    "- Slip is always > 0 for motoring operation, usually small (~0.01 to 0.05).\n",
    "\n",
    "- Rotor speed is slightly less than synchronous speed.\n",
    "\n",
    "## Torque-Speed Characteristics:\n",
    "\n",
    "- Torque varies with slip.\n",
    "- Maximum torque at a certain slip called the \"breakdown slip.\"\n",
    "\n",
    "---\n",
    "\n",
    "### Applications:\n",
    "\n",
    "- Fans, pumps, compressors, conveyors.\n",
    "- Industrial machines requiring rugged and reliable motors.\n"
   ]
  },
  {
   "cell_type": "code",
   "execution_count": 1,
   "id": "8e6815b0-b939-4324-8853-7960ace3a133",
   "metadata": {},
   "outputs": [
    {
     "name": "stderr",
     "output_type": "stream",
     "text": [
      "C:\\Users\\KRISHNENDU\\AppData\\Local\\Temp\\ipykernel_19108\\1764796795.py:17: RuntimeWarning:\n",
      "\n",
      "divide by zero encountered in divide\n",
      "\n"
     ]
    },
    {
     "data": {
      "text/html": [
       "<iframe\n",
       "    scrolling=\"no\"\n",
       "    width=\"720px\"\n",
       "    height=\"520\"\n",
       "    src=\"iframe_figures/figure_2.html\"\n",
       "    frameborder=\"0\"\n",
       "    allowfullscreen\n",
       "></iframe>\n"
      ]
     },
     "metadata": {},
     "output_type": "display_data"
    }
   ],
   "source": [
    "import numpy as np\n",
    "import plotly.graph_objects as go\n",
    "import plotly.io as pio\n",
    "\n",
    "pio.renderers.default = 'iframe'\n",
    "\n",
    "# Parameters\n",
    "Ns = 1500  # synchronous speed in RPM\n",
    "s = np.linspace(0, 1, 500)  # slip from 0 to 1\n",
    "\n",
    "# Torque (arbitrary units) model:\n",
    "# Torque = s / ( (R_r/s)^2 + X_r^2 ), simplified model\n",
    "# For demonstration, assume constants:\n",
    "R_r = 0.1\n",
    "X_r = 0.15\n",
    "\n",
    "Torque = s / ( (R_r/s)**2 + X_r**2 )\n",
    "Torque = np.nan_to_num(Torque)  # Handle division by zero at s=0\n",
    "\n",
    "# Rotor speed\n",
    "Nr = Ns * (1 - s)\n",
    "\n",
    "fig = go.Figure()\n",
    "\n",
    "fig.add_trace(go.Scatter(x=Nr, y=Torque, mode='lines', name='Torque vs Speed'))\n",
    "\n",
    "fig.update_layout(\n",
    "    title='Induction Motor Torque-Speed Characteristic',\n",
    "    xaxis_title='Rotor Speed (RPM)',\n",
    "    yaxis_title='Torque (Arbitrary Units)',\n",
    "    template='plotly_white',\n",
    "    height=500,\n",
    "    width=700\n",
    ")\n",
    "\n",
    "fig.show()\n"
   ]
  },
  {
   "cell_type": "code",
   "execution_count": null,
   "id": "05f17af8-5c8a-40f9-b7c9-4a6498dbdca4",
   "metadata": {},
   "outputs": [],
   "source": []
  }
 ],
 "metadata": {
  "kernelspec": {
   "display_name": "Python 3 (ipykernel)",
   "language": "python",
   "name": "python3"
  },
  "language_info": {
   "codemirror_mode": {
    "name": "ipython",
    "version": 3
   },
   "file_extension": ".py",
   "mimetype": "text/x-python",
   "name": "python",
   "nbconvert_exporter": "python",
   "pygments_lexer": "ipython3",
   "version": "3.12.7"
  }
 },
 "nbformat": 4,
 "nbformat_minor": 5
}
