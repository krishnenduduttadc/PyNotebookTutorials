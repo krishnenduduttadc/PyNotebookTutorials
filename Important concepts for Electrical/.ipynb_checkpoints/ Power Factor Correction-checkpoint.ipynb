{
 "cells": [
  {
   "cell_type": "markdown",
   "id": "312eecf8-9a16-4235-a461-a8ba2927c036",
   "metadata": {},
   "source": [
    "# Lesson 10: Power Factor Correction (PFC)\n",
    "\n",
    "## Why Power Factor Correction?\n",
    "\n",
    "- Many loads (like motors) cause lagging power factor due to inductive reactance.\n",
    "- Low power factor leads to higher current draw, increased losses, and possible penalties from utilities.\n",
    "- Power Factor Correction improves efficiency by reducing reactive power.\n",
    "\n",
    "## How it Works\n",
    "\n",
    "- Adding a capacitor in parallel compensates for the inductive reactive power.\n",
    "- The capacitor provides leading reactive power \\( Q_c \\) to cancel inductive reactive power \\( Q_L \\).\n",
    "\n",
    "## Calculations\n",
    "\n",
    "- Given initial power factor \\( \\cos \\phi_1 \\) and desired power factor \\( \\cos \\phi_2 \\):\n",
    "\n",
    "\\[\n",
    "Q_L = P \\tan \\phi_1\n",
    "\\]\n",
    "\n",
    "\\[\n",
    "Q_c = P (\\tan \\phi_1 - \\tan \\phi_2)\n",
    "\\]\n",
    "\n",
    "where  \n",
    "- \\( P \\) is real power (W)  \n",
    "- \\( Q_c \\) is required capacitive reactive power (VAR) to add  \n",
    "\n",
    "---\n",
    "\n",
    "### Applications:\n",
    "\n",
    "- Industrial plants, commercial buildings.\n",
    "- Improve voltage regulation, reduce losses.\n"
   ]
  },
  {
   "cell_type": "code",
   "execution_count": 1,
   "id": "3dcdcdfd-85c8-4f81-bc11-7b9366c8890b",
   "metadata": {},
   "outputs": [
    {
     "data": {
      "text/html": [
       "<iframe\n",
       "    scrolling=\"no\"\n",
       "    width=\"620px\"\n",
       "    height=\"420\"\n",
       "    src=\"iframe_figures/figure_2.html\"\n",
       "    frameborder=\"0\"\n",
       "    allowfullscreen\n",
       "></iframe>\n"
      ]
     },
     "metadata": {},
     "output_type": "display_data"
    }
   ],
   "source": [
    "import numpy as np\n",
    "import plotly.graph_objects as go\n",
    "import plotly.io as pio\n",
    "\n",
    "pio.renderers.default = 'iframe'\n",
    "\n",
    "def power_factor_correction(P=10000, pf_initial=0.7, pf_target=0.95):\n",
    "    # Convert to radians\n",
    "    phi1 = np.arccos(pf_initial)\n",
    "    phi2 = np.arccos(pf_target)\n",
    "    \n",
    "    # Reactive power before correction\n",
    "    Q_L = P * np.tan(phi1)\n",
    "    \n",
    "    # Capacitive reactive power needed\n",
    "    Q_c = P * (np.tan(phi1) - np.tan(phi2))\n",
    "    \n",
    "    fig = go.Figure()\n",
    "    \n",
    "    fig.add_trace(go.Bar(x=['Real Power (P)', 'Initial Reactive Power (Q_L)', 'Capacitive Power Needed (Q_c)'],\n",
    "                         y=[P, Q_L, Q_c],\n",
    "                         text=[f'{P:.0f} W', f'{Q_L:.0f} VAR', f'{Q_c:.0f} VAR'],\n",
    "                         textposition='auto'))\n",
    "    \n",
    "    fig.update_layout(\n",
    "        title='Power Factor Correction Calculation',\n",
    "        yaxis_title='Power (W / VAR)',\n",
    "        template='plotly_white',\n",
    "        height=400,\n",
    "        width=600\n",
    "    )\n",
    "    \n",
    "    fig.show()\n",
    "\n",
    "# Example usage:\n",
    "power_factor_correction(P=10000, pf_initial=0.7, pf_target=0.95)\n"
   ]
  },
  {
   "cell_type": "code",
   "execution_count": null,
   "id": "7f6deec5-40d0-439f-8f9c-a439dffe6b41",
   "metadata": {},
   "outputs": [],
   "source": []
  }
 ],
 "metadata": {
  "kernelspec": {
   "display_name": "Python 3 (ipykernel)",
   "language": "python",
   "name": "python3"
  },
  "language_info": {
   "codemirror_mode": {
    "name": "ipython",
    "version": 3
   },
   "file_extension": ".py",
   "mimetype": "text/x-python",
   "name": "python",
   "nbconvert_exporter": "python",
   "pygments_lexer": "ipython3",
   "version": "3.12.7"
  }
 },
 "nbformat": 4,
 "nbformat_minor": 5
}
