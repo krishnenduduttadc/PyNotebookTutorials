{
 "cells": [
  {
   "cell_type": "markdown",
   "id": "81575be2-dc6b-474b-aad1-9185979d27b3",
   "metadata": {},
   "source": [
    "# Lesson 8: Three-Phase Power Systems Basics\n",
    "\n",
    "## What is a Three-Phase System?\n",
    "\n",
    "- Uses three alternating currents (AC), each 120° out of phase.\n",
    "- Commonly used in power generation, transmission, and industrial loads.\n",
    "\n",
    "## Types of Connections\n",
    "\n",
    "- **Star (Y) Connection:** Each load connected between phase and neutral.\n",
    "- **Delta (Δ) Connection:** Each load connected between phases.\n",
    "\n",
    "## Line and Phase Quantities\n",
    "\n",
    "| Quantity         | Star (Y)                 | Delta (Δ)                   |\n",
    "|------------------|--------------------------|-----------------------------|\n",
    "| Line Voltage     | \\( V_L = \\sqrt{3} V_{ph} \\) | \\( V_L = V_{ph} \\)          |\n",
    "| Line Current     | \\( I_L = I_{ph} \\)          | \\( I_L = \\sqrt{3} I_{ph} \\) |\n",
    "\n",
    "## Power in Balanced Load\n",
    "\n",
    "- Total power:\n",
    "\\[\n",
    "P_{total} = \\sqrt{3} V_L I_L \\cos \\phi\n",
    "\\]\n",
    "\n",
    "---\n",
    "\n",
    "### Applications:\n",
    "\n",
    "- Efficient power delivery.\n",
    "- Smaller conductor size for same power.\n"
   ]
  },
  {
   "cell_type": "code",
   "execution_count": 1,
   "id": "ce2ff491-ea68-4700-8edc-764bb4800645",
   "metadata": {},
   "outputs": [
    {
     "data": {
      "text/html": [
       "<iframe\n",
       "    scrolling=\"no\"\n",
       "    width=\"720px\"\n",
       "    height=\"620\"\n",
       "    src=\"iframe_figures/figure_2.html\"\n",
       "    frameborder=\"0\"\n",
       "    allowfullscreen\n",
       "></iframe>\n"
      ]
     },
     "metadata": {},
     "output_type": "display_data"
    }
   ],
   "source": [
    "import numpy as np\n",
    "import plotly.graph_objects as go\n",
    "import plotly.io as pio\n",
    "\n",
    "pio.renderers.default = 'iframe'\n",
    "\n",
    "# Angles for 3 phases in radians (120 degrees apart)\n",
    "angles = np.array([0, 2*np.pi/3, 4*np.pi/3])\n",
    "\n",
    "# Phase voltages (magnitude 1) in complex form\n",
    "V_phase = np.exp(1j * angles)\n",
    "\n",
    "# Star connection: line voltage = phase voltage difference\n",
    "V_line_star = V_phase * np.sqrt(3) * np.exp(1j * np.pi/6)  # magnitude sqrt(3), shifted by 30 degrees\n",
    "\n",
    "# Delta connection: line voltage = phase voltage\n",
    "V_line_delta = V_phase\n",
    "\n",
    "fig = go.Figure()\n",
    "\n",
    "# Plot Star connection phase voltages\n",
    "for i, v in enumerate(V_phase):\n",
    "    fig.add_trace(go.Scatter(x=[0, v.real], y=[0, v.imag], mode='lines+markers', name=f'Star Phase {i+1}'))\n",
    "\n",
    "# Plot Star connection line voltages\n",
    "for i, v in enumerate(V_line_star):\n",
    "    fig.add_trace(go.Scatter(x=[0, v.real], y=[0, v.imag], mode='lines', line=dict(dash='dash'), name=f'Star Line V{i+1}'))\n",
    "\n",
    "# Plot Delta connection line voltages\n",
    "for i, v in enumerate(V_line_delta):\n",
    "    fig.add_trace(go.Scatter(x=[0, v.real], y=[0, v.imag], mode='lines', line=dict(color='green'), name=f'Delta Line V{i+1}'))\n",
    "\n",
    "fig.update_layout(\n",
    "    title='Three-Phase Voltages: Star and Delta Connections',\n",
    "    xaxis=dict(title='Real', zeroline=True, range=[-2, 2]),\n",
    "    yaxis=dict(title='Imaginary', zeroline=True, range=[-2, 2]),\n",
    "    width=700,\n",
    "    height=600,\n",
    "    template='plotly_white',\n",
    "    legend=dict(x=1.05, y=1)\n",
    ")\n",
    "\n",
    "fig.show()\n"
   ]
  },
  {
   "cell_type": "code",
   "execution_count": null,
   "id": "150d3d47-72d4-4101-9a9f-2da03bb43ecb",
   "metadata": {},
   "outputs": [],
   "source": []
  }
 ],
 "metadata": {
  "kernelspec": {
   "display_name": "Python 3 (ipykernel)",
   "language": "python",
   "name": "python3"
  },
  "language_info": {
   "codemirror_mode": {
    "name": "ipython",
    "version": 3
   },
   "file_extension": ".py",
   "mimetype": "text/x-python",
   "name": "python",
   "nbconvert_exporter": "python",
   "pygments_lexer": "ipython3",
   "version": "3.12.7"
  }
 },
 "nbformat": 4,
 "nbformat_minor": 5
}
