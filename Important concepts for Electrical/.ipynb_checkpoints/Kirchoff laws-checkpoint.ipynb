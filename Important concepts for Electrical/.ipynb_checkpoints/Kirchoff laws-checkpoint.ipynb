{
 "cells": [
  {
   "cell_type": "markdown",
   "id": "358e120b-8a08-4a27-be5c-c8376557d344",
   "metadata": {},
   "source": [
    "# Lesson 3: Kirchhoff’s Laws\n",
    "\n",
    "Kirchhoff’s Laws are fundamental rules for analyzing electric circuits.\n",
    "\n",
    "## Kirchhoff’s Current Law (KCL)\n",
    "\n",
    "- The **sum of currents entering a junction equals the sum of currents leaving** it.\n",
    "- Expressed mathematically:\n",
    "\\[\n",
    "\\sum I_{\\text{in}} = \\sum I_{\\text{out}}\n",
    "\\]\n",
    "- Based on conservation of electric charge.\n",
    "\n",
    "## Kirchhoff’s Voltage Law (KVL)\n",
    "\n",
    "- The **sum of voltage drops around any closed loop in a circuit is zero**.\n",
    "- Expressed mathematically:\n",
    "\\[\n",
    "\\sum V = 0\n",
    "\\]\n",
    "- Based on conservation of energy.\n",
    "\n",
    "---\n",
    "\n",
    "### Applications:\n",
    "\n",
    "- Used to solve complex circuits with multiple loops and junctions.\n",
    "- Helps find unknown currents and voltages.\n"
   ]
  },
  {
   "cell_type": "code",
   "execution_count": 3,
   "id": "18526cb2-b3f3-464d-beac-54f7b11c6d48",
   "metadata": {},
   "outputs": [
    {
     "data": {
      "application/vnd.plotly.v1+json": {
       "config": {
        "plotlyServerURL": "https://plot.ly"
       },
       "data": [
        {
         "line": {
          "color": "black"
         },
         "mode": "lines",
         "showlegend": false,
         "type": "scatter",
         "visible": false,
         "x": [
          1,
          5,
          5,
          1,
          1
         ],
         "y": [
          2,
          2,
          3,
          3,
          2
         ]
        },
        {
         "marker": {
          "color": "red",
          "size": 10
         },
         "mode": "markers+text",
         "showlegend": false,
         "text": [
          "I1 = 0.0 A"
         ],
         "textposition": "top center",
         "type": "scatter",
         "visible": false,
         "x": [
          1
         ],
         "y": [
          2
         ]
        },
        {
         "marker": {
          "color": "green",
          "size": 10
         },
         "mode": "markers+text",
         "showlegend": false,
         "text": [
          "I2 = 3.0 A"
         ],
         "textposition": "top center",
         "type": "scatter",
         "visible": false,
         "x": [
          5
         ],
         "y": [
          2.5
         ]
        },
        {
         "marker": {
          "color": "blue",
          "size": 10
         },
         "mode": "markers+text",
         "showlegend": false,
         "text": [
          "I3 = -3.00 A"
         ],
         "textposition": "top center",
         "type": "scatter",
         "visible": false,
         "x": [
          5
         ],
         "y": [
          1.5
         ]
        },
        {
         "mode": "text",
         "showlegend": false,
         "text": [
          "V1 = 12 V"
         ],
         "textfont": {
          "color": "purple"
         },
         "textposition": "top center",
         "type": "scatter",
         "visible": false,
         "x": [
          3
         ],
         "y": [
          3.2
         ]
        },
        {
         "mode": "text",
         "showlegend": false,
         "text": [
          "V2 = 7 V"
         ],
         "textfont": {
          "color": "purple"
         },
         "textposition": "top center",
         "type": "scatter",
         "visible": false,
         "x": [
          5.5
         ],
         "y": [
          1
         ]
        },
        {
         "mode": "text",
         "showlegend": false,
         "text": [
          "V3 = 5 V (calc)"
         ],
         "textfont": {
          "color": "purple"
         },
         "textposition": "top center",
         "type": "scatter",
         "visible": false,
         "x": [
          0.5
         ],
         "y": [
          1
         ]
        },
        {
         "line": {
          "color": "black"
         },
         "mode": "lines",
         "showlegend": false,
         "type": "scatter",
         "visible": false,
         "x": [
          1,
          5,
          5,
          1,
          1
         ],
         "y": [
          2,
          2,
          3,
          3,
          2
         ]
        },
        {
         "marker": {
          "color": "red",
          "size": 10
         },
         "mode": "markers+text",
         "showlegend": false,
         "text": [
          "I1 = 0.5 A"
         ],
         "textposition": "top center",
         "type": "scatter",
         "visible": false,
         "x": [
          1
         ],
         "y": [
          2
         ]
        },
        {
         "marker": {
          "color": "green",
          "size": 10
         },
         "mode": "markers+text",
         "showlegend": false,
         "text": [
          "I2 = 3.0 A"
         ],
         "textposition": "top center",
         "type": "scatter",
         "visible": false,
         "x": [
          5
         ],
         "y": [
          2.5
         ]
        },
        {
         "marker": {
          "color": "blue",
          "size": 10
         },
         "mode": "markers+text",
         "showlegend": false,
         "text": [
          "I3 = -2.50 A"
         ],
         "textposition": "top center",
         "type": "scatter",
         "visible": false,
         "x": [
          5
         ],
         "y": [
          1.5
         ]
        },
        {
         "mode": "text",
         "showlegend": false,
         "text": [
          "V1 = 12 V"
         ],
         "textfont": {
          "color": "purple"
         },
         "textposition": "top center",
         "type": "scatter",
         "visible": false,
         "x": [
          3
         ],
         "y": [
          3.2
         ]
        },
        {
         "mode": "text",
         "showlegend": false,
         "text": [
          "V2 = 7 V"
         ],
         "textfont": {
          "color": "purple"
         },
         "textposition": "top center",
         "type": "scatter",
         "visible": false,
         "x": [
          5.5
         ],
         "y": [
          1
         ]
        },
        {
         "mode": "text",
         "showlegend": false,
         "text": [
          "V3 = 5 V (calc)"
         ],
         "textfont": {
          "color": "purple"
         },
         "textposition": "top center",
         "type": "scatter",
         "visible": false,
         "x": [
          0.5
         ],
         "y": [
          1
         ]
        },
        {
         "line": {
          "color": "black"
         },
         "mode": "lines",
         "showlegend": false,
         "type": "scatter",
         "visible": false,
         "x": [
          1,
          5,
          5,
          1,
          1
         ],
         "y": [
          2,
          2,
          3,
          3,
          2
         ]
        },
        {
         "marker": {
          "color": "red",
          "size": 10
         },
         "mode": "markers+text",
         "showlegend": false,
         "text": [
          "I1 = 1.0 A"
         ],
         "textposition": "top center",
         "type": "scatter",
         "visible": false,
         "x": [
          1
         ],
         "y": [
          2
         ]
        },
        {
         "marker": {
          "color": "green",
          "size": 10
         },
         "mode": "markers+text",
         "showlegend": false,
         "text": [
          "I2 = 3.0 A"
         ],
         "textposition": "top center",
         "type": "scatter",
         "visible": false,
         "x": [
          5
         ],
         "y": [
          2.5
         ]
        },
        {
         "marker": {
          "color": "blue",
          "size": 10
         },
         "mode": "markers+text",
         "showlegend": false,
         "text": [
          "I3 = -2.00 A"
         ],
         "textposition": "top center",
         "type": "scatter",
         "visible": false,
         "x": [
          5
         ],
         "y": [
          1.5
         ]
        },
        {
         "mode": "text",
         "showlegend": false,
         "text": [
          "V1 = 12 V"
         ],
         "textfont": {
          "color": "purple"
         },
         "textposition": "top center",
         "type": "scatter",
         "visible": false,
         "x": [
          3
         ],
         "y": [
          3.2
         ]
        },
        {
         "mode": "text",
         "showlegend": false,
         "text": [
          "V2 = 7 V"
         ],
         "textfont": {
          "color": "purple"
         },
         "textposition": "top center",
         "type": "scatter",
         "visible": false,
         "x": [
          5.5
         ],
         "y": [
          1
         ]
        },
        {
         "mode": "text",
         "showlegend": false,
         "text": [
          "V3 = 5 V (calc)"
         ],
         "textfont": {
          "color": "purple"
         },
         "textposition": "top center",
         "type": "scatter",
         "visible": false,
         "x": [
          0.5
         ],
         "y": [
          1
         ]
        },
        {
         "line": {
          "color": "black"
         },
         "mode": "lines",
         "showlegend": false,
         "type": "scatter",
         "visible": false,
         "x": [
          1,
          5,
          5,
          1,
          1
         ],
         "y": [
          2,
          2,
          3,
          3,
          2
         ]
        },
        {
         "marker": {
          "color": "red",
          "size": 10
         },
         "mode": "markers+text",
         "showlegend": false,
         "text": [
          "I1 = 1.5 A"
         ],
         "textposition": "top center",
         "type": "scatter",
         "visible": false,
         "x": [
          1
         ],
         "y": [
          2
         ]
        },
        {
         "marker": {
          "color": "green",
          "size": 10
         },
         "mode": "markers+text",
         "showlegend": false,
         "text": [
          "I2 = 3.0 A"
         ],
         "textposition": "top center",
         "type": "scatter",
         "visible": false,
         "x": [
          5
         ],
         "y": [
          2.5
         ]
        },
        {
         "marker": {
          "color": "blue",
          "size": 10
         },
         "mode": "markers+text",
         "showlegend": false,
         "text": [
          "I3 = -1.50 A"
         ],
         "textposition": "top center",
         "type": "scatter",
         "visible": false,
         "x": [
          5
         ],
         "y": [
          1.5
         ]
        },
        {
         "mode": "text",
         "showlegend": false,
         "text": [
          "V1 = 12 V"
         ],
         "textfont": {
          "color": "purple"
         },
         "textposition": "top center",
         "type": "scatter",
         "visible": false,
         "x": [
          3
         ],
         "y": [
          3.2
         ]
        },
        {
         "mode": "text",
         "showlegend": false,
         "text": [
          "V2 = 7 V"
         ],
         "textfont": {
          "color": "purple"
         },
         "textposition": "top center",
         "type": "scatter",
         "visible": false,
         "x": [
          5.5
         ],
         "y": [
          1
         ]
        },
        {
         "mode": "text",
         "showlegend": false,
         "text": [
          "V3 = 5 V (calc)"
         ],
         "textfont": {
          "color": "purple"
         },
         "textposition": "top center",
         "type": "scatter",
         "visible": false,
         "x": [
          0.5
         ],
         "y": [
          1
         ]
        },
        {
         "line": {
          "color": "black"
         },
         "mode": "lines",
         "showlegend": false,
         "type": "scatter",
         "visible": true,
         "x": [
          1,
          5,
          5,
          1,
          1
         ],
         "y": [
          2,
          2,
          3,
          3,
          2
         ]
        },
        {
         "marker": {
          "color": "red",
          "size": 10
         },
         "mode": "markers+text",
         "showlegend": false,
         "text": [
          "I1 = 2.0 A"
         ],
         "textposition": "top center",
         "type": "scatter",
         "visible": true,
         "x": [
          1
         ],
         "y": [
          2
         ]
        },
        {
         "marker": {
          "color": "green",
          "size": 10
         },
         "mode": "markers+text",
         "showlegend": false,
         "text": [
          "I2 = 3.0 A"
         ],
         "textposition": "top center",
         "type": "scatter",
         "visible": true,
         "x": [
          5
         ],
         "y": [
          2.5
         ]
        },
        {
         "marker": {
          "color": "blue",
          "size": 10
         },
         "mode": "markers+text",
         "showlegend": false,
         "text": [
          "I3 = -1.00 A"
         ],
         "textposition": "top center",
         "type": "scatter",
         "visible": true,
         "x": [
          5
         ],
         "y": [
          1.5
         ]
        },
        {
         "mode": "text",
         "showlegend": false,
         "text": [
          "V1 = 12 V"
         ],
         "textfont": {
          "color": "purple"
         },
         "textposition": "top center",
         "type": "scatter",
         "visible": true,
         "x": [
          3
         ],
         "y": [
          3.2
         ]
        },
        {
         "mode": "text",
         "showlegend": false,
         "text": [
          "V2 = 7 V"
         ],
         "textfont": {
          "color": "purple"
         },
         "textposition": "top center",
         "type": "scatter",
         "visible": true,
         "x": [
          5.5
         ],
         "y": [
          1
         ]
        },
        {
         "mode": "text",
         "showlegend": false,
         "text": [
          "V3 = 5 V (calc)"
         ],
         "textfont": {
          "color": "purple"
         },
         "textposition": "top center",
         "type": "scatter",
         "visible": true,
         "x": [
          0.5
         ],
         "y": [
          1
         ]
        },
        {
         "line": {
          "color": "black"
         },
         "mode": "lines",
         "showlegend": false,
         "type": "scatter",
         "visible": false,
         "x": [
          1,
          5,
          5,
          1,
          1
         ],
         "y": [
          2,
          2,
          3,
          3,
          2
         ]
        },
        {
         "marker": {
          "color": "red",
          "size": 10
         },
         "mode": "markers+text",
         "showlegend": false,
         "text": [
          "I1 = 2.5 A"
         ],
         "textposition": "top center",
         "type": "scatter",
         "visible": false,
         "x": [
          1
         ],
         "y": [
          2
         ]
        },
        {
         "marker": {
          "color": "green",
          "size": 10
         },
         "mode": "markers+text",
         "showlegend": false,
         "text": [
          "I2 = 3.0 A"
         ],
         "textposition": "top center",
         "type": "scatter",
         "visible": false,
         "x": [
          5
         ],
         "y": [
          2.5
         ]
        },
        {
         "marker": {
          "color": "blue",
          "size": 10
         },
         "mode": "markers+text",
         "showlegend": false,
         "text": [
          "I3 = -0.50 A"
         ],
         "textposition": "top center",
         "type": "scatter",
         "visible": false,
         "x": [
          5
         ],
         "y": [
          1.5
         ]
        },
        {
         "mode": "text",
         "showlegend": false,
         "text": [
          "V1 = 12 V"
         ],
         "textfont": {
          "color": "purple"
         },
         "textposition": "top center",
         "type": "scatter",
         "visible": false,
         "x": [
          3
         ],
         "y": [
          3.2
         ]
        },
        {
         "mode": "text",
         "showlegend": false,
         "text": [
          "V2 = 7 V"
         ],
         "textfont": {
          "color": "purple"
         },
         "textposition": "top center",
         "type": "scatter",
         "visible": false,
         "x": [
          5.5
         ],
         "y": [
          1
         ]
        },
        {
         "mode": "text",
         "showlegend": false,
         "text": [
          "V3 = 5 V (calc)"
         ],
         "textfont": {
          "color": "purple"
         },
         "textposition": "top center",
         "type": "scatter",
         "visible": false,
         "x": [
          0.5
         ],
         "y": [
          1
         ]
        },
        {
         "line": {
          "color": "black"
         },
         "mode": "lines",
         "showlegend": false,
         "type": "scatter",
         "visible": false,
         "x": [
          1,
          5,
          5,
          1,
          1
         ],
         "y": [
          2,
          2,
          3,
          3,
          2
         ]
        },
        {
         "marker": {
          "color": "red",
          "size": 10
         },
         "mode": "markers+text",
         "showlegend": false,
         "text": [
          "I1 = 3.0 A"
         ],
         "textposition": "top center",
         "type": "scatter",
         "visible": false,
         "x": [
          1
         ],
         "y": [
          2
         ]
        },
        {
         "marker": {
          "color": "green",
          "size": 10
         },
         "mode": "markers+text",
         "showlegend": false,
         "text": [
          "I2 = 3.0 A"
         ],
         "textposition": "top center",
         "type": "scatter",
         "visible": false,
         "x": [
          5
         ],
         "y": [
          2.5
         ]
        },
        {
         "marker": {
          "color": "blue",
          "size": 10
         },
         "mode": "markers+text",
         "showlegend": false,
         "text": [
          "I3 = 0.00 A"
         ],
         "textposition": "top center",
         "type": "scatter",
         "visible": false,
         "x": [
          5
         ],
         "y": [
          1.5
         ]
        },
        {
         "mode": "text",
         "showlegend": false,
         "text": [
          "V1 = 12 V"
         ],
         "textfont": {
          "color": "purple"
         },
         "textposition": "top center",
         "type": "scatter",
         "visible": false,
         "x": [
          3
         ],
         "y": [
          3.2
         ]
        },
        {
         "mode": "text",
         "showlegend": false,
         "text": [
          "V2 = 7 V"
         ],
         "textfont": {
          "color": "purple"
         },
         "textposition": "top center",
         "type": "scatter",
         "visible": false,
         "x": [
          5.5
         ],
         "y": [
          1
         ]
        },
        {
         "mode": "text",
         "showlegend": false,
         "text": [
          "V3 = 5 V (calc)"
         ],
         "textfont": {
          "color": "purple"
         },
         "textposition": "top center",
         "type": "scatter",
         "visible": false,
         "x": [
          0.5
         ],
         "y": [
          1
         ]
        },
        {
         "line": {
          "color": "black"
         },
         "mode": "lines",
         "showlegend": false,
         "type": "scatter",
         "visible": false,
         "x": [
          1,
          5,
          5,
          1,
          1
         ],
         "y": [
          2,
          2,
          3,
          3,
          2
         ]
        },
        {
         "marker": {
          "color": "red",
          "size": 10
         },
         "mode": "markers+text",
         "showlegend": false,
         "text": [
          "I1 = 3.5 A"
         ],
         "textposition": "top center",
         "type": "scatter",
         "visible": false,
         "x": [
          1
         ],
         "y": [
          2
         ]
        },
        {
         "marker": {
          "color": "green",
          "size": 10
         },
         "mode": "markers+text",
         "showlegend": false,
         "text": [
          "I2 = 3.0 A"
         ],
         "textposition": "top center",
         "type": "scatter",
         "visible": false,
         "x": [
          5
         ],
         "y": [
          2.5
         ]
        },
        {
         "marker": {
          "color": "blue",
          "size": 10
         },
         "mode": "markers+text",
         "showlegend": false,
         "text": [
          "I3 = 0.50 A"
         ],
         "textposition": "top center",
         "type": "scatter",
         "visible": false,
         "x": [
          5
         ],
         "y": [
          1.5
         ]
        },
        {
         "mode": "text",
         "showlegend": false,
         "text": [
          "V1 = 12 V"
         ],
         "textfont": {
          "color": "purple"
         },
         "textposition": "top center",
         "type": "scatter",
         "visible": false,
         "x": [
          3
         ],
         "y": [
          3.2
         ]
        },
        {
         "mode": "text",
         "showlegend": false,
         "text": [
          "V2 = 7 V"
         ],
         "textfont": {
          "color": "purple"
         },
         "textposition": "top center",
         "type": "scatter",
         "visible": false,
         "x": [
          5.5
         ],
         "y": [
          1
         ]
        },
        {
         "mode": "text",
         "showlegend": false,
         "text": [
          "V3 = 5 V (calc)"
         ],
         "textfont": {
          "color": "purple"
         },
         "textposition": "top center",
         "type": "scatter",
         "visible": false,
         "x": [
          0.5
         ],
         "y": [
          1
         ]
        },
        {
         "line": {
          "color": "black"
         },
         "mode": "lines",
         "showlegend": false,
         "type": "scatter",
         "visible": false,
         "x": [
          1,
          5,
          5,
          1,
          1
         ],
         "y": [
          2,
          2,
          3,
          3,
          2
         ]
        },
        {
         "marker": {
          "color": "red",
          "size": 10
         },
         "mode": "markers+text",
         "showlegend": false,
         "text": [
          "I1 = 4.0 A"
         ],
         "textposition": "top center",
         "type": "scatter",
         "visible": false,
         "x": [
          1
         ],
         "y": [
          2
         ]
        },
        {
         "marker": {
          "color": "green",
          "size": 10
         },
         "mode": "markers+text",
         "showlegend": false,
         "text": [
          "I2 = 3.0 A"
         ],
         "textposition": "top center",
         "type": "scatter",
         "visible": false,
         "x": [
          5
         ],
         "y": [
          2.5
         ]
        },
        {
         "marker": {
          "color": "blue",
          "size": 10
         },
         "mode": "markers+text",
         "showlegend": false,
         "text": [
          "I3 = 1.00 A"
         ],
         "textposition": "top center",
         "type": "scatter",
         "visible": false,
         "x": [
          5
         ],
         "y": [
          1.5
         ]
        },
        {
         "mode": "text",
         "showlegend": false,
         "text": [
          "V1 = 12 V"
         ],
         "textfont": {
          "color": "purple"
         },
         "textposition": "top center",
         "type": "scatter",
         "visible": false,
         "x": [
          3
         ],
         "y": [
          3.2
         ]
        },
        {
         "mode": "text",
         "showlegend": false,
         "text": [
          "V2 = 7 V"
         ],
         "textfont": {
          "color": "purple"
         },
         "textposition": "top center",
         "type": "scatter",
         "visible": false,
         "x": [
          5.5
         ],
         "y": [
          1
         ]
        },
        {
         "mode": "text",
         "showlegend": false,
         "text": [
          "V3 = 5 V (calc)"
         ],
         "textfont": {
          "color": "purple"
         },
         "textposition": "top center",
         "type": "scatter",
         "visible": false,
         "x": [
          0.5
         ],
         "y": [
          1
         ]
        },
        {
         "line": {
          "color": "black"
         },
         "mode": "lines",
         "showlegend": false,
         "type": "scatter",
         "visible": false,
         "x": [
          1,
          5,
          5,
          1,
          1
         ],
         "y": [
          2,
          2,
          3,
          3,
          2
         ]
        },
        {
         "marker": {
          "color": "red",
          "size": 10
         },
         "mode": "markers+text",
         "showlegend": false,
         "text": [
          "I1 = 4.5 A"
         ],
         "textposition": "top center",
         "type": "scatter",
         "visible": false,
         "x": [
          1
         ],
         "y": [
          2
         ]
        },
        {
         "marker": {
          "color": "green",
          "size": 10
         },
         "mode": "markers+text",
         "showlegend": false,
         "text": [
          "I2 = 3.0 A"
         ],
         "textposition": "top center",
         "type": "scatter",
         "visible": false,
         "x": [
          5
         ],
         "y": [
          2.5
         ]
        },
        {
         "marker": {
          "color": "blue",
          "size": 10
         },
         "mode": "markers+text",
         "showlegend": false,
         "text": [
          "I3 = 1.50 A"
         ],
         "textposition": "top center",
         "type": "scatter",
         "visible": false,
         "x": [
          5
         ],
         "y": [
          1.5
         ]
        },
        {
         "mode": "text",
         "showlegend": false,
         "text": [
          "V1 = 12 V"
         ],
         "textfont": {
          "color": "purple"
         },
         "textposition": "top center",
         "type": "scatter",
         "visible": false,
         "x": [
          3
         ],
         "y": [
          3.2
         ]
        },
        {
         "mode": "text",
         "showlegend": false,
         "text": [
          "V2 = 7 V"
         ],
         "textfont": {
          "color": "purple"
         },
         "textposition": "top center",
         "type": "scatter",
         "visible": false,
         "x": [
          5.5
         ],
         "y": [
          1
         ]
        },
        {
         "mode": "text",
         "showlegend": false,
         "text": [
          "V3 = 5 V (calc)"
         ],
         "textfont": {
          "color": "purple"
         },
         "textposition": "top center",
         "type": "scatter",
         "visible": false,
         "x": [
          0.5
         ],
         "y": [
          1
         ]
        },
        {
         "line": {
          "color": "black"
         },
         "mode": "lines",
         "showlegend": false,
         "type": "scatter",
         "visible": false,
         "x": [
          1,
          5,
          5,
          1,
          1
         ],
         "y": [
          2,
          2,
          3,
          3,
          2
         ]
        },
        {
         "marker": {
          "color": "red",
          "size": 10
         },
         "mode": "markers+text",
         "showlegend": false,
         "text": [
          "I1 = 5.0 A"
         ],
         "textposition": "top center",
         "type": "scatter",
         "visible": false,
         "x": [
          1
         ],
         "y": [
          2
         ]
        },
        {
         "marker": {
          "color": "green",
          "size": 10
         },
         "mode": "markers+text",
         "showlegend": false,
         "text": [
          "I2 = 3.0 A"
         ],
         "textposition": "top center",
         "type": "scatter",
         "visible": false,
         "x": [
          5
         ],
         "y": [
          2.5
         ]
        },
        {
         "marker": {
          "color": "blue",
          "size": 10
         },
         "mode": "markers+text",
         "showlegend": false,
         "text": [
          "I3 = 2.00 A"
         ],
         "textposition": "top center",
         "type": "scatter",
         "visible": false,
         "x": [
          5
         ],
         "y": [
          1.5
         ]
        },
        {
         "mode": "text",
         "showlegend": false,
         "text": [
          "V1 = 12 V"
         ],
         "textfont": {
          "color": "purple"
         },
         "textposition": "top center",
         "type": "scatter",
         "visible": false,
         "x": [
          3
         ],
         "y": [
          3.2
         ]
        },
        {
         "mode": "text",
         "showlegend": false,
         "text": [
          "V2 = 7 V"
         ],
         "textfont": {
          "color": "purple"
         },
         "textposition": "top center",
         "type": "scatter",
         "visible": false,
         "x": [
          5.5
         ],
         "y": [
          1
         ]
        },
        {
         "mode": "text",
         "showlegend": false,
         "text": [
          "V3 = 5 V (calc)"
         ],
         "textfont": {
          "color": "purple"
         },
         "textposition": "top center",
         "type": "scatter",
         "visible": false,
         "x": [
          0.5
         ],
         "y": [
          1
         ]
        },
        {
         "line": {
          "color": "black"
         },
         "mode": "lines",
         "showlegend": false,
         "type": "scatter",
         "visible": false,
         "x": [
          1,
          5,
          5,
          1,
          1
         ],
         "y": [
          2,
          2,
          3,
          3,
          2
         ]
        },
        {
         "marker": {
          "color": "red",
          "size": 10
         },
         "mode": "markers+text",
         "showlegend": false,
         "text": [
          "I1 = 5.5 A"
         ],
         "textposition": "top center",
         "type": "scatter",
         "visible": false,
         "x": [
          1
         ],
         "y": [
          2
         ]
        },
        {
         "marker": {
          "color": "green",
          "size": 10
         },
         "mode": "markers+text",
         "showlegend": false,
         "text": [
          "I2 = 3.0 A"
         ],
         "textposition": "top center",
         "type": "scatter",
         "visible": false,
         "x": [
          5
         ],
         "y": [
          2.5
         ]
        },
        {
         "marker": {
          "color": "blue",
          "size": 10
         },
         "mode": "markers+text",
         "showlegend": false,
         "text": [
          "I3 = 2.50 A"
         ],
         "textposition": "top center",
         "type": "scatter",
         "visible": false,
         "x": [
          5
         ],
         "y": [
          1.5
         ]
        },
        {
         "mode": "text",
         "showlegend": false,
         "text": [
          "V1 = 12 V"
         ],
         "textfont": {
          "color": "purple"
         },
         "textposition": "top center",
         "type": "scatter",
         "visible": false,
         "x": [
          3
         ],
         "y": [
          3.2
         ]
        },
        {
         "mode": "text",
         "showlegend": false,
         "text": [
          "V2 = 7 V"
         ],
         "textfont": {
          "color": "purple"
         },
         "textposition": "top center",
         "type": "scatter",
         "visible": false,
         "x": [
          5.5
         ],
         "y": [
          1
         ]
        },
        {
         "mode": "text",
         "showlegend": false,
         "text": [
          "V3 = 5 V (calc)"
         ],
         "textfont": {
          "color": "purple"
         },
         "textposition": "top center",
         "type": "scatter",
         "visible": false,
         "x": [
          0.5
         ],
         "y": [
          1
         ]
        },
        {
         "line": {
          "color": "black"
         },
         "mode": "lines",
         "showlegend": false,
         "type": "scatter",
         "visible": false,
         "x": [
          1,
          5,
          5,
          1,
          1
         ],
         "y": [
          2,
          2,
          3,
          3,
          2
         ]
        },
        {
         "marker": {
          "color": "red",
          "size": 10
         },
         "mode": "markers+text",
         "showlegend": false,
         "text": [
          "I1 = 6.0 A"
         ],
         "textposition": "top center",
         "type": "scatter",
         "visible": false,
         "x": [
          1
         ],
         "y": [
          2
         ]
        },
        {
         "marker": {
          "color": "green",
          "size": 10
         },
         "mode": "markers+text",
         "showlegend": false,
         "text": [
          "I2 = 3.0 A"
         ],
         "textposition": "top center",
         "type": "scatter",
         "visible": false,
         "x": [
          5
         ],
         "y": [
          2.5
         ]
        },
        {
         "marker": {
          "color": "blue",
          "size": 10
         },
         "mode": "markers+text",
         "showlegend": false,
         "text": [
          "I3 = 3.00 A"
         ],
         "textposition": "top center",
         "type": "scatter",
         "visible": false,
         "x": [
          5
         ],
         "y": [
          1.5
         ]
        },
        {
         "mode": "text",
         "showlegend": false,
         "text": [
          "V1 = 12 V"
         ],
         "textfont": {
          "color": "purple"
         },
         "textposition": "top center",
         "type": "scatter",
         "visible": false,
         "x": [
          3
         ],
         "y": [
          3.2
         ]
        },
        {
         "mode": "text",
         "showlegend": false,
         "text": [
          "V2 = 7 V"
         ],
         "textfont": {
          "color": "purple"
         },
         "textposition": "top center",
         "type": "scatter",
         "visible": false,
         "x": [
          5.5
         ],
         "y": [
          1
         ]
        },
        {
         "mode": "text",
         "showlegend": false,
         "text": [
          "V3 = 5 V (calc)"
         ],
         "textfont": {
          "color": "purple"
         },
         "textposition": "top center",
         "type": "scatter",
         "visible": false,
         "x": [
          0.5
         ],
         "y": [
          1
         ]
        },
        {
         "line": {
          "color": "black"
         },
         "mode": "lines",
         "showlegend": false,
         "type": "scatter",
         "visible": false,
         "x": [
          1,
          5,
          5,
          1,
          1
         ],
         "y": [
          2,
          2,
          3,
          3,
          2
         ]
        },
        {
         "marker": {
          "color": "red",
          "size": 10
         },
         "mode": "markers+text",
         "showlegend": false,
         "text": [
          "I1 = 6.5 A"
         ],
         "textposition": "top center",
         "type": "scatter",
         "visible": false,
         "x": [
          1
         ],
         "y": [
          2
         ]
        },
        {
         "marker": {
          "color": "green",
          "size": 10
         },
         "mode": "markers+text",
         "showlegend": false,
         "text": [
          "I2 = 3.0 A"
         ],
         "textposition": "top center",
         "type": "scatter",
         "visible": false,
         "x": [
          5
         ],
         "y": [
          2.5
         ]
        },
        {
         "marker": {
          "color": "blue",
          "size": 10
         },
         "mode": "markers+text",
         "showlegend": false,
         "text": [
          "I3 = 3.50 A"
         ],
         "textposition": "top center",
         "type": "scatter",
         "visible": false,
         "x": [
          5
         ],
         "y": [
          1.5
         ]
        },
        {
         "mode": "text",
         "showlegend": false,
         "text": [
          "V1 = 12 V"
         ],
         "textfont": {
          "color": "purple"
         },
         "textposition": "top center",
         "type": "scatter",
         "visible": false,
         "x": [
          3
         ],
         "y": [
          3.2
         ]
        },
        {
         "mode": "text",
         "showlegend": false,
         "text": [
          "V2 = 7 V"
         ],
         "textfont": {
          "color": "purple"
         },
         "textposition": "top center",
         "type": "scatter",
         "visible": false,
         "x": [
          5.5
         ],
         "y": [
          1
         ]
        },
        {
         "mode": "text",
         "showlegend": false,
         "text": [
          "V3 = 5 V (calc)"
         ],
         "textfont": {
          "color": "purple"
         },
         "textposition": "top center",
         "type": "scatter",
         "visible": false,
         "x": [
          0.5
         ],
         "y": [
          1
         ]
        },
        {
         "line": {
          "color": "black"
         },
         "mode": "lines",
         "showlegend": false,
         "type": "scatter",
         "visible": false,
         "x": [
          1,
          5,
          5,
          1,
          1
         ],
         "y": [
          2,
          2,
          3,
          3,
          2
         ]
        },
        {
         "marker": {
          "color": "red",
          "size": 10
         },
         "mode": "markers+text",
         "showlegend": false,
         "text": [
          "I1 = 7.0 A"
         ],
         "textposition": "top center",
         "type": "scatter",
         "visible": false,
         "x": [
          1
         ],
         "y": [
          2
         ]
        },
        {
         "marker": {
          "color": "green",
          "size": 10
         },
         "mode": "markers+text",
         "showlegend": false,
         "text": [
          "I2 = 3.0 A"
         ],
         "textposition": "top center",
         "type": "scatter",
         "visible": false,
         "x": [
          5
         ],
         "y": [
          2.5
         ]
        },
        {
         "marker": {
          "color": "blue",
          "size": 10
         },
         "mode": "markers+text",
         "showlegend": false,
         "text": [
          "I3 = 4.00 A"
         ],
         "textposition": "top center",
         "type": "scatter",
         "visible": false,
         "x": [
          5
         ],
         "y": [
          1.5
         ]
        },
        {
         "mode": "text",
         "showlegend": false,
         "text": [
          "V1 = 12 V"
         ],
         "textfont": {
          "color": "purple"
         },
         "textposition": "top center",
         "type": "scatter",
         "visible": false,
         "x": [
          3
         ],
         "y": [
          3.2
         ]
        },
        {
         "mode": "text",
         "showlegend": false,
         "text": [
          "V2 = 7 V"
         ],
         "textfont": {
          "color": "purple"
         },
         "textposition": "top center",
         "type": "scatter",
         "visible": false,
         "x": [
          5.5
         ],
         "y": [
          1
         ]
        },
        {
         "mode": "text",
         "showlegend": false,
         "text": [
          "V3 = 5 V (calc)"
         ],
         "textfont": {
          "color": "purple"
         },
         "textposition": "top center",
         "type": "scatter",
         "visible": false,
         "x": [
          0.5
         ],
         "y": [
          1
         ]
        },
        {
         "line": {
          "color": "black"
         },
         "mode": "lines",
         "showlegend": false,
         "type": "scatter",
         "visible": false,
         "x": [
          1,
          5,
          5,
          1,
          1
         ],
         "y": [
          2,
          2,
          3,
          3,
          2
         ]
        },
        {
         "marker": {
          "color": "red",
          "size": 10
         },
         "mode": "markers+text",
         "showlegend": false,
         "text": [
          "I1 = 7.5 A"
         ],
         "textposition": "top center",
         "type": "scatter",
         "visible": false,
         "x": [
          1
         ],
         "y": [
          2
         ]
        },
        {
         "marker": {
          "color": "green",
          "size": 10
         },
         "mode": "markers+text",
         "showlegend": false,
         "text": [
          "I2 = 3.0 A"
         ],
         "textposition": "top center",
         "type": "scatter",
         "visible": false,
         "x": [
          5
         ],
         "y": [
          2.5
         ]
        },
        {
         "marker": {
          "color": "blue",
          "size": 10
         },
         "mode": "markers+text",
         "showlegend": false,
         "text": [
          "I3 = 4.50 A"
         ],
         "textposition": "top center",
         "type": "scatter",
         "visible": false,
         "x": [
          5
         ],
         "y": [
          1.5
         ]
        },
        {
         "mode": "text",
         "showlegend": false,
         "text": [
          "V1 = 12 V"
         ],
         "textfont": {
          "color": "purple"
         },
         "textposition": "top center",
         "type": "scatter",
         "visible": false,
         "x": [
          3
         ],
         "y": [
          3.2
         ]
        },
        {
         "mode": "text",
         "showlegend": false,
         "text": [
          "V2 = 7 V"
         ],
         "textfont": {
          "color": "purple"
         },
         "textposition": "top center",
         "type": "scatter",
         "visible": false,
         "x": [
          5.5
         ],
         "y": [
          1
         ]
        },
        {
         "mode": "text",
         "showlegend": false,
         "text": [
          "V3 = 5 V (calc)"
         ],
         "textfont": {
          "color": "purple"
         },
         "textposition": "top center",
         "type": "scatter",
         "visible": false,
         "x": [
          0.5
         ],
         "y": [
          1
         ]
        },
        {
         "line": {
          "color": "black"
         },
         "mode": "lines",
         "showlegend": false,
         "type": "scatter",
         "visible": false,
         "x": [
          1,
          5,
          5,
          1,
          1
         ],
         "y": [
          2,
          2,
          3,
          3,
          2
         ]
        },
        {
         "marker": {
          "color": "red",
          "size": 10
         },
         "mode": "markers+text",
         "showlegend": false,
         "text": [
          "I1 = 8.0 A"
         ],
         "textposition": "top center",
         "type": "scatter",
         "visible": false,
         "x": [
          1
         ],
         "y": [
          2
         ]
        },
        {
         "marker": {
          "color": "green",
          "size": 10
         },
         "mode": "markers+text",
         "showlegend": false,
         "text": [
          "I2 = 3.0 A"
         ],
         "textposition": "top center",
         "type": "scatter",
         "visible": false,
         "x": [
          5
         ],
         "y": [
          2.5
         ]
        },
        {
         "marker": {
          "color": "blue",
          "size": 10
         },
         "mode": "markers+text",
         "showlegend": false,
         "text": [
          "I3 = 5.00 A"
         ],
         "textposition": "top center",
         "type": "scatter",
         "visible": false,
         "x": [
          5
         ],
         "y": [
          1.5
         ]
        },
        {
         "mode": "text",
         "showlegend": false,
         "text": [
          "V1 = 12 V"
         ],
         "textfont": {
          "color": "purple"
         },
         "textposition": "top center",
         "type": "scatter",
         "visible": false,
         "x": [
          3
         ],
         "y": [
          3.2
         ]
        },
        {
         "mode": "text",
         "showlegend": false,
         "text": [
          "V2 = 7 V"
         ],
         "textfont": {
          "color": "purple"
         },
         "textposition": "top center",
         "type": "scatter",
         "visible": false,
         "x": [
          5.5
         ],
         "y": [
          1
         ]
        },
        {
         "mode": "text",
         "showlegend": false,
         "text": [
          "V3 = 5 V (calc)"
         ],
         "textfont": {
          "color": "purple"
         },
         "textposition": "top center",
         "type": "scatter",
         "visible": false,
         "x": [
          0.5
         ],
         "y": [
          1
         ]
        },
        {
         "line": {
          "color": "black"
         },
         "mode": "lines",
         "showlegend": false,
         "type": "scatter",
         "visible": false,
         "x": [
          1,
          5,
          5,
          1,
          1
         ],
         "y": [
          2,
          2,
          3,
          3,
          2
         ]
        },
        {
         "marker": {
          "color": "red",
          "size": 10
         },
         "mode": "markers+text",
         "showlegend": false,
         "text": [
          "I1 = 8.5 A"
         ],
         "textposition": "top center",
         "type": "scatter",
         "visible": false,
         "x": [
          1
         ],
         "y": [
          2
         ]
        },
        {
         "marker": {
          "color": "green",
          "size": 10
         },
         "mode": "markers+text",
         "showlegend": false,
         "text": [
          "I2 = 3.0 A"
         ],
         "textposition": "top center",
         "type": "scatter",
         "visible": false,
         "x": [
          5
         ],
         "y": [
          2.5
         ]
        },
        {
         "marker": {
          "color": "blue",
          "size": 10
         },
         "mode": "markers+text",
         "showlegend": false,
         "text": [
          "I3 = 5.50 A"
         ],
         "textposition": "top center",
         "type": "scatter",
         "visible": false,
         "x": [
          5
         ],
         "y": [
          1.5
         ]
        },
        {
         "mode": "text",
         "showlegend": false,
         "text": [
          "V1 = 12 V"
         ],
         "textfont": {
          "color": "purple"
         },
         "textposition": "top center",
         "type": "scatter",
         "visible": false,
         "x": [
          3
         ],
         "y": [
          3.2
         ]
        },
        {
         "mode": "text",
         "showlegend": false,
         "text": [
          "V2 = 7 V"
         ],
         "textfont": {
          "color": "purple"
         },
         "textposition": "top center",
         "type": "scatter",
         "visible": false,
         "x": [
          5.5
         ],
         "y": [
          1
         ]
        },
        {
         "mode": "text",
         "showlegend": false,
         "text": [
          "V3 = 5 V (calc)"
         ],
         "textfont": {
          "color": "purple"
         },
         "textposition": "top center",
         "type": "scatter",
         "visible": false,
         "x": [
          0.5
         ],
         "y": [
          1
         ]
        },
        {
         "line": {
          "color": "black"
         },
         "mode": "lines",
         "showlegend": false,
         "type": "scatter",
         "visible": false,
         "x": [
          1,
          5,
          5,
          1,
          1
         ],
         "y": [
          2,
          2,
          3,
          3,
          2
         ]
        },
        {
         "marker": {
          "color": "red",
          "size": 10
         },
         "mode": "markers+text",
         "showlegend": false,
         "text": [
          "I1 = 9.0 A"
         ],
         "textposition": "top center",
         "type": "scatter",
         "visible": false,
         "x": [
          1
         ],
         "y": [
          2
         ]
        },
        {
         "marker": {
          "color": "green",
          "size": 10
         },
         "mode": "markers+text",
         "showlegend": false,
         "text": [
          "I2 = 3.0 A"
         ],
         "textposition": "top center",
         "type": "scatter",
         "visible": false,
         "x": [
          5
         ],
         "y": [
          2.5
         ]
        },
        {
         "marker": {
          "color": "blue",
          "size": 10
         },
         "mode": "markers+text",
         "showlegend": false,
         "text": [
          "I3 = 6.00 A"
         ],
         "textposition": "top center",
         "type": "scatter",
         "visible": false,
         "x": [
          5
         ],
         "y": [
          1.5
         ]
        },
        {
         "mode": "text",
         "showlegend": false,
         "text": [
          "V1 = 12 V"
         ],
         "textfont": {
          "color": "purple"
         },
         "textposition": "top center",
         "type": "scatter",
         "visible": false,
         "x": [
          3
         ],
         "y": [
          3.2
         ]
        },
        {
         "mode": "text",
         "showlegend": false,
         "text": [
          "V2 = 7 V"
         ],
         "textfont": {
          "color": "purple"
         },
         "textposition": "top center",
         "type": "scatter",
         "visible": false,
         "x": [
          5.5
         ],
         "y": [
          1
         ]
        },
        {
         "mode": "text",
         "showlegend": false,
         "text": [
          "V3 = 5 V (calc)"
         ],
         "textfont": {
          "color": "purple"
         },
         "textposition": "top center",
         "type": "scatter",
         "visible": false,
         "x": [
          0.5
         ],
         "y": [
          1
         ]
        },
        {
         "line": {
          "color": "black"
         },
         "mode": "lines",
         "showlegend": false,
         "type": "scatter",
         "visible": false,
         "x": [
          1,
          5,
          5,
          1,
          1
         ],
         "y": [
          2,
          2,
          3,
          3,
          2
         ]
        },
        {
         "marker": {
          "color": "red",
          "size": 10
         },
         "mode": "markers+text",
         "showlegend": false,
         "text": [
          "I1 = 9.5 A"
         ],
         "textposition": "top center",
         "type": "scatter",
         "visible": false,
         "x": [
          1
         ],
         "y": [
          2
         ]
        },
        {
         "marker": {
          "color": "green",
          "size": 10
         },
         "mode": "markers+text",
         "showlegend": false,
         "text": [
          "I2 = 3.0 A"
         ],
         "textposition": "top center",
         "type": "scatter",
         "visible": false,
         "x": [
          5
         ],
         "y": [
          2.5
         ]
        },
        {
         "marker": {
          "color": "blue",
          "size": 10
         },
         "mode": "markers+text",
         "showlegend": false,
         "text": [
          "I3 = 6.50 A"
         ],
         "textposition": "top center",
         "type": "scatter",
         "visible": false,
         "x": [
          5
         ],
         "y": [
          1.5
         ]
        },
        {
         "mode": "text",
         "showlegend": false,
         "text": [
          "V1 = 12 V"
         ],
         "textfont": {
          "color": "purple"
         },
         "textposition": "top center",
         "type": "scatter",
         "visible": false,
         "x": [
          3
         ],
         "y": [
          3.2
         ]
        },
        {
         "mode": "text",
         "showlegend": false,
         "text": [
          "V2 = 7 V"
         ],
         "textfont": {
          "color": "purple"
         },
         "textposition": "top center",
         "type": "scatter",
         "visible": false,
         "x": [
          5.5
         ],
         "y": [
          1
         ]
        },
        {
         "mode": "text",
         "showlegend": false,
         "text": [
          "V3 = 5 V (calc)"
         ],
         "textfont": {
          "color": "purple"
         },
         "textposition": "top center",
         "type": "scatter",
         "visible": false,
         "x": [
          0.5
         ],
         "y": [
          1
         ]
        },
        {
         "line": {
          "color": "black"
         },
         "mode": "lines",
         "showlegend": false,
         "type": "scatter",
         "visible": false,
         "x": [
          1,
          5,
          5,
          1,
          1
         ],
         "y": [
          2,
          2,
          3,
          3,
          2
         ]
        },
        {
         "marker": {
          "color": "red",
          "size": 10
         },
         "mode": "markers+text",
         "showlegend": false,
         "text": [
          "I1 = 10.0 A"
         ],
         "textposition": "top center",
         "type": "scatter",
         "visible": false,
         "x": [
          1
         ],
         "y": [
          2
         ]
        },
        {
         "marker": {
          "color": "green",
          "size": 10
         },
         "mode": "markers+text",
         "showlegend": false,
         "text": [
          "I2 = 3.0 A"
         ],
         "textposition": "top center",
         "type": "scatter",
         "visible": false,
         "x": [
          5
         ],
         "y": [
          2.5
         ]
        },
        {
         "marker": {
          "color": "blue",
          "size": 10
         },
         "mode": "markers+text",
         "showlegend": false,
         "text": [
          "I3 = 7.00 A"
         ],
         "textposition": "top center",
         "type": "scatter",
         "visible": false,
         "x": [
          5
         ],
         "y": [
          1.5
         ]
        },
        {
         "mode": "text",
         "showlegend": false,
         "text": [
          "V1 = 12 V"
         ],
         "textfont": {
          "color": "purple"
         },
         "textposition": "top center",
         "type": "scatter",
         "visible": false,
         "x": [
          3
         ],
         "y": [
          3.2
         ]
        },
        {
         "mode": "text",
         "showlegend": false,
         "text": [
          "V2 = 7 V"
         ],
         "textfont": {
          "color": "purple"
         },
         "textposition": "top center",
         "type": "scatter",
         "visible": false,
         "x": [
          5.5
         ],
         "y": [
          1
         ]
        },
        {
         "mode": "text",
         "showlegend": false,
         "text": [
          "V3 = 5 V (calc)"
         ],
         "textfont": {
          "color": "purple"
         },
         "textposition": "top center",
         "type": "scatter",
         "visible": false,
         "x": [
          0.5
         ],
         "y": [
          1
         ]
        }
       ],
       "layout": {
        "height": 400,
        "showlegend": false,
        "sliders": [
         {
          "active": 4,
          "currentvalue": {
           "prefix": "I1 Current: "
          },
          "pad": {
           "t": 50
          },
          "steps": [
           {
            "args": [
             {
              "visible": [
               true,
               true,
               true,
               true,
               true,
               true,
               true,
               false,
               false,
               false,
               false,
               false,
               false,
               false,
               false,
               false,
               false,
               false,
               false,
               false,
               false,
               false,
               false,
               false,
               false,
               false,
               false,
               false,
               false,
               false,
               false,
               false,
               false,
               false,
               false,
               false,
               false,
               false,
               false,
               false,
               false,
               false,
               false,
               false,
               false,
               false,
               false,
               false,
               false,
               false,
               false,
               false,
               false,
               false,
               false,
               false,
               false,
               false,
               false,
               false,
               false,
               false,
               false,
               false,
               false,
               false,
               false,
               false,
               false,
               false,
               false,
               false,
               false,
               false,
               false,
               false,
               false,
               false,
               false,
               false,
               false,
               false,
               false,
               false,
               false,
               false,
               false,
               false,
               false,
               false,
               false,
               false,
               false,
               false,
               false,
               false,
               false,
               false,
               false,
               false,
               false,
               false,
               false,
               false,
               false,
               false,
               false,
               false,
               false,
               false,
               false,
               false,
               false,
               false,
               false,
               false,
               false,
               false,
               false,
               false,
               false,
               false,
               false,
               false,
               false,
               false,
               false,
               false,
               false,
               false,
               false,
               false,
               false,
               false,
               false,
               false,
               false,
               false,
               false,
               false,
               false,
               false,
               false,
               false,
               false,
               false,
               false
              ]
             },
             {
              "title": "Kirchhoff’s Laws Demo: I1 = 0.0 A"
             }
            ],
            "label": "0.0 A",
            "method": "update"
           },
           {
            "args": [
             {
              "visible": [
               false,
               false,
               false,
               false,
               false,
               false,
               false,
               true,
               true,
               true,
               true,
               true,
               true,
               true,
               false,
               false,
               false,
               false,
               false,
               false,
               false,
               false,
               false,
               false,
               false,
               false,
               false,
               false,
               false,
               false,
               false,
               false,
               false,
               false,
               false,
               false,
               false,
               false,
               false,
               false,
               false,
               false,
               false,
               false,
               false,
               false,
               false,
               false,
               false,
               false,
               false,
               false,
               false,
               false,
               false,
               false,
               false,
               false,
               false,
               false,
               false,
               false,
               false,
               false,
               false,
               false,
               false,
               false,
               false,
               false,
               false,
               false,
               false,
               false,
               false,
               false,
               false,
               false,
               false,
               false,
               false,
               false,
               false,
               false,
               false,
               false,
               false,
               false,
               false,
               false,
               false,
               false,
               false,
               false,
               false,
               false,
               false,
               false,
               false,
               false,
               false,
               false,
               false,
               false,
               false,
               false,
               false,
               false,
               false,
               false,
               false,
               false,
               false,
               false,
               false,
               false,
               false,
               false,
               false,
               false,
               false,
               false,
               false,
               false,
               false,
               false,
               false,
               false,
               false,
               false,
               false,
               false,
               false,
               false,
               false,
               false,
               false,
               false,
               false,
               false,
               false,
               false,
               false,
               false,
               false,
               false,
               false
              ]
             },
             {
              "title": "Kirchhoff’s Laws Demo: I1 = 0.5 A"
             }
            ],
            "label": "0.5 A",
            "method": "update"
           },
           {
            "args": [
             {
              "visible": [
               false,
               false,
               false,
               false,
               false,
               false,
               false,
               false,
               false,
               false,
               false,
               false,
               false,
               false,
               true,
               true,
               true,
               true,
               true,
               true,
               true,
               false,
               false,
               false,
               false,
               false,
               false,
               false,
               false,
               false,
               false,
               false,
               false,
               false,
               false,
               false,
               false,
               false,
               false,
               false,
               false,
               false,
               false,
               false,
               false,
               false,
               false,
               false,
               false,
               false,
               false,
               false,
               false,
               false,
               false,
               false,
               false,
               false,
               false,
               false,
               false,
               false,
               false,
               false,
               false,
               false,
               false,
               false,
               false,
               false,
               false,
               false,
               false,
               false,
               false,
               false,
               false,
               false,
               false,
               false,
               false,
               false,
               false,
               false,
               false,
               false,
               false,
               false,
               false,
               false,
               false,
               false,
               false,
               false,
               false,
               false,
               false,
               false,
               false,
               false,
               false,
               false,
               false,
               false,
               false,
               false,
               false,
               false,
               false,
               false,
               false,
               false,
               false,
               false,
               false,
               false,
               false,
               false,
               false,
               false,
               false,
               false,
               false,
               false,
               false,
               false,
               false,
               false,
               false,
               false,
               false,
               false,
               false,
               false,
               false,
               false,
               false,
               false,
               false,
               false,
               false,
               false,
               false,
               false,
               false,
               false,
               false
              ]
             },
             {
              "title": "Kirchhoff’s Laws Demo: I1 = 1.0 A"
             }
            ],
            "label": "1.0 A",
            "method": "update"
           },
           {
            "args": [
             {
              "visible": [
               false,
               false,
               false,
               false,
               false,
               false,
               false,
               false,
               false,
               false,
               false,
               false,
               false,
               false,
               false,
               false,
               false,
               false,
               false,
               false,
               false,
               true,
               true,
               true,
               true,
               true,
               true,
               true,
               false,
               false,
               false,
               false,
               false,
               false,
               false,
               false,
               false,
               false,
               false,
               false,
               false,
               false,
               false,
               false,
               false,
               false,
               false,
               false,
               false,
               false,
               false,
               false,
               false,
               false,
               false,
               false,
               false,
               false,
               false,
               false,
               false,
               false,
               false,
               false,
               false,
               false,
               false,
               false,
               false,
               false,
               false,
               false,
               false,
               false,
               false,
               false,
               false,
               false,
               false,
               false,
               false,
               false,
               false,
               false,
               false,
               false,
               false,
               false,
               false,
               false,
               false,
               false,
               false,
               false,
               false,
               false,
               false,
               false,
               false,
               false,
               false,
               false,
               false,
               false,
               false,
               false,
               false,
               false,
               false,
               false,
               false,
               false,
               false,
               false,
               false,
               false,
               false,
               false,
               false,
               false,
               false,
               false,
               false,
               false,
               false,
               false,
               false,
               false,
               false,
               false,
               false,
               false,
               false,
               false,
               false,
               false,
               false,
               false,
               false,
               false,
               false,
               false,
               false,
               false,
               false,
               false,
               false
              ]
             },
             {
              "title": "Kirchhoff’s Laws Demo: I1 = 1.5 A"
             }
            ],
            "label": "1.5 A",
            "method": "update"
           },
           {
            "args": [
             {
              "visible": [
               false,
               false,
               false,
               false,
               false,
               false,
               false,
               false,
               false,
               false,
               false,
               false,
               false,
               false,
               false,
               false,
               false,
               false,
               false,
               false,
               false,
               false,
               false,
               false,
               false,
               false,
               false,
               false,
               true,
               true,
               true,
               true,
               true,
               true,
               true,
               false,
               false,
               false,
               false,
               false,
               false,
               false,
               false,
               false,
               false,
               false,
               false,
               false,
               false,
               false,
               false,
               false,
               false,
               false,
               false,
               false,
               false,
               false,
               false,
               false,
               false,
               false,
               false,
               false,
               false,
               false,
               false,
               false,
               false,
               false,
               false,
               false,
               false,
               false,
               false,
               false,
               false,
               false,
               false,
               false,
               false,
               false,
               false,
               false,
               false,
               false,
               false,
               false,
               false,
               false,
               false,
               false,
               false,
               false,
               false,
               false,
               false,
               false,
               false,
               false,
               false,
               false,
               false,
               false,
               false,
               false,
               false,
               false,
               false,
               false,
               false,
               false,
               false,
               false,
               false,
               false,
               false,
               false,
               false,
               false,
               false,
               false,
               false,
               false,
               false,
               false,
               false,
               false,
               false,
               false,
               false,
               false,
               false,
               false,
               false,
               false,
               false,
               false,
               false,
               false,
               false,
               false,
               false,
               false,
               false,
               false,
               false
              ]
             },
             {
              "title": "Kirchhoff’s Laws Demo: I1 = 2.0 A"
             }
            ],
            "label": "2.0 A",
            "method": "update"
           },
           {
            "args": [
             {
              "visible": [
               false,
               false,
               false,
               false,
               false,
               false,
               false,
               false,
               false,
               false,
               false,
               false,
               false,
               false,
               false,
               false,
               false,
               false,
               false,
               false,
               false,
               false,
               false,
               false,
               false,
               false,
               false,
               false,
               false,
               false,
               false,
               false,
               false,
               false,
               false,
               true,
               true,
               true,
               true,
               true,
               true,
               true,
               false,
               false,
               false,
               false,
               false,
               false,
               false,
               false,
               false,
               false,
               false,
               false,
               false,
               false,
               false,
               false,
               false,
               false,
               false,
               false,
               false,
               false,
               false,
               false,
               false,
               false,
               false,
               false,
               false,
               false,
               false,
               false,
               false,
               false,
               false,
               false,
               false,
               false,
               false,
               false,
               false,
               false,
               false,
               false,
               false,
               false,
               false,
               false,
               false,
               false,
               false,
               false,
               false,
               false,
               false,
               false,
               false,
               false,
               false,
               false,
               false,
               false,
               false,
               false,
               false,
               false,
               false,
               false,
               false,
               false,
               false,
               false,
               false,
               false,
               false,
               false,
               false,
               false,
               false,
               false,
               false,
               false,
               false,
               false,
               false,
               false,
               false,
               false,
               false,
               false,
               false,
               false,
               false,
               false,
               false,
               false,
               false,
               false,
               false,
               false,
               false,
               false,
               false,
               false,
               false
              ]
             },
             {
              "title": "Kirchhoff’s Laws Demo: I1 = 2.5 A"
             }
            ],
            "label": "2.5 A",
            "method": "update"
           },
           {
            "args": [
             {
              "visible": [
               false,
               false,
               false,
               false,
               false,
               false,
               false,
               false,
               false,
               false,
               false,
               false,
               false,
               false,
               false,
               false,
               false,
               false,
               false,
               false,
               false,
               false,
               false,
               false,
               false,
               false,
               false,
               false,
               false,
               false,
               false,
               false,
               false,
               false,
               false,
               false,
               false,
               false,
               false,
               false,
               false,
               false,
               true,
               true,
               true,
               true,
               true,
               true,
               true,
               false,
               false,
               false,
               false,
               false,
               false,
               false,
               false,
               false,
               false,
               false,
               false,
               false,
               false,
               false,
               false,
               false,
               false,
               false,
               false,
               false,
               false,
               false,
               false,
               false,
               false,
               false,
               false,
               false,
               false,
               false,
               false,
               false,
               false,
               false,
               false,
               false,
               false,
               false,
               false,
               false,
               false,
               false,
               false,
               false,
               false,
               false,
               false,
               false,
               false,
               false,
               false,
               false,
               false,
               false,
               false,
               false,
               false,
               false,
               false,
               false,
               false,
               false,
               false,
               false,
               false,
               false,
               false,
               false,
               false,
               false,
               false,
               false,
               false,
               false,
               false,
               false,
               false,
               false,
               false,
               false,
               false,
               false,
               false,
               false,
               false,
               false,
               false,
               false,
               false,
               false,
               false,
               false,
               false,
               false,
               false,
               false,
               false
              ]
             },
             {
              "title": "Kirchhoff’s Laws Demo: I1 = 3.0 A"
             }
            ],
            "label": "3.0 A",
            "method": "update"
           },
           {
            "args": [
             {
              "visible": [
               false,
               false,
               false,
               false,
               false,
               false,
               false,
               false,
               false,
               false,
               false,
               false,
               false,
               false,
               false,
               false,
               false,
               false,
               false,
               false,
               false,
               false,
               false,
               false,
               false,
               false,
               false,
               false,
               false,
               false,
               false,
               false,
               false,
               false,
               false,
               false,
               false,
               false,
               false,
               false,
               false,
               false,
               false,
               false,
               false,
               false,
               false,
               false,
               false,
               true,
               true,
               true,
               true,
               true,
               true,
               true,
               false,
               false,
               false,
               false,
               false,
               false,
               false,
               false,
               false,
               false,
               false,
               false,
               false,
               false,
               false,
               false,
               false,
               false,
               false,
               false,
               false,
               false,
               false,
               false,
               false,
               false,
               false,
               false,
               false,
               false,
               false,
               false,
               false,
               false,
               false,
               false,
               false,
               false,
               false,
               false,
               false,
               false,
               false,
               false,
               false,
               false,
               false,
               false,
               false,
               false,
               false,
               false,
               false,
               false,
               false,
               false,
               false,
               false,
               false,
               false,
               false,
               false,
               false,
               false,
               false,
               false,
               false,
               false,
               false,
               false,
               false,
               false,
               false,
               false,
               false,
               false,
               false,
               false,
               false,
               false,
               false,
               false,
               false,
               false,
               false,
               false,
               false,
               false,
               false,
               false,
               false
              ]
             },
             {
              "title": "Kirchhoff’s Laws Demo: I1 = 3.5 A"
             }
            ],
            "label": "3.5 A",
            "method": "update"
           },
           {
            "args": [
             {
              "visible": [
               false,
               false,
               false,
               false,
               false,
               false,
               false,
               false,
               false,
               false,
               false,
               false,
               false,
               false,
               false,
               false,
               false,
               false,
               false,
               false,
               false,
               false,
               false,
               false,
               false,
               false,
               false,
               false,
               false,
               false,
               false,
               false,
               false,
               false,
               false,
               false,
               false,
               false,
               false,
               false,
               false,
               false,
               false,
               false,
               false,
               false,
               false,
               false,
               false,
               false,
               false,
               false,
               false,
               false,
               false,
               false,
               true,
               true,
               true,
               true,
               true,
               true,
               true,
               false,
               false,
               false,
               false,
               false,
               false,
               false,
               false,
               false,
               false,
               false,
               false,
               false,
               false,
               false,
               false,
               false,
               false,
               false,
               false,
               false,
               false,
               false,
               false,
               false,
               false,
               false,
               false,
               false,
               false,
               false,
               false,
               false,
               false,
               false,
               false,
               false,
               false,
               false,
               false,
               false,
               false,
               false,
               false,
               false,
               false,
               false,
               false,
               false,
               false,
               false,
               false,
               false,
               false,
               false,
               false,
               false,
               false,
               false,
               false,
               false,
               false,
               false,
               false,
               false,
               false,
               false,
               false,
               false,
               false,
               false,
               false,
               false,
               false,
               false,
               false,
               false,
               false,
               false,
               false,
               false,
               false,
               false,
               false
              ]
             },
             {
              "title": "Kirchhoff’s Laws Demo: I1 = 4.0 A"
             }
            ],
            "label": "4.0 A",
            "method": "update"
           },
           {
            "args": [
             {
              "visible": [
               false,
               false,
               false,
               false,
               false,
               false,
               false,
               false,
               false,
               false,
               false,
               false,
               false,
               false,
               false,
               false,
               false,
               false,
               false,
               false,
               false,
               false,
               false,
               false,
               false,
               false,
               false,
               false,
               false,
               false,
               false,
               false,
               false,
               false,
               false,
               false,
               false,
               false,
               false,
               false,
               false,
               false,
               false,
               false,
               false,
               false,
               false,
               false,
               false,
               false,
               false,
               false,
               false,
               false,
               false,
               false,
               false,
               false,
               false,
               false,
               false,
               false,
               false,
               true,
               true,
               true,
               true,
               true,
               true,
               true,
               false,
               false,
               false,
               false,
               false,
               false,
               false,
               false,
               false,
               false,
               false,
               false,
               false,
               false,
               false,
               false,
               false,
               false,
               false,
               false,
               false,
               false,
               false,
               false,
               false,
               false,
               false,
               false,
               false,
               false,
               false,
               false,
               false,
               false,
               false,
               false,
               false,
               false,
               false,
               false,
               false,
               false,
               false,
               false,
               false,
               false,
               false,
               false,
               false,
               false,
               false,
               false,
               false,
               false,
               false,
               false,
               false,
               false,
               false,
               false,
               false,
               false,
               false,
               false,
               false,
               false,
               false,
               false,
               false,
               false,
               false,
               false,
               false,
               false,
               false,
               false,
               false
              ]
             },
             {
              "title": "Kirchhoff’s Laws Demo: I1 = 4.5 A"
             }
            ],
            "label": "4.5 A",
            "method": "update"
           },
           {
            "args": [
             {
              "visible": [
               false,
               false,
               false,
               false,
               false,
               false,
               false,
               false,
               false,
               false,
               false,
               false,
               false,
               false,
               false,
               false,
               false,
               false,
               false,
               false,
               false,
               false,
               false,
               false,
               false,
               false,
               false,
               false,
               false,
               false,
               false,
               false,
               false,
               false,
               false,
               false,
               false,
               false,
               false,
               false,
               false,
               false,
               false,
               false,
               false,
               false,
               false,
               false,
               false,
               false,
               false,
               false,
               false,
               false,
               false,
               false,
               false,
               false,
               false,
               false,
               false,
               false,
               false,
               false,
               false,
               false,
               false,
               false,
               false,
               false,
               true,
               true,
               true,
               true,
               true,
               true,
               true,
               false,
               false,
               false,
               false,
               false,
               false,
               false,
               false,
               false,
               false,
               false,
               false,
               false,
               false,
               false,
               false,
               false,
               false,
               false,
               false,
               false,
               false,
               false,
               false,
               false,
               false,
               false,
               false,
               false,
               false,
               false,
               false,
               false,
               false,
               false,
               false,
               false,
               false,
               false,
               false,
               false,
               false,
               false,
               false,
               false,
               false,
               false,
               false,
               false,
               false,
               false,
               false,
               false,
               false,
               false,
               false,
               false,
               false,
               false,
               false,
               false,
               false,
               false,
               false,
               false,
               false,
               false,
               false,
               false,
               false
              ]
             },
             {
              "title": "Kirchhoff’s Laws Demo: I1 = 5.0 A"
             }
            ],
            "label": "5.0 A",
            "method": "update"
           },
           {
            "args": [
             {
              "visible": [
               false,
               false,
               false,
               false,
               false,
               false,
               false,
               false,
               false,
               false,
               false,
               false,
               false,
               false,
               false,
               false,
               false,
               false,
               false,
               false,
               false,
               false,
               false,
               false,
               false,
               false,
               false,
               false,
               false,
               false,
               false,
               false,
               false,
               false,
               false,
               false,
               false,
               false,
               false,
               false,
               false,
               false,
               false,
               false,
               false,
               false,
               false,
               false,
               false,
               false,
               false,
               false,
               false,
               false,
               false,
               false,
               false,
               false,
               false,
               false,
               false,
               false,
               false,
               false,
               false,
               false,
               false,
               false,
               false,
               false,
               false,
               false,
               false,
               false,
               false,
               false,
               false,
               true,
               true,
               true,
               true,
               true,
               true,
               true,
               false,
               false,
               false,
               false,
               false,
               false,
               false,
               false,
               false,
               false,
               false,
               false,
               false,
               false,
               false,
               false,
               false,
               false,
               false,
               false,
               false,
               false,
               false,
               false,
               false,
               false,
               false,
               false,
               false,
               false,
               false,
               false,
               false,
               false,
               false,
               false,
               false,
               false,
               false,
               false,
               false,
               false,
               false,
               false,
               false,
               false,
               false,
               false,
               false,
               false,
               false,
               false,
               false,
               false,
               false,
               false,
               false,
               false,
               false,
               false,
               false,
               false,
               false
              ]
             },
             {
              "title": "Kirchhoff’s Laws Demo: I1 = 5.5 A"
             }
            ],
            "label": "5.5 A",
            "method": "update"
           },
           {
            "args": [
             {
              "visible": [
               false,
               false,
               false,
               false,
               false,
               false,
               false,
               false,
               false,
               false,
               false,
               false,
               false,
               false,
               false,
               false,
               false,
               false,
               false,
               false,
               false,
               false,
               false,
               false,
               false,
               false,
               false,
               false,
               false,
               false,
               false,
               false,
               false,
               false,
               false,
               false,
               false,
               false,
               false,
               false,
               false,
               false,
               false,
               false,
               false,
               false,
               false,
               false,
               false,
               false,
               false,
               false,
               false,
               false,
               false,
               false,
               false,
               false,
               false,
               false,
               false,
               false,
               false,
               false,
               false,
               false,
               false,
               false,
               false,
               false,
               false,
               false,
               false,
               false,
               false,
               false,
               false,
               false,
               false,
               false,
               false,
               false,
               false,
               false,
               true,
               true,
               true,
               true,
               true,
               true,
               true,
               false,
               false,
               false,
               false,
               false,
               false,
               false,
               false,
               false,
               false,
               false,
               false,
               false,
               false,
               false,
               false,
               false,
               false,
               false,
               false,
               false,
               false,
               false,
               false,
               false,
               false,
               false,
               false,
               false,
               false,
               false,
               false,
               false,
               false,
               false,
               false,
               false,
               false,
               false,
               false,
               false,
               false,
               false,
               false,
               false,
               false,
               false,
               false,
               false,
               false,
               false,
               false,
               false,
               false,
               false,
               false
              ]
             },
             {
              "title": "Kirchhoff’s Laws Demo: I1 = 6.0 A"
             }
            ],
            "label": "6.0 A",
            "method": "update"
           },
           {
            "args": [
             {
              "visible": [
               false,
               false,
               false,
               false,
               false,
               false,
               false,
               false,
               false,
               false,
               false,
               false,
               false,
               false,
               false,
               false,
               false,
               false,
               false,
               false,
               false,
               false,
               false,
               false,
               false,
               false,
               false,
               false,
               false,
               false,
               false,
               false,
               false,
               false,
               false,
               false,
               false,
               false,
               false,
               false,
               false,
               false,
               false,
               false,
               false,
               false,
               false,
               false,
               false,
               false,
               false,
               false,
               false,
               false,
               false,
               false,
               false,
               false,
               false,
               false,
               false,
               false,
               false,
               false,
               false,
               false,
               false,
               false,
               false,
               false,
               false,
               false,
               false,
               false,
               false,
               false,
               false,
               false,
               false,
               false,
               false,
               false,
               false,
               false,
               false,
               false,
               false,
               false,
               false,
               false,
               false,
               true,
               true,
               true,
               true,
               true,
               true,
               true,
               false,
               false,
               false,
               false,
               false,
               false,
               false,
               false,
               false,
               false,
               false,
               false,
               false,
               false,
               false,
               false,
               false,
               false,
               false,
               false,
               false,
               false,
               false,
               false,
               false,
               false,
               false,
               false,
               false,
               false,
               false,
               false,
               false,
               false,
               false,
               false,
               false,
               false,
               false,
               false,
               false,
               false,
               false,
               false,
               false,
               false,
               false,
               false,
               false
              ]
             },
             {
              "title": "Kirchhoff’s Laws Demo: I1 = 6.5 A"
             }
            ],
            "label": "6.5 A",
            "method": "update"
           },
           {
            "args": [
             {
              "visible": [
               false,
               false,
               false,
               false,
               false,
               false,
               false,
               false,
               false,
               false,
               false,
               false,
               false,
               false,
               false,
               false,
               false,
               false,
               false,
               false,
               false,
               false,
               false,
               false,
               false,
               false,
               false,
               false,
               false,
               false,
               false,
               false,
               false,
               false,
               false,
               false,
               false,
               false,
               false,
               false,
               false,
               false,
               false,
               false,
               false,
               false,
               false,
               false,
               false,
               false,
               false,
               false,
               false,
               false,
               false,
               false,
               false,
               false,
               false,
               false,
               false,
               false,
               false,
               false,
               false,
               false,
               false,
               false,
               false,
               false,
               false,
               false,
               false,
               false,
               false,
               false,
               false,
               false,
               false,
               false,
               false,
               false,
               false,
               false,
               false,
               false,
               false,
               false,
               false,
               false,
               false,
               false,
               false,
               false,
               false,
               false,
               false,
               false,
               true,
               true,
               true,
               true,
               true,
               true,
               true,
               false,
               false,
               false,
               false,
               false,
               false,
               false,
               false,
               false,
               false,
               false,
               false,
               false,
               false,
               false,
               false,
               false,
               false,
               false,
               false,
               false,
               false,
               false,
               false,
               false,
               false,
               false,
               false,
               false,
               false,
               false,
               false,
               false,
               false,
               false,
               false,
               false,
               false,
               false,
               false,
               false,
               false
              ]
             },
             {
              "title": "Kirchhoff’s Laws Demo: I1 = 7.0 A"
             }
            ],
            "label": "7.0 A",
            "method": "update"
           },
           {
            "args": [
             {
              "visible": [
               false,
               false,
               false,
               false,
               false,
               false,
               false,
               false,
               false,
               false,
               false,
               false,
               false,
               false,
               false,
               false,
               false,
               false,
               false,
               false,
               false,
               false,
               false,
               false,
               false,
               false,
               false,
               false,
               false,
               false,
               false,
               false,
               false,
               false,
               false,
               false,
               false,
               false,
               false,
               false,
               false,
               false,
               false,
               false,
               false,
               false,
               false,
               false,
               false,
               false,
               false,
               false,
               false,
               false,
               false,
               false,
               false,
               false,
               false,
               false,
               false,
               false,
               false,
               false,
               false,
               false,
               false,
               false,
               false,
               false,
               false,
               false,
               false,
               false,
               false,
               false,
               false,
               false,
               false,
               false,
               false,
               false,
               false,
               false,
               false,
               false,
               false,
               false,
               false,
               false,
               false,
               false,
               false,
               false,
               false,
               false,
               false,
               false,
               false,
               false,
               false,
               false,
               false,
               false,
               false,
               true,
               true,
               true,
               true,
               true,
               true,
               true,
               false,
               false,
               false,
               false,
               false,
               false,
               false,
               false,
               false,
               false,
               false,
               false,
               false,
               false,
               false,
               false,
               false,
               false,
               false,
               false,
               false,
               false,
               false,
               false,
               false,
               false,
               false,
               false,
               false,
               false,
               false,
               false,
               false,
               false,
               false
              ]
             },
             {
              "title": "Kirchhoff’s Laws Demo: I1 = 7.5 A"
             }
            ],
            "label": "7.5 A",
            "method": "update"
           },
           {
            "args": [
             {
              "visible": [
               false,
               false,
               false,
               false,
               false,
               false,
               false,
               false,
               false,
               false,
               false,
               false,
               false,
               false,
               false,
               false,
               false,
               false,
               false,
               false,
               false,
               false,
               false,
               false,
               false,
               false,
               false,
               false,
               false,
               false,
               false,
               false,
               false,
               false,
               false,
               false,
               false,
               false,
               false,
               false,
               false,
               false,
               false,
               false,
               false,
               false,
               false,
               false,
               false,
               false,
               false,
               false,
               false,
               false,
               false,
               false,
               false,
               false,
               false,
               false,
               false,
               false,
               false,
               false,
               false,
               false,
               false,
               false,
               false,
               false,
               false,
               false,
               false,
               false,
               false,
               false,
               false,
               false,
               false,
               false,
               false,
               false,
               false,
               false,
               false,
               false,
               false,
               false,
               false,
               false,
               false,
               false,
               false,
               false,
               false,
               false,
               false,
               false,
               false,
               false,
               false,
               false,
               false,
               false,
               false,
               false,
               false,
               false,
               false,
               false,
               false,
               false,
               true,
               true,
               true,
               true,
               true,
               true,
               true,
               false,
               false,
               false,
               false,
               false,
               false,
               false,
               false,
               false,
               false,
               false,
               false,
               false,
               false,
               false,
               false,
               false,
               false,
               false,
               false,
               false,
               false,
               false,
               false,
               false,
               false,
               false,
               false
              ]
             },
             {
              "title": "Kirchhoff’s Laws Demo: I1 = 8.0 A"
             }
            ],
            "label": "8.0 A",
            "method": "update"
           },
           {
            "args": [
             {
              "visible": [
               false,
               false,
               false,
               false,
               false,
               false,
               false,
               false,
               false,
               false,
               false,
               false,
               false,
               false,
               false,
               false,
               false,
               false,
               false,
               false,
               false,
               false,
               false,
               false,
               false,
               false,
               false,
               false,
               false,
               false,
               false,
               false,
               false,
               false,
               false,
               false,
               false,
               false,
               false,
               false,
               false,
               false,
               false,
               false,
               false,
               false,
               false,
               false,
               false,
               false,
               false,
               false,
               false,
               false,
               false,
               false,
               false,
               false,
               false,
               false,
               false,
               false,
               false,
               false,
               false,
               false,
               false,
               false,
               false,
               false,
               false,
               false,
               false,
               false,
               false,
               false,
               false,
               false,
               false,
               false,
               false,
               false,
               false,
               false,
               false,
               false,
               false,
               false,
               false,
               false,
               false,
               false,
               false,
               false,
               false,
               false,
               false,
               false,
               false,
               false,
               false,
               false,
               false,
               false,
               false,
               false,
               false,
               false,
               false,
               false,
               false,
               false,
               false,
               false,
               false,
               false,
               false,
               false,
               false,
               true,
               true,
               true,
               true,
               true,
               true,
               true,
               false,
               false,
               false,
               false,
               false,
               false,
               false,
               false,
               false,
               false,
               false,
               false,
               false,
               false,
               false,
               false,
               false,
               false,
               false,
               false,
               false
              ]
             },
             {
              "title": "Kirchhoff’s Laws Demo: I1 = 8.5 A"
             }
            ],
            "label": "8.5 A",
            "method": "update"
           },
           {
            "args": [
             {
              "visible": [
               false,
               false,
               false,
               false,
               false,
               false,
               false,
               false,
               false,
               false,
               false,
               false,
               false,
               false,
               false,
               false,
               false,
               false,
               false,
               false,
               false,
               false,
               false,
               false,
               false,
               false,
               false,
               false,
               false,
               false,
               false,
               false,
               false,
               false,
               false,
               false,
               false,
               false,
               false,
               false,
               false,
               false,
               false,
               false,
               false,
               false,
               false,
               false,
               false,
               false,
               false,
               false,
               false,
               false,
               false,
               false,
               false,
               false,
               false,
               false,
               false,
               false,
               false,
               false,
               false,
               false,
               false,
               false,
               false,
               false,
               false,
               false,
               false,
               false,
               false,
               false,
               false,
               false,
               false,
               false,
               false,
               false,
               false,
               false,
               false,
               false,
               false,
               false,
               false,
               false,
               false,
               false,
               false,
               false,
               false,
               false,
               false,
               false,
               false,
               false,
               false,
               false,
               false,
               false,
               false,
               false,
               false,
               false,
               false,
               false,
               false,
               false,
               false,
               false,
               false,
               false,
               false,
               false,
               false,
               false,
               false,
               false,
               false,
               false,
               false,
               false,
               true,
               true,
               true,
               true,
               true,
               true,
               true,
               false,
               false,
               false,
               false,
               false,
               false,
               false,
               false,
               false,
               false,
               false,
               false,
               false,
               false
              ]
             },
             {
              "title": "Kirchhoff’s Laws Demo: I1 = 9.0 A"
             }
            ],
            "label": "9.0 A",
            "method": "update"
           },
           {
            "args": [
             {
              "visible": [
               false,
               false,
               false,
               false,
               false,
               false,
               false,
               false,
               false,
               false,
               false,
               false,
               false,
               false,
               false,
               false,
               false,
               false,
               false,
               false,
               false,
               false,
               false,
               false,
               false,
               false,
               false,
               false,
               false,
               false,
               false,
               false,
               false,
               false,
               false,
               false,
               false,
               false,
               false,
               false,
               false,
               false,
               false,
               false,
               false,
               false,
               false,
               false,
               false,
               false,
               false,
               false,
               false,
               false,
               false,
               false,
               false,
               false,
               false,
               false,
               false,
               false,
               false,
               false,
               false,
               false,
               false,
               false,
               false,
               false,
               false,
               false,
               false,
               false,
               false,
               false,
               false,
               false,
               false,
               false,
               false,
               false,
               false,
               false,
               false,
               false,
               false,
               false,
               false,
               false,
               false,
               false,
               false,
               false,
               false,
               false,
               false,
               false,
               false,
               false,
               false,
               false,
               false,
               false,
               false,
               false,
               false,
               false,
               false,
               false,
               false,
               false,
               false,
               false,
               false,
               false,
               false,
               false,
               false,
               false,
               false,
               false,
               false,
               false,
               false,
               false,
               false,
               false,
               false,
               false,
               false,
               false,
               false,
               true,
               true,
               true,
               true,
               true,
               true,
               true,
               false,
               false,
               false,
               false,
               false,
               false,
               false
              ]
             },
             {
              "title": "Kirchhoff’s Laws Demo: I1 = 9.5 A"
             }
            ],
            "label": "9.5 A",
            "method": "update"
           },
           {
            "args": [
             {
              "visible": [
               false,
               false,
               false,
               false,
               false,
               false,
               false,
               false,
               false,
               false,
               false,
               false,
               false,
               false,
               false,
               false,
               false,
               false,
               false,
               false,
               false,
               false,
               false,
               false,
               false,
               false,
               false,
               false,
               false,
               false,
               false,
               false,
               false,
               false,
               false,
               false,
               false,
               false,
               false,
               false,
               false,
               false,
               false,
               false,
               false,
               false,
               false,
               false,
               false,
               false,
               false,
               false,
               false,
               false,
               false,
               false,
               false,
               false,
               false,
               false,
               false,
               false,
               false,
               false,
               false,
               false,
               false,
               false,
               false,
               false,
               false,
               false,
               false,
               false,
               false,
               false,
               false,
               false,
               false,
               false,
               false,
               false,
               false,
               false,
               false,
               false,
               false,
               false,
               false,
               false,
               false,
               false,
               false,
               false,
               false,
               false,
               false,
               false,
               false,
               false,
               false,
               false,
               false,
               false,
               false,
               false,
               false,
               false,
               false,
               false,
               false,
               false,
               false,
               false,
               false,
               false,
               false,
               false,
               false,
               false,
               false,
               false,
               false,
               false,
               false,
               false,
               false,
               false,
               false,
               false,
               false,
               false,
               false,
               false,
               false,
               false,
               false,
               false,
               false,
               false,
               true,
               true,
               true,
               true,
               true,
               true,
               true
              ]
             },
             {
              "title": "Kirchhoff’s Laws Demo: I1 = 10.0 A"
             }
            ],
            "label": "10.0 A",
            "method": "update"
           }
          ]
         }
        ],
        "template": {
         "data": {
          "bar": [
           {
            "error_x": {
             "color": "#2a3f5f"
            },
            "error_y": {
             "color": "#2a3f5f"
            },
            "marker": {
             "line": {
              "color": "#E5ECF6",
              "width": 0.5
             },
             "pattern": {
              "fillmode": "overlay",
              "size": 10,
              "solidity": 0.2
             }
            },
            "type": "bar"
           }
          ],
          "barpolar": [
           {
            "marker": {
             "line": {
              "color": "#E5ECF6",
              "width": 0.5
             },
             "pattern": {
              "fillmode": "overlay",
              "size": 10,
              "solidity": 0.2
             }
            },
            "type": "barpolar"
           }
          ],
          "carpet": [
           {
            "aaxis": {
             "endlinecolor": "#2a3f5f",
             "gridcolor": "white",
             "linecolor": "white",
             "minorgridcolor": "white",
             "startlinecolor": "#2a3f5f"
            },
            "baxis": {
             "endlinecolor": "#2a3f5f",
             "gridcolor": "white",
             "linecolor": "white",
             "minorgridcolor": "white",
             "startlinecolor": "#2a3f5f"
            },
            "type": "carpet"
           }
          ],
          "choropleth": [
           {
            "colorbar": {
             "outlinewidth": 0,
             "ticks": ""
            },
            "type": "choropleth"
           }
          ],
          "contour": [
           {
            "colorbar": {
             "outlinewidth": 0,
             "ticks": ""
            },
            "colorscale": [
             [
              0,
              "#0d0887"
             ],
             [
              0.1111111111111111,
              "#46039f"
             ],
             [
              0.2222222222222222,
              "#7201a8"
             ],
             [
              0.3333333333333333,
              "#9c179e"
             ],
             [
              0.4444444444444444,
              "#bd3786"
             ],
             [
              0.5555555555555556,
              "#d8576b"
             ],
             [
              0.6666666666666666,
              "#ed7953"
             ],
             [
              0.7777777777777778,
              "#fb9f3a"
             ],
             [
              0.8888888888888888,
              "#fdca26"
             ],
             [
              1,
              "#f0f921"
             ]
            ],
            "type": "contour"
           }
          ],
          "contourcarpet": [
           {
            "colorbar": {
             "outlinewidth": 0,
             "ticks": ""
            },
            "type": "contourcarpet"
           }
          ],
          "heatmap": [
           {
            "colorbar": {
             "outlinewidth": 0,
             "ticks": ""
            },
            "colorscale": [
             [
              0,
              "#0d0887"
             ],
             [
              0.1111111111111111,
              "#46039f"
             ],
             [
              0.2222222222222222,
              "#7201a8"
             ],
             [
              0.3333333333333333,
              "#9c179e"
             ],
             [
              0.4444444444444444,
              "#bd3786"
             ],
             [
              0.5555555555555556,
              "#d8576b"
             ],
             [
              0.6666666666666666,
              "#ed7953"
             ],
             [
              0.7777777777777778,
              "#fb9f3a"
             ],
             [
              0.8888888888888888,
              "#fdca26"
             ],
             [
              1,
              "#f0f921"
             ]
            ],
            "type": "heatmap"
           }
          ],
          "heatmapgl": [
           {
            "colorbar": {
             "outlinewidth": 0,
             "ticks": ""
            },
            "colorscale": [
             [
              0,
              "#0d0887"
             ],
             [
              0.1111111111111111,
              "#46039f"
             ],
             [
              0.2222222222222222,
              "#7201a8"
             ],
             [
              0.3333333333333333,
              "#9c179e"
             ],
             [
              0.4444444444444444,
              "#bd3786"
             ],
             [
              0.5555555555555556,
              "#d8576b"
             ],
             [
              0.6666666666666666,
              "#ed7953"
             ],
             [
              0.7777777777777778,
              "#fb9f3a"
             ],
             [
              0.8888888888888888,
              "#fdca26"
             ],
             [
              1,
              "#f0f921"
             ]
            ],
            "type": "heatmapgl"
           }
          ],
          "histogram": [
           {
            "marker": {
             "pattern": {
              "fillmode": "overlay",
              "size": 10,
              "solidity": 0.2
             }
            },
            "type": "histogram"
           }
          ],
          "histogram2d": [
           {
            "colorbar": {
             "outlinewidth": 0,
             "ticks": ""
            },
            "colorscale": [
             [
              0,
              "#0d0887"
             ],
             [
              0.1111111111111111,
              "#46039f"
             ],
             [
              0.2222222222222222,
              "#7201a8"
             ],
             [
              0.3333333333333333,
              "#9c179e"
             ],
             [
              0.4444444444444444,
              "#bd3786"
             ],
             [
              0.5555555555555556,
              "#d8576b"
             ],
             [
              0.6666666666666666,
              "#ed7953"
             ],
             [
              0.7777777777777778,
              "#fb9f3a"
             ],
             [
              0.8888888888888888,
              "#fdca26"
             ],
             [
              1,
              "#f0f921"
             ]
            ],
            "type": "histogram2d"
           }
          ],
          "histogram2dcontour": [
           {
            "colorbar": {
             "outlinewidth": 0,
             "ticks": ""
            },
            "colorscale": [
             [
              0,
              "#0d0887"
             ],
             [
              0.1111111111111111,
              "#46039f"
             ],
             [
              0.2222222222222222,
              "#7201a8"
             ],
             [
              0.3333333333333333,
              "#9c179e"
             ],
             [
              0.4444444444444444,
              "#bd3786"
             ],
             [
              0.5555555555555556,
              "#d8576b"
             ],
             [
              0.6666666666666666,
              "#ed7953"
             ],
             [
              0.7777777777777778,
              "#fb9f3a"
             ],
             [
              0.8888888888888888,
              "#fdca26"
             ],
             [
              1,
              "#f0f921"
             ]
            ],
            "type": "histogram2dcontour"
           }
          ],
          "mesh3d": [
           {
            "colorbar": {
             "outlinewidth": 0,
             "ticks": ""
            },
            "type": "mesh3d"
           }
          ],
          "parcoords": [
           {
            "line": {
             "colorbar": {
              "outlinewidth": 0,
              "ticks": ""
             }
            },
            "type": "parcoords"
           }
          ],
          "pie": [
           {
            "automargin": true,
            "type": "pie"
           }
          ],
          "scatter": [
           {
            "fillpattern": {
             "fillmode": "overlay",
             "size": 10,
             "solidity": 0.2
            },
            "type": "scatter"
           }
          ],
          "scatter3d": [
           {
            "line": {
             "colorbar": {
              "outlinewidth": 0,
              "ticks": ""
             }
            },
            "marker": {
             "colorbar": {
              "outlinewidth": 0,
              "ticks": ""
             }
            },
            "type": "scatter3d"
           }
          ],
          "scattercarpet": [
           {
            "marker": {
             "colorbar": {
              "outlinewidth": 0,
              "ticks": ""
             }
            },
            "type": "scattercarpet"
           }
          ],
          "scattergeo": [
           {
            "marker": {
             "colorbar": {
              "outlinewidth": 0,
              "ticks": ""
             }
            },
            "type": "scattergeo"
           }
          ],
          "scattergl": [
           {
            "marker": {
             "colorbar": {
              "outlinewidth": 0,
              "ticks": ""
             }
            },
            "type": "scattergl"
           }
          ],
          "scattermapbox": [
           {
            "marker": {
             "colorbar": {
              "outlinewidth": 0,
              "ticks": ""
             }
            },
            "type": "scattermapbox"
           }
          ],
          "scatterpolar": [
           {
            "marker": {
             "colorbar": {
              "outlinewidth": 0,
              "ticks": ""
             }
            },
            "type": "scatterpolar"
           }
          ],
          "scatterpolargl": [
           {
            "marker": {
             "colorbar": {
              "outlinewidth": 0,
              "ticks": ""
             }
            },
            "type": "scatterpolargl"
           }
          ],
          "scatterternary": [
           {
            "marker": {
             "colorbar": {
              "outlinewidth": 0,
              "ticks": ""
             }
            },
            "type": "scatterternary"
           }
          ],
          "surface": [
           {
            "colorbar": {
             "outlinewidth": 0,
             "ticks": ""
            },
            "colorscale": [
             [
              0,
              "#0d0887"
             ],
             [
              0.1111111111111111,
              "#46039f"
             ],
             [
              0.2222222222222222,
              "#7201a8"
             ],
             [
              0.3333333333333333,
              "#9c179e"
             ],
             [
              0.4444444444444444,
              "#bd3786"
             ],
             [
              0.5555555555555556,
              "#d8576b"
             ],
             [
              0.6666666666666666,
              "#ed7953"
             ],
             [
              0.7777777777777778,
              "#fb9f3a"
             ],
             [
              0.8888888888888888,
              "#fdca26"
             ],
             [
              1,
              "#f0f921"
             ]
            ],
            "type": "surface"
           }
          ],
          "table": [
           {
            "cells": {
             "fill": {
              "color": "#EBF0F8"
             },
             "line": {
              "color": "white"
             }
            },
            "header": {
             "fill": {
              "color": "#C8D4E3"
             },
             "line": {
              "color": "white"
             }
            },
            "type": "table"
           }
          ]
         },
         "layout": {
          "annotationdefaults": {
           "arrowcolor": "#2a3f5f",
           "arrowhead": 0,
           "arrowwidth": 1
          },
          "autotypenumbers": "strict",
          "coloraxis": {
           "colorbar": {
            "outlinewidth": 0,
            "ticks": ""
           }
          },
          "colorscale": {
           "diverging": [
            [
             0,
             "#8e0152"
            ],
            [
             0.1,
             "#c51b7d"
            ],
            [
             0.2,
             "#de77ae"
            ],
            [
             0.3,
             "#f1b6da"
            ],
            [
             0.4,
             "#fde0ef"
            ],
            [
             0.5,
             "#f7f7f7"
            ],
            [
             0.6,
             "#e6f5d0"
            ],
            [
             0.7,
             "#b8e186"
            ],
            [
             0.8,
             "#7fbc41"
            ],
            [
             0.9,
             "#4d9221"
            ],
            [
             1,
             "#276419"
            ]
           ],
           "sequential": [
            [
             0,
             "#0d0887"
            ],
            [
             0.1111111111111111,
             "#46039f"
            ],
            [
             0.2222222222222222,
             "#7201a8"
            ],
            [
             0.3333333333333333,
             "#9c179e"
            ],
            [
             0.4444444444444444,
             "#bd3786"
            ],
            [
             0.5555555555555556,
             "#d8576b"
            ],
            [
             0.6666666666666666,
             "#ed7953"
            ],
            [
             0.7777777777777778,
             "#fb9f3a"
            ],
            [
             0.8888888888888888,
             "#fdca26"
            ],
            [
             1,
             "#f0f921"
            ]
           ],
           "sequentialminus": [
            [
             0,
             "#0d0887"
            ],
            [
             0.1111111111111111,
             "#46039f"
            ],
            [
             0.2222222222222222,
             "#7201a8"
            ],
            [
             0.3333333333333333,
             "#9c179e"
            ],
            [
             0.4444444444444444,
             "#bd3786"
            ],
            [
             0.5555555555555556,
             "#d8576b"
            ],
            [
             0.6666666666666666,
             "#ed7953"
            ],
            [
             0.7777777777777778,
             "#fb9f3a"
            ],
            [
             0.8888888888888888,
             "#fdca26"
            ],
            [
             1,
             "#f0f921"
            ]
           ]
          },
          "colorway": [
           "#636efa",
           "#EF553B",
           "#00cc96",
           "#ab63fa",
           "#FFA15A",
           "#19d3f3",
           "#FF6692",
           "#B6E880",
           "#FF97FF",
           "#FECB52"
          ],
          "font": {
           "color": "#2a3f5f"
          },
          "geo": {
           "bgcolor": "white",
           "lakecolor": "white",
           "landcolor": "#E5ECF6",
           "showlakes": true,
           "showland": true,
           "subunitcolor": "white"
          },
          "hoverlabel": {
           "align": "left"
          },
          "hovermode": "closest",
          "mapbox": {
           "style": "light"
          },
          "paper_bgcolor": "white",
          "plot_bgcolor": "#E5ECF6",
          "polar": {
           "angularaxis": {
            "gridcolor": "white",
            "linecolor": "white",
            "ticks": ""
           },
           "bgcolor": "#E5ECF6",
           "radialaxis": {
            "gridcolor": "white",
            "linecolor": "white",
            "ticks": ""
           }
          },
          "scene": {
           "xaxis": {
            "backgroundcolor": "#E5ECF6",
            "gridcolor": "white",
            "gridwidth": 2,
            "linecolor": "white",
            "showbackground": true,
            "ticks": "",
            "zerolinecolor": "white"
           },
           "yaxis": {
            "backgroundcolor": "#E5ECF6",
            "gridcolor": "white",
            "gridwidth": 2,
            "linecolor": "white",
            "showbackground": true,
            "ticks": "",
            "zerolinecolor": "white"
           },
           "zaxis": {
            "backgroundcolor": "#E5ECF6",
            "gridcolor": "white",
            "gridwidth": 2,
            "linecolor": "white",
            "showbackground": true,
            "ticks": "",
            "zerolinecolor": "white"
           }
          },
          "shapedefaults": {
           "line": {
            "color": "#2a3f5f"
           }
          },
          "ternary": {
           "aaxis": {
            "gridcolor": "white",
            "linecolor": "white",
            "ticks": ""
           },
           "baxis": {
            "gridcolor": "white",
            "linecolor": "white",
            "ticks": ""
           },
           "bgcolor": "#E5ECF6",
           "caxis": {
            "gridcolor": "white",
            "linecolor": "white",
            "ticks": ""
           }
          },
          "title": {
           "x": 0.05
          },
          "xaxis": {
           "automargin": true,
           "gridcolor": "white",
           "linecolor": "white",
           "ticks": "",
           "title": {
            "standoff": 15
           },
           "zerolinecolor": "white",
           "zerolinewidth": 2
          },
          "yaxis": {
           "automargin": true,
           "gridcolor": "white",
           "linecolor": "white",
           "ticks": "",
           "title": {
            "standoff": 15
           },
           "zerolinecolor": "white",
           "zerolinewidth": 2
          }
         }
        },
        "title": {
         "text": "Kirchhoff’s Laws Demo: I1 = 2.0 A"
        },
        "width": 700,
        "xaxis": {
         "range": [
          0,
          6
         ],
         "type": "linear",
         "visible": false,
         "zeroline": false
        },
        "yaxis": {
         "range": [
          0,
          4
         ],
         "type": "linear",
         "visible": false,
         "zeroline": false
        }
       }
      },
      "image/png": "[encoded data removed]",
      "text/html": [
       "<div>                            <div id=\"978cbf61-dffc-4e70-8858-ab79aa4551a2\" class=\"plotly-graph-div\" style=\"height:400px; width:700px;\"></div>            <script type=\"text/javascript\">                require([\"plotly\"], function(Plotly) {                    window.PLOTLYENV=window.PLOTLYENV || {};                                    if (document.getElementById(\"978cbf61-dffc-4e70-8858-ab79aa4551a2\")) {                    Plotly.newPlot(                        \"978cbf61-dffc-4e70-8858-ab79aa4551a2\",                        [{\"line\":{\"color\":\"black\"},\"mode\":\"lines\",\"showlegend\":false,\"visible\":true,\"x\":[1,5,5,1,1],\"y\":[2,2,3,3,2],\"type\":\"scatter\"},{\"marker\":{\"color\":\"red\",\"size\":10},\"mode\":\"markers+text\",\"showlegend\":false,\"text\":[\"I1 = 0.0 A\"],\"textposition\":\"top center\",\"visible\":true,\"x\":[1],\"y\":[2],\"type\":\"scatter\"},{\"marker\":{\"color\":\"green\",\"size\":10},\"mode\":\"markers+text\",\"showlegend\":false,\"text\":[\"I2 = 3.0 A\"],\"textposition\":\"top center\",\"visible\":true,\"x\":[5],\"y\":[2.5],\"type\":\"scatter\"},{\"marker\":{\"color\":\"blue\",\"size\":10},\"mode\":\"markers+text\",\"showlegend\":false,\"text\":[\"I3 = -3.00 A\"],\"textposition\":\"top center\",\"visible\":true,\"x\":[5],\"y\":[1.5],\"type\":\"scatter\"},{\"mode\":\"text\",\"showlegend\":false,\"text\":[\"V1 = 12 V\"],\"textfont\":{\"color\":\"purple\"},\"textposition\":\"top center\",\"visible\":true,\"x\":[3],\"y\":[3.2],\"type\":\"scatter\"},{\"mode\":\"text\",\"showlegend\":false,\"text\":[\"V2 = 7 V\"],\"textfont\":{\"color\":\"purple\"},\"textposition\":\"top center\",\"visible\":true,\"x\":[5.5],\"y\":[1],\"type\":\"scatter\"},{\"mode\":\"text\",\"showlegend\":false,\"text\":[\"V3 = 5 V (calc)\"],\"textfont\":{\"color\":\"purple\"},\"textposition\":\"top center\",\"visible\":true,\"x\":[0.5],\"y\":[1],\"type\":\"scatter\"},{\"line\":{\"color\":\"black\"},\"mode\":\"lines\",\"showlegend\":false,\"visible\":false,\"x\":[1,5,5,1,1],\"y\":[2,2,3,3,2],\"type\":\"scatter\"},{\"marker\":{\"color\":\"red\",\"size\":10},\"mode\":\"markers+text\",\"showlegend\":false,\"text\":[\"I1 = 0.5 A\"],\"textposition\":\"top center\",\"visible\":false,\"x\":[1],\"y\":[2],\"type\":\"scatter\"},{\"marker\":{\"color\":\"green\",\"size\":10},\"mode\":\"markers+text\",\"showlegend\":false,\"text\":[\"I2 = 3.0 A\"],\"textposition\":\"top center\",\"visible\":false,\"x\":[5],\"y\":[2.5],\"type\":\"scatter\"},{\"marker\":{\"color\":\"blue\",\"size\":10},\"mode\":\"markers+text\",\"showlegend\":false,\"text\":[\"I3 = -2.50 A\"],\"textposition\":\"top center\",\"visible\":false,\"x\":[5],\"y\":[1.5],\"type\":\"scatter\"},{\"mode\":\"text\",\"showlegend\":false,\"text\":[\"V1 = 12 V\"],\"textfont\":{\"color\":\"purple\"},\"textposition\":\"top center\",\"visible\":false,\"x\":[3],\"y\":[3.2],\"type\":\"scatter\"},{\"mode\":\"text\",\"showlegend\":false,\"text\":[\"V2 = 7 V\"],\"textfont\":{\"color\":\"purple\"},\"textposition\":\"top center\",\"visible\":false,\"x\":[5.5],\"y\":[1],\"type\":\"scatter\"},{\"mode\":\"text\",\"showlegend\":false,\"text\":[\"V3 = 5 V (calc)\"],\"textfont\":{\"color\":\"purple\"},\"textposition\":\"top center\",\"visible\":false,\"x\":[0.5],\"y\":[1],\"type\":\"scatter\"},{\"line\":{\"color\":\"black\"},\"mode\":\"lines\",\"showlegend\":false,\"visible\":false,\"x\":[1,5,5,1,1],\"y\":[2,2,3,3,2],\"type\":\"scatter\"},{\"marker\":{\"color\":\"red\",\"size\":10},\"mode\":\"markers+text\",\"showlegend\":false,\"text\":[\"I1 = 1.0 A\"],\"textposition\":\"top center\",\"visible\":false,\"x\":[1],\"y\":[2],\"type\":\"scatter\"},{\"marker\":{\"color\":\"green\",\"size\":10},\"mode\":\"markers+text\",\"showlegend\":false,\"text\":[\"I2 = 3.0 A\"],\"textposition\":\"top center\",\"visible\":false,\"x\":[5],\"y\":[2.5],\"type\":\"scatter\"},{\"marker\":{\"color\":\"blue\",\"size\":10},\"mode\":\"markers+text\",\"showlegend\":false,\"text\":[\"I3 = -2.00 A\"],\"textposition\":\"top center\",\"visible\":false,\"x\":[5],\"y\":[1.5],\"type\":\"scatter\"},{\"mode\":\"text\",\"showlegend\":false,\"text\":[\"V1 = 12 V\"],\"textfont\":{\"color\":\"purple\"},\"textposition\":\"top center\",\"visible\":false,\"x\":[3],\"y\":[3.2],\"type\":\"scatter\"},{\"mode\":\"text\",\"showlegend\":false,\"text\":[\"V2 = 7 V\"],\"textfont\":{\"color\":\"purple\"},\"textposition\":\"top center\",\"visible\":false,\"x\":[5.5],\"y\":[1],\"type\":\"scatter\"},{\"mode\":\"text\",\"showlegend\":false,\"text\":[\"V3 = 5 V (calc)\"],\"textfont\":{\"color\":\"purple\"},\"textposition\":\"top center\",\"visible\":false,\"x\":[0.5],\"y\":[1],\"type\":\"scatter\"},{\"line\":{\"color\":\"black\"},\"mode\":\"lines\",\"showlegend\":false,\"visible\":false,\"x\":[1,5,5,1,1],\"y\":[2,2,3,3,2],\"type\":\"scatter\"},{\"marker\":{\"color\":\"red\",\"size\":10},\"mode\":\"markers+text\",\"showlegend\":false,\"text\":[\"I1 = 1.5 A\"],\"textposition\":\"top center\",\"visible\":false,\"x\":[1],\"y\":[2],\"type\":\"scatter\"},{\"marker\":{\"color\":\"green\",\"size\":10},\"mode\":\"markers+text\",\"showlegend\":false,\"text\":[\"I2 = 3.0 A\"],\"textposition\":\"top center\",\"visible\":false,\"x\":[5],\"y\":[2.5],\"type\":\"scatter\"},{\"marker\":{\"color\":\"blue\",\"size\":10},\"mode\":\"markers+text\",\"showlegend\":false,\"text\":[\"I3 = -1.50 A\"],\"textposition\":\"top center\",\"visible\":false,\"x\":[5],\"y\":[1.5],\"type\":\"scatter\"},{\"mode\":\"text\",\"showlegend\":false,\"text\":[\"V1 = 12 V\"],\"textfont\":{\"color\":\"purple\"},\"textposition\":\"top center\",\"visible\":false,\"x\":[3],\"y\":[3.2],\"type\":\"scatter\"},{\"mode\":\"text\",\"showlegend\":false,\"text\":[\"V2 = 7 V\"],\"textfont\":{\"color\":\"purple\"},\"textposition\":\"top center\",\"visible\":false,\"x\":[5.5],\"y\":[1],\"type\":\"scatter\"},{\"mode\":\"text\",\"showlegend\":false,\"text\":[\"V3 = 5 V (calc)\"],\"textfont\":{\"color\":\"purple\"},\"textposition\":\"top center\",\"visible\":false,\"x\":[0.5],\"y\":[1],\"type\":\"scatter\"},{\"line\":{\"color\":\"black\"},\"mode\":\"lines\",\"showlegend\":false,\"visible\":false,\"x\":[1,5,5,1,1],\"y\":[2,2,3,3,2],\"type\":\"scatter\"},{\"marker\":{\"color\":\"red\",\"size\":10},\"mode\":\"markers+text\",\"showlegend\":false,\"text\":[\"I1 = 2.0 A\"],\"textposition\":\"top center\",\"visible\":false,\"x\":[1],\"y\":[2],\"type\":\"scatter\"},{\"marker\":{\"color\":\"green\",\"size\":10},\"mode\":\"markers+text\",\"showlegend\":false,\"text\":[\"I2 = 3.0 A\"],\"textposition\":\"top center\",\"visible\":false,\"x\":[5],\"y\":[2.5],\"type\":\"scatter\"},{\"marker\":{\"color\":\"blue\",\"size\":10},\"mode\":\"markers+text\",\"showlegend\":false,\"text\":[\"I3 = -1.00 A\"],\"textposition\":\"top center\",\"visible\":false,\"x\":[5],\"y\":[1.5],\"type\":\"scatter\"},{\"mode\":\"text\",\"showlegend\":false,\"text\":[\"V1 = 12 V\"],\"textfont\":{\"color\":\"purple\"},\"textposition\":\"top center\",\"visible\":false,\"x\":[3],\"y\":[3.2],\"type\":\"scatter\"},{\"mode\":\"text\",\"showlegend\":false,\"text\":[\"V2 = 7 V\"],\"textfont\":{\"color\":\"purple\"},\"textposition\":\"top center\",\"visible\":false,\"x\":[5.5],\"y\":[1],\"type\":\"scatter\"},{\"mode\":\"text\",\"showlegend\":false,\"text\":[\"V3 = 5 V (calc)\"],\"textfont\":{\"color\":\"purple\"},\"textposition\":\"top center\",\"visible\":false,\"x\":[0.5],\"y\":[1],\"type\":\"scatter\"},{\"line\":{\"color\":\"black\"},\"mode\":\"lines\",\"showlegend\":false,\"visible\":false,\"x\":[1,5,5,1,1],\"y\":[2,2,3,3,2],\"type\":\"scatter\"},{\"marker\":{\"color\":\"red\",\"size\":10},\"mode\":\"markers+text\",\"showlegend\":false,\"text\":[\"I1 = 2.5 A\"],\"textposition\":\"top center\",\"visible\":false,\"x\":[1],\"y\":[2],\"type\":\"scatter\"},{\"marker\":{\"color\":\"green\",\"size\":10},\"mode\":\"markers+text\",\"showlegend\":false,\"text\":[\"I2 = 3.0 A\"],\"textposition\":\"top center\",\"visible\":false,\"x\":[5],\"y\":[2.5],\"type\":\"scatter\"},{\"marker\":{\"color\":\"blue\",\"size\":10},\"mode\":\"markers+text\",\"showlegend\":false,\"text\":[\"I3 = -0.50 A\"],\"textposition\":\"top center\",\"visible\":false,\"x\":[5],\"y\":[1.5],\"type\":\"scatter\"},{\"mode\":\"text\",\"showlegend\":false,\"text\":[\"V1 = 12 V\"],\"textfont\":{\"color\":\"purple\"},\"textposition\":\"top center\",\"visible\":false,\"x\":[3],\"y\":[3.2],\"type\":\"scatter\"},{\"mode\":\"text\",\"showlegend\":false,\"text\":[\"V2 = 7 V\"],\"textfont\":{\"color\":\"purple\"},\"textposition\":\"top center\",\"visible\":false,\"x\":[5.5],\"y\":[1],\"type\":\"scatter\"},{\"mode\":\"text\",\"showlegend\":false,\"text\":[\"V3 = 5 V (calc)\"],\"textfont\":{\"color\":\"purple\"},\"textposition\":\"top center\",\"visible\":false,\"x\":[0.5],\"y\":[1],\"type\":\"scatter\"},{\"line\":{\"color\":\"black\"},\"mode\":\"lines\",\"showlegend\":false,\"visible\":false,\"x\":[1,5,5,1,1],\"y\":[2,2,3,3,2],\"type\":\"scatter\"},{\"marker\":{\"color\":\"red\",\"size\":10},\"mode\":\"markers+text\",\"showlegend\":false,\"text\":[\"I1 = 3.0 A\"],\"textposition\":\"top center\",\"visible\":false,\"x\":[1],\"y\":[2],\"type\":\"scatter\"},{\"marker\":{\"color\":\"green\",\"size\":10},\"mode\":\"markers+text\",\"showlegend\":false,\"text\":[\"I2 = 3.0 A\"],\"textposition\":\"top center\",\"visible\":false,\"x\":[5],\"y\":[2.5],\"type\":\"scatter\"},{\"marker\":{\"color\":\"blue\",\"size\":10},\"mode\":\"markers+text\",\"showlegend\":false,\"text\":[\"I3 = 0.00 A\"],\"textposition\":\"top center\",\"visible\":false,\"x\":[5],\"y\":[1.5],\"type\":\"scatter\"},{\"mode\":\"text\",\"showlegend\":false,\"text\":[\"V1 = 12 V\"],\"textfont\":{\"color\":\"purple\"},\"textposition\":\"top center\",\"visible\":false,\"x\":[3],\"y\":[3.2],\"type\":\"scatter\"},{\"mode\":\"text\",\"showlegend\":false,\"text\":[\"V2 = 7 V\"],\"textfont\":{\"color\":\"purple\"},\"textposition\":\"top center\",\"visible\":false,\"x\":[5.5],\"y\":[1],\"type\":\"scatter\"},{\"mode\":\"text\",\"showlegend\":false,\"text\":[\"V3 = 5 V (calc)\"],\"textfont\":{\"color\":\"purple\"},\"textposition\":\"top center\",\"visible\":false,\"x\":[0.5],\"y\":[1],\"type\":\"scatter\"},{\"line\":{\"color\":\"black\"},\"mode\":\"lines\",\"showlegend\":false,\"visible\":false,\"x\":[1,5,5,1,1],\"y\":[2,2,3,3,2],\"type\":\"scatter\"},{\"marker\":{\"color\":\"red\",\"size\":10},\"mode\":\"markers+text\",\"showlegend\":false,\"text\":[\"I1 = 3.5 A\"],\"textposition\":\"top center\",\"visible\":false,\"x\":[1],\"y\":[2],\"type\":\"scatter\"},{\"marker\":{\"color\":\"green\",\"size\":10},\"mode\":\"markers+text\",\"showlegend\":false,\"text\":[\"I2 = 3.0 A\"],\"textposition\":\"top center\",\"visible\":false,\"x\":[5],\"y\":[2.5],\"type\":\"scatter\"},{\"marker\":{\"color\":\"blue\",\"size\":10},\"mode\":\"markers+text\",\"showlegend\":false,\"text\":[\"I3 = 0.50 A\"],\"textposition\":\"top center\",\"visible\":false,\"x\":[5],\"y\":[1.5],\"type\":\"scatter\"},{\"mode\":\"text\",\"showlegend\":false,\"text\":[\"V1 = 12 V\"],\"textfont\":{\"color\":\"purple\"},\"textposition\":\"top center\",\"visible\":false,\"x\":[3],\"y\":[3.2],\"type\":\"scatter\"},{\"mode\":\"text\",\"showlegend\":false,\"text\":[\"V2 = 7 V\"],\"textfont\":{\"color\":\"purple\"},\"textposition\":\"top center\",\"visible\":false,\"x\":[5.5],\"y\":[1],\"type\":\"scatter\"},{\"mode\":\"text\",\"showlegend\":false,\"text\":[\"V3 = 5 V (calc)\"],\"textfont\":{\"color\":\"purple\"},\"textposition\":\"top center\",\"visible\":false,\"x\":[0.5],\"y\":[1],\"type\":\"scatter\"},{\"line\":{\"color\":\"black\"},\"mode\":\"lines\",\"showlegend\":false,\"visible\":false,\"x\":[1,5,5,1,1],\"y\":[2,2,3,3,2],\"type\":\"scatter\"},{\"marker\":{\"color\":\"red\",\"size\":10},\"mode\":\"markers+text\",\"showlegend\":false,\"text\":[\"I1 = 4.0 A\"],\"textposition\":\"top center\",\"visible\":false,\"x\":[1],\"y\":[2],\"type\":\"scatter\"},{\"marker\":{\"color\":\"green\",\"size\":10},\"mode\":\"markers+text\",\"showlegend\":false,\"text\":[\"I2 = 3.0 A\"],\"textposition\":\"top center\",\"visible\":false,\"x\":[5],\"y\":[2.5],\"type\":\"scatter\"},{\"marker\":{\"color\":\"blue\",\"size\":10},\"mode\":\"markers+text\",\"showlegend\":false,\"text\":[\"I3 = 1.00 A\"],\"textposition\":\"top center\",\"visible\":false,\"x\":[5],\"y\":[1.5],\"type\":\"scatter\"},{\"mode\":\"text\",\"showlegend\":false,\"text\":[\"V1 = 12 V\"],\"textfont\":{\"color\":\"purple\"},\"textposition\":\"top center\",\"visible\":false,\"x\":[3],\"y\":[3.2],\"type\":\"scatter\"},{\"mode\":\"text\",\"showlegend\":false,\"text\":[\"V2 = 7 V\"],\"textfont\":{\"color\":\"purple\"},\"textposition\":\"top center\",\"visible\":false,\"x\":[5.5],\"y\":[1],\"type\":\"scatter\"},{\"mode\":\"text\",\"showlegend\":false,\"text\":[\"V3 = 5 V (calc)\"],\"textfont\":{\"color\":\"purple\"},\"textposition\":\"top center\",\"visible\":false,\"x\":[0.5],\"y\":[1],\"type\":\"scatter\"},{\"line\":{\"color\":\"black\"},\"mode\":\"lines\",\"showlegend\":false,\"visible\":false,\"x\":[1,5,5,1,1],\"y\":[2,2,3,3,2],\"type\":\"scatter\"},{\"marker\":{\"color\":\"red\",\"size\":10},\"mode\":\"markers+text\",\"showlegend\":false,\"text\":[\"I1 = 4.5 A\"],\"textposition\":\"top center\",\"visible\":false,\"x\":[1],\"y\":[2],\"type\":\"scatter\"},{\"marker\":{\"color\":\"green\",\"size\":10},\"mode\":\"markers+text\",\"showlegend\":false,\"text\":[\"I2 = 3.0 A\"],\"textposition\":\"top center\",\"visible\":false,\"x\":[5],\"y\":[2.5],\"type\":\"scatter\"},{\"marker\":{\"color\":\"blue\",\"size\":10},\"mode\":\"markers+text\",\"showlegend\":false,\"text\":[\"I3 = 1.50 A\"],\"textposition\":\"top center\",\"visible\":false,\"x\":[5],\"y\":[1.5],\"type\":\"scatter\"},{\"mode\":\"text\",\"showlegend\":false,\"text\":[\"V1 = 12 V\"],\"textfont\":{\"color\":\"purple\"},\"textposition\":\"top center\",\"visible\":false,\"x\":[3],\"y\":[3.2],\"type\":\"scatter\"},{\"mode\":\"text\",\"showlegend\":false,\"text\":[\"V2 = 7 V\"],\"textfont\":{\"color\":\"purple\"},\"textposition\":\"top center\",\"visible\":false,\"x\":[5.5],\"y\":[1],\"type\":\"scatter\"},{\"mode\":\"text\",\"showlegend\":false,\"text\":[\"V3 = 5 V (calc)\"],\"textfont\":{\"color\":\"purple\"},\"textposition\":\"top center\",\"visible\":false,\"x\":[0.5],\"y\":[1],\"type\":\"scatter\"},{\"line\":{\"color\":\"black\"},\"mode\":\"lines\",\"showlegend\":false,\"visible\":false,\"x\":[1,5,5,1,1],\"y\":[2,2,3,3,2],\"type\":\"scatter\"},{\"marker\":{\"color\":\"red\",\"size\":10},\"mode\":\"markers+text\",\"showlegend\":false,\"text\":[\"I1 = 5.0 A\"],\"textposition\":\"top center\",\"visible\":false,\"x\":[1],\"y\":[2],\"type\":\"scatter\"},{\"marker\":{\"color\":\"green\",\"size\":10},\"mode\":\"markers+text\",\"showlegend\":false,\"text\":[\"I2 = 3.0 A\"],\"textposition\":\"top center\",\"visible\":false,\"x\":[5],\"y\":[2.5],\"type\":\"scatter\"},{\"marker\":{\"color\":\"blue\",\"size\":10},\"mode\":\"markers+text\",\"showlegend\":false,\"text\":[\"I3 = 2.00 A\"],\"textposition\":\"top center\",\"visible\":false,\"x\":[5],\"y\":[1.5],\"type\":\"scatter\"},{\"mode\":\"text\",\"showlegend\":false,\"text\":[\"V1 = 12 V\"],\"textfont\":{\"color\":\"purple\"},\"textposition\":\"top center\",\"visible\":false,\"x\":[3],\"y\":[3.2],\"type\":\"scatter\"},{\"mode\":\"text\",\"showlegend\":false,\"text\":[\"V2 = 7 V\"],\"textfont\":{\"color\":\"purple\"},\"textposition\":\"top center\",\"visible\":false,\"x\":[5.5],\"y\":[1],\"type\":\"scatter\"},{\"mode\":\"text\",\"showlegend\":false,\"text\":[\"V3 = 5 V (calc)\"],\"textfont\":{\"color\":\"purple\"},\"textposition\":\"top center\",\"visible\":false,\"x\":[0.5],\"y\":[1],\"type\":\"scatter\"},{\"line\":{\"color\":\"black\"},\"mode\":\"lines\",\"showlegend\":false,\"visible\":false,\"x\":[1,5,5,1,1],\"y\":[2,2,3,3,2],\"type\":\"scatter\"},{\"marker\":{\"color\":\"red\",\"size\":10},\"mode\":\"markers+text\",\"showlegend\":false,\"text\":[\"I1 = 5.5 A\"],\"textposition\":\"top center\",\"visible\":false,\"x\":[1],\"y\":[2],\"type\":\"scatter\"},{\"marker\":{\"color\":\"green\",\"size\":10},\"mode\":\"markers+text\",\"showlegend\":false,\"text\":[\"I2 = 3.0 A\"],\"textposition\":\"top center\",\"visible\":false,\"x\":[5],\"y\":[2.5],\"type\":\"scatter\"},{\"marker\":{\"color\":\"blue\",\"size\":10},\"mode\":\"markers+text\",\"showlegend\":false,\"text\":[\"I3 = 2.50 A\"],\"textposition\":\"top center\",\"visible\":false,\"x\":[5],\"y\":[1.5],\"type\":\"scatter\"},{\"mode\":\"text\",\"showlegend\":false,\"text\":[\"V1 = 12 V\"],\"textfont\":{\"color\":\"purple\"},\"textposition\":\"top center\",\"visible\":false,\"x\":[3],\"y\":[3.2],\"type\":\"scatter\"},{\"mode\":\"text\",\"showlegend\":false,\"text\":[\"V2 = 7 V\"],\"textfont\":{\"color\":\"purple\"},\"textposition\":\"top center\",\"visible\":false,\"x\":[5.5],\"y\":[1],\"type\":\"scatter\"},{\"mode\":\"text\",\"showlegend\":false,\"text\":[\"V3 = 5 V (calc)\"],\"textfont\":{\"color\":\"purple\"},\"textposition\":\"top center\",\"visible\":false,\"x\":[0.5],\"y\":[1],\"type\":\"scatter\"},{\"line\":{\"color\":\"black\"},\"mode\":\"lines\",\"showlegend\":false,\"visible\":false,\"x\":[1,5,5,1,1],\"y\":[2,2,3,3,2],\"type\":\"scatter\"},{\"marker\":{\"color\":\"red\",\"size\":10},\"mode\":\"markers+text\",\"showlegend\":false,\"text\":[\"I1 = 6.0 A\"],\"textposition\":\"top center\",\"visible\":false,\"x\":[1],\"y\":[2],\"type\":\"scatter\"},{\"marker\":{\"color\":\"green\",\"size\":10},\"mode\":\"markers+text\",\"showlegend\":false,\"text\":[\"I2 = 3.0 A\"],\"textposition\":\"top center\",\"visible\":false,\"x\":[5],\"y\":[2.5],\"type\":\"scatter\"},{\"marker\":{\"color\":\"blue\",\"size\":10},\"mode\":\"markers+text\",\"showlegend\":false,\"text\":[\"I3 = 3.00 A\"],\"textposition\":\"top center\",\"visible\":false,\"x\":[5],\"y\":[1.5],\"type\":\"scatter\"},{\"mode\":\"text\",\"showlegend\":false,\"text\":[\"V1 = 12 V\"],\"textfont\":{\"color\":\"purple\"},\"textposition\":\"top center\",\"visible\":false,\"x\":[3],\"y\":[3.2],\"type\":\"scatter\"},{\"mode\":\"text\",\"showlegend\":false,\"text\":[\"V2 = 7 V\"],\"textfont\":{\"color\":\"purple\"},\"textposition\":\"top center\",\"visible\":false,\"x\":[5.5],\"y\":[1],\"type\":\"scatter\"},{\"mode\":\"text\",\"showlegend\":false,\"text\":[\"V3 = 5 V (calc)\"],\"textfont\":{\"color\":\"purple\"},\"textposition\":\"top center\",\"visible\":false,\"x\":[0.5],\"y\":[1],\"type\":\"scatter\"},{\"line\":{\"color\":\"black\"},\"mode\":\"lines\",\"showlegend\":false,\"visible\":false,\"x\":[1,5,5,1,1],\"y\":[2,2,3,3,2],\"type\":\"scatter\"},{\"marker\":{\"color\":\"red\",\"size\":10},\"mode\":\"markers+text\",\"showlegend\":false,\"text\":[\"I1 = 6.5 A\"],\"textposition\":\"top center\",\"visible\":false,\"x\":[1],\"y\":[2],\"type\":\"scatter\"},{\"marker\":{\"color\":\"green\",\"size\":10},\"mode\":\"markers+text\",\"showlegend\":false,\"text\":[\"I2 = 3.0 A\"],\"textposition\":\"top center\",\"visible\":false,\"x\":[5],\"y\":[2.5],\"type\":\"scatter\"},{\"marker\":{\"color\":\"blue\",\"size\":10},\"mode\":\"markers+text\",\"showlegend\":false,\"text\":[\"I3 = 3.50 A\"],\"textposition\":\"top center\",\"visible\":false,\"x\":[5],\"y\":[1.5],\"type\":\"scatter\"},{\"mode\":\"text\",\"showlegend\":false,\"text\":[\"V1 = 12 V\"],\"textfont\":{\"color\":\"purple\"},\"textposition\":\"top center\",\"visible\":false,\"x\":[3],\"y\":[3.2],\"type\":\"scatter\"},{\"mode\":\"text\",\"showlegend\":false,\"text\":[\"V2 = 7 V\"],\"textfont\":{\"color\":\"purple\"},\"textposition\":\"top center\",\"visible\":false,\"x\":[5.5],\"y\":[1],\"type\":\"scatter\"},{\"mode\":\"text\",\"showlegend\":false,\"text\":[\"V3 = 5 V (calc)\"],\"textfont\":{\"color\":\"purple\"},\"textposition\":\"top center\",\"visible\":false,\"x\":[0.5],\"y\":[1],\"type\":\"scatter\"},{\"line\":{\"color\":\"black\"},\"mode\":\"lines\",\"showlegend\":false,\"visible\":false,\"x\":[1,5,5,1,1],\"y\":[2,2,3,3,2],\"type\":\"scatter\"},{\"marker\":{\"color\":\"red\",\"size\":10},\"mode\":\"markers+text\",\"showlegend\":false,\"text\":[\"I1 = 7.0 A\"],\"textposition\":\"top center\",\"visible\":false,\"x\":[1],\"y\":[2],\"type\":\"scatter\"},{\"marker\":{\"color\":\"green\",\"size\":10},\"mode\":\"markers+text\",\"showlegend\":false,\"text\":[\"I2 = 3.0 A\"],\"textposition\":\"top center\",\"visible\":false,\"x\":[5],\"y\":[2.5],\"type\":\"scatter\"},{\"marker\":{\"color\":\"blue\",\"size\":10},\"mode\":\"markers+text\",\"showlegend\":false,\"text\":[\"I3 = 4.00 A\"],\"textposition\":\"top center\",\"visible\":false,\"x\":[5],\"y\":[1.5],\"type\":\"scatter\"},{\"mode\":\"text\",\"showlegend\":false,\"text\":[\"V1 = 12 V\"],\"textfont\":{\"color\":\"purple\"},\"textposition\":\"top center\",\"visible\":false,\"x\":[3],\"y\":[3.2],\"type\":\"scatter\"},{\"mode\":\"text\",\"showlegend\":false,\"text\":[\"V2 = 7 V\"],\"textfont\":{\"color\":\"purple\"},\"textposition\":\"top center\",\"visible\":false,\"x\":[5.5],\"y\":[1],\"type\":\"scatter\"},{\"mode\":\"text\",\"showlegend\":false,\"text\":[\"V3 = 5 V (calc)\"],\"textfont\":{\"color\":\"purple\"},\"textposition\":\"top center\",\"visible\":false,\"x\":[0.5],\"y\":[1],\"type\":\"scatter\"},{\"line\":{\"color\":\"black\"},\"mode\":\"lines\",\"showlegend\":false,\"visible\":false,\"x\":[1,5,5,1,1],\"y\":[2,2,3,3,2],\"type\":\"scatter\"},{\"marker\":{\"color\":\"red\",\"size\":10},\"mode\":\"markers+text\",\"showlegend\":false,\"text\":[\"I1 = 7.5 A\"],\"textposition\":\"top center\",\"visible\":false,\"x\":[1],\"y\":[2],\"type\":\"scatter\"},{\"marker\":{\"color\":\"green\",\"size\":10},\"mode\":\"markers+text\",\"showlegend\":false,\"text\":[\"I2 = 3.0 A\"],\"textposition\":\"top center\",\"visible\":false,\"x\":[5],\"y\":[2.5],\"type\":\"scatter\"},{\"marker\":{\"color\":\"blue\",\"size\":10},\"mode\":\"markers+text\",\"showlegend\":false,\"text\":[\"I3 = 4.50 A\"],\"textposition\":\"top center\",\"visible\":false,\"x\":[5],\"y\":[1.5],\"type\":\"scatter\"},{\"mode\":\"text\",\"showlegend\":false,\"text\":[\"V1 = 12 V\"],\"textfont\":{\"color\":\"purple\"},\"textposition\":\"top center\",\"visible\":false,\"x\":[3],\"y\":[3.2],\"type\":\"scatter\"},{\"mode\":\"text\",\"showlegend\":false,\"text\":[\"V2 = 7 V\"],\"textfont\":{\"color\":\"purple\"},\"textposition\":\"top center\",\"visible\":false,\"x\":[5.5],\"y\":[1],\"type\":\"scatter\"},{\"mode\":\"text\",\"showlegend\":false,\"text\":[\"V3 = 5 V (calc)\"],\"textfont\":{\"color\":\"purple\"},\"textposition\":\"top center\",\"visible\":false,\"x\":[0.5],\"y\":[1],\"type\":\"scatter\"},{\"line\":{\"color\":\"black\"},\"mode\":\"lines\",\"showlegend\":false,\"visible\":false,\"x\":[1,5,5,1,1],\"y\":[2,2,3,3,2],\"type\":\"scatter\"},{\"marker\":{\"color\":\"red\",\"size\":10},\"mode\":\"markers+text\",\"showlegend\":false,\"text\":[\"I1 = 8.0 A\"],\"textposition\":\"top center\",\"visible\":false,\"x\":[1],\"y\":[2],\"type\":\"scatter\"},{\"marker\":{\"color\":\"green\",\"size\":10},\"mode\":\"markers+text\",\"showlegend\":false,\"text\":[\"I2 = 3.0 A\"],\"textposition\":\"top center\",\"visible\":false,\"x\":[5],\"y\":[2.5],\"type\":\"scatter\"},{\"marker\":{\"color\":\"blue\",\"size\":10},\"mode\":\"markers+text\",\"showlegend\":false,\"text\":[\"I3 = 5.00 A\"],\"textposition\":\"top center\",\"visible\":false,\"x\":[5],\"y\":[1.5],\"type\":\"scatter\"},{\"mode\":\"text\",\"showlegend\":false,\"text\":[\"V1 = 12 V\"],\"textfont\":{\"color\":\"purple\"},\"textposition\":\"top center\",\"visible\":false,\"x\":[3],\"y\":[3.2],\"type\":\"scatter\"},{\"mode\":\"text\",\"showlegend\":false,\"text\":[\"V2 = 7 V\"],\"textfont\":{\"color\":\"purple\"},\"textposition\":\"top center\",\"visible\":false,\"x\":[5.5],\"y\":[1],\"type\":\"scatter\"},{\"mode\":\"text\",\"showlegend\":false,\"text\":[\"V3 = 5 V (calc)\"],\"textfont\":{\"color\":\"purple\"},\"textposition\":\"top center\",\"visible\":false,\"x\":[0.5],\"y\":[1],\"type\":\"scatter\"},{\"line\":{\"color\":\"black\"},\"mode\":\"lines\",\"showlegend\":false,\"visible\":false,\"x\":[1,5,5,1,1],\"y\":[2,2,3,3,2],\"type\":\"scatter\"},{\"marker\":{\"color\":\"red\",\"size\":10},\"mode\":\"markers+text\",\"showlegend\":false,\"text\":[\"I1 = 8.5 A\"],\"textposition\":\"top center\",\"visible\":false,\"x\":[1],\"y\":[2],\"type\":\"scatter\"},{\"marker\":{\"color\":\"green\",\"size\":10},\"mode\":\"markers+text\",\"showlegend\":false,\"text\":[\"I2 = 3.0 A\"],\"textposition\":\"top center\",\"visible\":false,\"x\":[5],\"y\":[2.5],\"type\":\"scatter\"},{\"marker\":{\"color\":\"blue\",\"size\":10},\"mode\":\"markers+text\",\"showlegend\":false,\"text\":[\"I3 = 5.50 A\"],\"textposition\":\"top center\",\"visible\":false,\"x\":[5],\"y\":[1.5],\"type\":\"scatter\"},{\"mode\":\"text\",\"showlegend\":false,\"text\":[\"V1 = 12 V\"],\"textfont\":{\"color\":\"purple\"},\"textposition\":\"top center\",\"visible\":false,\"x\":[3],\"y\":[3.2],\"type\":\"scatter\"},{\"mode\":\"text\",\"showlegend\":false,\"text\":[\"V2 = 7 V\"],\"textfont\":{\"color\":\"purple\"},\"textposition\":\"top center\",\"visible\":false,\"x\":[5.5],\"y\":[1],\"type\":\"scatter\"},{\"mode\":\"text\",\"showlegend\":false,\"text\":[\"V3 = 5 V (calc)\"],\"textfont\":{\"color\":\"purple\"},\"textposition\":\"top center\",\"visible\":false,\"x\":[0.5],\"y\":[1],\"type\":\"scatter\"},{\"line\":{\"color\":\"black\"},\"mode\":\"lines\",\"showlegend\":false,\"visible\":false,\"x\":[1,5,5,1,1],\"y\":[2,2,3,3,2],\"type\":\"scatter\"},{\"marker\":{\"color\":\"red\",\"size\":10},\"mode\":\"markers+text\",\"showlegend\":false,\"text\":[\"I1 = 9.0 A\"],\"textposition\":\"top center\",\"visible\":false,\"x\":[1],\"y\":[2],\"type\":\"scatter\"},{\"marker\":{\"color\":\"green\",\"size\":10},\"mode\":\"markers+text\",\"showlegend\":false,\"text\":[\"I2 = 3.0 A\"],\"textposition\":\"top center\",\"visible\":false,\"x\":[5],\"y\":[2.5],\"type\":\"scatter\"},{\"marker\":{\"color\":\"blue\",\"size\":10},\"mode\":\"markers+text\",\"showlegend\":false,\"text\":[\"I3 = 6.00 A\"],\"textposition\":\"top center\",\"visible\":false,\"x\":[5],\"y\":[1.5],\"type\":\"scatter\"},{\"mode\":\"text\",\"showlegend\":false,\"text\":[\"V1 = 12 V\"],\"textfont\":{\"color\":\"purple\"},\"textposition\":\"top center\",\"visible\":false,\"x\":[3],\"y\":[3.2],\"type\":\"scatter\"},{\"mode\":\"text\",\"showlegend\":false,\"text\":[\"V2 = 7 V\"],\"textfont\":{\"color\":\"purple\"},\"textposition\":\"top center\",\"visible\":false,\"x\":[5.5],\"y\":[1],\"type\":\"scatter\"},{\"mode\":\"text\",\"showlegend\":false,\"text\":[\"V3 = 5 V (calc)\"],\"textfont\":{\"color\":\"purple\"},\"textposition\":\"top center\",\"visible\":false,\"x\":[0.5],\"y\":[1],\"type\":\"scatter\"},{\"line\":{\"color\":\"black\"},\"mode\":\"lines\",\"showlegend\":false,\"visible\":false,\"x\":[1,5,5,1,1],\"y\":[2,2,3,3,2],\"type\":\"scatter\"},{\"marker\":{\"color\":\"red\",\"size\":10},\"mode\":\"markers+text\",\"showlegend\":false,\"text\":[\"I1 = 9.5 A\"],\"textposition\":\"top center\",\"visible\":false,\"x\":[1],\"y\":[2],\"type\":\"scatter\"},{\"marker\":{\"color\":\"green\",\"size\":10},\"mode\":\"markers+text\",\"showlegend\":false,\"text\":[\"I2 = 3.0 A\"],\"textposition\":\"top center\",\"visible\":false,\"x\":[5],\"y\":[2.5],\"type\":\"scatter\"},{\"marker\":{\"color\":\"blue\",\"size\":10},\"mode\":\"markers+text\",\"showlegend\":false,\"text\":[\"I3 = 6.50 A\"],\"textposition\":\"top center\",\"visible\":false,\"x\":[5],\"y\":[1.5],\"type\":\"scatter\"},{\"mode\":\"text\",\"showlegend\":false,\"text\":[\"V1 = 12 V\"],\"textfont\":{\"color\":\"purple\"},\"textposition\":\"top center\",\"visible\":false,\"x\":[3],\"y\":[3.2],\"type\":\"scatter\"},{\"mode\":\"text\",\"showlegend\":false,\"text\":[\"V2 = 7 V\"],\"textfont\":{\"color\":\"purple\"},\"textposition\":\"top center\",\"visible\":false,\"x\":[5.5],\"y\":[1],\"type\":\"scatter\"},{\"mode\":\"text\",\"showlegend\":false,\"text\":[\"V3 = 5 V (calc)\"],\"textfont\":{\"color\":\"purple\"},\"textposition\":\"top center\",\"visible\":false,\"x\":[0.5],\"y\":[1],\"type\":\"scatter\"},{\"line\":{\"color\":\"black\"},\"mode\":\"lines\",\"showlegend\":false,\"visible\":false,\"x\":[1,5,5,1,1],\"y\":[2,2,3,3,2],\"type\":\"scatter\"},{\"marker\":{\"color\":\"red\",\"size\":10},\"mode\":\"markers+text\",\"showlegend\":false,\"text\":[\"I1 = 10.0 A\"],\"textposition\":\"top center\",\"visible\":false,\"x\":[1],\"y\":[2],\"type\":\"scatter\"},{\"marker\":{\"color\":\"green\",\"size\":10},\"mode\":\"markers+text\",\"showlegend\":false,\"text\":[\"I2 = 3.0 A\"],\"textposition\":\"top center\",\"visible\":false,\"x\":[5],\"y\":[2.5],\"type\":\"scatter\"},{\"marker\":{\"color\":\"blue\",\"size\":10},\"mode\":\"markers+text\",\"showlegend\":false,\"text\":[\"I3 = 7.00 A\"],\"textposition\":\"top center\",\"visible\":false,\"x\":[5],\"y\":[1.5],\"type\":\"scatter\"},{\"mode\":\"text\",\"showlegend\":false,\"text\":[\"V1 = 12 V\"],\"textfont\":{\"color\":\"purple\"},\"textposition\":\"top center\",\"visible\":false,\"x\":[3],\"y\":[3.2],\"type\":\"scatter\"},{\"mode\":\"text\",\"showlegend\":false,\"text\":[\"V2 = 7 V\"],\"textfont\":{\"color\":\"purple\"},\"textposition\":\"top center\",\"visible\":false,\"x\":[5.5],\"y\":[1],\"type\":\"scatter\"},{\"mode\":\"text\",\"showlegend\":false,\"text\":[\"V3 = 5 V (calc)\"],\"textfont\":{\"color\":\"purple\"},\"textposition\":\"top center\",\"visible\":false,\"x\":[0.5],\"y\":[1],\"type\":\"scatter\"}],                        {\"template\":{\"data\":{\"histogram2dcontour\":[{\"type\":\"histogram2dcontour\",\"colorbar\":{\"outlinewidth\":0,\"ticks\":\"\"},\"colorscale\":[[0.0,\"#0d0887\"],[0.1111111111111111,\"#46039f\"],[0.2222222222222222,\"#7201a8\"],[0.3333333333333333,\"#9c179e\"],[0.4444444444444444,\"#bd3786\"],[0.5555555555555556,\"#d8576b\"],[0.6666666666666666,\"#ed7953\"],[0.7777777777777778,\"#fb9f3a\"],[0.8888888888888888,\"#fdca26\"],[1.0,\"#f0f921\"]]}],\"choropleth\":[{\"type\":\"choropleth\",\"colorbar\":{\"outlinewidth\":0,\"ticks\":\"\"}}],\"histogram2d\":[{\"type\":\"histogram2d\",\"colorbar\":{\"outlinewidth\":0,\"ticks\":\"\"},\"colorscale\":[[0.0,\"#0d0887\"],[0.1111111111111111,\"#46039f\"],[0.2222222222222222,\"#7201a8\"],[0.3333333333333333,\"#9c179e\"],[0.4444444444444444,\"#bd3786\"],[0.5555555555555556,\"#d8576b\"],[0.6666666666666666,\"#ed7953\"],[0.7777777777777778,\"#fb9f3a\"],[0.8888888888888888,\"#fdca26\"],[1.0,\"#f0f921\"]]}],\"heatmap\":[{\"type\":\"heatmap\",\"colorbar\":{\"outlinewidth\":0,\"ticks\":\"\"},\"colorscale\":[[0.0,\"#0d0887\"],[0.1111111111111111,\"#46039f\"],[0.2222222222222222,\"#7201a8\"],[0.3333333333333333,\"#9c179e\"],[0.4444444444444444,\"#bd3786\"],[0.5555555555555556,\"#d8576b\"],[0.6666666666666666,\"#ed7953\"],[0.7777777777777778,\"#fb9f3a\"],[0.8888888888888888,\"#fdca26\"],[1.0,\"#f0f921\"]]}],\"heatmapgl\":[{\"type\":\"heatmapgl\",\"colorbar\":{\"outlinewidth\":0,\"ticks\":\"\"},\"colorscale\":[[0.0,\"#0d0887\"],[0.1111111111111111,\"#46039f\"],[0.2222222222222222,\"#7201a8\"],[0.3333333333333333,\"#9c179e\"],[0.4444444444444444,\"#bd3786\"],[0.5555555555555556,\"#d8576b\"],[0.6666666666666666,\"#ed7953\"],[0.7777777777777778,\"#fb9f3a\"],[0.8888888888888888,\"#fdca26\"],[1.0,\"#f0f921\"]]}],\"contourcarpet\":[{\"type\":\"contourcarpet\",\"colorbar\":{\"outlinewidth\":0,\"ticks\":\"\"}}],\"contour\":[{\"type\":\"contour\",\"colorbar\":{\"outlinewidth\":0,\"ticks\":\"\"},\"colorscale\":[[0.0,\"#0d0887\"],[0.1111111111111111,\"#46039f\"],[0.2222222222222222,\"#7201a8\"],[0.3333333333333333,\"#9c179e\"],[0.4444444444444444,\"#bd3786\"],[0.5555555555555556,\"#d8576b\"],[0.6666666666666666,\"#ed7953\"],[0.7777777777777778,\"#fb9f3a\"],[0.8888888888888888,\"#fdca26\"],[1.0,\"#f0f921\"]]}],\"surface\":[{\"type\":\"surface\",\"colorbar\":{\"outlinewidth\":0,\"ticks\":\"\"},\"colorscale\":[[0.0,\"#0d0887\"],[0.1111111111111111,\"#46039f\"],[0.2222222222222222,\"#7201a8\"],[0.3333333333333333,\"#9c179e\"],[0.4444444444444444,\"#bd3786\"],[0.5555555555555556,\"#d8576b\"],[0.6666666666666666,\"#ed7953\"],[0.7777777777777778,\"#fb9f3a\"],[0.8888888888888888,\"#fdca26\"],[1.0,\"#f0f921\"]]}],\"mesh3d\":[{\"type\":\"mesh3d\",\"colorbar\":{\"outlinewidth\":0,\"ticks\":\"\"}}],\"scatter\":[{\"fillpattern\":{\"fillmode\":\"overlay\",\"size\":10,\"solidity\":0.2},\"type\":\"scatter\"}],\"parcoords\":[{\"type\":\"parcoords\",\"line\":{\"colorbar\":{\"outlinewidth\":0,\"ticks\":\"\"}}}],\"scatterpolargl\":[{\"type\":\"scatterpolargl\",\"marker\":{\"colorbar\":{\"outlinewidth\":0,\"ticks\":\"\"}}}],\"bar\":[{\"error_x\":{\"color\":\"#2a3f5f\"},\"error_y\":{\"color\":\"#2a3f5f\"},\"marker\":{\"line\":{\"color\":\"#E5ECF6\",\"width\":0.5},\"pattern\":{\"fillmode\":\"overlay\",\"size\":10,\"solidity\":0.2}},\"type\":\"bar\"}],\"scattergeo\":[{\"type\":\"scattergeo\",\"marker\":{\"colorbar\":{\"outlinewidth\":0,\"ticks\":\"\"}}}],\"scatterpolar\":[{\"type\":\"scatterpolar\",\"marker\":{\"colorbar\":{\"outlinewidth\":0,\"ticks\":\"\"}}}],\"histogram\":[{\"marker\":{\"pattern\":{\"fillmode\":\"overlay\",\"size\":10,\"solidity\":0.2}},\"type\":\"histogram\"}],\"scattergl\":[{\"type\":\"scattergl\",\"marker\":{\"colorbar\":{\"outlinewidth\":0,\"ticks\":\"\"}}}],\"scatter3d\":[{\"type\":\"scatter3d\",\"line\":{\"colorbar\":{\"outlinewidth\":0,\"ticks\":\"\"}},\"marker\":{\"colorbar\":{\"outlinewidth\":0,\"ticks\":\"\"}}}],\"scattermapbox\":[{\"type\":\"scattermapbox\",\"marker\":{\"colorbar\":{\"outlinewidth\":0,\"ticks\":\"\"}}}],\"scatterternary\":[{\"type\":\"scatterternary\",\"marker\":{\"colorbar\":{\"outlinewidth\":0,\"ticks\":\"\"}}}],\"scattercarpet\":[{\"type\":\"scattercarpet\",\"marker\":{\"colorbar\":{\"outlinewidth\":0,\"ticks\":\"\"}}}],\"carpet\":[{\"aaxis\":{\"endlinecolor\":\"#2a3f5f\",\"gridcolor\":\"white\",\"linecolor\":\"white\",\"minorgridcolor\":\"white\",\"startlinecolor\":\"#2a3f5f\"},\"baxis\":{\"endlinecolor\":\"#2a3f5f\",\"gridcolor\":\"white\",\"linecolor\":\"white\",\"minorgridcolor\":\"white\",\"startlinecolor\":\"#2a3f5f\"},\"type\":\"carpet\"}],\"table\":[{\"cells\":{\"fill\":{\"color\":\"#EBF0F8\"},\"line\":{\"color\":\"white\"}},\"header\":{\"fill\":{\"color\":\"#C8D4E3\"},\"line\":{\"color\":\"white\"}},\"type\":\"table\"}],\"barpolar\":[{\"marker\":{\"line\":{\"color\":\"#E5ECF6\",\"width\":0.5},\"pattern\":{\"fillmode\":\"overlay\",\"size\":10,\"solidity\":0.2}},\"type\":\"barpolar\"}],\"pie\":[{\"automargin\":true,\"type\":\"pie\"}]},\"layout\":{\"autotypenumbers\":\"strict\",\"colorway\":[\"#636efa\",\"#EF553B\",\"#00cc96\",\"#ab63fa\",\"#FFA15A\",\"#19d3f3\",\"#FF6692\",\"#B6E880\",\"#FF97FF\",\"#FECB52\"],\"font\":{\"color\":\"#2a3f5f\"},\"hovermode\":\"closest\",\"hoverlabel\":{\"align\":\"left\"},\"paper_bgcolor\":\"white\",\"plot_bgcolor\":\"#E5ECF6\",\"polar\":{\"bgcolor\":\"#E5ECF6\",\"angularaxis\":{\"gridcolor\":\"white\",\"linecolor\":\"white\",\"ticks\":\"\"},\"radialaxis\":{\"gridcolor\":\"white\",\"linecolor\":\"white\",\"ticks\":\"\"}},\"ternary\":{\"bgcolor\":\"#E5ECF6\",\"aaxis\":{\"gridcolor\":\"white\",\"linecolor\":\"white\",\"ticks\":\"\"},\"baxis\":{\"gridcolor\":\"white\",\"linecolor\":\"white\",\"ticks\":\"\"},\"caxis\":{\"gridcolor\":\"white\",\"linecolor\":\"white\",\"ticks\":\"\"}},\"coloraxis\":{\"colorbar\":{\"outlinewidth\":0,\"ticks\":\"\"}},\"colorscale\":{\"sequential\":[[0.0,\"#0d0887\"],[0.1111111111111111,\"#46039f\"],[0.2222222222222222,\"#7201a8\"],[0.3333333333333333,\"#9c179e\"],[0.4444444444444444,\"#bd3786\"],[0.5555555555555556,\"#d8576b\"],[0.6666666666666666,\"#ed7953\"],[0.7777777777777778,\"#fb9f3a\"],[0.8888888888888888,\"#fdca26\"],[1.0,\"#f0f921\"]],\"sequentialminus\":[[0.0,\"#0d0887\"],[0.1111111111111111,\"#46039f\"],[0.2222222222222222,\"#7201a8\"],[0.3333333333333333,\"#9c179e\"],[0.4444444444444444,\"#bd3786\"],[0.5555555555555556,\"#d8576b\"],[0.6666666666666666,\"#ed7953\"],[0.7777777777777778,\"#fb9f3a\"],[0.8888888888888888,\"#fdca26\"],[1.0,\"#f0f921\"]],\"diverging\":[[0,\"#8e0152\"],[0.1,\"#c51b7d\"],[0.2,\"#de77ae\"],[0.3,\"#f1b6da\"],[0.4,\"#fde0ef\"],[0.5,\"#f7f7f7\"],[0.6,\"#e6f5d0\"],[0.7,\"#b8e186\"],[0.8,\"#7fbc41\"],[0.9,\"#4d9221\"],[1,\"#276419\"]]},\"xaxis\":{\"gridcolor\":\"white\",\"linecolor\":\"white\",\"ticks\":\"\",\"title\":{\"standoff\":15},\"zerolinecolor\":\"white\",\"automargin\":true,\"zerolinewidth\":2},\"yaxis\":{\"gridcolor\":\"white\",\"linecolor\":\"white\",\"ticks\":\"\",\"title\":{\"standoff\":15},\"zerolinecolor\":\"white\",\"automargin\":true,\"zerolinewidth\":2},\"scene\":{\"xaxis\":{\"backgroundcolor\":\"#E5ECF6\",\"gridcolor\":\"white\",\"linecolor\":\"white\",\"showbackground\":true,\"ticks\":\"\",\"zerolinecolor\":\"white\",\"gridwidth\":2},\"yaxis\":{\"backgroundcolor\":\"#E5ECF6\",\"gridcolor\":\"white\",\"linecolor\":\"white\",\"showbackground\":true,\"ticks\":\"\",\"zerolinecolor\":\"white\",\"gridwidth\":2},\"zaxis\":{\"backgroundcolor\":\"#E5ECF6\",\"gridcolor\":\"white\",\"linecolor\":\"white\",\"showbackground\":true,\"ticks\":\"\",\"zerolinecolor\":\"white\",\"gridwidth\":2}},\"shapedefaults\":{\"line\":{\"color\":\"#2a3f5f\"}},\"annotationdefaults\":{\"arrowcolor\":\"#2a3f5f\",\"arrowhead\":0,\"arrowwidth\":1},\"geo\":{\"bgcolor\":\"white\",\"landcolor\":\"#E5ECF6\",\"subunitcolor\":\"white\",\"showland\":true,\"showlakes\":true,\"lakecolor\":\"white\"},\"title\":{\"x\":0.05},\"mapbox\":{\"style\":\"light\"}}},\"xaxis\":{\"range\":[0,6],\"zeroline\":false,\"visible\":false},\"yaxis\":{\"range\":[0,4],\"zeroline\":false,\"visible\":false},\"sliders\":[{\"active\":0,\"currentvalue\":{\"prefix\":\"I1 Current: \"},\"pad\":{\"t\":50},\"steps\":[{\"args\":[{\"visible\":[true,true,true,true,true,true,true,false,false,false,false,false,false,false,false,false,false,false,false,false,false,false,false,false,false,false,false,false,false,false,false,false,false,false,false,false,false,false,false,false,false,false,false,false,false,false,false,false,false,false,false,false,false,false,false,false,false,false,false,false,false,false,false,false,false,false,false,false,false,false,false,false,false,false,false,false,false,false,false,false,false,false,false,false,false,false,false,false,false,false,false,false,false,false,false,false,false,false,false,false,false,false,false,false,false,false,false,false,false,false,false,false,false,false,false,false,false,false,false,false,false,false,false,false,false,false,false,false,false,false,false,false,false,false,false,false,false,false,false,false,false,false,false,false,false,false,false]},{\"title\":\"Kirchhoff\\u2019s Laws Demo: I1 = 0.0 A\"}],\"label\":\"0.0 A\",\"method\":\"update\"},{\"args\":[{\"visible\":[false,false,false,false,false,false,false,true,true,true,true,true,true,true,false,false,false,false,false,false,false,false,false,false,false,false,false,false,false,false,false,false,false,false,false,false,false,false,false,false,false,false,false,false,false,false,false,false,false,false,false,false,false,false,false,false,false,false,false,false,false,false,false,false,false,false,false,false,false,false,false,false,false,false,false,false,false,false,false,false,false,false,false,false,false,false,false,false,false,false,false,false,false,false,false,false,false,false,false,false,false,false,false,false,false,false,false,false,false,false,false,false,false,false,false,false,false,false,false,false,false,false,false,false,false,false,false,false,false,false,false,false,false,false,false,false,false,false,false,false,false,false,false,false,false,false,false]},{\"title\":\"Kirchhoff\\u2019s Laws Demo: I1 = 0.5 A\"}],\"label\":\"0.5 A\",\"method\":\"update\"},{\"args\":[{\"visible\":[false,false,false,false,false,false,false,false,false,false,false,false,false,false,true,true,true,true,true,true,true,false,false,false,false,false,false,false,false,false,false,false,false,false,false,false,false,false,false,false,false,false,false,false,false,false,false,false,false,false,false,false,false,false,false,false,false,false,false,false,false,false,false,false,false,false,false,false,false,false,false,false,false,false,false,false,false,false,false,false,false,false,false,false,false,false,false,false,false,false,false,false,false,false,false,false,false,false,false,false,false,false,false,false,false,false,false,false,false,false,false,false,false,false,false,false,false,false,false,false,false,false,false,false,false,false,false,false,false,false,false,false,false,false,false,false,false,false,false,false,false,false,false,false,false,false,false]},{\"title\":\"Kirchhoff\\u2019s Laws Demo: I1 = 1.0 A\"}],\"label\":\"1.0 A\",\"method\":\"update\"},{\"args\":[{\"visible\":[false,false,false,false,false,false,false,false,false,false,false,false,false,false,false,false,false,false,false,false,false,true,true,true,true,true,true,true,false,false,false,false,false,false,false,false,false,false,false,false,false,false,false,false,false,false,false,false,false,false,false,false,false,false,false,false,false,false,false,false,false,false,false,false,false,false,false,false,false,false,false,false,false,false,false,false,false,false,false,false,false,false,false,false,false,false,false,false,false,false,false,false,false,false,false,false,false,false,false,false,false,false,false,false,false,false,false,false,false,false,false,false,false,false,false,false,false,false,false,false,false,false,false,false,false,false,false,false,false,false,false,false,false,false,false,false,false,false,false,false,false,false,false,false,false,false,false]},{\"title\":\"Kirchhoff\\u2019s Laws Demo: I1 = 1.5 A\"}],\"label\":\"1.5 A\",\"method\":\"update\"},{\"args\":[{\"visible\":[false,false,false,false,false,false,false,false,false,false,false,false,false,false,false,false,false,false,false,false,false,false,false,false,false,false,false,false,true,true,true,true,true,true,true,false,false,false,false,false,false,false,false,false,false,false,false,false,false,false,false,false,false,false,false,false,false,false,false,false,false,false,false,false,false,false,false,false,false,false,false,false,false,false,false,false,false,false,false,false,false,false,false,false,false,false,false,false,false,false,false,false,false,false,false,false,false,false,false,false,false,false,false,false,false,false,false,false,false,false,false,false,false,false,false,false,false,false,false,false,false,false,false,false,false,false,false,false,false,false,false,false,false,false,false,false,false,false,false,false,false,false,false,false,false,false,false]},{\"title\":\"Kirchhoff\\u2019s Laws Demo: I1 = 2.0 A\"}],\"label\":\"2.0 A\",\"method\":\"update\"},{\"args\":[{\"visible\":[false,false,false,false,false,false,false,false,false,false,false,false,false,false,false,false,false,false,false,false,false,false,false,false,false,false,false,false,false,false,false,false,false,false,false,true,true,true,true,true,true,true,false,false,false,false,false,false,false,false,false,false,false,false,false,false,false,false,false,false,false,false,false,false,false,false,false,false,false,false,false,false,false,false,false,false,false,false,false,false,false,false,false,false,false,false,false,false,false,false,false,false,false,false,false,false,false,false,false,false,false,false,false,false,false,false,false,false,false,false,false,false,false,false,false,false,false,false,false,false,false,false,false,false,false,false,false,false,false,false,false,false,false,false,false,false,false,false,false,false,false,false,false,false,false,false,false]},{\"title\":\"Kirchhoff\\u2019s Laws Demo: I1 = 2.5 A\"}],\"label\":\"2.5 A\",\"method\":\"update\"},{\"args\":[{\"visible\":[false,false,false,false,false,false,false,false,false,false,false,false,false,false,false,false,false,false,false,false,false,false,false,false,false,false,false,false,false,false,false,false,false,false,false,false,false,false,false,false,false,false,true,true,true,true,true,true,true,false,false,false,false,false,false,false,false,false,false,false,false,false,false,false,false,false,false,false,false,false,false,false,false,false,false,false,false,false,false,false,false,false,false,false,false,false,false,false,false,false,false,false,false,false,false,false,false,false,false,false,false,false,false,false,false,false,false,false,false,false,false,false,false,false,false,false,false,false,false,false,false,false,false,false,false,false,false,false,false,false,false,false,false,false,false,false,false,false,false,false,false,false,false,false,false,false,false]},{\"title\":\"Kirchhoff\\u2019s Laws Demo: I1 = 3.0 A\"}],\"label\":\"3.0 A\",\"method\":\"update\"},{\"args\":[{\"visible\":[false,false,false,false,false,false,false,false,false,false,false,false,false,false,false,false,false,false,false,false,false,false,false,false,false,false,false,false,false,false,false,false,false,false,false,false,false,false,false,false,false,false,false,false,false,false,false,false,false,true,true,true,true,true,true,true,false,false,false,false,false,false,false,false,false,false,false,false,false,false,false,false,false,false,false,false,false,false,false,false,false,false,false,false,false,false,false,false,false,false,false,false,false,false,false,false,false,false,false,false,false,false,false,false,false,false,false,false,false,false,false,false,false,false,false,false,false,false,false,false,false,false,false,false,false,false,false,false,false,false,false,false,false,false,false,false,false,false,false,false,false,false,false,false,false,false,false]},{\"title\":\"Kirchhoff\\u2019s Laws Demo: I1 = 3.5 A\"}],\"label\":\"3.5 A\",\"method\":\"update\"},{\"args\":[{\"visible\":[false,false,false,false,false,false,false,false,false,false,false,false,false,false,false,false,false,false,false,false,false,false,false,false,false,false,false,false,false,false,false,false,false,false,false,false,false,false,false,false,false,false,false,false,false,false,false,false,false,false,false,false,false,false,false,false,true,true,true,true,true,true,true,false,false,false,false,false,false,false,false,false,false,false,false,false,false,false,false,false,false,false,false,false,false,false,false,false,false,false,false,false,false,false,false,false,false,false,false,false,false,false,false,false,false,false,false,false,false,false,false,false,false,false,false,false,false,false,false,false,false,false,false,false,false,false,false,false,false,false,false,false,false,false,false,false,false,false,false,false,false,false,false,false,false,false,false]},{\"title\":\"Kirchhoff\\u2019s Laws Demo: I1 = 4.0 A\"}],\"label\":\"4.0 A\",\"method\":\"update\"},{\"args\":[{\"visible\":[false,false,false,false,false,false,false,false,false,false,false,false,false,false,false,false,false,false,false,false,false,false,false,false,false,false,false,false,false,false,false,false,false,false,false,false,false,false,false,false,false,false,false,false,false,false,false,false,false,false,false,false,false,false,false,false,false,false,false,false,false,false,false,true,true,true,true,true,true,true,false,false,false,false,false,false,false,false,false,false,false,false,false,false,false,false,false,false,false,false,false,false,false,false,false,false,false,false,false,false,false,false,false,false,false,false,false,false,false,false,false,false,false,false,false,false,false,false,false,false,false,false,false,false,false,false,false,false,false,false,false,false,false,false,false,false,false,false,false,false,false,false,false,false,false,false,false]},{\"title\":\"Kirchhoff\\u2019s Laws Demo: I1 = 4.5 A\"}],\"label\":\"4.5 A\",\"method\":\"update\"},{\"args\":[{\"visible\":[false,false,false,false,false,false,false,false,false,false,false,false,false,false,false,false,false,false,false,false,false,false,false,false,false,false,false,false,false,false,false,false,false,false,false,false,false,false,false,false,false,false,false,false,false,false,false,false,false,false,false,false,false,false,false,false,false,false,false,false,false,false,false,false,false,false,false,false,false,false,true,true,true,true,true,true,true,false,false,false,false,false,false,false,false,false,false,false,false,false,false,false,false,false,false,false,false,false,false,false,false,false,false,false,false,false,false,false,false,false,false,false,false,false,false,false,false,false,false,false,false,false,false,false,false,false,false,false,false,false,false,false,false,false,false,false,false,false,false,false,false,false,false,false,false,false,false]},{\"title\":\"Kirchhoff\\u2019s Laws Demo: I1 = 5.0 A\"}],\"label\":\"5.0 A\",\"method\":\"update\"},{\"args\":[{\"visible\":[false,false,false,false,false,false,false,false,false,false,false,false,false,false,false,false,false,false,false,false,false,false,false,false,false,false,false,false,false,false,false,false,false,false,false,false,false,false,false,false,false,false,false,false,false,false,false,false,false,false,false,false,false,false,false,false,false,false,false,false,false,false,false,false,false,false,false,false,false,false,false,false,false,false,false,false,false,true,true,true,true,true,true,true,false,false,false,false,false,false,false,false,false,false,false,false,false,false,false,false,false,false,false,false,false,false,false,false,false,false,false,false,false,false,false,false,false,false,false,false,false,false,false,false,false,false,false,false,false,false,false,false,false,false,false,false,false,false,false,false,false,false,false,false,false,false,false]},{\"title\":\"Kirchhoff\\u2019s Laws Demo: I1 = 5.5 A\"}],\"label\":\"5.5 A\",\"method\":\"update\"},{\"args\":[{\"visible\":[false,false,false,false,false,false,false,false,false,false,false,false,false,false,false,false,false,false,false,false,false,false,false,false,false,false,false,false,false,false,false,false,false,false,false,false,false,false,false,false,false,false,false,false,false,false,false,false,false,false,false,false,false,false,false,false,false,false,false,false,false,false,false,false,false,false,false,false,false,false,false,false,false,false,false,false,false,false,false,false,false,false,false,false,true,true,true,true,true,true,true,false,false,false,false,false,false,false,false,false,false,false,false,false,false,false,false,false,false,false,false,false,false,false,false,false,false,false,false,false,false,false,false,false,false,false,false,false,false,false,false,false,false,false,false,false,false,false,false,false,false,false,false,false,false,false,false]},{\"title\":\"Kirchhoff\\u2019s Laws Demo: I1 = 6.0 A\"}],\"label\":\"6.0 A\",\"method\":\"update\"},{\"args\":[{\"visible\":[false,false,false,false,false,false,false,false,false,false,false,false,false,false,false,false,false,false,false,false,false,false,false,false,false,false,false,false,false,false,false,false,false,false,false,false,false,false,false,false,false,false,false,false,false,false,false,false,false,false,false,false,false,false,false,false,false,false,false,false,false,false,false,false,false,false,false,false,false,false,false,false,false,false,false,false,false,false,false,false,false,false,false,false,false,false,false,false,false,false,false,true,true,true,true,true,true,true,false,false,false,false,false,false,false,false,false,false,false,false,false,false,false,false,false,false,false,false,false,false,false,false,false,false,false,false,false,false,false,false,false,false,false,false,false,false,false,false,false,false,false,false,false,false,false,false,false]},{\"title\":\"Kirchhoff\\u2019s Laws Demo: I1 = 6.5 A\"}],\"label\":\"6.5 A\",\"method\":\"update\"},{\"args\":[{\"visible\":[false,false,false,false,false,false,false,false,false,false,false,false,false,false,false,false,false,false,false,false,false,false,false,false,false,false,false,false,false,false,false,false,false,false,false,false,false,false,false,false,false,false,false,false,false,false,false,false,false,false,false,false,false,false,false,false,false,false,false,false,false,false,false,false,false,false,false,false,false,false,false,false,false,false,false,false,false,false,false,false,false,false,false,false,false,false,false,false,false,false,false,false,false,false,false,false,false,false,true,true,true,true,true,true,true,false,false,false,false,false,false,false,false,false,false,false,false,false,false,false,false,false,false,false,false,false,false,false,false,false,false,false,false,false,false,false,false,false,false,false,false,false,false,false,false,false,false]},{\"title\":\"Kirchhoff\\u2019s Laws Demo: I1 = 7.0 A\"}],\"label\":\"7.0 A\",\"method\":\"update\"},{\"args\":[{\"visible\":[false,false,false,false,false,false,false,false,false,false,false,false,false,false,false,false,false,false,false,false,false,false,false,false,false,false,false,false,false,false,false,false,false,false,false,false,false,false,false,false,false,false,false,false,false,false,false,false,false,false,false,false,false,false,false,false,false,false,false,false,false,false,false,false,false,false,false,false,false,false,false,false,false,false,false,false,false,false,false,false,false,false,false,false,false,false,false,false,false,false,false,false,false,false,false,false,false,false,false,false,false,false,false,false,false,true,true,true,true,true,true,true,false,false,false,false,false,false,false,false,false,false,false,false,false,false,false,false,false,false,false,false,false,false,false,false,false,false,false,false,false,false,false,false,false,false,false]},{\"title\":\"Kirchhoff\\u2019s Laws Demo: I1 = 7.5 A\"}],\"label\":\"7.5 A\",\"method\":\"update\"},{\"args\":[{\"visible\":[false,false,false,false,false,false,false,false,false,false,false,false,false,false,false,false,false,false,false,false,false,false,false,false,false,false,false,false,false,false,false,false,false,false,false,false,false,false,false,false,false,false,false,false,false,false,false,false,false,false,false,false,false,false,false,false,false,false,false,false,false,false,false,false,false,false,false,false,false,false,false,false,false,false,false,false,false,false,false,false,false,false,false,false,false,false,false,false,false,false,false,false,false,false,false,false,false,false,false,false,false,false,false,false,false,false,false,false,false,false,false,false,true,true,true,true,true,true,true,false,false,false,false,false,false,false,false,false,false,false,false,false,false,false,false,false,false,false,false,false,false,false,false,false,false,false,false]},{\"title\":\"Kirchhoff\\u2019s Laws Demo: I1 = 8.0 A\"}],\"label\":\"8.0 A\",\"method\":\"update\"},{\"args\":[{\"visible\":[false,false,false,false,false,false,false,false,false,false,false,false,false,false,false,false,false,false,false,false,false,false,false,false,false,false,false,false,false,false,false,false,false,false,false,false,false,false,false,false,false,false,false,false,false,false,false,false,false,false,false,false,false,false,false,false,false,false,false,false,false,false,false,false,false,false,false,false,false,false,false,false,false,false,false,false,false,false,false,false,false,false,false,false,false,false,false,false,false,false,false,false,false,false,false,false,false,false,false,false,false,false,false,false,false,false,false,false,false,false,false,false,false,false,false,false,false,false,false,true,true,true,true,true,true,true,false,false,false,false,false,false,false,false,false,false,false,false,false,false,false,false,false,false,false,false,false]},{\"title\":\"Kirchhoff\\u2019s Laws Demo: I1 = 8.5 A\"}],\"label\":\"8.5 A\",\"method\":\"update\"},{\"args\":[{\"visible\":[false,false,false,false,false,false,false,false,false,false,false,false,false,false,false,false,false,false,false,false,false,false,false,false,false,false,false,false,false,false,false,false,false,false,false,false,false,false,false,false,false,false,false,false,false,false,false,false,false,false,false,false,false,false,false,false,false,false,false,false,false,false,false,false,false,false,false,false,false,false,false,false,false,false,false,false,false,false,false,false,false,false,false,false,false,false,false,false,false,false,false,false,false,false,false,false,false,false,false,false,false,false,false,false,false,false,false,false,false,false,false,false,false,false,false,false,false,false,false,false,false,false,false,false,false,false,true,true,true,true,true,true,true,false,false,false,false,false,false,false,false,false,false,false,false,false,false]},{\"title\":\"Kirchhoff\\u2019s Laws Demo: I1 = 9.0 A\"}],\"label\":\"9.0 A\",\"method\":\"update\"},{\"args\":[{\"visible\":[false,false,false,false,false,false,false,false,false,false,false,false,false,false,false,false,false,false,false,false,false,false,false,false,false,false,false,false,false,false,false,false,false,false,false,false,false,false,false,false,false,false,false,false,false,false,false,false,false,false,false,false,false,false,false,false,false,false,false,false,false,false,false,false,false,false,false,false,false,false,false,false,false,false,false,false,false,false,false,false,false,false,false,false,false,false,false,false,false,false,false,false,false,false,false,false,false,false,false,false,false,false,false,false,false,false,false,false,false,false,false,false,false,false,false,false,false,false,false,false,false,false,false,false,false,false,false,false,false,false,false,false,false,true,true,true,true,true,true,true,false,false,false,false,false,false,false]},{\"title\":\"Kirchhoff\\u2019s Laws Demo: I1 = 9.5 A\"}],\"label\":\"9.5 A\",\"method\":\"update\"},{\"args\":[{\"visible\":[false,false,false,false,false,false,false,false,false,false,false,false,false,false,false,false,false,false,false,false,false,false,false,false,false,false,false,false,false,false,false,false,false,false,false,false,false,false,false,false,false,false,false,false,false,false,false,false,false,false,false,false,false,false,false,false,false,false,false,false,false,false,false,false,false,false,false,false,false,false,false,false,false,false,false,false,false,false,false,false,false,false,false,false,false,false,false,false,false,false,false,false,false,false,false,false,false,false,false,false,false,false,false,false,false,false,false,false,false,false,false,false,false,false,false,false,false,false,false,false,false,false,false,false,false,false,false,false,false,false,false,false,false,false,false,false,false,false,false,false,true,true,true,true,true,true,true]},{\"title\":\"Kirchhoff\\u2019s Laws Demo: I1 = 10.0 A\"}],\"label\":\"10.0 A\",\"method\":\"update\"}]}],\"height\":400,\"width\":700,\"showlegend\":false},                        {\"responsive\": true}                    ).then(function(){\n",
       "                            \n",
       "var gd = document.getElementById('978cbf61-dffc-4e70-8858-ab79aa4551a2');\n",
       "var x = new MutationObserver(function (mutations, observer) {{\n",
       "        var display = window.getComputedStyle(gd).display;\n",
       "        if (!display || display === 'none') {{\n",
       "            console.log([gd, 'removed!']);\n",
       "            Plotly.purge(gd);\n",
       "            observer.disconnect();\n",
       "        }}\n",
       "}});\n",
       "\n",
       "// Listen for the removal of the full notebook cells\n",
       "var notebookContainer = gd.closest('#notebook-container');\n",
       "if (notebookContainer) {{\n",
       "    x.observe(notebookContainer, {childList: true});\n",
       "}}\n",
       "\n",
       "// Listen for the clearing of the current output cell\n",
       "var outputEl = gd.closest('.output');\n",
       "if (outputEl) {{\n",
       "    x.observe(outputEl, {childList: true});\n",
       "}}\n",
       "\n",
       "                        })                };                });            </script>        </div>"
      ]
     },
     "metadata": {},
     "output_type": "display_data"
    }
   ],
   "source": [
    "import plotly.graph_objects as go\n",
    "import numpy as np\n",
    "\n",
    "# Define possible discrete values for I1, I2, V1, V2\n",
    "I_values = np.linspace(0, 10, 21)  # 0 to 10 A, step 0.5\n",
    "V_values = np.linspace(0, 20, 21)  # 0 to 20 V, step 1\n",
    "\n",
    "# Generate all combinations (for demo, we limit to fewer steps for performance)\n",
    "I1_vals = I_values\n",
    "I2_vals = I_values\n",
    "V1_vals = V_values\n",
    "V2_vals = V_values\n",
    "V3_vals = V_values  # User adjustable, but will show calculated vs input\n",
    "\n",
    "# Precompute data for all steps (this can be optimized; here we pick a 1D slider per variable)\n",
    "\n",
    "# We'll just demo I1 slider with fixed other params for clarity\n",
    "\n",
    "fixed_I2 = 3\n",
    "fixed_V1 = 12\n",
    "fixed_V2 = 7\n",
    "\n",
    "fig = go.Figure()\n",
    "\n",
    "# Create traces for each I1 value\n",
    "for i1 in I1_vals:\n",
    "    I3 = i1 - fixed_I2\n",
    "    V3_calc = fixed_V1 - fixed_V2\n",
    "\n",
    "    fig.add_trace(go.Scatter(\n",
    "        x=[1, 5, 5, 1, 1],\n",
    "        y=[2, 2, 3, 3, 2],\n",
    "        mode='lines',\n",
    "        line=dict(color='black'),\n",
    "        showlegend=False,\n",
    "        visible=False\n",
    "    ))\n",
    "\n",
    "    fig.add_trace(go.Scatter(\n",
    "        x=[1],\n",
    "        y=[2],\n",
    "        mode='markers+text',\n",
    "        text=[f\"I1 = {i1:.1f} A\"],\n",
    "        textposition=\"top center\",\n",
    "        marker=dict(size=10, color=\"red\"),\n",
    "        showlegend=False,\n",
    "        visible=False\n",
    "    ))\n",
    "\n",
    "    fig.add_trace(go.Scatter(\n",
    "        x=[5],\n",
    "        y=[2.5],\n",
    "        mode='markers+text',\n",
    "        text=[f\"I2 = {fixed_I2:.1f} A\"],\n",
    "        textposition=\"top center\",\n",
    "        marker=dict(size=10, color=\"green\"),\n",
    "        showlegend=False,\n",
    "        visible=False\n",
    "    ))\n",
    "\n",
    "    fig.add_trace(go.Scatter(\n",
    "        x=[5],\n",
    "        y=[1.5],\n",
    "        mode='markers+text',\n",
    "        text=[f\"I3 = {I3:.2f} A\"],\n",
    "        textposition=\"top center\",\n",
    "        marker=dict(size=10, color=\"blue\"),\n",
    "        showlegend=False,\n",
    "        visible=False\n",
    "    ))\n",
    "\n",
    "    fig.add_trace(go.Scatter(\n",
    "        x=[3],\n",
    "        y=[3.2],\n",
    "        mode='text',\n",
    "        text=[f\"V1 = {fixed_V1} V\"],\n",
    "        textposition=\"top center\",\n",
    "        showlegend=False,\n",
    "        visible=False,\n",
    "        textfont=dict(color=\"purple\")\n",
    "    ))\n",
    "\n",
    "    fig.add_trace(go.Scatter(\n",
    "        x=[5.5],\n",
    "        y=[1],\n",
    "        mode='text',\n",
    "        text=[f\"V2 = {fixed_V2} V\"],\n",
    "        textposition=\"top center\",\n",
    "        showlegend=False,\n",
    "        visible=False,\n",
    "        textfont=dict(color=\"purple\")\n",
    "    ))\n",
    "\n",
    "    fig.add_trace(go.Scatter(\n",
    "        x=[0.5],\n",
    "        y=[1],\n",
    "        mode='text',\n",
    "        text=[f\"V3 = {fixed_V1 - fixed_V2} V (calc)\"],\n",
    "        textposition=\"top center\",\n",
    "        showlegend=False,\n",
    "        visible=False,\n",
    "        textfont=dict(color=\"purple\")\n",
    "    ))\n",
    "\n",
    "# Make first frame visible\n",
    "# Make first frame visible\n",
    "for i in range(7):\n",
    "    fig.data[i].visible = True\n",
    "\n",
    "# Create slider steps: each step toggles visibility of the 7 traces corresponding to one I1 value\n",
    "steps = []\n",
    "for i in range(len(I1_vals)):\n",
    "    step = dict(\n",
    "        method=\"update\",\n",
    "        args=[{\"visible\": [False] * len(fig.data)},\n",
    "              {\"title\": f\"Kirchhoff’s Laws Demo: I1 = {I1_vals[i]:.1f} A\"}],\n",
    "        label=f\"{I1_vals[i]:.1f} A\"\n",
    "    )\n",
    "    for j in range(7):  # fixed here\n",
    "        step[\"args\"][0][\"visible\"][i * 7 + j] = True\n",
    "    steps.append(step)\n",
    "\n",
    "\n",
    "sliders = [dict(\n",
    "    active=0,\n",
    "    currentvalue={\"prefix\": \"I1 Current: \"},\n",
    "    pad={\"t\": 50},\n",
    "    steps=steps\n",
    ")]\n",
    "\n",
    "fig.update_layout(\n",
    "    sliders=sliders,\n",
    "    xaxis=dict(range=[0, 6], zeroline=False, visible=False),\n",
    "    yaxis=dict(range=[0, 4], zeroline=False, visible=False),\n",
    "    height=400,\n",
    "    width=700,\n",
    "    showlegend=False\n",
    ")\n",
    "\n",
    "fig.show()\n"
   ]
  },
  {
   "cell_type": "code",
   "execution_count": null,
   "id": "c60bb582-8255-484f-8a68-e4719a45a39a",
   "metadata": {},
   "outputs": [],
   "source": []
  }
 ],
 "metadata": {
  "kernelspec": {
   "display_name": "Python 3 (ipykernel)",
   "language": "python",
   "name": "python3"
  },
  "language_info": {
   "codemirror_mode": {
    "name": "ipython",
    "version": 3
   },
   "file_extension": ".py",
   "mimetype": "text/x-python",
   "name": "python",
   "nbconvert_exporter": "python",
   "pygments_lexer": "ipython3",
   "version": "3.12.7"
  }
 },
 "nbformat": 4,
 "nbformat_minor": 5
}
