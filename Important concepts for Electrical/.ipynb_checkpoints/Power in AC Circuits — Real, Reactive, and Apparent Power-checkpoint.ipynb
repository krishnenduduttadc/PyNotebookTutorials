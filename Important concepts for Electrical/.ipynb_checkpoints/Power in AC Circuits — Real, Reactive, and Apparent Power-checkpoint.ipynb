{
 "cells": [
  {
   "cell_type": "markdown",
   "id": "25e263bf-3753-4aa4-90dc-43afc1279876",
   "metadata": {},
   "source": [
    "# Lesson 6: Power in AC Circuits — Real, Reactive, and Apparent Power\n",
    "\n",
    "In AC circuits, power is more complex than DC because voltage and current may be out of phase.\n",
    "\n",
    "## Definitions:\n",
    "\n",
    "- **Real Power (P)** — the average power consumed (measured in Watts, W):\n",
    "\\[\n",
    "P = V_{\\text{rms}} I_{\\text{rms}} \\cos \\phi\n",
    "\\]\n",
    "where \\(\\phi\\) is the phase angle between voltage and current.\n",
    "\n",
    "- **Reactive Power (Q)** — power stored and released by reactive components (measured in Volt-Amps Reactive, VAR):\n",
    "\\[\n",
    "Q = V_{\\text{rms}} I_{\\text{rms}} \\sin \\phi\n",
    "\\]\n",
    "\n",
    "- **Apparent Power (S)** — product of RMS voltage and current (measured in Volt-Amps, VA):\n",
    "\\[\n",
    "S = V_{\\text{rms}} I_{\\text{rms}}\n",
    "\\]\n",
    "\n",
    "These relate as:\n",
    "\\[\n",
    "S^2 = P^2 + Q^2\n",
    "\\]\n",
    "\n",
    "## Power Factor:\n",
    "\n",
    "\\[\n",
    "\\text{Power Factor} = \\cos \\phi = \\frac{P}{S}\n",
    "\\]\n",
    "\n",
    "- Indicates efficiency of power usage.\n",
    "\n",
    "---\n",
    "\n",
    "### Applications:\n",
    "\n",
    "- Important for designing and optimizing AC power systems.\n",
    "- Low power factor leads to energy losses.\n"
   ]
  },
  {
   "cell_type": "code",
   "execution_count": 1,
   "id": "b225f3c6-8793-4c47-9e7e-b694addf4992",
   "metadata": {},
   "outputs": [
    {
     "data": {
      "text/html": [
       "<iframe\n",
       "    scrolling=\"no\"\n",
       "    width=\"720px\"\n",
       "    height=\"520\"\n",
       "    src=\"iframe_figures/figure_2.html\"\n",
       "    frameborder=\"0\"\n",
       "    allowfullscreen\n",
       "></iframe>\n"
      ]
     },
     "metadata": {},
     "output_type": "display_data"
    }
   ],
   "source": [
    "import numpy as np\n",
    "import plotly.graph_objects as go\n",
    "import plotly.io as pio\n",
    "\n",
    "pio.renderers.default = 'iframe'\n",
    "\n",
    "# Given values\n",
    "Vrms = 120  # Volts\n",
    "Irms = 10   # Amps\n",
    "\n",
    "# Phase angles from 0° to 90°\n",
    "phi_deg = np.linspace(0, 90, 300)\n",
    "phi_rad = np.deg2rad(phi_deg)\n",
    "\n",
    "# Calculate powers\n",
    "P = Vrms * Irms * np.cos(phi_rad)  # Real Power (W)\n",
    "Q = Vrms * Irms * np.sin(phi_rad)  # Reactive Power (VAR)\n",
    "S = Vrms * Irms                    # Apparent Power (VA), constant\n",
    "\n",
    "fig = go.Figure()\n",
    "\n",
    "fig.add_trace(go.Scatter(x=phi_deg, y=P, mode='lines', name='Real Power P (W)'))\n",
    "fig.add_trace(go.Scatter(x=phi_deg, y=Q, mode='lines', name='Reactive Power Q (VAR)'))\n",
    "fig.add_trace(go.Scatter(x=phi_deg, y=[S]*len(phi_deg), mode='lines', name='Apparent Power S (VA)', line=dict(dash='dash')))\n",
    "\n",
    "fig.update_layout(\n",
    "    title='Power Triangle vs Phase Angle',\n",
    "    xaxis_title='Phase Angle (degrees)',\n",
    "    yaxis_title='Power (W, VAR, VA)',\n",
    "    template='plotly_white',\n",
    "    height=500,\n",
    "    width=700\n",
    ")\n",
    "\n",
    "fig.show()\n"
   ]
  },
  {
   "cell_type": "code",
   "execution_count": null,
   "id": "cc7d9024-cba8-4004-9991-230ce4af616f",
   "metadata": {},
   "outputs": [],
   "source": []
  }
 ],
 "metadata": {
  "kernelspec": {
   "display_name": "Python 3 (ipykernel)",
   "language": "python",
   "name": "python3"
  },
  "language_info": {
   "codemirror_mode": {
    "name": "ipython",
    "version": 3
   },
   "file_extension": ".py",
   "mimetype": "text/x-python",
   "name": "python",
   "nbconvert_exporter": "python",
   "pygments_lexer": "ipython3",
   "version": "3.12.7"
  }
 },
 "nbformat": 4,
 "nbformat_minor": 5
}
