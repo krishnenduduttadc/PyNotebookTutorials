{
 "cells": [
  {
   "cell_type": "markdown",
   "id": "f6406496-36ef-4af6-b066-c71d35bbdb34",
   "metadata": {},
   "source": [
    "# Lesson 11: Introduction to Synchronous Machines\n",
    "\n",
    "## What is a Synchronous Machine?\n",
    "\n",
    "- A synchronous machine can operate as a motor or a generator.\n",
    "- It rotates at synchronous speed, synchronized with the frequency of the supply.\n",
    "  \n",
    "## Key Concepts:\n",
    "\n",
    "- **Synchronous Speed \\( N_s \\)** (in RPM):\n",
    "\n",
    "\\[\n",
    "N_s = \\frac{120 \\times f}{P}\n",
    "\\]\n",
    "\n",
    "where:  \n",
    "- \\( f \\) = supply frequency (Hz)  \n",
    "- \\( P \\) = number of poles\n",
    "\n",
    "- In motors, the rotor speed matches the synchronous speed exactly (no slip).\n",
    "\n",
    "- Commonly used in power generation and large industrial applications.\n",
    "\n",
    "---\n",
    "\n",
    "## Power Angle and Power Output\n",
    "\n",
    "The power developed by a synchronous machine is related to the power angle \\( \\delta \\):\n",
    "\n",
    "\\[\n",
    "P = \\frac{V E}{X_s} \\sin \\delta\n",
    "\\]\n",
    "\n",
    "where:  \n",
    "- \\( V \\) = terminal voltage  \n",
    "- \\( E \\) = internal generated voltage  \n",
    "- \\( X_s \\) = synchronous reactance  \n",
    "- \\( \\delta \\) = power angle (angle between \\( V \\) and \\( E \\))\n",
    "\n",
    "---\n",
    "\n",
    "### Applications:\n",
    "\n",
    "- Large generators in power plants.\n",
    "- Precision synchronous motors.\n"
   ]
  },
  {
   "cell_type": "code",
   "execution_count": 1,
   "id": "e02311b7-2282-4a75-a422-8eaf038001e8",
   "metadata": {},
   "outputs": [
    {
     "data": {
      "text/html": [
       "<iframe\n",
       "    scrolling=\"no\"\n",
       "    width=\"720px\"\n",
       "    height=\"520\"\n",
       "    src=\"iframe_figures/figure_2.html\"\n",
       "    frameborder=\"0\"\n",
       "    allowfullscreen\n",
       "></iframe>\n"
      ]
     },
     "metadata": {},
     "output_type": "display_data"
    }
   ],
   "source": [
    "import numpy as np\n",
    "import plotly.graph_objects as go\n",
    "import plotly.io as pio\n",
    "\n",
    "pio.renderers.default = 'iframe'\n",
    "\n",
    "# Given parameters\n",
    "V = 1.0     # Per unit terminal voltage\n",
    "E = 1.2     # Per unit internal emf\n",
    "Xs = 0.3    # Per unit synchronous reactance\n",
    "\n",
    "# Power angle delta from 0 to 180 degrees\n",
    "delta_deg = np.linspace(0, 180, 360)\n",
    "delta_rad = np.deg2rad(delta_deg)\n",
    "\n",
    "# Calculate power output (per unit)\n",
    "P = (V * E / Xs) * np.sin(delta_rad)\n",
    "\n",
    "fig = go.Figure()\n",
    "\n",
    "fig.add_trace(go.Scatter(x=delta_deg, y=P, mode='lines', name='Power Output P (pu)'))\n",
    "\n",
    "fig.update_layout(\n",
    "    title='Synchronous Machine Power Output vs Power Angle',\n",
    "    xaxis_title='Power Angle δ (degrees)',\n",
    "    yaxis_title='Power Output (per unit)',\n",
    "    template='plotly_white',\n",
    "    height=500,\n",
    "    width=700\n",
    ")\n",
    "\n",
    "fig.show()\n"
   ]
  },
  {
   "cell_type": "code",
   "execution_count": null,
   "id": "6c820e9b-e6ca-47bb-a377-37fa2c1f16dc",
   "metadata": {},
   "outputs": [],
   "source": []
  }
 ],
 "metadata": {
  "kernelspec": {
   "display_name": "Python 3 (ipykernel)",
   "language": "python",
   "name": "python3"
  },
  "language_info": {
   "codemirror_mode": {
    "name": "ipython",
    "version": 3
   },
   "file_extension": ".py",
   "mimetype": "text/x-python",
   "name": "python",
   "nbconvert_exporter": "python",
   "pygments_lexer": "ipython3",
   "version": "3.12.7"
  }
 },
 "nbformat": 4,
 "nbformat_minor": 5
}
