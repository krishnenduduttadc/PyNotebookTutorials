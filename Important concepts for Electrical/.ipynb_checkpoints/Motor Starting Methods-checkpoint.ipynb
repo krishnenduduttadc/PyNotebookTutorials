{
 "cells": [
  {
   "cell_type": "markdown",
   "id": "41c89fbb-2e26-4fd3-b26b-b52a7955dc64",
   "metadata": {},
   "source": [
    "# Lesson 13: Motor Starting Methods\n",
    "\n",
    "## Why Start Methods Matter\n",
    "\n",
    "- Induction motors draw very high current during starting (6-8 times full load current).\n",
    "- Direct online (DOL) starting can cause voltage dips and mechanical stress.\n",
    "\n",
    "## Common Starting Methods\n",
    "\n",
    "1. **Direct On Line (DOL):**  \n",
    "   Motor connected directly to full supply voltage. Simple but high starting current.\n",
    "\n",
    "2. **Star-Delta Starter:**  \n",
    "   Motor starts in star (Y) connection, reducing voltage by √3 and current to ~1/3.  \n",
    "   After start, switches to delta for normal operation.\n",
    "\n",
    "3. **Auto-Transformer Starter:**  \n",
    "   Uses transformer to reduce voltage at start.\n",
    "\n",
    "4. **Soft Starter:**  \n",
    "   Uses electronic control to ramp voltage smoothly.\n",
    "\n",
    "---\n",
    "\n",
    "### Applications:\n",
    "\n",
    "- Choosing the right method balances cost, complexity, and impact on supply.\n"
   ]
  },
  {
   "cell_type": "code",
   "execution_count": 3,
   "id": "fa7e8b8f-3062-43ef-b0ee-895c47ddde8e",
   "metadata": {},
   "outputs": [
    {
     "data": {
      "text/html": [
       "<iframe\n",
       "    scrolling=\"no\"\n",
       "    width=\"620px\"\n",
       "    height=\"420\"\n",
       "    src=\"iframe_figures/figure_3.html\"\n",
       "    frameborder=\"0\"\n",
       "    allowfullscreen\n",
       "></iframe>\n"
      ]
     },
     "metadata": {},
     "output_type": "display_data"
    }
   ],
   "source": [
    "import plotly.graph_objects as go\n",
    "import plotly.io as pio\n",
    "pio.renderers.default = 'iframe'\n",
    "\n",
    "# Assumptions:\n",
    "full_load_current = 30  # arbitrary units\n",
    "start_current_DOL = full_load_current * 7  # approx 7 times full load\n",
    "start_current_star = start_current_DOL / (3**0.5)  # star starting reduces voltage/current\n",
    "\n",
    "methods = ['Full Load Current', 'DOL Starting Current', 'Star Starting Current']\n",
    "currents = [full_load_current, start_current_DOL, start_current_star]\n",
    "\n",
    "fig = go.Figure(go.Bar(x=methods, y=currents, text=[f'{c:.1f}' for c in currents], textposition='auto'))\n",
    "fig.update_layout(\n",
    "    title='Motor Starting Currents: DOL vs Star',\n",
    "    yaxis_title='Current (Arbitrary Units)',\n",
    "    template='plotly_white',\n",
    "    height=400,\n",
    "    width=600\n",
    ")\n",
    "fig.show()\n"
   ]
  },
  {
   "cell_type": "code",
   "execution_count": null,
   "id": "d883f40f-580b-43eb-b551-9b89d486f007",
   "metadata": {},
   "outputs": [],
   "source": []
  }
 ],
 "metadata": {
  "kernelspec": {
   "display_name": "Python 3 (ipykernel)",
   "language": "python",
   "name": "python3"
  },
  "language_info": {
   "codemirror_mode": {
    "name": "ipython",
    "version": 3
   },
   "file_extension": ".py",
   "mimetype": "text/x-python",
   "name": "python",
   "nbconvert_exporter": "python",
   "pygments_lexer": "ipython3",
   "version": "3.12.7"
  }
 },
 "nbformat": 4,
 "nbformat_minor": 5
}
