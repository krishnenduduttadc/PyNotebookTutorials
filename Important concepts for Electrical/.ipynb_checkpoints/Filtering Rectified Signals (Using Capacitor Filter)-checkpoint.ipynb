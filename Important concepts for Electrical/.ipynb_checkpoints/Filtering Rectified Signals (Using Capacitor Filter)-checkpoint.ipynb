{
 "cells": [
  {
   "cell_type": "markdown",
   "id": "0ca7c03c-8472-4fcf-87e2-69aeaabbd22e",
   "metadata": {},
   "source": [
    "# Lesson 18: Filtering Rectified Signals (Capacitor Filter)\n",
    "\n",
    "## Why Use a Filter?\n",
    "\n",
    "- After rectification, the DC output still contains ripples (AC components).\n",
    "- Filters smooth out the voltage, reducing ripple.\n",
    "\n",
    "## Common Filter: Capacitor Filter\n",
    "\n",
    "- Capacitor placed in parallel with load.\n",
    "- It charges when voltage increases and discharges slowly, filling voltage valleys.\n",
    "- Higher capacitance = better smoothing.\n",
    "\n",
    "## Ripple Factor:\n",
    "\n",
    "\\[\n",
    "\\text{Ripple Factor} = \\frac{V_{AC}}{V_{DC}}\n",
    "\\]\n",
    "\n",
    "- Lower ripple factor = smoother DC.\n",
    "\n",
    "---\n",
    "\n",
    "### Applications:\n",
    "\n",
    "- Power adapters.\n",
    "- DC supplies for sensitive electronics.\n"
   ]
  },
  {
   "cell_type": "code",
   "execution_count": 1,
   "id": "5103a2c1-1a6e-494c-9c51-0126581f2fd2",
   "metadata": {},
   "outputs": [
    {
     "data": {
      "text/html": [
       "<iframe\n",
       "    scrolling=\"no\"\n",
       "    width=\"720px\"\n",
       "    height=\"520\"\n",
       "    src=\"iframe_figures/figure_2.html\"\n",
       "    frameborder=\"0\"\n",
       "    allowfullscreen\n",
       "></iframe>\n"
      ]
     },
     "metadata": {},
     "output_type": "display_data"
    }
   ],
   "source": [
    "import numpy as np\n",
    "import plotly.graph_objects as go\n",
    "import plotly.io as pio\n",
    "\n",
    "pio.renderers.default = 'iframe'\n",
    "\n",
    "# Simulating a full-wave rectified signal\n",
    "t = np.linspace(0, 0.1, 1000)  # seconds\n",
    "f = 50  # frequency of AC (Hz)\n",
    "Vpeak = 10\n",
    "V_rect = np.abs(Vpeak * np.sin(2 * np.pi * f * t))\n",
    "\n",
    "# Simple capacitor discharge model\n",
    "R = 1000  # ohms\n",
    "C = 100e-6  # farads\n",
    "tau = R * C\n",
    "\n",
    "# Create smoothed signal\n",
    "V_smooth = np.copy(V_rect)\n",
    "for i in range(1, len(V_rect)):\n",
    "    if V_rect[i] < V_smooth[i-1]:\n",
    "        V_smooth[i] = V_smooth[i-1] * np.exp(- (t[i] - t[i-1]) / tau)\n",
    "\n",
    "fig = go.Figure()\n",
    "fig.add_trace(go.Scatter(x=t*1000, y=V_rect, mode='lines', name='Rectified Voltage'))\n",
    "fig.add_trace(go.Scatter(x=t*1000, y=V_smooth, mode='lines', name='Smoothed with Capacitor'))\n",
    "\n",
    "fig.update_layout(\n",
    "    title='Effect of Capacitor Filter on Full-Wave Rectified Signal',\n",
    "    xaxis_title='Time (ms)',\n",
    "    yaxis_title='Voltage (V)',\n",
    "    template='plotly_white',\n",
    "    height=500,\n",
    "    width=700\n",
    ")\n",
    "\n",
    "fig.show()\n"
   ]
  },
  {
   "cell_type": "code",
   "execution_count": null,
   "id": "18570f0f-1601-42eb-ac8f-607205f03eb0",
   "metadata": {},
   "outputs": [],
   "source": []
  }
 ],
 "metadata": {
  "kernelspec": {
   "display_name": "Python 3 (ipykernel)",
   "language": "python",
   "name": "python3"
  },
  "language_info": {
   "codemirror_mode": {
    "name": "ipython",
    "version": 3
   },
   "file_extension": ".py",
   "mimetype": "text/x-python",
   "name": "python",
   "nbconvert_exporter": "python",
   "pygments_lexer": "ipython3",
   "version": "3.12.7"
  }
 },
 "nbformat": 4,
 "nbformat_minor": 5
}
