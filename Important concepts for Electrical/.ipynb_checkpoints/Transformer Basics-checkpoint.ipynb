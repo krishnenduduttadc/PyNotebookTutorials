{
 "cells": [
  {
   "cell_type": "markdown",
   "id": "0f5dfa53-1e95-4c85-85d3-35cf943381b9",
   "metadata": {},
   "source": [
    "# Lesson 14: Transformer Basics\n",
    "\n",
    "## What is a Transformer?\n",
    "\n",
    "- A device that transfers electrical energy between two or more circuits through electromagnetic induction.\n",
    "- Used to step-up (increase) or step-down (decrease) voltage levels.\n",
    "\n",
    "## Construction\n",
    "\n",
    "- Primary and secondary windings wrapped around a magnetic core.\n",
    "- AC voltage in primary creates changing magnetic flux, inducing voltage in secondary.\n",
    "\n",
    "## Transformer Turns Ratio\n",
    "\n",
    "\\[\n",
    "\\frac{V_p}{V_s} = \\frac{N_p}{N_s}\n",
    "\\]\n",
    "\n",
    "where:  \n",
    "- \\( V_p, V_s \\) = primary and secondary voltages  \n",
    "- \\( N_p, N_s \\) = number of turns in primary and secondary windings\n",
    "\n",
    "## Ideal Transformer Assumptions\n",
    "\n",
    "- No losses.\n",
    "- 100% efficiency.\n",
    "- Perfect magnetic coupling.\n",
    "\n",
    "---\n",
    "\n",
    "### Applications:\n",
    "\n",
    "- Power distribution.\n",
    "- Voltage regulation.\n"
   ]
  },
  {
   "cell_type": "code",
   "execution_count": 1,
   "id": "97681bd9-cf59-445a-922b-20d9f6a3adad",
   "metadata": {},
   "outputs": [
    {
     "data": {
      "text/html": [
       "<iframe\n",
       "    scrolling=\"no\"\n",
       "    width=\"620px\"\n",
       "    height=\"320\"\n",
       "    src=\"iframe_figures/figure_4.html\"\n",
       "    frameborder=\"0\"\n",
       "    allowfullscreen\n",
       "></iframe>\n"
      ]
     },
     "metadata": {},
     "output_type": "display_data"
    }
   ],
   "source": [
    "import plotly.graph_objects as go\n",
    "import plotly.io as pio\n",
    "\n",
    "pio.renderers.default = 'iframe'\n",
    "\n",
    "def transformer_calc(Vp=230, Np=500, Ns=100, Is=5):\n",
    "    # Calculate secondary voltage\n",
    "    Vs = (Ns / Np) * Vp\n",
    "    \n",
    "    # Calculate primary current assuming ideal transformer (Power in = Power out)\n",
    "    Ip = (Ns / Np) * Is\n",
    "    \n",
    "    fig = go.Figure(data=[\n",
    "        go.Table(header=dict(values=[\"Parameter\", \"Value\", \"Unit\"]),\n",
    "                 cells=dict(values=[\n",
    "                     [\"Primary Voltage (Vp)\", \"Secondary Voltage (Vs)\", \"Primary Current (Ip)\", \"Secondary Current (Is)\"],\n",
    "                     [f\"{Vp}\", f\"{Vs:.2f}\", f\"{Ip:.2f}\", f\"{Is}\"],\n",
    "                     [\"Volts\", \"Volts\", \"Amps\", \"Amps\"]\n",
    "                 ]))\n",
    "    ])\n",
    "    \n",
    "    fig.update_layout(title=\"Transformer Voltage and Current Calculation\", height=300, width=600)\n",
    "    fig.show()\n",
    "\n",
    "# Example usage\n",
    "transformer_calc(Vp=230, Np=500, Ns=100, Is=5)\n"
   ]
  },
  {
   "cell_type": "code",
   "execution_count": null,
   "id": "d5da3964-e56f-4493-9fa5-75606e25f704",
   "metadata": {},
   "outputs": [],
   "source": []
  }
 ],
 "metadata": {
  "kernelspec": {
   "display_name": "Python 3 (ipykernel)",
   "language": "python",
   "name": "python3"
  },
  "language_info": {
   "codemirror_mode": {
    "name": "ipython",
    "version": 3
   },
   "file_extension": ".py",
   "mimetype": "text/x-python",
   "name": "python",
   "nbconvert_exporter": "python",
   "pygments_lexer": "ipython3",
   "version": "3.12.7"
  }
 },
 "nbformat": 4,
 "nbformat_minor": 5
}
