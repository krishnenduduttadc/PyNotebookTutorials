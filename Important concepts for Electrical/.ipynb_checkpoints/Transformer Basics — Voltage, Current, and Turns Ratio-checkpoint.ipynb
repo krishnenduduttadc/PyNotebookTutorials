{
 "cells": [
  {
   "cell_type": "markdown",
   "id": "eb3da67a-affa-4800-bc30-9dc6926b9ff1",
   "metadata": {},
   "source": [
    "# Lesson 7: Transformer Basics\n",
    "\n",
    "## What is a Transformer?\n",
    "\n",
    "- A device that transfers electrical energy between two or more circuits through electromagnetic induction.\n",
    "- Commonly used to step up (increase) or step down (decrease) voltage levels in power systems.\n",
    "\n",
    "## Key Parameters\n",
    "\n",
    "- **Primary winding:** connected to input voltage \\( V_p \\)\n",
    "- **Secondary winding:** delivers output voltage \\( V_s \\)\n",
    "\n",
    "## Turns Ratio\n",
    "\n",
    "\\[\n",
    "\\frac{V_p}{V_s} = \\frac{N_p}{N_s}\n",
    "\\]\n",
    "\n",
    "where \\( N_p \\) and \\( N_s \\) are the number of turns in primary and secondary windings respectively.\n",
    "\n",
    "## Current Relation (Ideal Transformer)\n",
    "\n",
    "\\[\n",
    "\\frac{I_s}{I_p} = \\frac{N_p}{N_s}\n",
    "\\]\n",
    "\n",
    "## Power (Ideal)\n",
    "\n",
    "\\[\n",
    "P_p = P_s \\implies V_p I_p = V_s I_s\n",
    "\\]\n",
    "\n",
    "---\n",
    "\n",
    "### Applications:\n",
    "\n",
    "- Voltage level changes in power transmission.\n",
    "- Isolation between circuits.\n",
    "- Impedance matching.\n"
   ]
  },
  {
   "cell_type": "code",
   "execution_count": 1,
   "id": "e56eb043-7712-4892-b990-96342c468cd4",
   "metadata": {},
   "outputs": [
    {
     "data": {
      "text/html": [
       "<iframe\n",
       "    scrolling=\"no\"\n",
       "    width=\"620px\"\n",
       "    height=\"420\"\n",
       "    src=\"iframe_figures/figure_2.html\"\n",
       "    frameborder=\"0\"\n",
       "    allowfullscreen\n",
       "></iframe>\n"
      ]
     },
     "metadata": {},
     "output_type": "display_data"
    }
   ],
   "source": [
    "import plotly.graph_objects as go\n",
    "import plotly.io as pio\n",
    "from ipywidgets import interact\n",
    "\n",
    "pio.renderers.default = 'iframe'\n",
    "\n",
    "def transformer_calc(Np=100, Ns=50, Vp=230):\n",
    "    Vs = Vp * Ns / Np\n",
    "    Ip = 10  # Assume primary current (fixed)\n",
    "    Is = Ip * Np / Ns\n",
    "    \n",
    "    fig = go.Figure()\n",
    "    fig.add_trace(go.Bar(x=['Primary'], y=[Vp], name='Voltage (V)'))\n",
    "    fig.add_trace(go.Bar(x=['Secondary'], y=[Vs], name='Voltage (V)'))\n",
    "    fig.add_trace(go.Bar(x=['Primary'], y=[Ip], name='Current (A)'))\n",
    "    fig.add_trace(go.Bar(x=['Secondary'], y=[Is], name='Current (A)'))\n",
    "\n",
    "    fig.update_layout(\n",
    "        title=f'Transformer Voltages and Currents (Turns Ratio {Np}:{Ns})',\n",
    "        yaxis_title='Value',\n",
    "        barmode='group',\n",
    "        height=400,\n",
    "        width=600,\n",
    "        template='plotly_white'\n",
    "    )\n",
    "    fig.show()\n",
    "\n",
    "# Since you asked to avoid ipywidgets, here is a static example:\n",
    "transformer_calc(Np=100, Ns=50, Vp=230)\n"
   ]
  },
  {
   "cell_type": "code",
   "execution_count": null,
   "id": "374ab7b6-8252-44ee-b4d6-0b202ec33ee5",
   "metadata": {},
   "outputs": [],
   "source": []
  }
 ],
 "metadata": {
  "kernelspec": {
   "display_name": "Python 3 (ipykernel)",
   "language": "python",
   "name": "python3"
  },
  "language_info": {
   "codemirror_mode": {
    "name": "ipython",
    "version": 3
   },
   "file_extension": ".py",
   "mimetype": "text/x-python",
   "name": "python",
   "nbconvert_exporter": "python",
   "pygments_lexer": "ipython3",
   "version": "3.12.7"
  }
 },
 "nbformat": 4,
 "nbformat_minor": 5
}
