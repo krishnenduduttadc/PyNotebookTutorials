{
 "cells": [
  {
   "cell_type": "markdown",
   "id": "3c939133-b81e-4006-a7c5-681e2fbccd8b",
   "metadata": {},
   "source": [
    "# Lesson 5: Series RLC Circuit — Resonance and Frequency Response\n",
    "\n",
    "## Circuit Overview\n",
    "\n",
    "- A series RLC circuit consists of a resistor (R), inductor (L), and capacitor (C) connected in series.\n",
    "- The total impedance \\( Z \\) is:\n",
    "\\[\n",
    "Z = R + j(\\omega L - \\frac{1}{\\omega C})\n",
    "\\]\n",
    "where \\( \\omega = 2\\pi f \\).\n",
    "\n",
    "## Resonance\n",
    "\n",
    "- Occurs when inductive reactance equals capacitive reactance:\n",
    "\\[\n",
    "\\omega_0 L = \\frac{1}{\\omega_0 C} \\Rightarrow \\omega_0 = \\frac{1}{\\sqrt{LC}}\n",
    "\\]\n",
    "- At resonance:\n",
    "  - Impedance is minimum, equals \\( R \\).\n",
    "  - Circuit behaves purely resistive.\n",
    "  - Current amplitude is maximum.\n",
    "\n",
    "## Frequency Response\n",
    "\n",
    "- Current magnitude:\n",
    "\\[\n",
    "I = \\frac{V}{|Z|} = \\frac{V}{\\sqrt{R^2 + (\\omega L - \\frac{1}{\\omega C})^2}}\n",
    "\\]\n",
    "- Phase angle between voltage and current:\n",
    "\\[\n",
    "\\phi = \\arctan\\left(\\frac{\\omega L - \\frac{1}{\\omega C}}{R}\\right)\n",
    "\\]\n",
    "\n",
    "---\n",
    "\n",
    "### Applications\n",
    "\n",
    "- Used in tuning radios, filters, oscillators.\n"
   ]
  },
  {
   "cell_type": "code",
   "execution_count": 1,
   "id": "8034eb04-0bb3-4657-83d8-25df7314589d",
   "metadata": {},
   "outputs": [
    {
     "data": {
      "text/html": [
       "<iframe\n",
       "    scrolling=\"no\"\n",
       "    width=\"720px\"\n",
       "    height=\"520\"\n",
       "    src=\"iframe_figures/figure_3.html\"\n",
       "    frameborder=\"0\"\n",
       "    allowfullscreen\n",
       "></iframe>\n"
      ]
     },
     "metadata": {},
     "output_type": "display_data"
    }
   ],
   "source": [
    "import numpy as np\n",
    "import plotly.graph_objects as go\n",
    "import plotly.io as pio\n",
    "\n",
    "pio.renderers.default = 'iframe'  # Use iframe renderer for stability\n",
    "\n",
    "# Circuit parameters\n",
    "R = 10        # Ohms\n",
    "L = 0.05      # Henry (50 mH)\n",
    "C = 100e-6    # Farad (100 uF)\n",
    "V = 10        # Voltage amplitude (Volts)\n",
    "\n",
    "# Frequency range\n",
    "freqs = np.linspace(10, 2000, 500)  # Hz\n",
    "omega = 2 * np.pi * freqs\n",
    "\n",
    "# Calculate impedance magnitude and phase\n",
    "X_L = omega * L\n",
    "X_C = 1 / (omega * C)\n",
    "Z = np.sqrt(R**2 + (X_L - X_C)**2)\n",
    "I = V / Z\n",
    "phase = np.arctan2(X_L - X_C, R) * (180 / np.pi)\n",
    "\n",
    "# Resonant frequency\n",
    "f_resonant = 1 / (2 * np.pi * np.sqrt(L * C))\n",
    "\n",
    "fig = go.Figure()\n",
    "\n",
    "fig.add_trace(go.Scatter(x=freqs, y=I, mode='lines', name='Current Magnitude (A)'))\n",
    "fig.add_trace(go.Scatter(x=freqs, y=phase, mode='lines', name='Phase Angle (°)', yaxis='y2'))\n",
    "\n",
    "fig.add_vline(x=f_resonant, line_dash=\"dash\", line_color=\"red\",\n",
    "              annotation_text=\"Resonant Frequency {:.1f} Hz\".format(f_resonant),\n",
    "              annotation_position=\"top right\")\n",
    "\n",
    "fig.update_layout(\n",
    "    title='Series RLC Circuit Frequency Response',\n",
    "    xaxis_title='Frequency (Hz)',\n",
    "    yaxis=dict(title='Current (A)', side='left'),\n",
    "    yaxis2=dict(title='Phase Angle (°)', overlaying='y', side='right'),\n",
    "    legend=dict(x=0.7, y=0.95),\n",
    "    template='plotly_white',\n",
    "    height=500,\n",
    "    width=700\n",
    ")\n",
    "\n",
    "fig.show()\n"
   ]
  },
  {
   "cell_type": "code",
   "execution_count": null,
   "id": "a182b29f-6824-4bee-a85e-e717f4cb731e",
   "metadata": {},
   "outputs": [],
   "source": []
  }
 ],
 "metadata": {
  "kernelspec": {
   "display_name": "Python 3 (ipykernel)",
   "language": "python",
   "name": "python3"
  },
  "language_info": {
   "codemirror_mode": {
    "name": "ipython",
    "version": 3
   },
   "file_extension": ".py",
   "mimetype": "text/x-python",
   "name": "python",
   "nbconvert_exporter": "python",
   "pygments_lexer": "ipython3",
   "version": "3.12.7"
  }
 },
 "nbformat": 4,
 "nbformat_minor": 5
}
