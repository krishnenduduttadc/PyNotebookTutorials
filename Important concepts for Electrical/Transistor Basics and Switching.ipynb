{
 "cells": [
  {
   "cell_type": "markdown",
   "id": "b40329fc-c0d4-4b72-8552-c505c5675552",
   "metadata": {},
   "source": [
    "# Lesson 19: Transistor Basics and Switching\n",
    "\n",
    "## What is a Transistor?\n",
    "\n",
    "- A **semiconductor** device used to amplify or switch electronic signals.\n",
    "- The basic building block of modern electronics.\n",
    "\n",
    "## Types of Transistors:\n",
    "\n",
    "1. **BJT (Bipolar Junction Transistor):**\n",
    "   - Terminals: Base (B), Collector (C), Emitter (E)\n",
    "   - Types: NPN and PNP\n",
    "   - Operates in three modes: Cut-off, Active, Saturation\n",
    "\n",
    "2. **MOSFET (Metal-Oxide-Semiconductor FET):**\n",
    "   - Used in high-speed switching and power electronics\n",
    "   - Voltage-controlled\n",
    "\n",
    "## BJT Modes:\n",
    "\n",
    "| Mode       | V_BE         | V_CE         | Description         |\n",
    "|------------|--------------|--------------|---------------------|\n",
    "| Cut-off    | < 0.7 V      | High         | OFF (No current)    |\n",
    "| Active     | > 0.7 V      | V_CE > 0.2 V | Amplification mode  |\n",
    "| Saturation | > 0.7 V      | Low (<0.2 V) | Fully ON (switch)   |\n",
    "\n",
    "---\n",
    "\n",
    "## Transistor as a Switch\n",
    "\n",
    "- **OFF:** Base-emitter voltage < 0.7 V → No collector current\n",
    "- **ON:** Base-emitter voltage ≥ 0.7 V → Collector current flows\n",
    "\n",
    "---\n",
    "\n",
    "### Applications:\n",
    "\n",
    "- Digital logic circuits\n",
    "- Motor drivers\n",
    "- Switching power supplies\n"
   ]
  },
  {
   "cell_type": "code",
   "execution_count": 1,
   "id": "f5b9e496-535e-4e87-b9ab-0b58c799532e",
   "metadata": {},
   "outputs": [
    {
     "data": {
      "text/html": [
       "<iframe\n",
       "    scrolling=\"no\"\n",
       "    width=\"720px\"\n",
       "    height=\"520\"\n",
       "    src=\"iframe_figures/figure_2.html\"\n",
       "    frameborder=\"0\"\n",
       "    allowfullscreen\n",
       "></iframe>\n"
      ]
     },
     "metadata": {},
     "output_type": "display_data"
    }
   ],
   "source": [
    "import numpy as np\n",
    "import plotly.graph_objects as go\n",
    "import plotly.io as pio\n",
    "\n",
    "pio.renderers.default = 'iframe'\n",
    "\n",
    "# Input signal (simulated digital input to base)\n",
    "t = np.linspace(0, 10, 1000)\n",
    "input_voltage = 1.5 * (np.sin(2 * np.pi * 0.5 * t) > 0).astype(float)\n",
    "\n",
    "# Output behavior of transistor\n",
    "output_voltage = np.where(input_voltage >= 0.7, 0.2, 5.0)  # Simulates transistor switching\n",
    "\n",
    "fig = go.Figure()\n",
    "fig.add_trace(go.Scatter(x=t, y=input_voltage, name='Base Voltage (V)', line=dict(color='blue')))\n",
    "fig.add_trace(go.Scatter(x=t, y=output_voltage, name='Collector Voltage (V)', line=dict(color='red')))\n",
    "\n",
    "fig.update_layout(\n",
    "    title='Transistor as a Switch (NPN BJT)',\n",
    "    xaxis_title='Time (s)',\n",
    "    yaxis_title='Voltage (V)',\n",
    "    template='plotly_white',\n",
    "    height=500,\n",
    "    width=700\n",
    ")\n",
    "\n",
    "fig.show()\n"
   ]
  },
  {
   "cell_type": "code",
   "execution_count": null,
   "id": "a55089cd-cd56-4438-8471-ac58a6d4707d",
   "metadata": {},
   "outputs": [],
   "source": []
  }
 ],
 "metadata": {
  "kernelspec": {
   "display_name": "Python 3 (ipykernel)",
   "language": "python",
   "name": "python3"
  },
  "language_info": {
   "codemirror_mode": {
    "name": "ipython",
    "version": 3
   },
   "file_extension": ".py",
   "mimetype": "text/x-python",
   "name": "python",
   "nbconvert_exporter": "python",
   "pygments_lexer": "ipython3",
   "version": "3.12.7"
  }
 },
 "nbformat": 4,
 "nbformat_minor": 5
}
