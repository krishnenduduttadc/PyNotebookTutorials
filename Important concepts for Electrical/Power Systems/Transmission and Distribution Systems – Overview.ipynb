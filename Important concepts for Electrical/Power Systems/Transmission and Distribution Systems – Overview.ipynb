{
 "cells": [
  {
   "cell_type": "markdown",
   "id": "32a320f3-0248-482f-832c-bd115c89e9ad",
   "metadata": {},
   "source": [
    "# Lesson 23: Transmission and Distribution – Overview\n",
    "\n",
    "## What's the Difference?\n",
    "\n",
    "- **Transmission System**: Carries bulk power from generating stations to substations over long distances.\n",
    "  - Operates at **high voltage** (132 kV – 765 kV).\n",
    "  - Minimizes power loss due to low current (P = VI, losses ∝ I²R).\n",
    "\n",
    "- **Distribution System**: Delivers electricity from substations to end consumers.\n",
    "  - Operates at **medium/low voltage** (33 kV → 230 V).\n",
    "  - Covers short distances.\n",
    "\n",
    "---\n",
    "\n",
    "## Why Step Up Voltage?\n",
    "\n",
    "- Power loss in lines = \\( I^2R \\)\n",
    "- By increasing voltage, current \\( I \\) decreases for the same power, thus reducing loss.\n",
    "\n",
    "---\n",
    "\n",
    "## Key Components:\n",
    "\n",
    "### Transmission:\n",
    "- Step-up transformers\n",
    "- Overhead transmission lines (or underground cables)\n",
    "- Tower/pole structures\n",
    "- Substations\n",
    "\n",
    "### Distribution:\n",
    "- Step-down transformers\n",
    "- Feeders, distributors, and service mains\n",
    "- Circuit breakers, relays\n",
    "- Meters and consumer terminals\n",
    "\n",
    "---\n",
    "\n",
    "## Voltage Levels in India (as an example)\n",
    "\n",
    "| Type         | Voltage        |\n",
    "|--------------|----------------|\n",
    "| Transmission | 132/220/400 kV |\n",
    "| Sub-Transmission | 33/66 kV   |\n",
    "| Distribution | 11 kV, 415V    |\n",
    "\n",
    "---\n",
    "\n",
    "Next: We’ll look into the **single-line diagram** of a transmission system and simulate power flow levels using Plotly.\n"
   ]
  },
  {
   "cell_type": "code",
   "execution_count": 1,
   "id": "ecd84cf5-5902-4fe1-99e1-e92f64203ecb",
   "metadata": {},
   "outputs": [
    {
     "data": {
      "text/html": [
       "<iframe\n",
       "    scrolling=\"no\"\n",
       "    width=\"920px\"\n",
       "    height=\"520\"\n",
       "    src=\"iframe_figures/figure_2.html\"\n",
       "    frameborder=\"0\"\n",
       "    allowfullscreen\n",
       "></iframe>\n"
      ]
     },
     "metadata": {},
     "output_type": "display_data"
    }
   ],
   "source": [
    "import plotly.graph_objects as go\n",
    "import plotly.io as pio\n",
    "\n",
    "pio.renderers.default = 'iframe'\n",
    "\n",
    "nodes = [\n",
    "    \"Generation (11 kV)\",\n",
    "    \"Step-Up Transformer (→220 kV)\",\n",
    "    \"Transmission Line (220 kV)\",\n",
    "    \"Step-Down Transformer (→33 kV)\",\n",
    "    \"Sub-Transmission Line (33 kV)\",\n",
    "    \"Distribution Transformer (→11 kV)\",\n",
    "    \"Distribution Line (11 kV)\",\n",
    "    \"Household/Industrial Load (230 V)\"\n",
    "]\n",
    "\n",
    "# Create links between nodes\n",
    "sources = list(range(len(nodes)-1))\n",
    "targets = list(range(1, len(nodes)))\n",
    "values = [100, 98, 97, 95, 93, 90, 88]  # Simulated power flow (some loss at each step)\n",
    "\n",
    "fig = go.Figure(data=[go.Sankey(\n",
    "    node=dict(\n",
    "        pad=15, thickness=20,\n",
    "        line=dict(color=\"black\", width=0.5),\n",
    "        label=nodes\n",
    "    ),\n",
    "    link=dict(\n",
    "        source=sources,\n",
    "        target=targets,\n",
    "        value=values\n",
    "    ))])\n",
    "\n",
    "fig.update_layout(\n",
    "    title_text=\"Electric Power Transmission & Distribution System\",\n",
    "    font_size=12,\n",
    "    height=500,\n",
    "    width=900\n",
    ")\n",
    "\n",
    "fig.show()\n"
   ]
  },
  {
   "cell_type": "code",
   "execution_count": null,
   "id": "41c8d3d2-2c35-4b50-ac1d-d5910be65bdc",
   "metadata": {},
   "outputs": [],
   "source": []
  }
 ],
 "metadata": {
  "kernelspec": {
   "display_name": "Python 3 (ipykernel)",
   "language": "python",
   "name": "python3"
  },
  "language_info": {
   "codemirror_mode": {
    "name": "ipython",
    "version": 3
   },
   "file_extension": ".py",
   "mimetype": "text/x-python",
   "name": "python",
   "nbconvert_exporter": "python",
   "pygments_lexer": "ipython3",
   "version": "3.12.7"
  }
 },
 "nbformat": 4,
 "nbformat_minor": 5
}
