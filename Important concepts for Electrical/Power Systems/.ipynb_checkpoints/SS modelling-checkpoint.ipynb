{
 "cells": [
  {
   "cell_type": "markdown",
   "id": "b5be3cc0-c659-4e5a-bd49-7cc9d001650e",
   "metadata": {},
   "source": [
    "# Lesson 25: Substation Modeling\n",
    "\n",
    "## What is a Substation?\n",
    "\n",
    "A **substation** is a part of the power system that connects transmission and distribution networks. It transforms voltage levels and provides control, protection, and isolation.\n",
    "\n",
    "---\n",
    "\n",
    "## Functions of a Substation:\n",
    "\n",
    "1. **Voltage Transformation** – via transformers (e.g., 220kV → 66kV → 11kV)\n",
    "2. **Switching Operations** – using circuit breakers, isolators\n",
    "3. **Fault Protection** – using relays, breakers\n",
    "4. **Metering and Monitoring**\n",
    "5. **Load Control and Distribution**\n",
    "\n",
    "---\n",
    "\n",
    "## Types of Substations:\n",
    "\n",
    "| Type                 | Description                              |\n",
    "|----------------------|------------------------------------------|\n",
    "| Step-Up Substation   | Near power plant (e.g., 11kV → 220kV)    |\n",
    "| Step-Down Substation | For distribution (e.g., 220kV → 33kV)    |\n",
    "| Distribution Substation | Final stage before delivery (11kV)  |\n",
    "| Switching Substation | Only routing, no voltage change         |\n",
    "\n",
    "---\n",
    "\n",
    "## Key Components:\n",
    "\n",
    "- **Power Transformers**\n",
    "- **Busbars** – metal bars that distribute power internally\n",
    "- **Circuit Breakers (CB)**\n",
    "- **Isolators** – manually operated switches\n",
    "- **Current Transformers (CT)** and **Potential Transformers (PT)**\n",
    "- **Lightning Arresters**, **Surge Protectors**\n",
    "- **SCADA Systems**\n",
    "\n",
    "---\n",
    "\n",
    "## Single-Line Substation Layout Example\n",
    "\n"
   ]
  },
  {
   "cell_type": "code",
   "execution_count": 1,
   "id": "0c30fa33-f9b8-4117-8c6e-99678982c3a9",
   "metadata": {},
   "outputs": [
    {
     "data": {
      "text/html": [
       "<iframe\n",
       "    scrolling=\"no\"\n",
       "    width=\"970px\"\n",
       "    height=\"620\"\n",
       "    src=\"iframe_figures/figure_2.html\"\n",
       "    frameborder=\"0\"\n",
       "    allowfullscreen\n",
       "></iframe>\n"
      ]
     },
     "metadata": {},
     "output_type": "display_data"
    }
   ],
   "source": [
    "import plotly.graph_objects as go\n",
    "import plotly.io as pio\n",
    "\n",
    "pio.renderers.default = 'iframe'\n",
    "\n",
    "labels = [\n",
    "    \"220 kV Line\",               # 0\n",
    "    \"Circuit Breaker\",           # 1\n",
    "    \"Current Transformer (CT)\",  # 2\n",
    "    \"Main Busbar\",               # 3\n",
    "    \"Power Transformer (220/33kV)\", # 4\n",
    "    \"Secondary Busbar\",          # 5\n",
    "    \"Circuit Breaker (33kV)\",    # 6\n",
    "    \"33 kV Feeder A\",            # 7\n",
    "    \"33 kV Feeder B\",            # 8\n",
    "]\n",
    "\n",
    "sources = [0, 1, 2, 3, 3, 4, 5, 5]\n",
    "targets = [1, 2, 3, 4, 5, 5, 7, 8]\n",
    "values = [100, 100, 100, 100, 100, 100, 50, 50]  # example flows in MVA\n",
    "\n",
    "fig = go.Figure(data=[go.Sankey(\n",
    "    node=dict(\n",
    "        pad=15,\n",
    "        thickness=20,\n",
    "        line=dict(color=\"black\", width=0.5),\n",
    "        label=labels\n",
    "    ),\n",
    "    link=dict(\n",
    "        source=sources,\n",
    "        target=targets,\n",
    "        value=values\n",
    "    )\n",
    ")])\n",
    "\n",
    "fig.update_layout(\n",
    "    title_text=\"Substation Layout: 220kV to 33kV Step-Down\",\n",
    "    font_size=12,\n",
    "    height=600,\n",
    "    width=950\n",
    ")\n",
    "\n",
    "fig.show()\n"
   ]
  },
  {
   "cell_type": "code",
   "execution_count": null,
   "id": "2de3e2d3-d3fe-478f-aa72-897ee8622004",
   "metadata": {},
   "outputs": [],
   "source": []
  }
 ],
 "metadata": {
  "kernelspec": {
   "display_name": "Python 3 (ipykernel)",
   "language": "python",
   "name": "python3"
  },
  "language_info": {
   "codemirror_mode": {
    "name": "ipython",
    "version": 3
   },
   "file_extension": ".py",
   "mimetype": "text/x-python",
   "name": "python",
   "nbconvert_exporter": "python",
   "pygments_lexer": "ipython3",
   "version": "3.12.7"
  }
 },
 "nbformat": 4,
 "nbformat_minor": 5
}
