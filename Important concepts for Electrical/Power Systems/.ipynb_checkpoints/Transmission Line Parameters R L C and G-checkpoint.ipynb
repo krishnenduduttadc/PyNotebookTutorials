{
 "cells": [
  {
   "cell_type": "markdown",
   "id": "59beb98a-cb5f-4156-b2b1-27e8e298e20e",
   "metadata": {},
   "source": [
    "# Lesson 24: Transmission Line Parameters – R, L, C, G\n",
    "\n",
    "Transmission lines are not ideal; they have **distributed electrical properties** over their length.\n",
    "\n",
    "## Primary Line Parameters:\n",
    "\n",
    "| Symbol | Parameter         | Unit     | Meaning                               |\n",
    "|--------|-------------------|----------|----------------------------------------|\n",
    "| R      | Resistance         | Ω/km     | Power loss due to conductor heating   |\n",
    "| L      | Inductance         | H/km     | Magnetic field stores energy          |\n",
    "| C      | Capacitance        | F/km     | Electric field between conductors     |\n",
    "| G      | Conductance        | S/km     | Leakage through insulation            |\n",
    "\n",
    "---\n",
    "\n",
    "## Effects of Parameters:\n",
    "\n",
    "- **Resistance (R):** Causes I²R power loss.\n",
    "- **Inductance (L):** Causes voltage drop; affects reactive power.\n",
    "- **Capacitance (C):** Charges conductors; can cause Ferranti effect.\n",
    "- **Conductance (G):** Very small, often ignored at power frequencies.\n",
    "\n",
    "---\n",
    "\n",
    "## Equivalent Circuit for Short Line (<80 km)\n",
    "\n"
   ]
  },
  {
   "cell_type": "code",
   "execution_count": 1,
   "id": "b5fce997-1b04-44db-8dc4-b7192a1589a1",
   "metadata": {},
   "outputs": [
    {
     "data": {
      "text/html": [
       "<iframe\n",
       "    scrolling=\"no\"\n",
       "    width=\"820px\"\n",
       "    height=\"520\"\n",
       "    src=\"iframe_figures/figure_2.html\"\n",
       "    frameborder=\"0\"\n",
       "    allowfullscreen\n",
       "></iframe>\n"
      ]
     },
     "metadata": {},
     "output_type": "display_data"
    }
   ],
   "source": [
    "import numpy as np\n",
    "import plotly.graph_objects as go\n",
    "import plotly.io as pio\n",
    "\n",
    "pio.renderers.default = 'iframe'\n",
    "\n",
    "# Line parameters (example)\n",
    "length_km = 50  # short line\n",
    "R_per_km = 0.2  # Ohm/km\n",
    "L_per_km = 1.2e-3  # H/km\n",
    "\n",
    "# Total line impedance (simplified, assuming 50 Hz)\n",
    "frequency = 50  # Hz\n",
    "omega = 2 * np.pi * frequency\n",
    "R_total = R_per_km * length_km\n",
    "X_total = omega * L_per_km * length_km\n",
    "Z_total = complex(R_total, X_total)\n",
    "\n",
    "# Load details\n",
    "V_r = 220e3  # Receiving end voltage (220 kV)\n",
    "P_load = 100e6  # 100 MW load\n",
    "pf = 0.9  # power factor\n",
    "S_load = P_load / pf\n",
    "I_load = S_load / (np.sqrt(3) * V_r)\n",
    "\n",
    "# Sending end voltage (approximate)\n",
    "V_s = V_r + I_load * Z_total\n",
    "\n",
    "# Power loss\n",
    "power_loss = 3 * (abs(I_load)**2) * R_total  # 3-phase loss\n",
    "\n",
    "fig = go.Figure()\n",
    "fig.add_trace(go.Bar(name='Voltage', x=['Receiving End', 'Sending End'], y=[V_r/1e3, abs(V_s)/1e3]))\n",
    "fig.add_trace(go.Bar(name='Power', x=['Load', 'Loss'], y=[P_load/1e6, power_loss/1e6]))\n",
    "\n",
    "fig.update_layout(\n",
    "    title='Short Transmission Line: Voltage Drop and Power Loss',\n",
    "    yaxis_title='Value (kV or MW)',\n",
    "    barmode='group',\n",
    "    height=500,\n",
    "    width=800\n",
    ")\n",
    "\n",
    "fig.show()\n"
   ]
  },
  {
   "cell_type": "code",
   "execution_count": null,
   "id": "e7e47a8f-8b7d-427c-a4d3-2e91f3f37ca5",
   "metadata": {},
   "outputs": [],
   "source": []
  }
 ],
 "metadata": {
  "kernelspec": {
   "display_name": "Python 3 (ipykernel)",
   "language": "python",
   "name": "python3"
  },
  "language_info": {
   "codemirror_mode": {
    "name": "ipython",
    "version": 3
   },
   "file_extension": ".py",
   "mimetype": "text/x-python",
   "name": "python",
   "nbconvert_exporter": "python",
   "pygments_lexer": "ipython3",
   "version": "3.12.7"
  }
 },
 "nbformat": 4,
 "nbformat_minor": 5
}
