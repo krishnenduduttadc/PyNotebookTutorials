{
 "cells": [
  {
   "cell_type": "markdown",
   "id": "671d05ca-16fd-4bef-9538-6adc8abc9b51",
   "metadata": {},
   "source": [
    "# Lesson 22: Power Generation Types\n",
    "\n",
    "## Overview\n",
    "\n",
    "Electric power can be generated from various **energy sources**. These are broadly categorized into:\n",
    "\n",
    "### 1. Thermal Power Plants (Fossil Fuels)\n",
    "- Uses coal, oil, or natural gas to produce steam → drives turbine.\n",
    "- Emits greenhouse gases.\n",
    "- High capacity, low initial cost.\n",
    "\n",
    "### 2. Hydroelectric Power Plants\n",
    "- Uses water stored in dams.\n",
    "- Water turns turbine → generator produces electricity.\n",
    "- Clean, renewable, but location-dependent.\n",
    "\n",
    "### 3. Nuclear Power Plants\n",
    "- Uses nuclear fission (usually Uranium-235) to heat water → steam → turbine.\n",
    "- Very high capacity.\n",
    "- Expensive, complex safety requirements.\n",
    "\n",
    "### 4. Renewable Energy Sources:\n",
    "#### a. Solar Power:\n",
    "- Converts sunlight directly into DC electricity using photovoltaic (PV) cells.\n",
    "- Scalable, but depends on sunlight.\n",
    "\n",
    "#### b. Wind Power:\n",
    "- Wind turns blades of turbines → generates AC.\n",
    "- Clean and renewable but site-dependent.\n",
    "\n",
    "#### c. Biomass, Geothermal:\n",
    "- Organic waste or geothermal heat used to generate steam.\n",
    "\n",
    "---\n",
    "\n",
    "## Power Generation Mix (India/Global Example)\n",
    "\n",
    "| Source     | Global Share (%) | Notes                         |\n",
    "|------------|------------------|-------------------------------|\n",
    "| Coal       | ~35%             | Declining, polluting          |\n",
    "| Hydro      | ~16%             | Clean, limited by geography   |\n",
    "| Nuclear    | ~10%             | Stable, costly                |\n",
    "| Wind       | ~8%              | Growing rapidly               |\n",
    "| Solar      | ~6%              | Fastest-growing               |\n",
    "| Gas/Oil    | ~20%             | Flexible but expensive        |\n",
    "\n"
   ]
  },
  {
   "cell_type": "code",
   "execution_count": 1,
   "id": "389af8fe-43e9-4a75-8a70-c8bcc367bb4a",
   "metadata": {},
   "outputs": [
    {
     "data": {
      "text/html": [
       "<iframe\n",
       "    scrolling=\"no\"\n",
       "    width=\"620px\"\n",
       "    height=\"520\"\n",
       "    src=\"iframe_figures/figure_2.html\"\n",
       "    frameborder=\"0\"\n",
       "    allowfullscreen\n",
       "></iframe>\n"
      ]
     },
     "metadata": {},
     "output_type": "display_data"
    }
   ],
   "source": [
    "import plotly.graph_objects as go\n",
    "import plotly.io as pio\n",
    "\n",
    "pio.renderers.default = 'iframe'\n",
    "\n",
    "labels = ['Coal', 'Hydro', 'Nuclear', 'Wind', 'Solar', 'Gas/Oil']\n",
    "values = [35, 16, 10, 8, 6, 25]  # Approximate global values\n",
    "\n",
    "fig = go.Figure(data=[go.Pie(labels=labels, values=values, hole=0.4)])\n",
    "fig.update_layout(\n",
    "    title_text=\"Global Electricity Generation Mix\",\n",
    "    height=500,\n",
    "    width=600,\n",
    "    template='plotly_white'\n",
    ")\n",
    "\n",
    "fig.show()\n"
   ]
  },
  {
   "cell_type": "code",
   "execution_count": null,
   "id": "1d7bf894-340c-4c89-b2fd-4ad7370cab59",
   "metadata": {},
   "outputs": [],
   "source": []
  }
 ],
 "metadata": {
  "kernelspec": {
   "display_name": "Python 3 (ipykernel)",
   "language": "python",
   "name": "python3"
  },
  "language_info": {
   "codemirror_mode": {
    "name": "ipython",
    "version": 3
   },
   "file_extension": ".py",
   "mimetype": "text/x-python",
   "name": "python",
   "nbconvert_exporter": "python",
   "pygments_lexer": "ipython3",
   "version": "3.12.7"
  }
 },
 "nbformat": 4,
 "nbformat_minor": 5
}
