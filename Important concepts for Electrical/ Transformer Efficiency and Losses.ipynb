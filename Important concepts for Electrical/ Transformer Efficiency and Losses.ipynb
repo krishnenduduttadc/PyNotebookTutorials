{
 "cells": [
  {
   "cell_type": "markdown",
   "id": "e0d9cc40-c0c4-4bd2-bd73-96b8e7b4db9a",
   "metadata": {},
   "source": [
    "# Lesson 15: Transformer Efficiency and Losses\n",
    "\n",
    "## Types of Losses in Transformers\n",
    "\n",
    "1. **Core Losses (Iron Losses):**  \n",
    "   - Due to hysteresis and eddy currents in the magnetic core.  \n",
    "   - Occur whenever the transformer is energized.\n",
    "\n",
    "2. **Copper Losses:**  \n",
    "   - Resistive losses in primary and secondary windings.  \n",
    "   - Vary with load current (I²R losses).\n",
    "\n",
    "3. **Other Losses:**  \n",
    "   - Stray losses, dielectric losses, mechanical losses.\n",
    "\n",
    "## Efficiency Calculation\n",
    "\n",
    "\\[\n",
    "\\eta = \\frac{P_{out}}{P_{in}} = \\frac{P_{out}}{P_{out} + P_{loss}}\n",
    "\\]\n",
    "\n",
    "where \\( P_{loss} \\) includes core and copper losses.\n",
    "\n",
    "## Load Impact\n",
    "\n",
    "- Efficiency varies with load; generally maximum at about 50-70% of full load.\n"
   ]
  },
  {
   "cell_type": "code",
   "execution_count": 1,
   "id": "08476800-1db4-41e6-8f0d-81d68a2c88b3",
   "metadata": {},
   "outputs": [
    {
     "data": {
      "text/html": [
       "<iframe\n",
       "    scrolling=\"no\"\n",
       "    width=\"720px\"\n",
       "    height=\"520\"\n",
       "    src=\"iframe_figures/figure_2.html\"\n",
       "    frameborder=\"0\"\n",
       "    allowfullscreen\n",
       "></iframe>\n"
      ]
     },
     "metadata": {},
     "output_type": "display_data"
    }
   ],
   "source": [
    "import numpy as np\n",
    "import plotly.graph_objects as go\n",
    "import plotly.io as pio\n",
    "\n",
    "pio.renderers.default = 'iframe'\n",
    "\n",
    "# Given data\n",
    "rated_power = 10000  # VA\n",
    "core_loss = 100      # Watts (constant)\n",
    "copper_loss_full_load = 400  # Watts (at full load)\n",
    "\n",
    "# Load percentage from 0 to 120%\n",
    "load_percent = np.linspace(0, 1.2, 500)\n",
    "\n",
    "# Calculate copper losses at each load\n",
    "copper_loss = copper_loss_full_load * load_percent**2\n",
    "\n",
    "# Total losses\n",
    "total_loss = core_loss + copper_loss\n",
    "\n",
    "# Output power\n",
    "P_out = rated_power * load_percent\n",
    "\n",
    "# Efficiency\n",
    "efficiency = P_out / (P_out + total_loss)\n",
    "\n",
    "fig = go.Figure()\n",
    "fig.add_trace(go.Scatter(x=load_percent*100, y=efficiency*100, mode='lines', name='Efficiency (%)'))\n",
    "\n",
    "fig.update_layout(\n",
    "    title='Transformer Efficiency vs Load',\n",
    "    xaxis_title='Load (% of Rated)',\n",
    "    yaxis_title='Efficiency (%)',\n",
    "    template='plotly_white',\n",
    "    height=500,\n",
    "    width=700,\n",
    "    yaxis=dict(range=[80, 105])\n",
    ")\n",
    "\n",
    "fig.show()\n"
   ]
  },
  {
   "cell_type": "code",
   "execution_count": null,
   "id": "257e6107-0d60-4ac9-9b76-65bdd5fd87ed",
   "metadata": {},
   "outputs": [],
   "source": []
  }
 ],
 "metadata": {
  "kernelspec": {
   "display_name": "Python 3 (ipykernel)",
   "language": "python",
   "name": "python3"
  },
  "language_info": {
   "codemirror_mode": {
    "name": "ipython",
    "version": 3
   },
   "file_extension": ".py",
   "mimetype": "text/x-python",
   "name": "python",
   "nbconvert_exporter": "python",
   "pygments_lexer": "ipython3",
   "version": "3.12.7"
  }
 },
 "nbformat": 4,
 "nbformat_minor": 5
}
