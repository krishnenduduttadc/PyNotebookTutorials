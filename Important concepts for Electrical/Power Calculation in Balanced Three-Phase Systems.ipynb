{
 "cells": [
  {
   "cell_type": "markdown",
   "id": "4abe633b-72c3-4915-964b-101a30849ef5",
   "metadata": {},
   "source": [
    "# Lesson 9: Power Calculation in Balanced Three-Phase Systems\n",
    "\n",
    "## Total Power in Balanced Loads\n",
    "\n",
    "For balanced three-phase systems, total power \\( P_{total} \\) can be calculated as:\n",
    "\n",
    "\\[\n",
    "P_{total} = \\sqrt{3} \\times V_L \\times I_L \\times \\cos \\phi\n",
    "\\]\n",
    "\n",
    "where:  \n",
    "- \\( V_L \\) = Line-to-line voltage (Volts)  \n",
    "- \\( I_L \\) = Line current (Amps)  \n",
    "- \\( \\phi \\) = Power factor angle (angle between voltage and current)\n",
    "\n",
    "## Types of Power\n",
    "\n",
    "- **Real Power (P):** Power consumed by the load (Watts)  \n",
    "- **Reactive Power (Q):** Power stored and returned by inductive/capacitive elements (VAR)  \n",
    "- **Apparent Power (S):** Combination of real and reactive power (VA)\n",
    "\n",
    "\\[\n",
    "S = \\sqrt{3} \\times V_L \\times I_L\n",
    "\\]\n",
    "\n",
    "\\[\n",
    "Q = \\sqrt{3} \\times V_L \\times I_L \\times \\sin \\phi\n",
    "\\]\n",
    "\n",
    "---\n",
    "\n",
    "### Applications\n",
    "\n",
    "- Essential for sizing equipment and understanding power flow.\n"
   ]
  },
  {
   "cell_type": "code",
   "execution_count": 1,
   "id": "ea09be5f-64a3-4cf5-b995-cce500939ddd",
   "metadata": {},
   "outputs": [
    {
     "data": {
      "text/html": [
       "<iframe\n",
       "    scrolling=\"no\"\n",
       "    width=\"720px\"\n",
       "    height=\"520\"\n",
       "    src=\"iframe_figures/figure_2.html\"\n",
       "    frameborder=\"0\"\n",
       "    allowfullscreen\n",
       "></iframe>\n"
      ]
     },
     "metadata": {},
     "output_type": "display_data"
    }
   ],
   "source": [
    "import numpy as np\n",
    "import plotly.graph_objects as go\n",
    "import plotly.io as pio\n",
    "\n",
    "pio.renderers.default = 'iframe'\n",
    "\n",
    "# Inputs (you can change these values)\n",
    "VL = 400  # Line voltage (Volts)\n",
    "IL = 20   # Line current (Amps)\n",
    "\n",
    "# Power factor angle range 0° to 90°\n",
    "phi_deg = np.linspace(0, 90, 300)\n",
    "phi_rad = np.deg2rad(phi_deg)\n",
    "\n",
    "# Calculate powers\n",
    "P = np.sqrt(3) * VL * IL * np.cos(phi_rad)  # Real Power (W)\n",
    "Q = np.sqrt(3) * VL * IL * np.sin(phi_rad)  # Reactive Power (VAR)\n",
    "S = np.sqrt(3) * VL * IL                     # Apparent Power (VA), constant\n",
    "\n",
    "fig = go.Figure()\n",
    "\n",
    "fig.add_trace(go.Scatter(x=phi_deg, y=P, mode='lines', name='Real Power P (W)'))\n",
    "fig.add_trace(go.Scatter(x=phi_deg, y=Q, mode='lines', name='Reactive Power Q (VAR)'))\n",
    "fig.add_trace(go.Scatter(x=phi_deg, y=[S]*len(phi_deg), mode='lines', name='Apparent Power S (VA)', line=dict(dash='dash')))\n",
    "\n",
    "fig.update_layout(\n",
    "    title='Three-Phase Power vs Power Factor Angle',\n",
    "    xaxis_title='Power Factor Angle (degrees)',\n",
    "    yaxis_title='Power (W, VAR, VA)',\n",
    "    template='plotly_white',\n",
    "    height=500,\n",
    "    width=700\n",
    ")\n",
    "\n",
    "fig.show()\n"
   ]
  },
  {
   "cell_type": "code",
   "execution_count": null,
   "id": "1c53c4b7-1595-4704-b71a-27ef88d0341a",
   "metadata": {},
   "outputs": [],
   "source": []
  }
 ],
 "metadata": {
  "kernelspec": {
   "display_name": "Python 3 (ipykernel)",
   "language": "python",
   "name": "python3"
  },
  "language_info": {
   "codemirror_mode": {
    "name": "ipython",
    "version": 3
   },
   "file_extension": ".py",
   "mimetype": "text/x-python",
   "name": "python",
   "nbconvert_exporter": "python",
   "pygments_lexer": "ipython3",
   "version": "3.12.7"
  }
 },
 "nbformat": 4,
 "nbformat_minor": 5
}
