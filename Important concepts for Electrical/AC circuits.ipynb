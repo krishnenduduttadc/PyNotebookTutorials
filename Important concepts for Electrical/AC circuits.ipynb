{
 "cells": [
  {
   "cell_type": "markdown",
   "id": "0551ba18-076f-477f-8c85-39a836fcfc2f",
   "metadata": {},
   "source": [
    "# Lesson 4: AC Circuits — Reactance and Impedance\n",
    "\n",
    "## Alternating Current (AC)\n",
    "\n",
    "- AC voltage and current vary sinusoidally with time:\n",
    "\\[\n",
    "v(t) = V_m \\sin(\\omega t), \\quad i(t) = I_m \\sin(\\omega t + \\phi)\n",
    "\\]\n",
    "where \\( \\omega = 2 \\pi f \\) is angular frequency.\n",
    "\n",
    "## Reactance\n",
    "\n",
    "- Opposition to AC current by capacitors and inductors, depends on frequency \\( f \\).\n",
    "\n",
    "- **Inductive Reactance:**\n",
    "\\[\n",
    "X_L = 2 \\pi f L\n",
    "\\]\n",
    "- **Capacitive Reactance:**\n",
    "\\[\n",
    "X_C = \\frac{1}{2 \\pi f C}\n",
    "\\]\n",
    "\n",
    "## Impedance\n",
    "\n",
    "- Generalized resistance in AC circuits, combining resistance \\( R \\) and reactance \\( X \\) as a complex number:\n",
    "\\[\n",
    "Z = R + jX\n",
    "\\]\n",
    "- Magnitude of impedance:\n",
    "\\[\n",
    "|Z| = \\sqrt{R^2 + X^2}\n",
    "\\]\n",
    "- Phase angle:\n",
    "\\[\n",
    "\\theta = \\arctan{\\left(\\frac{X}{R}\\right)}\n",
    "\\]\n",
    "\n",
    "---\n",
    "\n",
    "### Applications:\n",
    "\n",
    "- Used to analyze circuits with resistors, capacitors, and inductors.\n",
    "- Determines current magnitude and phase relative to voltage.\n"
   ]
  },
  {
   "cell_type": "code",
   "execution_count": 2,
   "id": "61afaff4-0062-45a1-a014-980e63335a32",
   "metadata": {},
   "outputs": [
    {
     "data": {
      "text/html": [
       "<iframe\n",
       "    scrolling=\"no\"\n",
       "    width=\"720px\"\n",
       "    height=\"520\"\n",
       "    src=\"iframe_figures/figure_2.html\"\n",
       "    frameborder=\"0\"\n",
       "    allowfullscreen\n",
       "></iframe>\n"
      ]
     },
     "metadata": {},
     "output_type": "display_data"
    }
   ],
   "source": [
    "import numpy as np\n",
    "import plotly.graph_objects as go\n",
    "import plotly.io as pio\n",
    "\n",
    "# Set renderer to 'notebook' to reduce JS widget issues\n",
    "#pio.renderers.default = 'notebook'\n",
    "pio.renderers.default = 'iframe'\n",
    "\n",
    "# Frequency range 10 Hz to 1000 Hz\n",
    "freqs = np.linspace(10, 1000, 300)\n",
    "\n",
    "# Circuit parameters\n",
    "L = 0.05  # Inductance in Henry (50 mH)\n",
    "C = 100e-6  # Capacitance in Farads (100 uF)\n",
    "R = 10  # Resistance in Ohms\n",
    "\n",
    "# Calculate reactances\n",
    "X_L = 2 * np.pi * freqs * L\n",
    "X_C = 1 / (2 * np.pi * freqs * C)\n",
    "\n",
    "# Calculate impedance magnitudes\n",
    "Z_L = np.sqrt(R**2 + X_L**2)\n",
    "Z_C = np.sqrt(R**2 + X_C**2)\n",
    "\n",
    "# Create plot\n",
    "fig = go.Figure()\n",
    "\n",
    "fig.add_trace(go.Scatter(x=freqs, y=X_L, mode='lines', name='Inductive Reactance $X_L$ (Ω)'))\n",
    "fig.add_trace(go.Scatter(x=freqs, y=X_C, mode='lines', name='Capacitive Reactance $X_C$ (Ω)'))\n",
    "fig.add_trace(go.Scatter(x=freqs, y=Z_L, mode='lines', name='Impedance $|Z|$ with Inductor (Ω)'))\n",
    "fig.add_trace(go.Scatter(x=freqs, y=Z_C, mode='lines', name='Impedance $|Z|$ with Capacitor (Ω)'))\n",
    "\n",
    "fig.update_layout(\n",
    "    title='Reactance and Impedance vs Frequency',\n",
    "    xaxis_title='Frequency (Hz)',\n",
    "    yaxis_title='Ohms (Ω)',\n",
    "    template='plotly_white',\n",
    "    height=500,\n",
    "    width=700\n",
    ")\n",
    "\n",
    "fig.show()\n",
    "\n"
   ]
  },
  {
   "cell_type": "code",
   "execution_count": null,
   "id": "6e15cd66-7ffa-4bbf-a21c-974189752ab8",
   "metadata": {},
   "outputs": [],
   "source": []
  }
 ],
 "metadata": {
  "kernelspec": {
   "display_name": "Python 3 (ipykernel)",
   "language": "python",
   "name": "python3"
  },
  "language_info": {
   "codemirror_mode": {
    "name": "ipython",
    "version": 3
   },
   "file_extension": ".py",
   "mimetype": "text/x-python",
   "name": "python",
   "nbconvert_exporter": "python",
   "pygments_lexer": "ipython3",
   "version": "3.12.7"
  }
 },
 "nbformat": 4,
 "nbformat_minor": 5
}
