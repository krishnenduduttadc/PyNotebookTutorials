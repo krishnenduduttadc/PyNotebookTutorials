{
 "cells": [
  {
   "cell_type": "code",
   "execution_count": 4,
   "id": "4e52cc95-536a-4fee-a382-096d69686336",
   "metadata": {},
   "outputs": [],
   "source": [
    "# Class Diagrams & Relationships"
   ]
  },
  {
   "cell_type": "code",
   "execution_count": 3,
   "id": "04a590ac-cd85-4655-9038-c5b25afe0fd5",
   "metadata": {},
   "outputs": [
    {
     "data": {
      "image/png": "[encoded data removed]",
      "text/plain": [
       "<IPython.core.display.Image object>"
      ]
     },
     "execution_count": 3,
     "metadata": {},
     "output_type": "execute_result"
    }
   ],
   "source": [
    "from graphviz import Digraph\n",
    "from IPython.display import Image\n",
    "\n",
    "dot = Digraph(comment='Class Diagram')\n",
    "\n",
    "# Define classes\n",
    "dot.node('A', 'Animal')\n",
    "dot.node('D', 'Dog')\n",
    "dot.node('C', 'Cat')\n",
    "\n",
    "# Inheritance arrows\n",
    "dot.edge('D', 'A', label='inherits')\n",
    "dot.edge('C', 'A', label='inherits')\n",
    "\n",
    "# Composition example\n",
    "dot.node('B', 'Brain')\n",
    "dot.edge('A', 'B', label='has-a (composition)')\n",
    "\n",
    "dot.render('class_diagram.gv', format='png')\n",
    "\n",
    "Image('class_diagram.gv.png')\n"
   ]
  },
  {
   "cell_type": "code",
   "execution_count": 5,
   "id": "f6f16cd4-2a15-447d-97d1-35f6d44c9dd8",
   "metadata": {},
   "outputs": [],
   "source": [
    "#SOLID principal"
   ]
  },
  {
   "cell_type": "code",
   "execution_count": 9,
   "id": "359736c7-8bbc-4af1-8c9d-b955047ff830",
   "metadata": {},
   "outputs": [
    {
     "name": "stdout",
     "output_type": "stream",
     "text": [
      "Sending email to alice@example.com: Welcome!\n",
      "Email: Email Message\n",
      "SMS: SMS Message\n",
      "Printing MyDoc.pdf\n",
      "Scanning MyDoc.pdf\n",
      "Saving 'User data' to MySQL\n"
     ]
    },
    {
     "data": {
      "image/png": "[encoded data removed]",
      "text/plain": [
       "<IPython.core.display.Image object>"
      ]
     },
     "metadata": {},
     "output_type": "display_data"
    }
   ],
   "source": [
    "from graphviz import Digraph\n",
    "from IPython.display import Image, display\n",
    "from abc import ABC, abstractmethod\n",
    "\n",
    "# --- SRP: Single Responsibility Principle ---\n",
    "class User:\n",
    "    def __init__(self, name, email):\n",
    "        self.name = name\n",
    "        self.email = email\n",
    "\n",
    "class UserNotifier:\n",
    "    def send_email(self, user, message):\n",
    "        print(f\"Sending email to {user.email}: {message}\")\n",
    "\n",
    "# SRP Diagram\n",
    "dot = Digraph('SRP')\n",
    "dot.node('User', 'User\\n(name, email)')\n",
    "dot.node('UserNotifier', 'UserNotifier\\n(send_email)')\n",
    "dot.edge('UserNotifier', 'User', label='uses')\n",
    "dot.render('srp.gv', format='png')\n",
    "\n",
    "# --- OCP: Open/Closed Principle ---\n",
    "class Notifier(ABC):\n",
    "    @abstractmethod\n",
    "    def send(self, message):\n",
    "        pass\n",
    "\n",
    "class EmailNotifier(Notifier):\n",
    "    def send(self, message):\n",
    "        print(f\"Email: {message}\")\n",
    "\n",
    "class SMSNotifier(Notifier):\n",
    "    def send(self, message):\n",
    "        print(f\"SMS: {message}\")\n",
    "\n",
    "# --- LSP: Liskov Substitution Principle ---\n",
    "def notify_user(notifier: Notifier, message: str):\n",
    "    notifier.send(message)\n",
    "\n",
    "# --- ISP: Interface Segregation Principle ---\n",
    "class Printer(ABC):\n",
    "    @abstractmethod\n",
    "    def print_doc(self, doc):\n",
    "        pass\n",
    "\n",
    "class Scanner(ABC):\n",
    "    @abstractmethod\n",
    "    def scan_doc(self, doc):\n",
    "        pass\n",
    "\n",
    "class MultiFunctionPrinter(Printer, Scanner):\n",
    "    def print_doc(self, doc):\n",
    "        print(f\"Printing {doc}\")\n",
    "\n",
    "    def scan_doc(self, doc):\n",
    "        print(f\"Scanning {doc}\")\n",
    "\n",
    "# --- DIP: Dependency Inversion Principle ---\n",
    "class Database(ABC):\n",
    "    @abstractmethod\n",
    "    def save(self, data):\n",
    "        pass\n",
    "\n",
    "class MySQLDatabase(Database):\n",
    "    def save(self, data):\n",
    "        print(f\"Saving '{data}' to MySQL\")\n",
    "\n",
    "class Application:\n",
    "    def __init__(self, db: Database):\n",
    "        self.db = db\n",
    "\n",
    "    def save_data(self, data):\n",
    "        self.db.save(data)\n",
    "\n",
    "# --- Demo usage ---\n",
    "user = User(\"Alice\", \"alice@example.com\")\n",
    "notifier = UserNotifier()\n",
    "notifier.send_email(user, \"Welcome!\")\n",
    "\n",
    "email_notifier = EmailNotifier()\n",
    "sms_notifier = SMSNotifier()\n",
    "notify_user(email_notifier, \"Email Message\")\n",
    "notify_user(sms_notifier, \"SMS Message\")\n",
    "\n",
    "printer = MultiFunctionPrinter()\n",
    "printer.print_doc(\"MyDoc.pdf\")\n",
    "printer.scan_doc(\"MyDoc.pdf\")\n",
    "\n",
    "app = Application(MySQLDatabase())\n",
    "app.save_data(\"User data\")\n",
    "\n",
    "# Display SRP diagram inline\n",
    "display(Image('srp.gv.png'))\n"
   ]
  },
  {
   "cell_type": "code",
   "execution_count": null,
   "id": "7b1d717e-5363-4f4f-b536-7ae7728be06a",
   "metadata": {},
   "outputs": [],
   "source": []
  }
 ],
 "metadata": {
  "kernelspec": {
   "display_name": "Python 3 (ipykernel)",
   "language": "python",
   "name": "python3"
  },
  "language_info": {
   "codemirror_mode": {
    "name": "ipython",
    "version": 3
   },
   "file_extension": ".py",
   "mimetype": "text/x-python",
   "name": "python",
   "nbconvert_exporter": "python",
   "pygments_lexer": "ipython3",
   "version": "3.12.7"
  }
 },
 "nbformat": 4,
 "nbformat_minor": 5
}
