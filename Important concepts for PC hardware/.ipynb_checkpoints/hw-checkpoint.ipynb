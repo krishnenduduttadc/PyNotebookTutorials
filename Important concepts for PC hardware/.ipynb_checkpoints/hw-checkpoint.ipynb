{
 "cells": [
  {
   "cell_type": "code",
   "execution_count": 1,
   "id": "219181df-e7b3-469b-91ee-28516443b75d",
   "metadata": {},
   "outputs": [
    {
     "name": "stdout",
     "output_type": "stream",
     "text": [
      "System: Windows\n",
      "Release: 10\n",
      "Machine: AMD64\n",
      "Processor: Intel64 Family 6 Model 158 Stepping 9, GenuineIntel\n",
      "CPU Brand: Intel(R) Core(TM) i7-7700HQ CPU @ 2.80GHz\n",
      "Hz: 2.8000 GHz\n",
      "Arch: X86_64\n"
     ]
    }
   ],
   "source": [
    "import platform\n",
    "import cpuinfo\n",
    "\n",
    "print(\"System:\", platform.system())\n",
    "print(\"Release:\", platform.release())\n",
    "print(\"Machine:\", platform.machine())\n",
    "print(\"Processor:\", platform.processor())\n",
    "\n",
    "info = cpuinfo.get_cpu_info()\n",
    "print(\"CPU Brand:\", info['brand_raw'])\n",
    "print(\"Hz:\", info['hz_advertised_friendly'])\n",
    "print(\"Arch:\", info['arch'])\n"
   ]
  },
  {
   "cell_type": "code",
   "execution_count": 2,
   "id": "da37e53c-8094-45f9-8dd7-4922ca74f6ab",
   "metadata": {},
   "outputs": [],
   "source": [
    "# CPU and Memory Usage Visualization (Real-time)"
   ]
  },
  {
   "cell_type": "code",
   "execution_count": 3,
   "id": "cebdde75-8375-4e1f-95e7-fdf465b49fdd",
   "metadata": {},
   "outputs": [
    {
     "name": "stderr",
     "output_type": "stream",
     "text": [
      "C:\\Users\\KRISHNENDU\\AppData\\Local\\Temp\\ipykernel_15208\\1091043209.py:24: UserWarning: frames=None which we can infer the length of, did not pass an explicit *save_count* and passed cache_frame_data=True.  To avoid a possibly unbounded cache, frame data caching has been disabled. To suppress this warning either pass `cache_frame_data=False` or `save_count=MAX_FRAMES`.\n",
      "  ani = FuncAnimation(fig, animate, interval=1000)\n"
     ]
    },
    {
     "data": {
      "image/png": "[encoded data removed]",
      "text/plain": [
       "<Figure size 640x480 with 2 Axes>"
      ]
     },
     "metadata": {},
     "output_type": "display_data"
    }
   ],
   "source": [
    "import psutil\n",
    "import matplotlib.pyplot as plt\n",
    "from matplotlib.animation import FuncAnimation\n",
    "\n",
    "plt.style.use('fivethirtyeight')\n",
    "\n",
    "fig, (ax1, ax2) = plt.subplots(2, 1)\n",
    "\n",
    "def animate(i):\n",
    "    cpu_percent = psutil.cpu_percent(interval=None)\n",
    "    mem = psutil.virtual_memory()\n",
    "    \n",
    "    ax1.clear()\n",
    "    ax2.clear()\n",
    "    \n",
    "    ax1.set_title(\"CPU Usage %\")\n",
    "    ax1.barh(['CPU'], [cpu_percent], color='orange')\n",
    "    ax1.set_xlim(0, 100)\n",
    "    \n",
    "    ax2.set_title(\"Memory Usage %\")\n",
    "    ax2.barh(['Memory'], [mem.percent], color='green')\n",
    "    ax2.set_xlim(0, 100)\n",
    "\n",
    "ani = FuncAnimation(fig, animate, interval=1000)\n",
    "plt.show()\n"
   ]
  },
  {
   "cell_type": "code",
   "execution_count": 4,
   "id": "8b25bc01-f3bf-4d94-ac06-f2c260fb5a83",
   "metadata": {},
   "outputs": [],
   "source": [
    "#Disc usage"
   ]
  },
  {
   "cell_type": "code",
   "execution_count": 16,
   "id": "b02be802-9b74-4dfa-ad85-69c2c6c553be",
   "metadata": {},
   "outputs": [
    {
     "ename": "SystemError",
     "evalue": "argument 1 (impossible<bad format char>)",
     "output_type": "error",
     "traceback": [
      "\u001b[1;31m---------------------------------------------------------------------------\u001b[0m",
      "\u001b[1;31mSystemError\u001b[0m                               Traceback (most recent call last)",
      "Cell \u001b[1;32mIn[16], line 3\u001b[0m\n\u001b[0;32m      1\u001b[0m \u001b[38;5;28;01mimport\u001b[39;00m \u001b[38;5;21;01mpsutil\u001b[39;00m\n\u001b[1;32m----> 3\u001b[0m disk \u001b[38;5;241m=\u001b[39m psutil\u001b[38;5;241m.\u001b[39mdisk_usage(\u001b[38;5;124m'\u001b[39m\u001b[38;5;124mC:\u001b[39m\u001b[38;5;130;01m\\\\\u001b[39;00m\u001b[38;5;124m'\u001b[39m)\n\u001b[0;32m      5\u001b[0m labels \u001b[38;5;241m=\u001b[39m [\u001b[38;5;124m'\u001b[39m\u001b[38;5;124mUsed\u001b[39m\u001b[38;5;124m'\u001b[39m, \u001b[38;5;124m'\u001b[39m\u001b[38;5;124mFree\u001b[39m\u001b[38;5;124m'\u001b[39m]\n\u001b[0;32m      6\u001b[0m sizes \u001b[38;5;241m=\u001b[39m [disk\u001b[38;5;241m.\u001b[39mused, disk\u001b[38;5;241m.\u001b[39mfree]\n",
      "File \u001b[1;32m~\\anaconda3\\Lib\\site-packages\\psutil\\__init__.py:2003\u001b[0m, in \u001b[0;36mdisk_usage\u001b[1;34m(path)\u001b[0m\n\u001b[0;32m   1998\u001b[0m \u001b[38;5;28;01mdef\u001b[39;00m \u001b[38;5;21mdisk_usage\u001b[39m(path):\n\u001b[0;32m   1999\u001b[0m \u001b[38;5;250m    \u001b[39m\u001b[38;5;124;03m\"\"\"Return disk usage statistics about the given *path* as a\u001b[39;00m\n\u001b[0;32m   2000\u001b[0m \u001b[38;5;124;03m    namedtuple including total, used and free space expressed in bytes\u001b[39;00m\n\u001b[0;32m   2001\u001b[0m \u001b[38;5;124;03m    plus the percentage usage.\u001b[39;00m\n\u001b[0;32m   2002\u001b[0m \u001b[38;5;124;03m    \"\"\"\u001b[39;00m\n\u001b[1;32m-> 2003\u001b[0m     \u001b[38;5;28;01mreturn\u001b[39;00m _psplatform\u001b[38;5;241m.\u001b[39mdisk_usage(path)\n",
      "File \u001b[1;32m~\\anaconda3\\Lib\\site-packages\\psutil\\_pswindows.py:274\u001b[0m, in \u001b[0;36mdisk_usage\u001b[1;34m(path)\u001b[0m\n\u001b[0;32m    270\u001b[0m \u001b[38;5;28;01mif\u001b[39;00m PY3 \u001b[38;5;129;01mand\u001b[39;00m \u001b[38;5;28misinstance\u001b[39m(path, \u001b[38;5;28mbytes\u001b[39m):\n\u001b[0;32m    271\u001b[0m     \u001b[38;5;66;03m# XXX: do we want to use \"strict\"? Probably yes, in order\u001b[39;00m\n\u001b[0;32m    272\u001b[0m     \u001b[38;5;66;03m# to fail immediately. After all we are accepting input here...\u001b[39;00m\n\u001b[0;32m    273\u001b[0m     path \u001b[38;5;241m=\u001b[39m path\u001b[38;5;241m.\u001b[39mdecode(ENCODING, errors\u001b[38;5;241m=\u001b[39m\u001b[38;5;124m\"\u001b[39m\u001b[38;5;124mstrict\u001b[39m\u001b[38;5;124m\"\u001b[39m)\n\u001b[1;32m--> 274\u001b[0m total, free \u001b[38;5;241m=\u001b[39m cext\u001b[38;5;241m.\u001b[39mdisk_usage(path)\n\u001b[0;32m    275\u001b[0m used \u001b[38;5;241m=\u001b[39m total \u001b[38;5;241m-\u001b[39m free\n\u001b[0;32m    276\u001b[0m percent \u001b[38;5;241m=\u001b[39m usage_percent(used, total, round_\u001b[38;5;241m=\u001b[39m\u001b[38;5;241m1\u001b[39m)\n",
      "\u001b[1;31mSystemError\u001b[0m: argument 1 (impossible<bad format char>)"
     ]
    }
   ],
   "source": [
    "import psutil\n",
    "\n",
    "disk = psutil.disk_usage('C:\\\\')\n",
    "\n",
    "labels = ['Used', 'Free']\n",
    "sizes = [disk.used, disk.free]\n",
    "colors = ['red', 'green']\n",
    "\n",
    "import matplotlib.pyplot as plt\n",
    "\n",
    "plt.pie(sizes, labels=labels, colors=colors, autopct='%1.1f%%')\n",
    "plt.title('Disk Usage on C:\\\\ drive')\n",
    "plt.show()\n",
    "\n"
   ]
  },
  {
   "cell_type": "code",
   "execution_count": 6,
   "id": "935a528f-2212-41e8-93e4-51f7c686fc4b",
   "metadata": {},
   "outputs": [],
   "source": [
    "#GPU info"
   ]
  },
  {
   "cell_type": "code",
   "execution_count": 11,
   "id": "574cff22-eda9-45c7-beb8-e2f505a5ad4c",
   "metadata": {},
   "outputs": [
    {
     "name": "stdout",
     "output_type": "stream",
     "text": [
      "GPU id: 0, name: NVIDIA GeForce GTX 1050 Ti, load: 0.0%, memory free: 4004.0MB\n"
     ]
    }
   ],
   "source": [
    "import GPUtil\n",
    "\n",
    "gpus = GPUtil.getGPUs()\n",
    "for gpu in gpus:\n",
    "    print(f\"GPU id: {gpu.id}, name: {gpu.name}, load: {gpu.load*100:.1f}%, memory free: {gpu.memoryFree}MB\")\n"
   ]
  },
  {
   "cell_type": "code",
   "execution_count": 9,
   "id": "71dbd41c-70d8-4227-868d-83b92be4af60",
   "metadata": {},
   "outputs": [
    {
     "name": "stdout",
     "output_type": "stream",
     "text": [
      "Requirement already satisfied: psutil in c:\\users\\krishnendu\\anaconda3\\lib\\site-packages (5.9.0)\n"
     ]
    }
   ],
   "source": []
  },
  {
   "cell_type": "code",
   "execution_count": null,
   "id": "6ab77b2f-1374-42c7-a3d7-db82b7a6a40f",
   "metadata": {},
   "outputs": [],
   "source": []
  }
 ],
 "metadata": {
  "kernelspec": {
   "display_name": "Python 3 (ipykernel)",
   "language": "python",
   "name": "python3"
  },
  "language_info": {
   "codemirror_mode": {
    "name": "ipython",
    "version": 3
   },
   "file_extension": ".py",
   "mimetype": "text/x-python",
   "name": "python",
   "nbconvert_exporter": "python",
   "pygments_lexer": "ipython3",
   "version": "3.12.7"
  }
 },
 "nbformat": 4,
 "nbformat_minor": 5
}
